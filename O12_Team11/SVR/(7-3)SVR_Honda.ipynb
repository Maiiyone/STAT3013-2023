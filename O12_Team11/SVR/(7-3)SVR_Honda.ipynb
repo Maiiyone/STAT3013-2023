{
 "cells": [
  {
   "cell_type": "markdown",
   "id": "0c2dab88",
   "metadata": {},
   "source": [
    "## Review steps"
   ]
  },
  {
   "cell_type": "markdown",
   "id": "7ad466ae",
   "metadata": {},
   "source": [
    "1. Data collection\n",
    "2. Data preprocessing\n",
    "3. train-test split\n",
    "4. Choosing ml/dl model\n",
    "5. Train model\n",
    "6. Do prediction and evaluate the model"
   ]
  },
  {
   "cell_type": "code",
   "execution_count": 1,
   "id": "1257413f",
   "metadata": {},
   "outputs": [],
   "source": [
    "import numpy as np # linear algebra import pandas\n",
    "from numpy import array\n",
    "import pandas as pd\n",
    "import math \n",
    "import seaborn as sns \n",
    "import datetime as dt \n",
    "from datetime import datetime\n",
    "sns.set_style(\"whitegrid\") \n",
    "from pandas.plotting import autocorrelation_plot \n",
    "import matplotlib.pyplot as plt\n",
    "%matplotlib inline\n",
    "plt.style.use(\"ggplot\" )\n",
    "from sklearn.metrics import mean_squared_error\n",
    "from sklearn.metrics import mean_absolute_percentage_error\n",
    "from sklearn.metrics import mean_absolute_error\n",
    "from tqdm import tqdm\n",
    "from sklearn.svm import SVR"
   ]
  },
  {
   "cell_type": "markdown",
   "id": "39d47361",
   "metadata": {},
   "source": [
    "## Loading data"
   ]
  },
  {
   "cell_type": "code",
   "execution_count": 2,
   "id": "b92395b0",
   "metadata": {},
   "outputs": [
    {
     "data": {
      "text/html": [
       "<div>\n",
       "<style scoped>\n",
       "    .dataframe tbody tr th:only-of-type {\n",
       "        vertical-align: middle;\n",
       "    }\n",
       "\n",
       "    .dataframe tbody tr th {\n",
       "        vertical-align: top;\n",
       "    }\n",
       "\n",
       "    .dataframe thead th {\n",
       "        text-align: right;\n",
       "    }\n",
       "</style>\n",
       "<table border=\"1\" class=\"dataframe\">\n",
       "  <thead>\n",
       "    <tr style=\"text-align: right;\">\n",
       "      <th></th>\n",
       "      <th>Date</th>\n",
       "      <th>Price</th>\n",
       "      <th>Open</th>\n",
       "      <th>High</th>\n",
       "      <th>Low</th>\n",
       "      <th>Volume</th>\n",
       "      <th>Change</th>\n",
       "    </tr>\n",
       "  </thead>\n",
       "  <tbody>\n",
       "    <tr>\n",
       "      <th>0</th>\n",
       "      <td>04/01/2018</td>\n",
       "      <td>1328,70</td>\n",
       "      <td>1308,30</td>\n",
       "      <td>1328,70</td>\n",
       "      <td>1302,00</td>\n",
       "      <td>14890000,0</td>\n",
       "      <td>0,032200</td>\n",
       "    </tr>\n",
       "    <tr>\n",
       "      <th>1</th>\n",
       "      <td>05/01/2018</td>\n",
       "      <td>1340,30</td>\n",
       "      <td>1333,30</td>\n",
       "      <td>1351,30</td>\n",
       "      <td>1330,00</td>\n",
       "      <td>14300000,0</td>\n",
       "      <td>0,008700</td>\n",
       "    </tr>\n",
       "    <tr>\n",
       "      <th>2</th>\n",
       "      <td>09/01/2018</td>\n",
       "      <td>1336,70</td>\n",
       "      <td>1347,30</td>\n",
       "      <td>1352,30</td>\n",
       "      <td>1332,30</td>\n",
       "      <td>10340000,0</td>\n",
       "      <td>-0,002700</td>\n",
       "    </tr>\n",
       "    <tr>\n",
       "      <th>3</th>\n",
       "      <td>10/01/2018</td>\n",
       "      <td>1367,30</td>\n",
       "      <td>1345,00</td>\n",
       "      <td>1383,70</td>\n",
       "      <td>1342,70</td>\n",
       "      <td>14080000,0</td>\n",
       "      <td>0,022900</td>\n",
       "    </tr>\n",
       "    <tr>\n",
       "      <th>4</th>\n",
       "      <td>11/01/2018</td>\n",
       "      <td>1342,00</td>\n",
       "      <td>1345,00</td>\n",
       "      <td>1351,70</td>\n",
       "      <td>1332,70</td>\n",
       "      <td>12090000,0</td>\n",
       "      <td>-0,018500</td>\n",
       "    </tr>\n",
       "    <tr>\n",
       "      <th>...</th>\n",
       "      <td>...</td>\n",
       "      <td>...</td>\n",
       "      <td>...</td>\n",
       "      <td>...</td>\n",
       "      <td>...</td>\n",
       "      <td>...</td>\n",
       "      <td>...</td>\n",
       "    </tr>\n",
       "    <tr>\n",
       "      <th>1447</th>\n",
       "      <td>08/12/2023</td>\n",
       "      <td>1458,00</td>\n",
       "      <td>1488,00</td>\n",
       "      <td>1490,00</td>\n",
       "      <td>1450,50</td>\n",
       "      <td>28600000,0</td>\n",
       "      <td>-0,025700</td>\n",
       "    </tr>\n",
       "    <tr>\n",
       "      <th>1448</th>\n",
       "      <td>11/12/2023</td>\n",
       "      <td>1494,50</td>\n",
       "      <td>1496,00</td>\n",
       "      <td>1501,00</td>\n",
       "      <td>1486,50</td>\n",
       "      <td>14850000,0</td>\n",
       "      <td>0,025000</td>\n",
       "    </tr>\n",
       "    <tr>\n",
       "      <th>1449</th>\n",
       "      <td>12/12/2023</td>\n",
       "      <td>1477,50</td>\n",
       "      <td>1501,00</td>\n",
       "      <td>1502,00</td>\n",
       "      <td>1477,50</td>\n",
       "      <td>11320000,0</td>\n",
       "      <td>-0,011400</td>\n",
       "    </tr>\n",
       "    <tr>\n",
       "      <th>1450</th>\n",
       "      <td>13/12/2023</td>\n",
       "      <td>1469,00</td>\n",
       "      <td>1476,50</td>\n",
       "      <td>1477,00</td>\n",
       "      <td>1456,00</td>\n",
       "      <td>14080000,0</td>\n",
       "      <td>-0,005800</td>\n",
       "    </tr>\n",
       "    <tr>\n",
       "      <th>1451</th>\n",
       "      <td>14/12/2023</td>\n",
       "      <td>1395,50</td>\n",
       "      <td>1434,00</td>\n",
       "      <td>1439,50</td>\n",
       "      <td>1389,00</td>\n",
       "      <td>27040000,0</td>\n",
       "      <td>-0,050000</td>\n",
       "    </tr>\n",
       "  </tbody>\n",
       "</table>\n",
       "<p>1452 rows × 7 columns</p>\n",
       "</div>"
      ],
      "text/plain": [
       "            Date    Price     Open     High      Low      Volume     Change\n",
       "0     04/01/2018  1328,70  1308,30  1328,70  1302,00  14890000,0   0,032200\n",
       "1     05/01/2018  1340,30  1333,30  1351,30  1330,00  14300000,0   0,008700\n",
       "2     09/01/2018  1336,70  1347,30  1352,30  1332,30  10340000,0  -0,002700\n",
       "3     10/01/2018  1367,30  1345,00  1383,70  1342,70  14080000,0   0,022900\n",
       "4     11/01/2018  1342,00  1345,00  1351,70  1332,70  12090000,0  -0,018500\n",
       "...          ...      ...      ...      ...      ...         ...        ...\n",
       "1447  08/12/2023  1458,00  1488,00  1490,00  1450,50  28600000,0  -0,025700\n",
       "1448  11/12/2023  1494,50  1496,00  1501,00  1486,50  14850000,0   0,025000\n",
       "1449  12/12/2023  1477,50  1501,00  1502,00  1477,50  11320000,0  -0,011400\n",
       "1450  13/12/2023  1469,00  1476,50  1477,00  1456,00  14080000,0  -0,005800\n",
       "1451  14/12/2023  1395,50  1434,00  1439,50  1389,00  27040000,0  -0,050000\n",
       "\n",
       "[1452 rows x 7 columns]"
      ]
     },
     "execution_count": 2,
     "metadata": {},
     "output_type": "execute_result"
    }
   ],
   "source": [
    "data= pd.read_csv(\"Honda-2.csv\",delimiter=\";\")\n",
    "data"
   ]
  },
  {
   "cell_type": "markdown",
   "id": "79f8654f",
   "metadata": {},
   "source": [
    "## Data Exploration"
   ]
  },
  {
   "cell_type": "code",
   "execution_count": 3,
   "id": "b39bad11",
   "metadata": {},
   "outputs": [
    {
     "name": "stdout",
     "output_type": "stream",
     "text": [
      "<class 'pandas.core.frame.DataFrame'>\n",
      "RangeIndex: 1452 entries, 0 to 1451\n",
      "Data columns (total 7 columns):\n",
      " #   Column  Non-Null Count  Dtype \n",
      "---  ------  --------------  ----- \n",
      " 0   Date    1452 non-null   object\n",
      " 1   Price   1452 non-null   object\n",
      " 2   Open    1452 non-null   object\n",
      " 3   High    1452 non-null   object\n",
      " 4   Low     1452 non-null   object\n",
      " 5   Volume  1452 non-null   object\n",
      " 6   Change  1452 non-null   object\n",
      "dtypes: object(7)\n",
      "memory usage: 79.5+ KB\n"
     ]
    }
   ],
   "source": [
    "# Check the data type of each value column\n",
    "data.info()"
   ]
  },
  {
   "cell_type": "code",
   "execution_count": 4,
   "id": "f8b9c1e2",
   "metadata": {},
   "outputs": [
    {
     "data": {
      "text/plain": [
       "0      2018-01-04\n",
       "1      2018-01-05\n",
       "2      2018-01-09\n",
       "3      2018-01-10\n",
       "4      2018-01-11\n",
       "          ...    \n",
       "1447   2023-12-08\n",
       "1448   2023-12-11\n",
       "1449   2023-12-12\n",
       "1450   2023-12-13\n",
       "1451   2023-12-14\n",
       "Name: Date, Length: 1452, dtype: datetime64[ns]"
      ]
     },
     "execution_count": 4,
     "metadata": {},
     "output_type": "execute_result"
    }
   ],
   "source": [
    "# Reformat the date data type\n",
    "data['Date'] = pd.to_datetime(data['Date'], format='%d/%m/%Y')  # Ví dụ cho định dạng dd/mm/yyyy\n",
    "data['Date']"
   ]
  },
  {
   "cell_type": "code",
   "execution_count": 5,
   "id": "f075de4b",
   "metadata": {},
   "outputs": [
    {
     "name": "stdout",
     "output_type": "stream",
     "text": [
      "<class 'pandas.core.frame.DataFrame'>\n",
      "RangeIndex: 1452 entries, 0 to 1451\n",
      "Data columns (total 7 columns):\n",
      " #   Column  Non-Null Count  Dtype         \n",
      "---  ------  --------------  -----         \n",
      " 0   Date    1452 non-null   datetime64[ns]\n",
      " 1   Price   1452 non-null   float64       \n",
      " 2   Open    1452 non-null   float64       \n",
      " 3   High    1452 non-null   float64       \n",
      " 4   Low     1452 non-null   float64       \n",
      " 5   Volume  1452 non-null   float64       \n",
      " 6   Change  1452 non-null   float64       \n",
      "dtypes: datetime64[ns](1), float64(6)\n",
      "memory usage: 79.5 KB\n"
     ]
    }
   ],
   "source": [
    "# Clean data and cast data for calculation\n",
    "data['Price'] = data['Price'].str.replace(',', '.').astype(float)\n",
    "data['Open'] = data['Open'].str.replace(',', '.').astype(float)\n",
    "data['High'] = data['High'].str.replace(',', '.').astype(float)\n",
    "data['Low'] = data['Low'].str.replace(',', '.').astype(float)\n",
    "data['Volume'] = data['Volume'].str.replace(',', '.').astype(float)\n",
    "data['Change'] = data['Change'].str.replace(',', '.').astype(float)\n",
    "data.info()"
   ]
  },
  {
   "cell_type": "code",
   "execution_count": 6,
   "id": "0b9eea0a",
   "metadata": {},
   "outputs": [
    {
     "data": {
      "text/html": [
       "<div>\n",
       "<style scoped>\n",
       "    .dataframe tbody tr th:only-of-type {\n",
       "        vertical-align: middle;\n",
       "    }\n",
       "\n",
       "    .dataframe tbody tr th {\n",
       "        vertical-align: top;\n",
       "    }\n",
       "\n",
       "    .dataframe thead th {\n",
       "        text-align: right;\n",
       "    }\n",
       "</style>\n",
       "<table border=\"1\" class=\"dataframe\">\n",
       "  <thead>\n",
       "    <tr style=\"text-align: right;\">\n",
       "      <th></th>\n",
       "      <th>Date</th>\n",
       "      <th>Price</th>\n",
       "      <th>Open</th>\n",
       "      <th>High</th>\n",
       "      <th>Low</th>\n",
       "      <th>Volume</th>\n",
       "      <th>Change</th>\n",
       "    </tr>\n",
       "  </thead>\n",
       "  <tbody>\n",
       "    <tr>\n",
       "      <th>count</th>\n",
       "      <td>1452</td>\n",
       "      <td>1452.000000</td>\n",
       "      <td>1452.000000</td>\n",
       "      <td>1452.000000</td>\n",
       "      <td>1452.000000</td>\n",
       "      <td>1.452000e+03</td>\n",
       "      <td>1452.000000</td>\n",
       "    </tr>\n",
       "    <tr>\n",
       "      <th>mean</th>\n",
       "      <td>2020-12-26 16:00:59.504132352</td>\n",
       "      <td>1105.688912</td>\n",
       "      <td>1106.123485</td>\n",
       "      <td>1115.705579</td>\n",
       "      <td>1095.946556</td>\n",
       "      <td>1.393168e+07</td>\n",
       "      <td>0.000222</td>\n",
       "    </tr>\n",
       "    <tr>\n",
       "      <th>min</th>\n",
       "      <td>2018-01-04 00:00:00</td>\n",
       "      <td>711.800000</td>\n",
       "      <td>717.200000</td>\n",
       "      <td>746.700000</td>\n",
       "      <td>706.700000</td>\n",
       "      <td>3.360000e+06</td>\n",
       "      <td>-0.071000</td>\n",
       "    </tr>\n",
       "    <tr>\n",
       "      <th>25%</th>\n",
       "      <td>2019-07-01 18:00:00</td>\n",
       "      <td>995.375000</td>\n",
       "      <td>995.725000</td>\n",
       "      <td>1005.600000</td>\n",
       "      <td>986.525000</td>\n",
       "      <td>1.040000e+07</td>\n",
       "      <td>-0.010100</td>\n",
       "    </tr>\n",
       "    <tr>\n",
       "      <th>50%</th>\n",
       "      <td>2020-12-28 12:00:00</td>\n",
       "      <td>1087.000000</td>\n",
       "      <td>1088.300000</td>\n",
       "      <td>1097.150000</td>\n",
       "      <td>1078.150000</td>\n",
       "      <td>1.284000e+07</td>\n",
       "      <td>0.000000</td>\n",
       "    </tr>\n",
       "    <tr>\n",
       "      <th>75%</th>\n",
       "      <td>2022-06-24 18:00:00</td>\n",
       "      <td>1172.700000</td>\n",
       "      <td>1174.400000</td>\n",
       "      <td>1181.325000</td>\n",
       "      <td>1163.850000</td>\n",
       "      <td>1.624750e+07</td>\n",
       "      <td>0.010225</td>\n",
       "    </tr>\n",
       "    <tr>\n",
       "      <th>max</th>\n",
       "      <td>2023-12-14 00:00:00</td>\n",
       "      <td>1802.300000</td>\n",
       "      <td>1802.300000</td>\n",
       "      <td>1821.000000</td>\n",
       "      <td>1780.000000</td>\n",
       "      <td>4.645000e+07</td>\n",
       "      <td>0.106200</td>\n",
       "    </tr>\n",
       "    <tr>\n",
       "      <th>std</th>\n",
       "      <td>NaN</td>\n",
       "      <td>183.522697</td>\n",
       "      <td>184.289369</td>\n",
       "      <td>184.962911</td>\n",
       "      <td>182.567989</td>\n",
       "      <td>5.240151e+06</td>\n",
       "      <td>0.018327</td>\n",
       "    </tr>\n",
       "  </tbody>\n",
       "</table>\n",
       "</div>"
      ],
      "text/plain": [
       "                                Date        Price         Open         High  \\\n",
       "count                           1452  1452.000000  1452.000000  1452.000000   \n",
       "mean   2020-12-26 16:00:59.504132352  1105.688912  1106.123485  1115.705579   \n",
       "min              2018-01-04 00:00:00   711.800000   717.200000   746.700000   \n",
       "25%              2019-07-01 18:00:00   995.375000   995.725000  1005.600000   \n",
       "50%              2020-12-28 12:00:00  1087.000000  1088.300000  1097.150000   \n",
       "75%              2022-06-24 18:00:00  1172.700000  1174.400000  1181.325000   \n",
       "max              2023-12-14 00:00:00  1802.300000  1802.300000  1821.000000   \n",
       "std                              NaN   183.522697   184.289369   184.962911   \n",
       "\n",
       "               Low        Volume       Change  \n",
       "count  1452.000000  1.452000e+03  1452.000000  \n",
       "mean   1095.946556  1.393168e+07     0.000222  \n",
       "min     706.700000  3.360000e+06    -0.071000  \n",
       "25%     986.525000  1.040000e+07    -0.010100  \n",
       "50%    1078.150000  1.284000e+07     0.000000  \n",
       "75%    1163.850000  1.624750e+07     0.010225  \n",
       "max    1780.000000  4.645000e+07     0.106200  \n",
       "std     182.567989  5.240151e+06     0.018327  "
      ]
     },
     "execution_count": 6,
     "metadata": {},
     "output_type": "execute_result"
    }
   ],
   "source": [
    "# Gets descriptive statistical information about a DataFrame or a Series\n",
    "data.describe()"
   ]
  },
  {
   "cell_type": "markdown",
   "id": "2ab6ee45",
   "metadata": {},
   "source": [
    "## Data Visualization"
   ]
  },
  {
   "cell_type": "code",
   "execution_count": 7,
   "id": "e2596555",
   "metadata": {},
   "outputs": [],
   "source": [
    "# Reshape turns df into a NumPy array of size (-1, 1)\n",
    "df=data['Price'].values\n",
    "df = df.reshape(-1, 1)"
   ]
  },
  {
   "cell_type": "code",
   "execution_count": 8,
   "id": "d7cb69c3",
   "metadata": {},
   "outputs": [
    {
     "data": {
      "text/plain": [
       "array([[0.56570381],\n",
       "       [0.57634113],\n",
       "       [0.57303989],\n",
       "       ...,\n",
       "       [0.70215497],\n",
       "       [0.69436039],\n",
       "       [0.62696011]])"
      ]
     },
     "execution_count": 8,
     "metadata": {},
     "output_type": "execute_result"
    }
   ],
   "source": [
    "from sklearn.preprocessing import MinMaxScaler\n",
    "scaler = MinMaxScaler() # Perform data normalization according to the min-max scaling method\n",
    "price_scaled=scaler.fit_transform(df) # Fit và transform the data\n",
    "price_scaled"
   ]
  },
  {
   "cell_type": "code",
   "execution_count": 9,
   "id": "7dc411d8",
   "metadata": {},
   "outputs": [
    {
     "data": {
      "image/png": "[encoded data removed]",
      "text/plain": [
       "<Figure size 640x480 with 1 Axes>"
      ]
     },
     "metadata": {},
     "output_type": "display_data"
    }
   ],
   "source": [
    "# Create plot\n",
    "plt.figure(figure=(10,6))\n",
    "plt.plot(data['Date'],data['Price'].values, label=\"Price\", color=\"IndianRed\")\n",
    "\n",
    "# Adding title\n",
    "plt.title(\"Plot of price due to date\")\n",
    "\n",
    "# Adding label\n",
    "plt.xlabel(\"Date\")\n",
    "plt.ylabel(\"Price\")\n",
    "\n",
    "# Show the plot\n",
    "plt.legend()\n",
    "plt.show()"
   ]
  },
  {
   "cell_type": "markdown",
   "id": "8916df77",
   "metadata": {},
   "source": [
    "## Data Preprocessing"
   ]
  },
  {
   "cell_type": "markdown",
   "id": "7c98f8f8",
   "metadata": {},
   "source": [
    "### Split data into training and testing set"
   ]
  },
  {
   "cell_type": "markdown",
   "id": "7d427c4f",
   "metadata": {},
   "source": [
    "### Training - testing 7:3"
   ]
  },
  {
   "cell_type": "code",
   "execution_count": 10,
   "id": "6a8e1460",
   "metadata": {},
   "outputs": [],
   "source": [
    "# Split train test validation in ratio 7:3\n",
    "# Split the data into training, testing\n",
    "train_size = int(0.7 * len(data))\n",
    "test_size = int(0.3 * len(data))\n",
    "\n",
    "\n",
    "X2D = data[['High']] # Independent variable in 2-dimensional array\n",
    "Y2D = data[['Price']] # Dependent variable in 2-dimensional array"
   ]
  },
  {
   "cell_type": "markdown",
   "id": "d6663a3d",
   "metadata": {},
   "source": [
    "### SVR"
   ]
  },
  {
   "cell_type": "code",
   "execution_count": 11,
   "id": "fed94425",
   "metadata": {},
   "outputs": [
    {
     "name": "stdout",
     "output_type": "stream",
     "text": [
      "Best parameters: {'C': 1000, 'epsilon': 1, 'gamma': 'scale'}\n",
      "Best score: 776.6519569614505\n"
     ]
    }
   ],
   "source": [
    "from sklearn.svm import SVR\n",
    "from sklearn.model_selection import GridSearchCV\n",
    "from sklearn.model_selection import cross_val_score\n",
    "\n",
    "y_train = Y2D[:train_size]\n",
    "x_train = X2D[:train_size]\n",
    "y_test = Y2D[train_size:]\n",
    "x_test = X2D[train_size:]\n",
    "y_train_index = y_train.index # Get the index before converting it to a 2-dimensional array (serves plot)\n",
    "y_train = Y2D[:train_size].values.ravel()\n",
    "\n",
    "# Create SVR model with RBF kernel\n",
    "model = SVR(kernel='rbf')\n",
    "param_grid = {\n",
    "    'C': [0.1, 1, 10, 100, 1000],             \n",
    "    'gamma': ['scale', 'auto', 0.001, 0.01, 0.1, 1],  \n",
    "    'epsilon': [0.001, 0.01, 0.1, 1, 10]     \n",
    "}\n",
    "\n",
    "# Create a GridSearchCV object\n",
    "grid_search = GridSearchCV(model, param_grid, cv=5, scoring='neg_mean_squared_error', n_jobs=-1)\n",
    "\n",
    "# Train the model using grid search\n",
    "svr_rbf = grid_search.fit(x_train,y_train)\n",
    "\n",
    "print(\"Best parameters:\", grid_search.best_params_)\n",
    "print(\"Best score:\", -grid_search.best_score_)"
   ]
  },
  {
   "cell_type": "code",
   "execution_count": 12,
   "id": "3a4cfe2f",
   "metadata": {},
   "outputs": [
    {
     "data": {
      "text/plain": [
       "array([1035.44472194, 1068.86819091, 1049.05340537, 1051.75963694,\n",
       "       1065.05885398, 1082.84300661, 1113.25746849, 1105.93915156,\n",
       "       1129.0111518 , 1158.82635251, 1138.50572026, 1151.02585803,\n",
       "       1157.03230958, 1179.80062714, 1177.72588392, 1170.41417652,\n",
       "       1147.24666977, 1147.24666977, 1148.92445216, 1129.31381677,\n",
       "       1083.76304021, 1068.29949126, 1073.94760169, 1079.80000421,\n",
       "       1081.0001981 , 1084.40661928, 1092.67021359, 1080.44651813,\n",
       "       1098.84861336, 1142.34000136, 1138.50572026, 1128.00413396,\n",
       "       1121.72792476, 1130.72961815, 1101.91389232, 1131.03371651,\n",
       "       1152.4991401 , 1152.07803291, 1148.92445216, 1122.32050841,\n",
       "       1106.31564298, 1089.27268549, 1098.47825228, 1077.02146537,\n",
       "       1063.52278176, 1075.44049278, 1061.59229316, 1069.53052081,\n",
       "       1070.75735892, 1068.29949126, 1043.27337241, 1042.66002051,\n",
       "       1053.75037375, 1057.3032567 , 1061.88261475, 1099.12654025,\n",
       "       1102.19350428, 1110.38765527, 1092.94596524, 1123.01323843,\n",
       "       1121.3334773 , 1141.6124845 , 1128.70874418, 1098.20063327,\n",
       "       1094.5097851 , 1104.06210423, 1124.70175862, 1082.5668332 ,\n",
       "       1101.26211461, 1106.59825687, 1138.91885474, 1119.36854038,\n",
       "       1100.70414937, 1110.1020241 , 1119.07484779, 1129.31381677,\n",
       "       1103.50067381, 1086.51929185, 1074.22790346, 1073.57357989,\n",
       "       1055.33429233, 1069.81400273, 1087.43722085, 1099.77557632,\n",
       "       1098.84861336, 1109.4364764 , 1108.48790061, 1118.78142786,\n",
       "       1142.34000136, 1169.99438783, 1167.26174903, 1153.55243442,\n",
       "       1154.9226802 , 1164.4180331 , 1137.16551655, 1143.3808892 ,\n",
       "       1137.88668661, 1149.34438673, 1148.60962435, 1133.37326459,\n",
       "       1146.51370693, 1116.83223041, 1127.30094586, 1124.00542885,\n",
       "       1132.76158215, 1183.51623303, 1203.35499102, 1195.10136981,\n",
       "       1224.9383734 , 1224.9383734 , 1231.33933573, 1236.78875333,\n",
       "       1220.53388314, 1227.23215739, 1223.4078571 , 1221.78005809,\n",
       "       1217.94096089, 1242.54610002, 1235.44905876, 1219.1902678 ,\n",
       "       1216.68986597, 1213.11772554, 1203.35499102, 1219.1902678 ,\n",
       "       1215.72615726, 1221.78005809, 1233.91914242, 1220.15016989,\n",
       "       1216.30452647, 1195.40233055, 1178.03754691, 1185.5691916 ,\n",
       "       1165.78786242, 1152.81505237, 1123.70745413, 1120.74271897,\n",
       "       1101.63444887, 1092.02700273, 1076.37109436, 1065.72861591,\n",
       "       1087.16186721, 1099.12654025, 1104.71806939, 1092.94596524,\n",
       "       1081.64564354, 1071.41629304, 1073.0119206 , 1091.75142183,\n",
       "       1084.40661928, 1094.5097851 , 1089.27268549, 1085.96839077,\n",
       "       1082.29057791, 1090.83310953, 1102.19350428, 1114.21968968,\n",
       "       1110.1020241 , 1104.06210423, 1116.15284075, 1130.02102876,\n",
       "       1135.11142702, 1130.32454229, 1137.47445111, 1148.92445216,\n",
       "       1144.11056618, 1089.27268549, 1109.72155351, 1102.846604  ,\n",
       "       1104.71806939, 1100.05397381, 1101.26211461, 1106.31564298,\n",
       "       1112.58560867, 1127.30094586, 1125.29978462, 1118.09783951,\n",
       "       1122.32050841, 1104.06210423, 1109.1516336 , 1111.05506626,\n",
       "       1097.92314069, 1084.40661928, 1089.27268549, 1091.10856112,\n",
       "       1082.5668332 , 1089.63979185, 1086.24385751, 1101.91389232,\n",
       "       1097.55334145, 1096.35290763, 1091.10856112, 1073.0119206 ,\n",
       "       1077.67101721, 1027.09743326, 1035.7559574 , 1009.90603264,\n",
       "       1023.53139007, 1026.04927887, 1010.94981586, 1003.67279505,\n",
       "       1011.99474031, 1010.94981586, 1027.72597002, 1040.19803881,\n",
       "       1061.59229316, 1043.68177816, 1043.68177816, 1036.48154765,\n",
       "       1004.39705285, 1030.86358654, 1050.75980948, 1016.60317421,\n",
       "       1015.86907354, 1031.90719377, 1041.94333728, 1042.9668071 ,\n",
       "       1047.03533489, 1051.75963694, 1062.84844014, 1069.53052081,\n",
       "       1076.7428376 , 1072.07409701, 1068.58395629, 1088.35497194,\n",
       "       1088.07965694, 1078.59760864, 1064.7713937 , 1063.52278176,\n",
       "       1102.56658745, 1114.21968968, 1114.21968968, 1126.2988841 ,\n",
       "       1136.13726415, 1148.60962435, 1174.18336307, 1163.36367277,\n",
       "       1176.99807185, 1183.51623303, 1197.40358898, 1192.38360676,\n",
       "       1191.37286055, 1194.69977423, 1204.63454794, 1206.0088056 ,\n",
       "       1211.47006969, 1217.94096089, 1210.20706491, 1181.14527631,\n",
       "       1118.78142786, 1132.76158215, 1114.50891758, 1117.80532549,\n",
       "       1108.77220432, 1131.33806306, 1125.99884184, 1116.44382932,\n",
       "       1125.29978462, 1134.08808284, 1147.87545534, 1155.97730466,\n",
       "       1166.20912409, 1177.72588392, 1191.37286055, 1181.14527631,\n",
       "       1154.18473367, 1156.29377164, 1166.84079402, 1171.77719958,\n",
       "       1179.38625414, 1170.72889874, 1166.20912409, 1166.52499356,\n",
       "       1181.45512257, 1177.31009291, 1172.8242403 , 1157.77097528,\n",
       "       1162.62535266, 1165.78786242, 1157.77097528, 1164.4180331 ,\n",
       "       1188.32719804, 1203.65057472, 1201.37970592, 1201.67652945,\n",
       "       1214.76120705, 1219.5743381 , 1206.98812509, 1249.31012919,\n",
       "       1273.38077781, 1261.66622305, 1278.14927973, 1295.91345868,\n",
       "       1314.3773715 , 1313.36387678, 1332.67753006, 1317.40265231,\n",
       "       1331.74172705, 1339.29994438, 1351.88888956, 1350.43993302,\n",
       "       1335.71922306, 1326.00714765, 1343.83652408, 1366.03983565,\n",
       "       1363.15068431, 1352.82272711, 1366.0585674 , 1361.7825243 ,\n",
       "       1342.11471601, 1298.22003301, 1183.15447841, 1218.65369735,\n",
       "       1264.03167235, 1281.60297046, 1314.03751439, 1278.23319685,\n",
       "       1261.96731933, 1272.20580838, 1337.69846806, 1333.20655439,\n",
       "       1305.97306234, 1274.22570282, 1312.86534353, 1282.98006937,\n",
       "       1269.56505165, 1284.93624649, 1282.98006937, 1338.45908489,\n",
       "       1354.76852461, 1362.54445487, 1366.13813903, 1366.1626358 ,\n",
       "       1365.55194694, 1365.2602606 , 1328.55880898, 1317.32815838,\n",
       "       1316.18640595, 1255.10697575, 1238.90863454, 1276.23501831,\n",
       "       1281.0108798 , 1275.6333677 , 1210.2966368 , 1167.31719269,\n",
       "       1162.36765654, 1253.64360426, 1286.87886736, 1298.22003301,\n",
       "       1262.7939558 , 1271.59786086, 1115.10100073, 1134.94472074,\n",
       "       1209.46565156, 1257.81759053, 1273.62081983, 1276.23501831,\n",
       "       1253.64360426, 1236.16087291, 1191.08239729, 1197.94813128,\n",
       "       1199.98718769, 1146.17921247, 1134.94472074, 1135.40864413,\n",
       "       1097.07131392, 1098.81280542, 1075.85913287, 1069.96812906,\n",
       "       1056.93845061, 1058.82785218, 1056.51165756, 1058.18870998,\n",
       "       1055.55454172, 1054.81122081, 1053.51103415, 1053.39649002,\n",
       "       1053.37321437, 1053.36900654, 1053.38644756, 1053.43530552,\n",
       "       1053.42585956, 1053.47774918, 1053.48094098, 1053.57198813,\n",
       "       1053.63514227, 1053.72350892, 1054.80013654, 1085.9121632 ,\n",
       "       1078.24893897, 1064.9887336 , 1056.4341551 , 1054.88518263,\n",
       "       1053.92450722, 1054.47931439, 1057.57264118, 1054.43622379,\n",
       "       1054.69346141, 1057.57264118, 1061.38671443, 1065.52320201,\n",
       "       1069.18307572, 1062.04542838, 1068.73583824, 1078.24893897,\n",
       "       1145.34879517, 1188.48702985, 1115.10100073, 1068.73583824,\n",
       "       1070.58996356, 1068.2991626 , 1063.19596483, 1058.18870998,\n",
       "       1091.04586872, 1087.55977473, 1082.42975377, 1067.66356037,\n",
       "       1072.89228294, 1068.2991626 , 1066.07826399, 1151.24938036,\n",
       "       1136.49732652, 1106.51746447, 1120.40667895, 1130.39370662,\n",
       "       1197.54134211, 1204.70742369, 1167.31719269, 1198.55896132,\n",
       "       1220.33379178, 1178.67797066, 1194.5017687 , 1261.34658438,\n",
       "       1238.27464796, 1236.16087291, 1287.45892937, 1345.73834874])"
      ]
     },
     "execution_count": 12,
     "metadata": {},
     "output_type": "execute_result"
    }
   ],
   "source": [
    "# Predict test\n",
    "y_pred = svr_rbf.predict(x_test)\n",
    "y_pred"
   ]
  },
  {
   "cell_type": "code",
   "execution_count": 13,
   "id": "609a4653",
   "metadata": {},
   "outputs": [
    {
     "data": {
      "text/plain": [
       "array([[1395.5]])"
      ]
     },
     "execution_count": 13,
     "metadata": {},
     "output_type": "execute_result"
    }
   ],
   "source": [
    "last_row = data.tail(1)\n",
    "last_data = last_row['Price'].values.reshape(-1,1)\n",
    "last_data"
   ]
  },
  {
   "cell_type": "markdown",
   "id": "66364216",
   "metadata": {},
   "source": [
    "## Predict"
   ]
  },
  {
   "cell_type": "code",
   "execution_count": 14,
   "id": "45e46d01",
   "metadata": {},
   "outputs": [
    {
     "name": "stderr",
     "output_type": "stream",
     "text": [
      "/Library/Frameworks/Python.framework/Versions/3.11/lib/python3.11/site-packages/sklearn/base.py:465: UserWarning: X does not have valid feature names, but SVR was fitted with feature names\n",
      "  warnings.warn(\n",
      "/Library/Frameworks/Python.framework/Versions/3.11/lib/python3.11/site-packages/sklearn/base.py:465: UserWarning: X does not have valid feature names, but SVR was fitted with feature names\n",
      "  warnings.warn(\n",
      "/Library/Frameworks/Python.framework/Versions/3.11/lib/python3.11/site-packages/sklearn/base.py:465: UserWarning: X does not have valid feature names, but SVR was fitted with feature names\n",
      "  warnings.warn(\n",
      "/Library/Frameworks/Python.framework/Versions/3.11/lib/python3.11/site-packages/sklearn/base.py:465: UserWarning: X does not have valid feature names, but SVR was fitted with feature names\n",
      "  warnings.warn(\n",
      "/Library/Frameworks/Python.framework/Versions/3.11/lib/python3.11/site-packages/sklearn/base.py:465: UserWarning: X does not have valid feature names, but SVR was fitted with feature names\n",
      "  warnings.warn(\n",
      "/Library/Frameworks/Python.framework/Versions/3.11/lib/python3.11/site-packages/sklearn/base.py:465: UserWarning: X does not have valid feature names, but SVR was fitted with feature names\n",
      "  warnings.warn(\n",
      "/Library/Frameworks/Python.framework/Versions/3.11/lib/python3.11/site-packages/sklearn/base.py:465: UserWarning: X does not have valid feature names, but SVR was fitted with feature names\n",
      "  warnings.warn(\n",
      "/Library/Frameworks/Python.framework/Versions/3.11/lib/python3.11/site-packages/sklearn/base.py:465: UserWarning: X does not have valid feature names, but SVR was fitted with feature names\n",
      "  warnings.warn(\n",
      "/Library/Frameworks/Python.framework/Versions/3.11/lib/python3.11/site-packages/sklearn/base.py:465: UserWarning: X does not have valid feature names, but SVR was fitted with feature names\n",
      "  warnings.warn(\n",
      "/Library/Frameworks/Python.framework/Versions/3.11/lib/python3.11/site-packages/sklearn/base.py:465: UserWarning: X does not have valid feature names, but SVR was fitted with feature names\n",
      "  warnings.warn(\n",
      "/Library/Frameworks/Python.framework/Versions/3.11/lib/python3.11/site-packages/sklearn/base.py:465: UserWarning: X does not have valid feature names, but SVR was fitted with feature names\n",
      "  warnings.warn(\n",
      "/Library/Frameworks/Python.framework/Versions/3.11/lib/python3.11/site-packages/sklearn/base.py:465: UserWarning: X does not have valid feature names, but SVR was fitted with feature names\n",
      "  warnings.warn(\n",
      "/Library/Frameworks/Python.framework/Versions/3.11/lib/python3.11/site-packages/sklearn/base.py:465: UserWarning: X does not have valid feature names, but SVR was fitted with feature names\n",
      "  warnings.warn(\n",
      "/Library/Frameworks/Python.framework/Versions/3.11/lib/python3.11/site-packages/sklearn/base.py:465: UserWarning: X does not have valid feature names, but SVR was fitted with feature names\n",
      "  warnings.warn(\n",
      "/Library/Frameworks/Python.framework/Versions/3.11/lib/python3.11/site-packages/sklearn/base.py:465: UserWarning: X does not have valid feature names, but SVR was fitted with feature names\n",
      "  warnings.warn(\n",
      "/Library/Frameworks/Python.framework/Versions/3.11/lib/python3.11/site-packages/sklearn/base.py:465: UserWarning: X does not have valid feature names, but SVR was fitted with feature names\n",
      "  warnings.warn(\n",
      "/Library/Frameworks/Python.framework/Versions/3.11/lib/python3.11/site-packages/sklearn/base.py:465: UserWarning: X does not have valid feature names, but SVR was fitted with feature names\n",
      "  warnings.warn(\n",
      "/Library/Frameworks/Python.framework/Versions/3.11/lib/python3.11/site-packages/sklearn/base.py:465: UserWarning: X does not have valid feature names, but SVR was fitted with feature names\n",
      "  warnings.warn(\n",
      "/Library/Frameworks/Python.framework/Versions/3.11/lib/python3.11/site-packages/sklearn/base.py:465: UserWarning: X does not have valid feature names, but SVR was fitted with feature names\n",
      "  warnings.warn(\n",
      "/Library/Frameworks/Python.framework/Versions/3.11/lib/python3.11/site-packages/sklearn/base.py:465: UserWarning: X does not have valid feature names, but SVR was fitted with feature names\n",
      "  warnings.warn(\n",
      "/Library/Frameworks/Python.framework/Versions/3.11/lib/python3.11/site-packages/sklearn/base.py:465: UserWarning: X does not have valid feature names, but SVR was fitted with feature names\n",
      "  warnings.warn(\n",
      "/Library/Frameworks/Python.framework/Versions/3.11/lib/python3.11/site-packages/sklearn/base.py:465: UserWarning: X does not have valid feature names, but SVR was fitted with feature names\n",
      "  warnings.warn(\n",
      "/Library/Frameworks/Python.framework/Versions/3.11/lib/python3.11/site-packages/sklearn/base.py:465: UserWarning: X does not have valid feature names, but SVR was fitted with feature names\n",
      "  warnings.warn(\n",
      "/Library/Frameworks/Python.framework/Versions/3.11/lib/python3.11/site-packages/sklearn/base.py:465: UserWarning: X does not have valid feature names, but SVR was fitted with feature names\n",
      "  warnings.warn(\n",
      "/Library/Frameworks/Python.framework/Versions/3.11/lib/python3.11/site-packages/sklearn/base.py:465: UserWarning: X does not have valid feature names, but SVR was fitted with feature names\n",
      "  warnings.warn(\n",
      "/Library/Frameworks/Python.framework/Versions/3.11/lib/python3.11/site-packages/sklearn/base.py:465: UserWarning: X does not have valid feature names, but SVR was fitted with feature names\n",
      "  warnings.warn(\n",
      "/Library/Frameworks/Python.framework/Versions/3.11/lib/python3.11/site-packages/sklearn/base.py:465: UserWarning: X does not have valid feature names, but SVR was fitted with feature names\n",
      "  warnings.warn(\n",
      "/Library/Frameworks/Python.framework/Versions/3.11/lib/python3.11/site-packages/sklearn/base.py:465: UserWarning: X does not have valid feature names, but SVR was fitted with feature names\n",
      "  warnings.warn(\n",
      "/Library/Frameworks/Python.framework/Versions/3.11/lib/python3.11/site-packages/sklearn/base.py:465: UserWarning: X does not have valid feature names, but SVR was fitted with feature names\n",
      "  warnings.warn(\n",
      "/Library/Frameworks/Python.framework/Versions/3.11/lib/python3.11/site-packages/sklearn/base.py:465: UserWarning: X does not have valid feature names, but SVR was fitted with feature names\n",
      "  warnings.warn(\n"
     ]
    },
    {
     "data": {
      "text/plain": [
       "[array([1365.82912387]),\n",
       " array([1352.68372685]),\n",
       " array([1342.48037057]),\n",
       " array([1333.40340319]),\n",
       " array([1324.74398195]),\n",
       " array([1316.13900014]),\n",
       " array([1307.38382256]),\n",
       " array([1298.37306878]),\n",
       " array([1289.0815846]),\n",
       " array([1279.55702209]),\n",
       " array([1269.90946012]),\n",
       " array([1260.28964221]),\n",
       " array([1250.85517991]),\n",
       " array([1241.73355475]),\n",
       " array([1232.99549994]),\n",
       " array([1224.6471942]),\n",
       " array([1216.63900633]),\n",
       " array([1208.88180971]),\n",
       " array([1201.26271497]),\n",
       " array([1193.65667363]),\n",
       " array([1185.93442754]),\n",
       " array([1177.96943852]),\n",
       " array([1169.64733969]),\n",
       " array([1160.88159158]),\n",
       " array([1151.63768705]),\n",
       " array([1141.96332957]),\n",
       " array([1132.0118766]),\n",
       " array([1122.03580977]),\n",
       " array([1112.33239765]),\n",
       " array([1103.15706836])]"
      ]
     },
     "execution_count": 14,
     "metadata": {},
     "output_type": "execute_result"
    }
   ],
   "source": [
    "# Create an array containing the predict value of the next 30 days\n",
    "x_next_30_days = []\n",
    "# Predict the price for the next 30 days based on the price of the previous day\n",
    "for i in range(30):\n",
    "    x_pred_next = svr_rbf.predict(last_data)\n",
    "    x_next_30_days.append(x_pred_next)\n",
    "    last_data = x_pred_next.reshape(-1,1)\n",
    "x_next_30_days"
   ]
  },
  {
   "cell_type": "code",
   "execution_count": 15,
   "id": "dad6e528",
   "metadata": {},
   "outputs": [
    {
     "data": {
      "image/png": "[encoded data removed]",
      "text/plain": [
       "<Figure size 1000x600 with 1 Axes>"
      ]
     },
     "metadata": {},
     "output_type": "display_data"
    }
   ],
   "source": [
    "# Drawing plot\n",
    "plt.figure(figsize=(10, 6))\n",
    "plt.plot(x_next_30_days, marker='o', color='b', label='Predicted Next 30 Days')\n",
    "\n",
    "# Setting title\n",
    "plt.title('Predicted price for the next 30 days')\n",
    "plt.xlabel('Date')\n",
    "plt.ylabel('Predicted Value')\n",
    "plt.legend()\n",
    "\n",
    "# Show plot\n",
    "plt.show()"
   ]
  },
  {
   "cell_type": "code",
   "execution_count": 16,
   "id": "6f61b216",
   "metadata": {},
   "outputs": [],
   "source": [
    "# Convert the predict price column into a 2-dimensional array\n",
    "y_pred = y_pred.reshape(-1,1)"
   ]
  },
  {
   "cell_type": "code",
   "execution_count": 19,
   "id": "35727207",
   "metadata": {},
   "outputs": [],
   "source": [
    "# Create index for the next 30 days\n",
    "last_index =  data.index[-1]\n",
    "next_30_dates = pd.RangeIndex(start=last_index, stop=last_index+30, step=1)"
   ]
  },
  {
   "cell_type": "code",
   "execution_count": 20,
   "id": "4eb985cb",
   "metadata": {},
   "outputs": [
    {
     "name": "stdout",
     "output_type": "stream",
     "text": [
      "Testing RMSE: 232.4522014021196\n",
      "Testing MAPE: 7.3484708536206425%\n",
      "Testing MAE: 115.66770678728936\n",
      "Huber loss: [54034.02593669]\n"
     ]
    }
   ],
   "source": [
    "# RMSE\n",
    "test_rmse = np.sqrt(np.mean((y_pred - y_test)**2))\n",
    "print('Testing RMSE:', test_rmse)\n",
    "# MAPE\n",
    "test_mape = mean_absolute_percentage_error(y_test,y_pred)\n",
    "print('Testing MAPE:', str(test_mape*100)+'%')\n",
    "# MAE\n",
    "test_mae = mean_absolute_error(y_test,y_pred)\n",
    "print('Testing MAE:', test_mae)\n",
    "# Huber loss\n",
    "hl= mean_squared_error(y_test, y_pred, multioutput='raw_values')\n",
    "print('Huber loss:', hl)"
   ]
  },
  {
   "cell_type": "code",
   "execution_count": 21,
   "id": "d0f6b108",
   "metadata": {},
   "outputs": [
    {
     "data": {
      "image/png": "[encoded data removed]",
      "text/plain": [
       "<Figure size 640x480 with 1 Axes>"
      ]
     },
     "metadata": {},
     "output_type": "display_data"
    }
   ],
   "source": [
    "plt.plot(y_train_index, y_train)\n",
    "plt.plot(y_test.index, y_test)\n",
    "plt.plot(y_test.index, y_pred)\n",
    "plt.plot(next_30_dates,x_next_30_days)\n",
    "plt.legend(['Train', 'Test', 'Predictions','Next30Day'])\n",
    "plt.show()"
   ]
  },
  {
   "cell_type": "code",
   "execution_count": null,
   "id": "3c055f44",
   "metadata": {},
   "outputs": [],
   "source": []
  }
 ],
 "metadata": {
  "kernelspec": {
   "display_name": "Python 3 (ipykernel)",
   "language": "python",
   "name": "python3"
  },
  "language_info": {
   "codemirror_mode": {
    "name": "ipython",
    "version": 3
   },
   "file_extension": ".py",
   "mimetype": "text/x-python",
   "name": "python",
   "nbconvert_exporter": "python",
   "pygments_lexer": "ipython3",
   "version": "3.11.2"
  }
 },
 "nbformat": 4,
 "nbformat_minor": 5
}
