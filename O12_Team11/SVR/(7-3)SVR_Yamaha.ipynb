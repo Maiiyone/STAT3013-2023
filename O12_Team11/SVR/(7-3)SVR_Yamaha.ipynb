{
 "cells": [
  {
   "cell_type": "markdown",
   "id": "0c2dab88",
   "metadata": {},
   "source": [
    "## Review steps"
   ]
  },
  {
   "cell_type": "markdown",
   "id": "7ad466ae",
   "metadata": {},
   "source": [
    "1. Data collection\n",
    "2. Data preprocessing\n",
    "3. train-test split\n",
    "4. Choosing ml/dl model\n",
    "5. Train model\n",
    "6. Do prediction and evaluate the model"
   ]
  },
  {
   "cell_type": "code",
   "execution_count": 1,
   "id": "1257413f",
   "metadata": {},
   "outputs": [],
   "source": [
    "import numpy as np # linear algebra import pandas\n",
    "from numpy import array\n",
    "import pandas as pd\n",
    "import math \n",
    "import seaborn as sns \n",
    "import datetime as dt \n",
    "from datetime import datetime\n",
    "sns.set_style(\"whitegrid\") \n",
    "from pandas.plotting import autocorrelation_plot \n",
    "import matplotlib.pyplot as plt\n",
    "%matplotlib inline\n",
    "plt.style.use(\"ggplot\" )\n",
    "from sklearn.metrics import mean_squared_error\n",
    "from sklearn.metrics import mean_absolute_percentage_error\n",
    "from sklearn.metrics import mean_absolute_error\n",
    "from tqdm import tqdm\n",
    "from sklearn.svm import SVR"
   ]
  },
  {
   "cell_type": "markdown",
   "id": "39d47361",
   "metadata": {},
   "source": [
    "## Loading data"
   ]
  },
  {
   "cell_type": "code",
   "execution_count": 2,
   "id": "b92395b0",
   "metadata": {},
   "outputs": [
    {
     "data": {
      "text/html": [
       "<div>\n",
       "<style scoped>\n",
       "    .dataframe tbody tr th:only-of-type {\n",
       "        vertical-align: middle;\n",
       "    }\n",
       "\n",
       "    .dataframe tbody tr th {\n",
       "        vertical-align: top;\n",
       "    }\n",
       "\n",
       "    .dataframe thead th {\n",
       "        text-align: right;\n",
       "    }\n",
       "</style>\n",
       "<table border=\"1\" class=\"dataframe\">\n",
       "  <thead>\n",
       "    <tr style=\"text-align: right;\">\n",
       "      <th></th>\n",
       "      <th>Date</th>\n",
       "      <th>Price</th>\n",
       "      <th>Open</th>\n",
       "      <th>High</th>\n",
       "      <th>Low</th>\n",
       "      <th>Volume</th>\n",
       "      <th>Change</th>\n",
       "    </tr>\n",
       "  </thead>\n",
       "  <tbody>\n",
       "    <tr>\n",
       "      <th>0</th>\n",
       "      <td>04/01/2018</td>\n",
       "      <td>4320,00</td>\n",
       "      <td>4210,00</td>\n",
       "      <td>4320,00</td>\n",
       "      <td>4205,00</td>\n",
       "      <td>1160000,0</td>\n",
       "      <td>0,03850</td>\n",
       "    </tr>\n",
       "    <tr>\n",
       "      <th>1</th>\n",
       "      <td>05/01/2018</td>\n",
       "      <td>4380,00</td>\n",
       "      <td>4340,00</td>\n",
       "      <td>4385,00</td>\n",
       "      <td>4315,00</td>\n",
       "      <td>942600,0</td>\n",
       "      <td>0,01390</td>\n",
       "    </tr>\n",
       "    <tr>\n",
       "      <th>2</th>\n",
       "      <td>09/01/2018</td>\n",
       "      <td>4465,00</td>\n",
       "      <td>4415,00</td>\n",
       "      <td>4470,00</td>\n",
       "      <td>4375,00</td>\n",
       "      <td>968700,0</td>\n",
       "      <td>0,01940</td>\n",
       "    </tr>\n",
       "    <tr>\n",
       "      <th>3</th>\n",
       "      <td>10/01/2018</td>\n",
       "      <td>4520,00</td>\n",
       "      <td>4470,00</td>\n",
       "      <td>4530,00</td>\n",
       "      <td>4465,00</td>\n",
       "      <td>764000,0</td>\n",
       "      <td>0,01230</td>\n",
       "    </tr>\n",
       "    <tr>\n",
       "      <th>4</th>\n",
       "      <td>11/01/2018</td>\n",
       "      <td>4540,00</td>\n",
       "      <td>4525,00</td>\n",
       "      <td>4545,00</td>\n",
       "      <td>4515,00</td>\n",
       "      <td>796800,0</td>\n",
       "      <td>0,00440</td>\n",
       "    </tr>\n",
       "    <tr>\n",
       "      <th>...</th>\n",
       "      <td>...</td>\n",
       "      <td>...</td>\n",
       "      <td>...</td>\n",
       "      <td>...</td>\n",
       "      <td>...</td>\n",
       "      <td>...</td>\n",
       "      <td>...</td>\n",
       "    </tr>\n",
       "    <tr>\n",
       "      <th>1447</th>\n",
       "      <td>08/12/2023</td>\n",
       "      <td>3216,00</td>\n",
       "      <td>3271,00</td>\n",
       "      <td>3271,00</td>\n",
       "      <td>3199,00</td>\n",
       "      <td>1440000,0</td>\n",
       "      <td>-0,01680</td>\n",
       "    </tr>\n",
       "    <tr>\n",
       "      <th>1448</th>\n",
       "      <td>11/12/2023</td>\n",
       "      <td>3216,00</td>\n",
       "      <td>3259,00</td>\n",
       "      <td>3269,00</td>\n",
       "      <td>3213,00</td>\n",
       "      <td>944400,0</td>\n",
       "      <td>0,00000</td>\n",
       "    </tr>\n",
       "    <tr>\n",
       "      <th>1449</th>\n",
       "      <td>12/12/2023</td>\n",
       "      <td>3176,00</td>\n",
       "      <td>3269,00</td>\n",
       "      <td>3271,00</td>\n",
       "      <td>3174,00</td>\n",
       "      <td>991400,0</td>\n",
       "      <td>-0,01240</td>\n",
       "    </tr>\n",
       "    <tr>\n",
       "      <th>1450</th>\n",
       "      <td>13/12/2023</td>\n",
       "      <td>3218,00</td>\n",
       "      <td>3190,00</td>\n",
       "      <td>3230,00</td>\n",
       "      <td>3190,00</td>\n",
       "      <td>1040000,0</td>\n",
       "      <td>0,01320</td>\n",
       "    </tr>\n",
       "    <tr>\n",
       "      <th>1451</th>\n",
       "      <td>14/12/2023</td>\n",
       "      <td>3142,00</td>\n",
       "      <td>3205,00</td>\n",
       "      <td>3205,00</td>\n",
       "      <td>3133,00</td>\n",
       "      <td>1110000,0</td>\n",
       "      <td>-0,02360</td>\n",
       "    </tr>\n",
       "  </tbody>\n",
       "</table>\n",
       "<p>1452 rows × 7 columns</p>\n",
       "</div>"
      ],
      "text/plain": [
       "            Date    Price     Open     High      Low     Volume    Change\n",
       "0     04/01/2018  4320,00  4210,00  4320,00  4205,00  1160000,0   0,03850\n",
       "1     05/01/2018  4380,00  4340,00  4385,00  4315,00   942600,0   0,01390\n",
       "2     09/01/2018  4465,00  4415,00  4470,00  4375,00   968700,0   0,01940\n",
       "3     10/01/2018  4520,00  4470,00  4530,00  4465,00   764000,0   0,01230\n",
       "4     11/01/2018  4540,00  4525,00  4545,00  4515,00   796800,0   0,00440\n",
       "...          ...      ...      ...      ...      ...        ...       ...\n",
       "1447  08/12/2023  3216,00  3271,00  3271,00  3199,00  1440000,0  -0,01680\n",
       "1448  11/12/2023  3216,00  3259,00  3269,00  3213,00   944400,0   0,00000\n",
       "1449  12/12/2023  3176,00  3269,00  3271,00  3174,00   991400,0  -0,01240\n",
       "1450  13/12/2023  3218,00  3190,00  3230,00  3190,00  1040000,0   0,01320\n",
       "1451  14/12/2023  3142,00  3205,00  3205,00  3133,00  1110000,0  -0,02360\n",
       "\n",
       "[1452 rows x 7 columns]"
      ]
     },
     "execution_count": 2,
     "metadata": {},
     "output_type": "execute_result"
    }
   ],
   "source": [
    "data= pd.read_csv(\"Yamaha.csv\",delimiter=\";\")\n",
    "data"
   ]
  },
  {
   "cell_type": "markdown",
   "id": "79f8654f",
   "metadata": {},
   "source": [
    "## Data Exploration"
   ]
  },
  {
   "cell_type": "code",
   "execution_count": 3,
   "id": "b39bad11",
   "metadata": {},
   "outputs": [
    {
     "name": "stdout",
     "output_type": "stream",
     "text": [
      "<class 'pandas.core.frame.DataFrame'>\n",
      "RangeIndex: 1452 entries, 0 to 1451\n",
      "Data columns (total 7 columns):\n",
      " #   Column  Non-Null Count  Dtype \n",
      "---  ------  --------------  ----- \n",
      " 0   Date    1452 non-null   object\n",
      " 1   Price   1452 non-null   object\n",
      " 2   Open    1452 non-null   object\n",
      " 3   High    1452 non-null   object\n",
      " 4   Low     1452 non-null   object\n",
      " 5   Volume  1452 non-null   object\n",
      " 6   Change  1452 non-null   object\n",
      "dtypes: object(7)\n",
      "memory usage: 79.5+ KB\n"
     ]
    }
   ],
   "source": [
    "# Check the data type of each value column\n",
    "data.info()"
   ]
  },
  {
   "cell_type": "code",
   "execution_count": 4,
   "id": "f8b9c1e2",
   "metadata": {},
   "outputs": [
    {
     "data": {
      "text/plain": [
       "0      2018-01-04\n",
       "1      2018-01-05\n",
       "2      2018-01-09\n",
       "3      2018-01-10\n",
       "4      2018-01-11\n",
       "          ...    \n",
       "1447   2023-12-08\n",
       "1448   2023-12-11\n",
       "1449   2023-12-12\n",
       "1450   2023-12-13\n",
       "1451   2023-12-14\n",
       "Name: Date, Length: 1452, dtype: datetime64[ns]"
      ]
     },
     "execution_count": 4,
     "metadata": {},
     "output_type": "execute_result"
    }
   ],
   "source": [
    "# Reformat the date data type\n",
    "data['Date'] = pd.to_datetime(data['Date'], format='%d/%m/%Y')  # Ví dụ cho định dạng dd/mm/yyyy\n",
    "data['Date']"
   ]
  },
  {
   "cell_type": "code",
   "execution_count": 5,
   "id": "f075de4b",
   "metadata": {},
   "outputs": [
    {
     "name": "stdout",
     "output_type": "stream",
     "text": [
      "<class 'pandas.core.frame.DataFrame'>\n",
      "RangeIndex: 1452 entries, 0 to 1451\n",
      "Data columns (total 7 columns):\n",
      " #   Column  Non-Null Count  Dtype         \n",
      "---  ------  --------------  -----         \n",
      " 0   Date    1452 non-null   datetime64[ns]\n",
      " 1   Price   1452 non-null   float64       \n",
      " 2   Open    1452 non-null   float64       \n",
      " 3   High    1452 non-null   float64       \n",
      " 4   Low     1452 non-null   float64       \n",
      " 5   Volume  1452 non-null   float64       \n",
      " 6   Change  1452 non-null   float64       \n",
      "dtypes: datetime64[ns](1), float64(6)\n",
      "memory usage: 79.5 KB\n"
     ]
    }
   ],
   "source": [
    "# Clean data and cast data for calculation\n",
    "data['Price'] = data['Price'].str.replace(',', '.').astype(float)\n",
    "data['Open'] = data['Open'].str.replace(',', '.').astype(float)\n",
    "data['High'] = data['High'].str.replace(',', '.').astype(float)\n",
    "data['Low'] = data['Low'].str.replace(',', '.').astype(float)\n",
    "data['Volume'] = data['Volume'].str.replace(',', '.').astype(float)\n",
    "data['Change'] = data['Change'].str.replace(',', '.').astype(float)\n",
    "data.info()"
   ]
  },
  {
   "cell_type": "code",
   "execution_count": 6,
   "id": "0b9eea0a",
   "metadata": {},
   "outputs": [
    {
     "data": {
      "text/html": [
       "<div>\n",
       "<style scoped>\n",
       "    .dataframe tbody tr th:only-of-type {\n",
       "        vertical-align: middle;\n",
       "    }\n",
       "\n",
       "    .dataframe tbody tr th {\n",
       "        vertical-align: top;\n",
       "    }\n",
       "\n",
       "    .dataframe thead th {\n",
       "        text-align: right;\n",
       "    }\n",
       "</style>\n",
       "<table border=\"1\" class=\"dataframe\">\n",
       "  <thead>\n",
       "    <tr style=\"text-align: right;\">\n",
       "      <th></th>\n",
       "      <th>Date</th>\n",
       "      <th>Price</th>\n",
       "      <th>Open</th>\n",
       "      <th>High</th>\n",
       "      <th>Low</th>\n",
       "      <th>Volume</th>\n",
       "      <th>Change</th>\n",
       "    </tr>\n",
       "  </thead>\n",
       "  <tbody>\n",
       "    <tr>\n",
       "      <th>count</th>\n",
       "      <td>1452</td>\n",
       "      <td>1452.000000</td>\n",
       "      <td>1452.000000</td>\n",
       "      <td>1452.000000</td>\n",
       "      <td>1452.000000</td>\n",
       "      <td>1.452000e+03</td>\n",
       "      <td>1452.000000</td>\n",
       "    </tr>\n",
       "    <tr>\n",
       "      <th>mean</th>\n",
       "      <td>2020-12-26 16:00:59.504132352</td>\n",
       "      <td>5342.451102</td>\n",
       "      <td>5344.658402</td>\n",
       "      <td>5400.580579</td>\n",
       "      <td>5283.276171</td>\n",
       "      <td>6.088632e+05</td>\n",
       "      <td>0.000012</td>\n",
       "    </tr>\n",
       "    <tr>\n",
       "      <th>min</th>\n",
       "      <td>2018-01-04 00:00:00</td>\n",
       "      <td>3142.000000</td>\n",
       "      <td>3190.000000</td>\n",
       "      <td>3205.000000</td>\n",
       "      <td>3133.000000</td>\n",
       "      <td>1.144000e+05</td>\n",
       "      <td>-0.145700</td>\n",
       "    </tr>\n",
       "    <tr>\n",
       "      <th>25%</th>\n",
       "      <td>2019-07-01 18:00:00</td>\n",
       "      <td>4938.750000</td>\n",
       "      <td>4940.000000</td>\n",
       "      <td>4990.000000</td>\n",
       "      <td>4890.000000</td>\n",
       "      <td>4.071750e+05</td>\n",
       "      <td>-0.011325</td>\n",
       "    </tr>\n",
       "    <tr>\n",
       "      <th>50%</th>\n",
       "      <td>2020-12-28 12:00:00</td>\n",
       "      <td>5315.000000</td>\n",
       "      <td>5320.000000</td>\n",
       "      <td>5370.000000</td>\n",
       "      <td>5260.000000</td>\n",
       "      <td>5.324000e+05</td>\n",
       "      <td>0.000000</td>\n",
       "    </tr>\n",
       "    <tr>\n",
       "      <th>75%</th>\n",
       "      <td>2022-06-24 18:00:00</td>\n",
       "      <td>5770.000000</td>\n",
       "      <td>5790.000000</td>\n",
       "      <td>5840.000000</td>\n",
       "      <td>5720.000000</td>\n",
       "      <td>7.116750e+05</td>\n",
       "      <td>0.010700</td>\n",
       "    </tr>\n",
       "    <tr>\n",
       "      <th>max</th>\n",
       "      <td>2023-12-14 00:00:00</td>\n",
       "      <td>7440.000000</td>\n",
       "      <td>7450.000000</td>\n",
       "      <td>7490.000000</td>\n",
       "      <td>7360.000000</td>\n",
       "      <td>3.140000e+06</td>\n",
       "      <td>0.126700</td>\n",
       "    </tr>\n",
       "    <tr>\n",
       "      <th>std</th>\n",
       "      <td>NaN</td>\n",
       "      <td>695.721143</td>\n",
       "      <td>694.041663</td>\n",
       "      <td>698.877570</td>\n",
       "      <td>688.962765</td>\n",
       "      <td>3.185040e+05</td>\n",
       "      <td>0.020299</td>\n",
       "    </tr>\n",
       "  </tbody>\n",
       "</table>\n",
       "</div>"
      ],
      "text/plain": [
       "                                Date        Price         Open         High  \\\n",
       "count                           1452  1452.000000  1452.000000  1452.000000   \n",
       "mean   2020-12-26 16:00:59.504132352  5342.451102  5344.658402  5400.580579   \n",
       "min              2018-01-04 00:00:00  3142.000000  3190.000000  3205.000000   \n",
       "25%              2019-07-01 18:00:00  4938.750000  4940.000000  4990.000000   \n",
       "50%              2020-12-28 12:00:00  5315.000000  5320.000000  5370.000000   \n",
       "75%              2022-06-24 18:00:00  5770.000000  5790.000000  5840.000000   \n",
       "max              2023-12-14 00:00:00  7440.000000  7450.000000  7490.000000   \n",
       "std                              NaN   695.721143   694.041663   698.877570   \n",
       "\n",
       "               Low        Volume       Change  \n",
       "count  1452.000000  1.452000e+03  1452.000000  \n",
       "mean   5283.276171  6.088632e+05     0.000012  \n",
       "min    3133.000000  1.144000e+05    -0.145700  \n",
       "25%    4890.000000  4.071750e+05    -0.011325  \n",
       "50%    5260.000000  5.324000e+05     0.000000  \n",
       "75%    5720.000000  7.116750e+05     0.010700  \n",
       "max    7360.000000  3.140000e+06     0.126700  \n",
       "std     688.962765  3.185040e+05     0.020299  "
      ]
     },
     "execution_count": 6,
     "metadata": {},
     "output_type": "execute_result"
    }
   ],
   "source": [
    "# Gets descriptive statistical information about a DataFrame or a Series\n",
    "data.describe()"
   ]
  },
  {
   "cell_type": "markdown",
   "id": "2ab6ee45",
   "metadata": {},
   "source": [
    "## Data Visualization"
   ]
  },
  {
   "cell_type": "code",
   "execution_count": 7,
   "id": "e2596555",
   "metadata": {},
   "outputs": [],
   "source": [
    "# Reshape turns df into a NumPy array of size (-1, 1)\n",
    "df=data['Price'].values\n",
    "df = df.reshape(-1, 1)"
   ]
  },
  {
   "cell_type": "code",
   "execution_count": 8,
   "id": "d7cb69c3",
   "metadata": {},
   "outputs": [
    {
     "data": {
      "text/plain": [
       "array([[0.27408097],\n",
       "       [0.28804095],\n",
       "       [0.30781759],\n",
       "       ...,\n",
       "       [0.00791066],\n",
       "       [0.01768264],\n",
       "       [0.        ]])"
      ]
     },
     "execution_count": 8,
     "metadata": {},
     "output_type": "execute_result"
    }
   ],
   "source": [
    "from sklearn.preprocessing import MinMaxScaler\n",
    "scaler = MinMaxScaler() # Perform data normalization according to the min-max scaling method\n",
    "price_scaled=scaler.fit_transform(df) # Fit và transform the data\n",
    "price_scaled"
   ]
  },
  {
   "cell_type": "code",
   "execution_count": 9,
   "id": "7dc411d8",
   "metadata": {},
   "outputs": [
    {
     "data": {
      "image/png": "[encoded data removed]",
      "text/plain": [
       "<Figure size 640x480 with 1 Axes>"
      ]
     },
     "metadata": {},
     "output_type": "display_data"
    }
   ],
   "source": [
    "# Create plot\n",
    "plt.figure(figure=(10,6))\n",
    "plt.plot(data['Date'],data['Price'].values, label=\"Price\", color=\"IndianRed\")\n",
    "\n",
    "# Adding title\n",
    "plt.title(\"Plot of price due to date\")\n",
    "\n",
    "# Adding label\n",
    "plt.xlabel(\"Date\")\n",
    "plt.ylabel(\"Price\")\n",
    "\n",
    "# Show the plot\n",
    "plt.legend()\n",
    "plt.show()"
   ]
  },
  {
   "cell_type": "markdown",
   "id": "8916df77",
   "metadata": {},
   "source": [
    "## Data Preprocessing"
   ]
  },
  {
   "cell_type": "markdown",
   "id": "7c98f8f8",
   "metadata": {},
   "source": [
    "### Split data into training and testing set"
   ]
  },
  {
   "cell_type": "markdown",
   "id": "f0af9e79",
   "metadata": {},
   "source": [
    "### Training - testing 7:3"
   ]
  },
  {
   "cell_type": "code",
   "execution_count": 10,
   "id": "6a8e1460",
   "metadata": {},
   "outputs": [],
   "source": [
    "# Split train test validation in ratio 7:3\n",
    "# Split the data into training, testing\n",
    "train_size = int(0.7 * len(data))\n",
    "test_size = int(0.3 * len(data))\n",
    "\n",
    "\n",
    "X2D = data[['High']] # Independent variable in 2-dimensional array\n",
    "Y2D = data[['Price']] # Dependent variable in 2-dimensional array"
   ]
  },
  {
   "cell_type": "markdown",
   "id": "d6663a3d",
   "metadata": {},
   "source": [
    "### SVR"
   ]
  },
  {
   "cell_type": "code",
   "execution_count": 11,
   "id": "fed94425",
   "metadata": {},
   "outputs": [
    {
     "name": "stdout",
     "output_type": "stream",
     "text": [
      "Best parameters: {'C': 1000, 'epsilon': 10, 'gamma': 'scale'}\n",
      "Best score: 111887.74126906817\n"
     ]
    }
   ],
   "source": [
    "from sklearn.svm import SVR\n",
    "from sklearn.model_selection import GridSearchCV\n",
    "from sklearn.model_selection import cross_val_score\n",
    "\n",
    "y_train = Y2D[:train_size]\n",
    "x_train = X2D[:train_size]\n",
    "y_test = Y2D[train_size:]\n",
    "x_test = X2D[train_size:]\n",
    "y_train_index = y_train.index # Get the index before converting it to a 2-dimensional array (serves plot)\n",
    "y_train = Y2D[:train_size].values.ravel()\n",
    "\n",
    "# Create SVR model with RBF kernel\n",
    "model = SVR(kernel='rbf')\n",
    "param_grid = {\n",
    "    'C': [0.1, 1, 10, 100, 1000],             \n",
    "    'gamma': ['scale', 'auto', 0.001, 0.01, 0.1, 1],  \n",
    "    'epsilon': [0.001, 0.01, 0.1, 1, 10]     \n",
    "}\n",
    "\n",
    "# Create a GridSearchCV object\n",
    "grid_search = GridSearchCV(model, param_grid, cv=5, scoring='neg_mean_squared_error', n_jobs=-1)\n",
    "\n",
    "# Train the model using grid search\n",
    "svr_rbf = grid_search.fit(x_train,y_train)\n",
    "\n",
    "print(\"Best parameters:\", grid_search.best_params_)\n",
    "print(\"Best score:\", -grid_search.best_score_)"
   ]
  },
  {
   "cell_type": "code",
   "execution_count": 12,
   "id": "b42b2c6c",
   "metadata": {},
   "outputs": [
    {
     "data": {
      "text/plain": [
       "array([5010.90935854, 5060.72372342, 4981.09367486, 4981.09367486,\n",
       "       4911.95320959, 4946.43098811, 5150.44669363, 5140.48423017,\n",
       "       5349.43372808, 5409.31385904, 5409.31385904, 5449.34942858,\n",
       "       5429.31979697, 5409.31385904, 5459.37282608, 5379.34920335,\n",
       "       5319.55909761, 5319.55909761, 5359.40052464, 5299.65974742,\n",
       "       5210.16730249, 5289.71374136, 5259.88425533, 5200.21983672,\n",
       "       5130.51927734, 5170.36371044, 5110.58284402, 5020.86311   ,\n",
       "       5020.86311   , 5090.64013516, 5299.65974742, 5230.05700799,\n",
       "       5050.75379719, 5090.64013516, 4971.17445267, 4971.17445267,\n",
       "       5030.82248931, 5110.58284402, 4961.26705048, 4981.09367486,\n",
       "       4971.17445267, 5060.72372342, 5190.27022641, 5200.21983672,\n",
       "       5230.05700799, 5239.99997471, 5130.51927734, 5220.11291267,\n",
       "       5239.99997471, 5190.27022641, 5170.36371044, 5230.05700799,\n",
       "       5279.76950062, 5379.34920335, 5379.34920335, 5359.40052464,\n",
       "       5279.76950062, 5429.31979697, 5459.37282608, 5489.47428325,\n",
       "       5610.09681466, 5848.29201979, 5739.99942221, 5539.72169472,\n",
       "       5329.51343142, 5349.43372808, 5419.31383895, 5269.82650925,\n",
       "       5239.99997471, 5309.6080318 , 5279.76950062, 5259.88425533,\n",
       "       5379.34920335, 5489.47428325, 5539.72169472, 5690.23841158,\n",
       "       5700.21476403, 5650.23085331, 5630.17633787, 5680.25114231,\n",
       "       5569.89062155, 5650.23085331, 5690.23841158, 5720.13227728,\n",
       "       5559.83429605, 5459.37282608, 5489.47428325, 5439.33169502,\n",
       "       5439.33169502, 5630.17633787, 5700.21476403, 5779.57120945,\n",
       "       5730.07237063, 5660.24661597, 5589.99924792, 5579.94588584,\n",
       "       5660.24661597, 5650.23085331, 5559.83429605, 5589.99924792,\n",
       "       5539.72169472, 5519.61420628, 5459.37282608, 5479.43559143,\n",
       "       5499.51728989, 5680.25114231, 5700.21476403, 5759.81304148,\n",
       "       5789.42925845, 5700.21476403, 5720.13227728, 5630.17633787,\n",
       "       5589.99924792, 5499.51728989, 5529.66695272, 5630.17633787,\n",
       "       5429.31979697, 5379.34920335, 5419.31383895, 5319.55909761,\n",
       "       5329.51343142, 5309.6080318 , 5299.65974742, 5180.31824032,\n",
       "       5319.55909761, 5399.31983016, 5399.31983016, 5399.31983016,\n",
       "       5230.05700799, 5230.05700799, 5120.55204893, 5160.40653712,\n",
       "       5090.64013516, 5040.786397  , 4877.71375705, 4829.29893402,\n",
       "       4843.757223  , 5170.36371044, 5170.36371044, 5259.88425533,\n",
       "       5349.43372808, 5349.43372808, 5399.31983016, 5359.40052464,\n",
       "       5249.94223802, 5160.40653712, 5160.40653712, 5359.40052464,\n",
       "       5299.65974742, 5579.94588584, 5630.17633787, 5559.83429605,\n",
       "       5519.61420628, 5539.72169472, 5529.66695272, 5620.13926999,\n",
       "       5610.09681466, 5549.77772538, 5610.09681466, 5620.13926999,\n",
       "       5610.09681466, 5469.4016488 , 5399.31983016, 5459.37282608,\n",
       "       5389.33166198, 5269.82650925, 5459.37282608, 5439.33169502,\n",
       "       5399.31983016, 5379.34920335, 5349.43372808, 5349.43372808,\n",
       "       5299.65974742, 5319.55909761, 5349.43372808, 5369.37224529,\n",
       "       5309.6080318 , 5389.33166198, 5389.33166198, 5519.61420628,\n",
       "       5399.31983016, 5339.47149679, 5429.31979697, 5389.33166198,\n",
       "       5369.37224529, 5429.31979697, 5479.43559143, 5519.61420628,\n",
       "       5469.4016488 , 5429.31979697, 5319.55909761, 5210.16730249,\n",
       "       5170.36371044, 4971.17445267, 4961.26705048, 4872.84462528,\n",
       "       4887.46930473, 4882.58868866, 4867.98140225, 4882.58868866,\n",
       "       4902.14401683, 4810.11261862, 4791.03091722, 4757.87983118,\n",
       "       4786.27659688, 4800.55878323, 4853.42816838, 4814.89935445,\n",
       "       4673.69183396, 4710.9749992 , 4824.49251803, 4776.78681795,\n",
       "       4753.16744352, 4800.55878323, 4936.55889231, 4961.26705048,\n",
       "       4961.26705048, 5020.86311   , 5010.90935854, 5030.82248931,\n",
       "       5010.90935854, 4991.02341435, 5010.90935854, 5170.36371044,\n",
       "       5080.6676647 , 5020.86311   , 5000.96239134, 5030.82248931,\n",
       "       4971.17445267, 4981.09367486, 4951.37278375, 4981.09367486,\n",
       "       4936.55889231, 4921.78191239, 5090.64013516, 5050.75379719,\n",
       "       5110.58284402, 5090.64013516, 5130.51927734, 5090.64013516,\n",
       "       5100.61204839, 5220.11291267, 5269.82650925, 5249.94223802,\n",
       "       5190.27022641, 5230.05700799, 5140.48423017, 5070.69528369,\n",
       "       4916.86519652, 4892.35548377, 4805.3324358 , 4882.58868866,\n",
       "       4902.14401683, 4926.70320445, 4926.70320445, 4916.86519652,\n",
       "       4931.62891711, 4931.62891711, 5010.90935854, 5030.82248931,\n",
       "       5090.64013516, 5090.64013516, 5170.36371044, 5120.55204893,\n",
       "       5020.86311   , 5010.90935854, 5080.6676647 , 5160.40653712,\n",
       "       5180.31824032, 5200.21983672, 5239.99997471, 5249.94223802,\n",
       "       5289.71374136, 5259.88425533, 5200.21983672, 5210.16730249,\n",
       "       5239.99997471, 5249.94223802, 5160.40653712, 5180.31824032,\n",
       "       5289.71374136, 5349.43372808, 5369.37224529, 5349.43372808,\n",
       "       5359.40052464, 5329.51343142, 5379.34920335, 5349.43372808,\n",
       "       5339.47149679, 5489.47428325, 5459.37282608, 5489.47428325,\n",
       "       5549.77772538, 5630.17633787, 5700.21476403, 5600.04984816,\n",
       "       5569.89062155, 5559.83429605, 5670.25363496, 5630.17633787,\n",
       "       5509.56411561, 5489.47428325, 5509.56411561, 5649.2288268 ,\n",
       "       5717.14776892, 5786.4733158 , 5631.17971482, 5574.9184384 ,\n",
       "       5588.99402169, 5645.21994289, 5796.32156797, 5824.80375405,\n",
       "       5767.72302688, 5739.00731475, 5672.25392125, 5635.1925797 ,\n",
       "       5683.24842995, 5691.23654883, 5491.48255439, 5424.31607153,\n",
       "       5493.49099454, 5534.69411742, 5462.38091586, 5547.76645153,\n",
       "       5559.83429605, 5469.4016488 , 5402.31741814, 5295.68110018,\n",
       "       5246.95960622, 5275.79218298, 5229.06265594, 5228.06829218,\n",
       "       5298.6650527 , 5269.82650925, 5318.56385184, 5329.51343142,\n",
       "       5249.94223802, 5312.59303697, 5313.58809666, 5298.6650527 ,\n",
       "       5460.37546874, 5436.32750683, 5509.56411561, 5509.56411561,\n",
       "       5478.43197683, 4876.73946313, 4622.40204662, 4646.68328543,\n",
       "       4623.33802889, 4592.31679997, 4613.96838747, 4680.20930052,\n",
       "       4586.63997661, 4511.1872994 , 4444.83373451, 4446.93586389,\n",
       "       4463.60575735, 4492.18481239, 4524.02618997, 4488.14569587,\n",
       "       4451.12769026, 4515.15115727, 4534.79568823, 4513.17075607,\n",
       "       4492.18481239, 4497.21434951, 4510.19441326, 4530.88903549,\n",
       "       4529.91069563, 4502.22290797, 4383.0779485 , 4270.56467281,\n",
       "       4274.2366032 , 4274.2366032 , 4303.26966165, 4332.82983181,\n",
       "       4288.83063405, 4245.85838363, 4159.49808594, 4140.13611147,\n",
       "       4083.29021578, 4069.16000004, 3993.88981407, 3960.49182276,\n",
       "       4019.7762496 , 4119.44453194, 3947.79878993, 3972.2519285 ,\n",
       "       3989.03330356, 4012.31833099, 4033.56027281, 4041.13287453,\n",
       "       4084.57760394, 4042.39833508, 3963.9986709 , 3962.82765443,\n",
       "       3952.38348807, 3885.1076876 , 3852.4723853 , 3819.88952679,\n",
       "       3814.33986776, 3867.27328642, 3830.7224556 , 3862.80224184,\n",
       "       3830.7224556 , 3887.0593331 , 3991.45831675, 3783.70322191,\n",
       "       3783.79502567, 3806.99307832, 3876.79803424, 3856.89739039,\n",
       "       3901.39869801, 3881.2753819 , 4077.90716851, 4038.75507819,\n",
       "       4056.28419854, 4192.46142562, 4074.26003043, 4040.48736697,\n",
       "       3902.63693972, 3890.52585372, 3931.37310225, 4003.47795613,\n",
       "       4061.63088281, 4090.80480144, 4132.61962523, 4269.98780958,\n",
       "       4319.8109044 , 4308.89116969, 4368.3468078 , 4582.33145783,\n",
       "       4586.83514923, 4582.33145783, 4673.96268555, 4728.81900438])"
      ]
     },
     "execution_count": 12,
     "metadata": {},
     "output_type": "execute_result"
    }
   ],
   "source": [
    "# Predict test\n",
    "y_pred = svr_rbf.predict(x_test)\n",
    "y_pred"
   ]
  },
  {
   "cell_type": "code",
   "execution_count": 13,
   "id": "caf83afb",
   "metadata": {},
   "outputs": [
    {
     "data": {
      "text/plain": [
       "array([[3142.]])"
      ]
     },
     "execution_count": 13,
     "metadata": {},
     "output_type": "execute_result"
    }
   ],
   "source": [
    "last_row = data.tail(1)\n",
    "last_data = last_row['Price'].values.reshape(-1,1)\n",
    "last_data"
   ]
  },
  {
   "cell_type": "markdown",
   "id": "66364216",
   "metadata": {},
   "source": [
    "## Predict"
   ]
  },
  {
   "cell_type": "code",
   "execution_count": 14,
   "id": "45e46d01",
   "metadata": {},
   "outputs": [
    {
     "name": "stderr",
     "output_type": "stream",
     "text": [
      "/Library/Frameworks/Python.framework/Versions/3.11/lib/python3.11/site-packages/sklearn/base.py:465: UserWarning: X does not have valid feature names, but SVR was fitted with feature names\n",
      "  warnings.warn(\n",
      "/Library/Frameworks/Python.framework/Versions/3.11/lib/python3.11/site-packages/sklearn/base.py:465: UserWarning: X does not have valid feature names, but SVR was fitted with feature names\n",
      "  warnings.warn(\n",
      "/Library/Frameworks/Python.framework/Versions/3.11/lib/python3.11/site-packages/sklearn/base.py:465: UserWarning: X does not have valid feature names, but SVR was fitted with feature names\n",
      "  warnings.warn(\n",
      "/Library/Frameworks/Python.framework/Versions/3.11/lib/python3.11/site-packages/sklearn/base.py:465: UserWarning: X does not have valid feature names, but SVR was fitted with feature names\n",
      "  warnings.warn(\n",
      "/Library/Frameworks/Python.framework/Versions/3.11/lib/python3.11/site-packages/sklearn/base.py:465: UserWarning: X does not have valid feature names, but SVR was fitted with feature names\n",
      "  warnings.warn(\n",
      "/Library/Frameworks/Python.framework/Versions/3.11/lib/python3.11/site-packages/sklearn/base.py:465: UserWarning: X does not have valid feature names, but SVR was fitted with feature names\n",
      "  warnings.warn(\n",
      "/Library/Frameworks/Python.framework/Versions/3.11/lib/python3.11/site-packages/sklearn/base.py:465: UserWarning: X does not have valid feature names, but SVR was fitted with feature names\n",
      "  warnings.warn(\n",
      "/Library/Frameworks/Python.framework/Versions/3.11/lib/python3.11/site-packages/sklearn/base.py:465: UserWarning: X does not have valid feature names, but SVR was fitted with feature names\n",
      "  warnings.warn(\n",
      "/Library/Frameworks/Python.framework/Versions/3.11/lib/python3.11/site-packages/sklearn/base.py:465: UserWarning: X does not have valid feature names, but SVR was fitted with feature names\n",
      "  warnings.warn(\n",
      "/Library/Frameworks/Python.framework/Versions/3.11/lib/python3.11/site-packages/sklearn/base.py:465: UserWarning: X does not have valid feature names, but SVR was fitted with feature names\n",
      "  warnings.warn(\n",
      "/Library/Frameworks/Python.framework/Versions/3.11/lib/python3.11/site-packages/sklearn/base.py:465: UserWarning: X does not have valid feature names, but SVR was fitted with feature names\n",
      "  warnings.warn(\n",
      "/Library/Frameworks/Python.framework/Versions/3.11/lib/python3.11/site-packages/sklearn/base.py:465: UserWarning: X does not have valid feature names, but SVR was fitted with feature names\n",
      "  warnings.warn(\n",
      "/Library/Frameworks/Python.framework/Versions/3.11/lib/python3.11/site-packages/sklearn/base.py:465: UserWarning: X does not have valid feature names, but SVR was fitted with feature names\n",
      "  warnings.warn(\n",
      "/Library/Frameworks/Python.framework/Versions/3.11/lib/python3.11/site-packages/sklearn/base.py:465: UserWarning: X does not have valid feature names, but SVR was fitted with feature names\n",
      "  warnings.warn(\n",
      "/Library/Frameworks/Python.framework/Versions/3.11/lib/python3.11/site-packages/sklearn/base.py:465: UserWarning: X does not have valid feature names, but SVR was fitted with feature names\n",
      "  warnings.warn(\n",
      "/Library/Frameworks/Python.framework/Versions/3.11/lib/python3.11/site-packages/sklearn/base.py:465: UserWarning: X does not have valid feature names, but SVR was fitted with feature names\n",
      "  warnings.warn(\n",
      "/Library/Frameworks/Python.framework/Versions/3.11/lib/python3.11/site-packages/sklearn/base.py:465: UserWarning: X does not have valid feature names, but SVR was fitted with feature names\n",
      "  warnings.warn(\n",
      "/Library/Frameworks/Python.framework/Versions/3.11/lib/python3.11/site-packages/sklearn/base.py:465: UserWarning: X does not have valid feature names, but SVR was fitted with feature names\n",
      "  warnings.warn(\n",
      "/Library/Frameworks/Python.framework/Versions/3.11/lib/python3.11/site-packages/sklearn/base.py:465: UserWarning: X does not have valid feature names, but SVR was fitted with feature names\n",
      "  warnings.warn(\n",
      "/Library/Frameworks/Python.framework/Versions/3.11/lib/python3.11/site-packages/sklearn/base.py:465: UserWarning: X does not have valid feature names, but SVR was fitted with feature names\n",
      "  warnings.warn(\n",
      "/Library/Frameworks/Python.framework/Versions/3.11/lib/python3.11/site-packages/sklearn/base.py:465: UserWarning: X does not have valid feature names, but SVR was fitted with feature names\n",
      "  warnings.warn(\n",
      "/Library/Frameworks/Python.framework/Versions/3.11/lib/python3.11/site-packages/sklearn/base.py:465: UserWarning: X does not have valid feature names, but SVR was fitted with feature names\n",
      "  warnings.warn(\n",
      "/Library/Frameworks/Python.framework/Versions/3.11/lib/python3.11/site-packages/sklearn/base.py:465: UserWarning: X does not have valid feature names, but SVR was fitted with feature names\n",
      "  warnings.warn(\n",
      "/Library/Frameworks/Python.framework/Versions/3.11/lib/python3.11/site-packages/sklearn/base.py:465: UserWarning: X does not have valid feature names, but SVR was fitted with feature names\n",
      "  warnings.warn(\n",
      "/Library/Frameworks/Python.framework/Versions/3.11/lib/python3.11/site-packages/sklearn/base.py:465: UserWarning: X does not have valid feature names, but SVR was fitted with feature names\n",
      "  warnings.warn(\n",
      "/Library/Frameworks/Python.framework/Versions/3.11/lib/python3.11/site-packages/sklearn/base.py:465: UserWarning: X does not have valid feature names, but SVR was fitted with feature names\n",
      "  warnings.warn(\n",
      "/Library/Frameworks/Python.framework/Versions/3.11/lib/python3.11/site-packages/sklearn/base.py:465: UserWarning: X does not have valid feature names, but SVR was fitted with feature names\n",
      "  warnings.warn(\n",
      "/Library/Frameworks/Python.framework/Versions/3.11/lib/python3.11/site-packages/sklearn/base.py:465: UserWarning: X does not have valid feature names, but SVR was fitted with feature names\n",
      "  warnings.warn(\n",
      "/Library/Frameworks/Python.framework/Versions/3.11/lib/python3.11/site-packages/sklearn/base.py:465: UserWarning: X does not have valid feature names, but SVR was fitted with feature names\n",
      "  warnings.warn(\n",
      "/Library/Frameworks/Python.framework/Versions/3.11/lib/python3.11/site-packages/sklearn/base.py:465: UserWarning: X does not have valid feature names, but SVR was fitted with feature names\n",
      "  warnings.warn(\n"
     ]
    },
    {
     "data": {
      "text/plain": [
       "[array([4861.82125203]),\n",
       " array([4816.64455564]),\n",
       " array([4773.60811026]),\n",
       " array([4733.06497087]),\n",
       " array([4695.17508029]),\n",
       " array([4659.88923971]),\n",
       " array([4626.97641039]),\n",
       " array([4596.07190939]),\n",
       " array([4566.72371311]),\n",
       " array([4538.42306591]),\n",
       " array([4510.61456425]),\n",
       " array([4482.6853105]),\n",
       " array([4453.93257014]),\n",
       " array([4423.50591383]),\n",
       " array([4390.31375555]),\n",
       " array([4352.87546632]),\n",
       " array([4309.09044706]),\n",
       " array([4255.89888536]),\n",
       " array([4188.9005578]),\n",
       " array([4102.50876122]),\n",
       " array([3993.29199825]),\n",
       " array([3873.96313322]),\n",
       " array([3793.98405072]),\n",
       " array([3783.41926912]),\n",
       " array([3785.00816853]),\n",
       " array([3784.72307896]),\n",
       " array([3784.77302601]),\n",
       " array([3784.76423733]),\n",
       " array([3784.76578261]),\n",
       " array([3784.76551088])]"
      ]
     },
     "execution_count": 14,
     "metadata": {},
     "output_type": "execute_result"
    }
   ],
   "source": [
    "# Create an array containing the predict value of the next 30 days\n",
    "x_next_30_days = []\n",
    "# Predict the price for the next 30 days based on the price of the previous day\n",
    "for i in range(30):\n",
    "    x_pred_next = svr_rbf.predict(last_data)\n",
    "    x_next_30_days.append(x_pred_next)\n",
    "    last_data = x_pred_next.reshape(-1,1)\n",
    "x_next_30_days"
   ]
  },
  {
   "cell_type": "code",
   "execution_count": 15,
   "id": "0fa0d29f",
   "metadata": {},
   "outputs": [
    {
     "data": {
      "image/png": "[encoded data removed]",
      "text/plain": [
       "<Figure size 1000x600 with 1 Axes>"
      ]
     },
     "metadata": {},
     "output_type": "display_data"
    }
   ],
   "source": [
    "# Drawing plot\n",
    "plt.figure(figsize=(10, 6))\n",
    "plt.plot(x_next_30_days, marker='o', color='b', label='Predicted Next 30 Days')\n",
    "\n",
    "# Setting title\n",
    "plt.title('Predicted price for the next 30 days')\n",
    "plt.xlabel('Date')\n",
    "plt.ylabel('Predicted Value')\n",
    "plt.legend()\n",
    "\n",
    "# Show plot\n",
    "plt.show()"
   ]
  },
  {
   "cell_type": "code",
   "execution_count": 16,
   "id": "6f61b216",
   "metadata": {},
   "outputs": [],
   "source": [
    "# Convert the predict price column into a 2-dimensional array\n",
    "y_pred = y_pred.reshape(-1,1)"
   ]
  },
  {
   "cell_type": "code",
   "execution_count": 17,
   "id": "35727207",
   "metadata": {},
   "outputs": [],
   "source": [
    "# Create index for the next 30 days\n",
    "last_index =  data.index[-1]\n",
    "next_30_dates = pd.RangeIndex(start=last_index, stop=last_index+30, step=1)"
   ]
  },
  {
   "cell_type": "code",
   "execution_count": 18,
   "id": "4eb985cb",
   "metadata": {},
   "outputs": [
    {
     "name": "stdout",
     "output_type": "stream",
     "text": [
      "Testing RMSE: 211.48429231568718\n",
      "Testing MAPE: 1.951053625654266%\n",
      "Testing MAE: 75.11553285541837\n",
      "Huber loss: [44725.60589627]\n"
     ]
    }
   ],
   "source": [
    "# RMSE\n",
    "test_rmse = np.sqrt(np.mean((y_pred - y_test)**2))\n",
    "print('Testing RMSE:', test_rmse)\n",
    "# MAPE\n",
    "test_mape = mean_absolute_percentage_error(y_test,y_pred)\n",
    "print('Testing MAPE:', str(test_mape*100)+'%')\n",
    "# MAE\n",
    "test_mae = mean_absolute_error(y_test,y_pred)\n",
    "print('Testing MAE:', test_mae)\n",
    "# Huber loss\n",
    "hl= mean_squared_error(y_test, y_pred, multioutput='raw_values')\n",
    "print('Huber loss:', hl)"
   ]
  },
  {
   "cell_type": "code",
   "execution_count": 19,
   "id": "d0f6b108",
   "metadata": {},
   "outputs": [
    {
     "data": {
      "image/png": "[encoded data removed]",
      "text/plain": [
       "<Figure size 640x480 with 1 Axes>"
      ]
     },
     "metadata": {},
     "output_type": "display_data"
    }
   ],
   "source": [
    "plt.plot(y_train_index, y_train)\n",
    "plt.plot(y_test.index, y_test)\n",
    "plt.plot(y_test.index, y_pred)\n",
    "plt.plot(next_30_dates,x_next_30_days)\n",
    "plt.legend(['Train', 'Test', 'Predictions','Next30Day'])\n",
    "plt.show()"
   ]
  },
  {
   "cell_type": "code",
   "execution_count": null,
   "id": "8f9a7746",
   "metadata": {},
   "outputs": [],
   "source": []
  }
 ],
 "metadata": {
  "kernelspec": {
   "display_name": "Python 3 (ipykernel)",
   "language": "python",
   "name": "python3"
  },
  "language_info": {
   "codemirror_mode": {
    "name": "ipython",
    "version": 3
   },
   "file_extension": ".py",
   "mimetype": "text/x-python",
   "name": "python",
   "nbconvert_exporter": "python",
   "pygments_lexer": "ipython3",
   "version": "3.11.2"
  }
 },
 "nbformat": 4,
 "nbformat_minor": 5
}
