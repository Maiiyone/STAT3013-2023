{
 "cells": [
  {
   "cell_type": "markdown",
   "id": "0c2dab88",
   "metadata": {},
   "source": [
    "## Review steps"
   ]
  },
  {
   "cell_type": "markdown",
   "id": "7ad466ae",
   "metadata": {},
   "source": [
    "1. Data collection\n",
    "2. Data preprocessing\n",
    "3. train-test split\n",
    "4. Choosing ml/dl model\n",
    "5. Train model\n",
    "6. Do prediction and evaluate the model"
   ]
  },
  {
   "cell_type": "code",
   "execution_count": 1,
   "id": "1257413f",
   "metadata": {},
   "outputs": [],
   "source": [
    "import numpy as np # linear algebra import pandas\n",
    "from numpy import array\n",
    "import pandas as pd\n",
    "import math \n",
    "import seaborn as sns \n",
    "import datetime as dt \n",
    "from datetime import datetime\n",
    "sns.set_style(\"whitegrid\") \n",
    "from pandas.plotting import autocorrelation_plot \n",
    "import matplotlib.pyplot as plt\n",
    "%matplotlib inline\n",
    "plt.style.use(\"ggplot\" )\n",
    "from sklearn.metrics import mean_squared_error\n",
    "from sklearn.metrics import mean_absolute_percentage_error\n",
    "from sklearn.metrics import mean_absolute_error\n",
    "from tqdm import tqdm\n",
    "from sklearn.svm import SVR"
   ]
  },
  {
   "cell_type": "markdown",
   "id": "39d47361",
   "metadata": {},
   "source": [
    "## Loading data"
   ]
  },
  {
   "cell_type": "code",
   "execution_count": 2,
   "id": "b92395b0",
   "metadata": {},
   "outputs": [
    {
     "data": {
      "text/html": [
       "<div>\n",
       "<style scoped>\n",
       "    .dataframe tbody tr th:only-of-type {\n",
       "        vertical-align: middle;\n",
       "    }\n",
       "\n",
       "    .dataframe tbody tr th {\n",
       "        vertical-align: top;\n",
       "    }\n",
       "\n",
       "    .dataframe thead th {\n",
       "        text-align: right;\n",
       "    }\n",
       "</style>\n",
       "<table border=\"1\" class=\"dataframe\">\n",
       "  <thead>\n",
       "    <tr style=\"text-align: right;\">\n",
       "      <th></th>\n",
       "      <th>Date</th>\n",
       "      <th>Price</th>\n",
       "      <th>Open</th>\n",
       "      <th>High</th>\n",
       "      <th>Low</th>\n",
       "      <th>Volume</th>\n",
       "      <th>Change</th>\n",
       "    </tr>\n",
       "  </thead>\n",
       "  <tbody>\n",
       "    <tr>\n",
       "      <th>0</th>\n",
       "      <td>04/01/2018</td>\n",
       "      <td>4320,00</td>\n",
       "      <td>4210,00</td>\n",
       "      <td>4320,00</td>\n",
       "      <td>4205,00</td>\n",
       "      <td>1160000,0</td>\n",
       "      <td>0,03850</td>\n",
       "    </tr>\n",
       "    <tr>\n",
       "      <th>1</th>\n",
       "      <td>05/01/2018</td>\n",
       "      <td>4380,00</td>\n",
       "      <td>4340,00</td>\n",
       "      <td>4385,00</td>\n",
       "      <td>4315,00</td>\n",
       "      <td>942600,0</td>\n",
       "      <td>0,01390</td>\n",
       "    </tr>\n",
       "    <tr>\n",
       "      <th>2</th>\n",
       "      <td>09/01/2018</td>\n",
       "      <td>4465,00</td>\n",
       "      <td>4415,00</td>\n",
       "      <td>4470,00</td>\n",
       "      <td>4375,00</td>\n",
       "      <td>968700,0</td>\n",
       "      <td>0,01940</td>\n",
       "    </tr>\n",
       "    <tr>\n",
       "      <th>3</th>\n",
       "      <td>10/01/2018</td>\n",
       "      <td>4520,00</td>\n",
       "      <td>4470,00</td>\n",
       "      <td>4530,00</td>\n",
       "      <td>4465,00</td>\n",
       "      <td>764000,0</td>\n",
       "      <td>0,01230</td>\n",
       "    </tr>\n",
       "    <tr>\n",
       "      <th>4</th>\n",
       "      <td>11/01/2018</td>\n",
       "      <td>4540,00</td>\n",
       "      <td>4525,00</td>\n",
       "      <td>4545,00</td>\n",
       "      <td>4515,00</td>\n",
       "      <td>796800,0</td>\n",
       "      <td>0,00440</td>\n",
       "    </tr>\n",
       "    <tr>\n",
       "      <th>...</th>\n",
       "      <td>...</td>\n",
       "      <td>...</td>\n",
       "      <td>...</td>\n",
       "      <td>...</td>\n",
       "      <td>...</td>\n",
       "      <td>...</td>\n",
       "      <td>...</td>\n",
       "    </tr>\n",
       "    <tr>\n",
       "      <th>1447</th>\n",
       "      <td>08/12/2023</td>\n",
       "      <td>3216,00</td>\n",
       "      <td>3271,00</td>\n",
       "      <td>3271,00</td>\n",
       "      <td>3199,00</td>\n",
       "      <td>1440000,0</td>\n",
       "      <td>-0,01680</td>\n",
       "    </tr>\n",
       "    <tr>\n",
       "      <th>1448</th>\n",
       "      <td>11/12/2023</td>\n",
       "      <td>3216,00</td>\n",
       "      <td>3259,00</td>\n",
       "      <td>3269,00</td>\n",
       "      <td>3213,00</td>\n",
       "      <td>944400,0</td>\n",
       "      <td>0,00000</td>\n",
       "    </tr>\n",
       "    <tr>\n",
       "      <th>1449</th>\n",
       "      <td>12/12/2023</td>\n",
       "      <td>3176,00</td>\n",
       "      <td>3269,00</td>\n",
       "      <td>3271,00</td>\n",
       "      <td>3174,00</td>\n",
       "      <td>991400,0</td>\n",
       "      <td>-0,01240</td>\n",
       "    </tr>\n",
       "    <tr>\n",
       "      <th>1450</th>\n",
       "      <td>13/12/2023</td>\n",
       "      <td>3218,00</td>\n",
       "      <td>3190,00</td>\n",
       "      <td>3230,00</td>\n",
       "      <td>3190,00</td>\n",
       "      <td>1040000,0</td>\n",
       "      <td>0,01320</td>\n",
       "    </tr>\n",
       "    <tr>\n",
       "      <th>1451</th>\n",
       "      <td>14/12/2023</td>\n",
       "      <td>3142,00</td>\n",
       "      <td>3205,00</td>\n",
       "      <td>3205,00</td>\n",
       "      <td>3133,00</td>\n",
       "      <td>1110000,0</td>\n",
       "      <td>-0,02360</td>\n",
       "    </tr>\n",
       "  </tbody>\n",
       "</table>\n",
       "<p>1452 rows × 7 columns</p>\n",
       "</div>"
      ],
      "text/plain": [
       "            Date    Price     Open     High      Low     Volume    Change\n",
       "0     04/01/2018  4320,00  4210,00  4320,00  4205,00  1160000,0   0,03850\n",
       "1     05/01/2018  4380,00  4340,00  4385,00  4315,00   942600,0   0,01390\n",
       "2     09/01/2018  4465,00  4415,00  4470,00  4375,00   968700,0   0,01940\n",
       "3     10/01/2018  4520,00  4470,00  4530,00  4465,00   764000,0   0,01230\n",
       "4     11/01/2018  4540,00  4525,00  4545,00  4515,00   796800,0   0,00440\n",
       "...          ...      ...      ...      ...      ...        ...       ...\n",
       "1447  08/12/2023  3216,00  3271,00  3271,00  3199,00  1440000,0  -0,01680\n",
       "1448  11/12/2023  3216,00  3259,00  3269,00  3213,00   944400,0   0,00000\n",
       "1449  12/12/2023  3176,00  3269,00  3271,00  3174,00   991400,0  -0,01240\n",
       "1450  13/12/2023  3218,00  3190,00  3230,00  3190,00  1040000,0   0,01320\n",
       "1451  14/12/2023  3142,00  3205,00  3205,00  3133,00  1110000,0  -0,02360\n",
       "\n",
       "[1452 rows x 7 columns]"
      ]
     },
     "execution_count": 2,
     "metadata": {},
     "output_type": "execute_result"
    }
   ],
   "source": [
    "data= pd.read_csv(\"Yamaha.csv\",delimiter=\";\")\n",
    "data"
   ]
  },
  {
   "cell_type": "markdown",
   "id": "79f8654f",
   "metadata": {},
   "source": [
    "## Data Exploration"
   ]
  },
  {
   "cell_type": "code",
   "execution_count": 3,
   "id": "b39bad11",
   "metadata": {},
   "outputs": [
    {
     "name": "stdout",
     "output_type": "stream",
     "text": [
      "<class 'pandas.core.frame.DataFrame'>\n",
      "RangeIndex: 1452 entries, 0 to 1451\n",
      "Data columns (total 7 columns):\n",
      " #   Column  Non-Null Count  Dtype \n",
      "---  ------  --------------  ----- \n",
      " 0   Date    1452 non-null   object\n",
      " 1   Price   1452 non-null   object\n",
      " 2   Open    1452 non-null   object\n",
      " 3   High    1452 non-null   object\n",
      " 4   Low     1452 non-null   object\n",
      " 5   Volume  1452 non-null   object\n",
      " 6   Change  1452 non-null   object\n",
      "dtypes: object(7)\n",
      "memory usage: 79.5+ KB\n"
     ]
    }
   ],
   "source": [
    "# Check the data type of each value column\n",
    "data.info()"
   ]
  },
  {
   "cell_type": "code",
   "execution_count": 4,
   "id": "f8b9c1e2",
   "metadata": {},
   "outputs": [
    {
     "data": {
      "text/plain": [
       "0      2018-01-04\n",
       "1      2018-01-05\n",
       "2      2018-01-09\n",
       "3      2018-01-10\n",
       "4      2018-01-11\n",
       "          ...    \n",
       "1447   2023-12-08\n",
       "1448   2023-12-11\n",
       "1449   2023-12-12\n",
       "1450   2023-12-13\n",
       "1451   2023-12-14\n",
       "Name: Date, Length: 1452, dtype: datetime64[ns]"
      ]
     },
     "execution_count": 4,
     "metadata": {},
     "output_type": "execute_result"
    }
   ],
   "source": [
    "# Reformat the date data type\n",
    "data['Date'] = pd.to_datetime(data['Date'], format='%d/%m/%Y')  # Ví dụ cho định dạng dd/mm/yyyy\n",
    "data['Date']"
   ]
  },
  {
   "cell_type": "code",
   "execution_count": 5,
   "id": "f075de4b",
   "metadata": {},
   "outputs": [
    {
     "name": "stdout",
     "output_type": "stream",
     "text": [
      "<class 'pandas.core.frame.DataFrame'>\n",
      "RangeIndex: 1452 entries, 0 to 1451\n",
      "Data columns (total 7 columns):\n",
      " #   Column  Non-Null Count  Dtype         \n",
      "---  ------  --------------  -----         \n",
      " 0   Date    1452 non-null   datetime64[ns]\n",
      " 1   Price   1452 non-null   float64       \n",
      " 2   Open    1452 non-null   float64       \n",
      " 3   High    1452 non-null   float64       \n",
      " 4   Low     1452 non-null   float64       \n",
      " 5   Volume  1452 non-null   float64       \n",
      " 6   Change  1452 non-null   float64       \n",
      "dtypes: datetime64[ns](1), float64(6)\n",
      "memory usage: 79.5 KB\n"
     ]
    }
   ],
   "source": [
    "# Clean data and cast data for calculation\n",
    "data['Price'] = data['Price'].str.replace(',', '.').astype(float)\n",
    "data['Open'] = data['Open'].str.replace(',', '.').astype(float)\n",
    "data['High'] = data['High'].str.replace(',', '.').astype(float)\n",
    "data['Low'] = data['Low'].str.replace(',', '.').astype(float)\n",
    "data['Volume'] = data['Volume'].str.replace(',', '.').astype(float)\n",
    "data['Change'] = data['Change'].str.replace(',', '.').astype(float)\n",
    "data.info()"
   ]
  },
  {
   "cell_type": "code",
   "execution_count": 6,
   "id": "0b9eea0a",
   "metadata": {},
   "outputs": [
    {
     "data": {
      "text/html": [
       "<div>\n",
       "<style scoped>\n",
       "    .dataframe tbody tr th:only-of-type {\n",
       "        vertical-align: middle;\n",
       "    }\n",
       "\n",
       "    .dataframe tbody tr th {\n",
       "        vertical-align: top;\n",
       "    }\n",
       "\n",
       "    .dataframe thead th {\n",
       "        text-align: right;\n",
       "    }\n",
       "</style>\n",
       "<table border=\"1\" class=\"dataframe\">\n",
       "  <thead>\n",
       "    <tr style=\"text-align: right;\">\n",
       "      <th></th>\n",
       "      <th>Date</th>\n",
       "      <th>Price</th>\n",
       "      <th>Open</th>\n",
       "      <th>High</th>\n",
       "      <th>Low</th>\n",
       "      <th>Volume</th>\n",
       "      <th>Change</th>\n",
       "    </tr>\n",
       "  </thead>\n",
       "  <tbody>\n",
       "    <tr>\n",
       "      <th>count</th>\n",
       "      <td>1452</td>\n",
       "      <td>1452.000000</td>\n",
       "      <td>1452.000000</td>\n",
       "      <td>1452.000000</td>\n",
       "      <td>1452.000000</td>\n",
       "      <td>1.452000e+03</td>\n",
       "      <td>1452.000000</td>\n",
       "    </tr>\n",
       "    <tr>\n",
       "      <th>mean</th>\n",
       "      <td>2020-12-26 16:00:59.504132352</td>\n",
       "      <td>5342.451102</td>\n",
       "      <td>5344.658402</td>\n",
       "      <td>5400.580579</td>\n",
       "      <td>5283.276171</td>\n",
       "      <td>6.088632e+05</td>\n",
       "      <td>0.000012</td>\n",
       "    </tr>\n",
       "    <tr>\n",
       "      <th>min</th>\n",
       "      <td>2018-01-04 00:00:00</td>\n",
       "      <td>3142.000000</td>\n",
       "      <td>3190.000000</td>\n",
       "      <td>3205.000000</td>\n",
       "      <td>3133.000000</td>\n",
       "      <td>1.144000e+05</td>\n",
       "      <td>-0.145700</td>\n",
       "    </tr>\n",
       "    <tr>\n",
       "      <th>25%</th>\n",
       "      <td>2019-07-01 18:00:00</td>\n",
       "      <td>4938.750000</td>\n",
       "      <td>4940.000000</td>\n",
       "      <td>4990.000000</td>\n",
       "      <td>4890.000000</td>\n",
       "      <td>4.071750e+05</td>\n",
       "      <td>-0.011325</td>\n",
       "    </tr>\n",
       "    <tr>\n",
       "      <th>50%</th>\n",
       "      <td>2020-12-28 12:00:00</td>\n",
       "      <td>5315.000000</td>\n",
       "      <td>5320.000000</td>\n",
       "      <td>5370.000000</td>\n",
       "      <td>5260.000000</td>\n",
       "      <td>5.324000e+05</td>\n",
       "      <td>0.000000</td>\n",
       "    </tr>\n",
       "    <tr>\n",
       "      <th>75%</th>\n",
       "      <td>2022-06-24 18:00:00</td>\n",
       "      <td>5770.000000</td>\n",
       "      <td>5790.000000</td>\n",
       "      <td>5840.000000</td>\n",
       "      <td>5720.000000</td>\n",
       "      <td>7.116750e+05</td>\n",
       "      <td>0.010700</td>\n",
       "    </tr>\n",
       "    <tr>\n",
       "      <th>max</th>\n",
       "      <td>2023-12-14 00:00:00</td>\n",
       "      <td>7440.000000</td>\n",
       "      <td>7450.000000</td>\n",
       "      <td>7490.000000</td>\n",
       "      <td>7360.000000</td>\n",
       "      <td>3.140000e+06</td>\n",
       "      <td>0.126700</td>\n",
       "    </tr>\n",
       "    <tr>\n",
       "      <th>std</th>\n",
       "      <td>NaN</td>\n",
       "      <td>695.721143</td>\n",
       "      <td>694.041663</td>\n",
       "      <td>698.877570</td>\n",
       "      <td>688.962765</td>\n",
       "      <td>3.185040e+05</td>\n",
       "      <td>0.020299</td>\n",
       "    </tr>\n",
       "  </tbody>\n",
       "</table>\n",
       "</div>"
      ],
      "text/plain": [
       "                                Date        Price         Open         High  \\\n",
       "count                           1452  1452.000000  1452.000000  1452.000000   \n",
       "mean   2020-12-26 16:00:59.504132352  5342.451102  5344.658402  5400.580579   \n",
       "min              2018-01-04 00:00:00  3142.000000  3190.000000  3205.000000   \n",
       "25%              2019-07-01 18:00:00  4938.750000  4940.000000  4990.000000   \n",
       "50%              2020-12-28 12:00:00  5315.000000  5320.000000  5370.000000   \n",
       "75%              2022-06-24 18:00:00  5770.000000  5790.000000  5840.000000   \n",
       "max              2023-12-14 00:00:00  7440.000000  7450.000000  7490.000000   \n",
       "std                              NaN   695.721143   694.041663   698.877570   \n",
       "\n",
       "               Low        Volume       Change  \n",
       "count  1452.000000  1.452000e+03  1452.000000  \n",
       "mean   5283.276171  6.088632e+05     0.000012  \n",
       "min    3133.000000  1.144000e+05    -0.145700  \n",
       "25%    4890.000000  4.071750e+05    -0.011325  \n",
       "50%    5260.000000  5.324000e+05     0.000000  \n",
       "75%    5720.000000  7.116750e+05     0.010700  \n",
       "max    7360.000000  3.140000e+06     0.126700  \n",
       "std     688.962765  3.185040e+05     0.020299  "
      ]
     },
     "execution_count": 6,
     "metadata": {},
     "output_type": "execute_result"
    }
   ],
   "source": [
    "# Gets descriptive statistical information about a DataFrame or a Series\n",
    "data.describe()"
   ]
  },
  {
   "cell_type": "markdown",
   "id": "2ab6ee45",
   "metadata": {},
   "source": [
    "## Data Visualization"
   ]
  },
  {
   "cell_type": "code",
   "execution_count": 7,
   "id": "e2596555",
   "metadata": {},
   "outputs": [],
   "source": [
    "# Reshape turns df into a NumPy array of size (-1, 1)\n",
    "df=data['Price'].values\n",
    "df = df.reshape(-1, 1)"
   ]
  },
  {
   "cell_type": "code",
   "execution_count": 8,
   "id": "d7cb69c3",
   "metadata": {},
   "outputs": [
    {
     "data": {
      "text/plain": [
       "array([[0.27408097],\n",
       "       [0.28804095],\n",
       "       [0.30781759],\n",
       "       ...,\n",
       "       [0.00791066],\n",
       "       [0.01768264],\n",
       "       [0.        ]])"
      ]
     },
     "execution_count": 8,
     "metadata": {},
     "output_type": "execute_result"
    }
   ],
   "source": [
    "from sklearn.preprocessing import MinMaxScaler\n",
    "scaler = MinMaxScaler() # Perform data normalization according to the min-max scaling method\n",
    "price_scaled=scaler.fit_transform(df) # Fit và transform the data\n",
    "price_scaled"
   ]
  },
  {
   "cell_type": "code",
   "execution_count": 9,
   "id": "7dc411d8",
   "metadata": {},
   "outputs": [
    {
     "data": {
      "image/png": "[encoded data removed]",
      "text/plain": [
       "<Figure size 640x480 with 1 Axes>"
      ]
     },
     "metadata": {},
     "output_type": "display_data"
    }
   ],
   "source": [
    "# Create plot\n",
    "plt.figure(figure=(10,6))\n",
    "plt.plot(data['Date'],data['Price'].values, label=\"Price\", color=\"IndianRed\")\n",
    "\n",
    "# Adding title\n",
    "plt.title(\"Plot of price due to date\")\n",
    "\n",
    "# Adding label\n",
    "plt.xlabel(\"Date\")\n",
    "plt.ylabel(\"Price\")\n",
    "\n",
    "# Show the plot\n",
    "plt.legend()\n",
    "plt.show()"
   ]
  },
  {
   "cell_type": "markdown",
   "id": "8916df77",
   "metadata": {},
   "source": [
    "## Data Preprocessing"
   ]
  },
  {
   "cell_type": "markdown",
   "id": "7c98f8f8",
   "metadata": {},
   "source": [
    "### Split data into training and testing set"
   ]
  },
  {
   "cell_type": "markdown",
   "id": "eca2bed0",
   "metadata": {},
   "source": [
    "### Training - testing 6:4"
   ]
  },
  {
   "cell_type": "code",
   "execution_count": 10,
   "id": "3863b16b",
   "metadata": {},
   "outputs": [],
   "source": [
    "# Split train test validation in ratio 6:4\n",
    "# Split the data into training, testing\n",
    "train_size = int(0.6 * len(data))\n",
    "test_size = int(0.4 * len(data))\n",
    "\n",
    "X2D = data[['High']] # Independent variable in 2-dimensional array\n",
    "Y2D = data[['Price']] # Dependent variable in 2-dimensional array"
   ]
  },
  {
   "cell_type": "code",
   "execution_count": 11,
   "id": "049fd128",
   "metadata": {},
   "outputs": [
    {
     "name": "stdout",
     "output_type": "stream",
     "text": [
      "Best parameters: {'C': 1000, 'epsilon': 10, 'gamma': 'scale'}\n",
      "Best score: 16623.859454163023\n"
     ]
    }
   ],
   "source": [
    "from sklearn.svm import SVR\n",
    "from sklearn.model_selection import GridSearchCV\n",
    "from sklearn.model_selection import cross_val_score\n",
    "\n",
    "y_train = Y2D[:train_size]\n",
    "x_train = X2D[:train_size]\n",
    "y_test = Y2D[train_size:]\n",
    "x_test = X2D[train_size:]\n",
    "y_train_index = y_train.index # Get the index before converting it to a 2-dimensional array (serves plot)\n",
    "y_train = Y2D[:train_size].values.ravel()\n",
    "\n",
    "# Create SVR model with RBF kernel\n",
    "model = SVR(kernel='rbf')\n",
    "param_grid = {\n",
    "    'C': [0.1, 1, 10, 100, 1000],             \n",
    "    'gamma': ['scale', 'auto', 0.001, 0.01, 0.1, 1],  \n",
    "    'epsilon': [0.001, 0.01, 0.1, 1, 10]     \n",
    "}\n",
    "\n",
    "# Create a GridSearchCV object\n",
    "grid_search = GridSearchCV(model, param_grid, cv=5, scoring='neg_mean_squared_error', n_jobs=-1)\n",
    "\n",
    "# Train the model using grid search\n",
    "svr_rbf = grid_search.fit(x_train,y_train)\n",
    "\n",
    "print(\"Best parameters:\", grid_search.best_params_)\n",
    "print(\"Best score:\", -grid_search.best_score_)"
   ]
  },
  {
   "cell_type": "code",
   "execution_count": 12,
   "id": "f24eadad",
   "metadata": {},
   "outputs": [
    {
     "data": {
      "text/plain": [
       "array([6160.00061723, 6338.41159134, 6306.25876291, 6380.94180537,\n",
       "       6401.83388674, 6412.13593283, 6401.83388674, 6231.9228475 ,\n",
       "       6263.56288004, 6120.18219623, 6042.74533121, 5957.13831672,\n",
       "       6090.85623481, 6401.83388674, 6391.43071709, 6380.94180537,\n",
       "       6306.25876291, 6432.37189695, 6461.54748515, 6573.01515731,\n",
       "       6491.28650928, 6480.19104608, 5985.38098355, 5888.06645159,\n",
       "       6161.27468147, 6199.16080217, 5849.99075597, 5946.18607086,\n",
       "       5776.06539558, 5705.88838922, 5579.59235238, 5511.42170134,\n",
       "       5794.22942842, 5849.99075597, 5689.02296409, 5776.06539558,\n",
       "       5723.03633231, 5907.32389889, 5926.70346061, 6199.16080217,\n",
       "       6289.74464208, 6537.80887237, 6480.19104608, 6585.47512982,\n",
       "       6529.72891791, 6356.41853529, 6372.09624059, 6306.96426147,\n",
       "       6161.27468147, 5888.06645159, 5868.94950868, 5794.22942842,\n",
       "       5758.13664582, 5868.94950868, 6103.27313379, 6083.72198066,\n",
       "       5776.06539558, 5849.99075597, 5907.32389889, 5946.18607086,\n",
       "       5579.59235238, 5624.56923995, 6579.36294101, 6582.04467681,\n",
       "       6528.87241021, 6521.51778967, 6359.76480111, 6452.00321231,\n",
       "       6505.8000957 , 6505.8000957 , 6497.47674293, 6422.32081967,\n",
       "       6327.69953236, 6452.00321231, 6422.32081967, 6452.00321231,\n",
       "       6349.10390056, 6231.9228475 , 6130.05477658, 6052.30884201,\n",
       "       5909.29851455, 5889.99924078, 5928.49573635, 5899.66252327,\n",
       "       6004.66134745, 6052.30884201, 5995.16236084, 5860.83264478,\n",
       "       5880.30723   , 5831.38501203, 5761.5998184 , 5851.04855944,\n",
       "       5761.5998184 , 5680.42682785, 5741.41886908, 5731.29551274,\n",
       "       5741.41886908, 5721.1527005 , 5649.77823006, 5781.68185016,\n",
       "       5761.5998184 , 5660.00016679, 5741.41886908, 5751.52089592,\n",
       "       5761.5998184 , 5629.32735567, 5537.53894267, 5598.6624883 ,\n",
       "       5517.26380582, 5347.48571807, 5347.48571807, 5357.35969641,\n",
       "       5219.65333294, 5209.82808742, 5219.65333294, 5150.80085013,\n",
       "       5131.08784533, 5131.08784533, 5101.48048292, 5071.83211877,\n",
       "       5170.49388681, 5200.00004375, 5249.11889795, 5288.41216   ,\n",
       "       5347.48571807, 5337.62150938, 5568.05323241, 5721.1527005 ,\n",
       "       5690.62737268, 5537.53894267, 5537.53894267, 5557.86958241,\n",
       "       5527.39400633, 5456.82138551, 5426.82544261, 5367.24439825,\n",
       "       5377.14074048, 5317.91845455, 5327.76608853, 5396.9717754 ,\n",
       "       5278.58558374, 5268.76180176, 5258.93987419, 5101.48048292,\n",
       "       5052.04890873, 5012.462063  , 5061.94192996, 4982.77921964,\n",
       "       4982.77921964, 4913.70323054, 4948.19501242, 5150.80085013,\n",
       "       5140.94689748, 5347.48571807, 5406.90803697, 5406.90803697,\n",
       "       5446.80624182, 5426.82544261, 5406.90803697, 5456.82138551,\n",
       "       5377.14074048, 5317.91845455, 5317.91845455, 5357.35969641,\n",
       "       5298.24250014, 5209.82808742, 5288.41216   , 5258.93987419,\n",
       "       5200.00004375, 5131.08784533, 5170.49388681, 5111.35451526,\n",
       "       5022.35947231, 5022.35947231, 5091.60184085, 5298.24250014,\n",
       "       5229.47640999, 5052.04890873, 5091.60184085, 4972.89127577,\n",
       "       4972.89127577, 5032.25695208, 5111.35451526, 4963.00819534,\n",
       "       4982.77921964, 4972.89127577, 5061.94192996, 5190.16864148,\n",
       "       5200.00004375, 5229.47640999, 5239.2980133 , 5131.08784533,\n",
       "       5219.65333294, 5239.2980133 , 5190.16864148, 5170.49388681,\n",
       "       5229.47640999, 5278.58558374, 5377.14074048, 5377.14074048,\n",
       "       5357.35969641, 5278.58558374, 5426.82544261, 5456.82138551,\n",
       "       5486.96785755, 5608.88013464, 5851.04855944, 5741.41886908,\n",
       "       5537.53894267, 5327.76608853, 5347.48571807, 5416.85905936,\n",
       "       5268.76180176, 5239.2980133 , 5308.07759613, 5278.58558374,\n",
       "       5258.93987419, 5377.14074048, 5486.96785755, 5537.53894267,\n",
       "       5690.62737268, 5700.81658976, 5649.77823006, 5629.32735567,\n",
       "       5680.42682785, 5568.05323241, 5649.77823006, 5690.62737268,\n",
       "       5721.1527005 , 5557.86958241, 5456.82138551, 5486.96785755,\n",
       "       5436.80769827, 5436.80769827, 5629.32735567, 5700.81658976,\n",
       "       5781.68185016, 5731.29551274, 5660.00016679, 5588.4510903 ,\n",
       "       5578.24751691, 5660.00016679, 5649.77823006, 5557.86958241,\n",
       "       5588.4510903 , 5537.53894267, 5517.26380582, 5456.82138551,\n",
       "       5476.90216728, 5497.05024247, 5680.42682785, 5700.81658976,\n",
       "       5761.5998184 , 5791.68206112, 5700.81658976, 5721.1527005 ,\n",
       "       5629.32735567, 5588.4510903 , 5497.05024247, 5527.39400633,\n",
       "       5629.32735567, 5426.82544261, 5377.14074048, 5416.85905936,\n",
       "       5317.91845455, 5327.76608853, 5308.07759613, 5298.24250014,\n",
       "       5180.33339301, 5317.91845455, 5396.9717754 , 5396.9717754 ,\n",
       "       5396.9717754 , 5229.47640999, 5229.47640999, 5121.22369089,\n",
       "       5160.64978992, 5091.60184085, 5042.15368403, 4879.34994712,\n",
       "       4830.59732727, 4845.1779464 , 5170.49388681, 5170.49388681,\n",
       "       5258.93987419, 5347.48571807, 5347.48571807, 5396.9717754 ,\n",
       "       5357.35969641, 5249.11889795, 5160.64978992, 5160.64978992,\n",
       "       5357.35969641, 5298.24250014, 5578.24751691, 5629.32735567,\n",
       "       5557.86958241, 5517.26380582, 5537.53894267, 5527.39400633,\n",
       "       5619.10234894, 5608.88013464, 5547.69778827, 5608.88013464,\n",
       "       5619.10234894, 5608.88013464, 5466.85333178, 5396.9717754 ,\n",
       "       5456.82138551, 5387.04959412, 5268.76180176, 5456.82138551,\n",
       "       5436.80769827, 5396.9717754 , 5377.14074048, 5347.48571807,\n",
       "       5347.48571807, 5298.24250014, 5317.91845455, 5347.48571807,\n",
       "       5367.24439825, 5308.07759613, 5387.04959412, 5387.04959412,\n",
       "       5517.26380582, 5396.9717754 , 5337.62150938, 5426.82544261,\n",
       "       5387.04959412, 5367.24439825, 5426.82544261, 5476.90216728,\n",
       "       5517.26380582, 5466.85333178, 5426.82544261, 5317.91845455,\n",
       "       5209.82808742, 5170.49388681, 4972.89127577, 4963.00819534,\n",
       "       4874.45621281, 4889.14843604, 4884.24739428, 4869.56630631,\n",
       "       4884.24739428, 4903.87190303, 4811.22203922, 4791.92476854,\n",
       "       4758.345733  , 4787.11287205, 4801.56350452, 4854.92064758,\n",
       "       4816.05865342, 4672.97794691, 4710.77318174, 4825.74635279,\n",
       "       4777.5040401 , 4753.56830495, 4801.56350452, 4938.32875485,\n",
       "       4963.00819534, 4963.00819534, 5022.35947231, 5012.462063  ,\n",
       "       5032.25695208, 5012.462063  , 4992.67099384, 5012.462063  ,\n",
       "       5170.49388681, 5081.71891708, 5022.35947231, 5002.56559646,\n",
       "       5032.25695208, 4972.89127577, 4982.77921964, 4953.13103605,\n",
       "       4982.77921964, 4938.32875485, 4923.54588421, 5091.60184085,\n",
       "       5052.04890873, 5111.35451526, 5091.60184085, 5131.08784533,\n",
       "       5091.60184085, 5101.48048292, 5219.65333294, 5268.76180176,\n",
       "       5249.11889795, 5190.16864148, 5229.47640999, 5140.94689748,\n",
       "       5071.83211877, 4918.62320813, 4894.05295115, 4806.39031058,\n",
       "       4884.24739428, 4903.87190303, 4928.47112429, 4928.47112429,\n",
       "       4918.62320813, 4933.39879312, 4933.39879312, 5012.462063  ,\n",
       "       5032.25695208, 5091.60184085, 5091.60184085, 5170.49388681,\n",
       "       5121.22369089, 5022.35947231, 5012.462063  , 5081.71891708,\n",
       "       5160.64978992, 5180.33339301, 5200.00004375, 5239.2980133 ,\n",
       "       5249.11889795, 5288.41216   , 5258.93987419, 5200.00004375,\n",
       "       5209.82808742, 5239.2980133 , 5249.11889795, 5160.64978992,\n",
       "       5180.33339301, 5288.41216   , 5347.48571807, 5367.24439825,\n",
       "       5347.48571807, 5357.35969641, 5327.76608853, 5377.14074048,\n",
       "       5347.48571807, 5337.62150938, 5486.96785755, 5456.82138551,\n",
       "       5486.96785755, 5547.69778827, 5629.32735567, 5700.81658976,\n",
       "       5598.6624883 , 5568.05323241, 5557.86958241, 5670.21705932,\n",
       "       5629.32735567, 5507.1490325 , 5486.96785755, 5507.1490325 ,\n",
       "       5648.75583807, 5718.10635332, 5788.68497743, 5630.34993897,\n",
       "       5573.14912659, 5587.43035579, 5644.66601096, 5798.66509729,\n",
       "       5827.43703531, 5769.64520238, 5740.40746307, 5672.25964994,\n",
       "       5634.44032779, 5683.48805558, 5691.64683881, 5488.98300634,\n",
       "       5421.84029674, 5490.99882144, 5532.46468102, 5459.82919889,\n",
       "       5545.6649506 , 5557.86958241, 5466.85333178, 5399.951143  ,\n",
       "       5294.30984934, 5246.17266082, 5274.65578901, 5228.49418056,\n",
       "       5227.51193561, 5297.25926862, 5268.76180176, 5316.93408054,\n",
       "       5327.76608853, 5249.11889795, 5311.02920256, 5312.01319133,\n",
       "       5297.25926862, 5457.82382166, 5433.81132831, 5507.1490325 ,\n",
       "       5507.1490325 , 5475.89652373, 4878.3708995 , 4621.14862062,\n",
       "       4645.65203297, 4622.09183453, 4590.89640731, 4612.65508629,\n",
       "       4679.58029456, 4585.20332214, 4510.03086788, 4444.58036296,\n",
       "       4446.64762484, 4463.05212875, 4491.23646697, 4522.75804571,\n",
       "       4487.24761733, 4450.77077812, 4513.95763345, 4533.45323061,\n",
       "       4511.99547916, 4491.23646697, 4496.20625745, 4509.04762773,\n",
       "       4529.5714339 , 4528.5996959 , 4501.15858395, 4383.90779347,\n",
       "       4272.79482751, 4276.44814257, 4276.44814257, 4305.25462595,\n",
       "       4334.4595271 , 4290.94521432, 4248.1483766 , 4160.94737365,\n",
       "       4141.14117189, 4082.38259981, 4067.62866987, 3987.96129332,\n",
       "       3951.99019948, 4015.57119063, 4119.86097976, 3938.210257  ,\n",
       "       3964.70279826, 3982.7556063 , 4007.64018328, 4030.18080188,\n",
       "       4038.18043838, 4083.72379184, 4039.51544899, 3955.78648949,\n",
       "       3954.51933716, 3943.19472218, 3869.16014488, 3832.42447165,\n",
       "       3794.92967911, 3788.41789266, 3849.16607232, 3807.5163421 ,\n",
       "       3844.12407087, 3807.5163421 , 3871.33747249, 3985.35601393,\n",
       "       3750.23480324, 3747.75462277, 3768.91749928, 3839.22176595,\n",
       "       3818.97656576, 3864.30224103, 3843.7837381 , 4043.07545847,\n",
       "       4003.75793494, 4021.39098264, 4156.58645359, 4039.42327113,\n",
       "       4005.50257523, 3865.56518781, 3853.21373114, 3894.86800016,\n",
       "       3968.13579908, 4026.75987097, 4055.97315067, 4097.58981558,\n",
       "       4231.95679559, 4279.72048846, 4269.29882342, 4325.71653616,\n",
       "       4521.69078839, 4525.68793207, 4521.69078839, 4601.90038567,\n",
       "       4648.75397617])"
      ]
     },
     "execution_count": 12,
     "metadata": {},
     "output_type": "execute_result"
    }
   ],
   "source": [
    "y_pred = svr_rbf.predict(x_test)\n",
    "y_pred"
   ]
  },
  {
   "cell_type": "code",
   "execution_count": 13,
   "id": "afe0c03b",
   "metadata": {},
   "outputs": [
    {
     "data": {
      "text/plain": [
       "array([[3142.]])"
      ]
     },
     "execution_count": 13,
     "metadata": {},
     "output_type": "execute_result"
    }
   ],
   "source": [
    "last_row = data.tail(1)\n",
    "last_data = last_row['Price'].values.reshape(-1,1)\n",
    "last_data"
   ]
  },
  {
   "cell_type": "code",
   "execution_count": 14,
   "id": "e891cda8",
   "metadata": {},
   "outputs": [
    {
     "name": "stderr",
     "output_type": "stream",
     "text": [
      "/Library/Frameworks/Python.framework/Versions/3.11/lib/python3.11/site-packages/sklearn/base.py:465: UserWarning: X does not have valid feature names, but SVR was fitted with feature names\n",
      "  warnings.warn(\n",
      "/Library/Frameworks/Python.framework/Versions/3.11/lib/python3.11/site-packages/sklearn/base.py:465: UserWarning: X does not have valid feature names, but SVR was fitted with feature names\n",
      "  warnings.warn(\n",
      "/Library/Frameworks/Python.framework/Versions/3.11/lib/python3.11/site-packages/sklearn/base.py:465: UserWarning: X does not have valid feature names, but SVR was fitted with feature names\n",
      "  warnings.warn(\n",
      "/Library/Frameworks/Python.framework/Versions/3.11/lib/python3.11/site-packages/sklearn/base.py:465: UserWarning: X does not have valid feature names, but SVR was fitted with feature names\n",
      "  warnings.warn(\n",
      "/Library/Frameworks/Python.framework/Versions/3.11/lib/python3.11/site-packages/sklearn/base.py:465: UserWarning: X does not have valid feature names, but SVR was fitted with feature names\n",
      "  warnings.warn(\n",
      "/Library/Frameworks/Python.framework/Versions/3.11/lib/python3.11/site-packages/sklearn/base.py:465: UserWarning: X does not have valid feature names, but SVR was fitted with feature names\n",
      "  warnings.warn(\n",
      "/Library/Frameworks/Python.framework/Versions/3.11/lib/python3.11/site-packages/sklearn/base.py:465: UserWarning: X does not have valid feature names, but SVR was fitted with feature names\n",
      "  warnings.warn(\n",
      "/Library/Frameworks/Python.framework/Versions/3.11/lib/python3.11/site-packages/sklearn/base.py:465: UserWarning: X does not have valid feature names, but SVR was fitted with feature names\n",
      "  warnings.warn(\n",
      "/Library/Frameworks/Python.framework/Versions/3.11/lib/python3.11/site-packages/sklearn/base.py:465: UserWarning: X does not have valid feature names, but SVR was fitted with feature names\n",
      "  warnings.warn(\n",
      "/Library/Frameworks/Python.framework/Versions/3.11/lib/python3.11/site-packages/sklearn/base.py:465: UserWarning: X does not have valid feature names, but SVR was fitted with feature names\n",
      "  warnings.warn(\n",
      "/Library/Frameworks/Python.framework/Versions/3.11/lib/python3.11/site-packages/sklearn/base.py:465: UserWarning: X does not have valid feature names, but SVR was fitted with feature names\n",
      "  warnings.warn(\n",
      "/Library/Frameworks/Python.framework/Versions/3.11/lib/python3.11/site-packages/sklearn/base.py:465: UserWarning: X does not have valid feature names, but SVR was fitted with feature names\n",
      "  warnings.warn(\n",
      "/Library/Frameworks/Python.framework/Versions/3.11/lib/python3.11/site-packages/sklearn/base.py:465: UserWarning: X does not have valid feature names, but SVR was fitted with feature names\n",
      "  warnings.warn(\n",
      "/Library/Frameworks/Python.framework/Versions/3.11/lib/python3.11/site-packages/sklearn/base.py:465: UserWarning: X does not have valid feature names, but SVR was fitted with feature names\n",
      "  warnings.warn(\n",
      "/Library/Frameworks/Python.framework/Versions/3.11/lib/python3.11/site-packages/sklearn/base.py:465: UserWarning: X does not have valid feature names, but SVR was fitted with feature names\n",
      "  warnings.warn(\n",
      "/Library/Frameworks/Python.framework/Versions/3.11/lib/python3.11/site-packages/sklearn/base.py:465: UserWarning: X does not have valid feature names, but SVR was fitted with feature names\n",
      "  warnings.warn(\n",
      "/Library/Frameworks/Python.framework/Versions/3.11/lib/python3.11/site-packages/sklearn/base.py:465: UserWarning: X does not have valid feature names, but SVR was fitted with feature names\n",
      "  warnings.warn(\n",
      "/Library/Frameworks/Python.framework/Versions/3.11/lib/python3.11/site-packages/sklearn/base.py:465: UserWarning: X does not have valid feature names, but SVR was fitted with feature names\n",
      "  warnings.warn(\n",
      "/Library/Frameworks/Python.framework/Versions/3.11/lib/python3.11/site-packages/sklearn/base.py:465: UserWarning: X does not have valid feature names, but SVR was fitted with feature names\n",
      "  warnings.warn(\n",
      "/Library/Frameworks/Python.framework/Versions/3.11/lib/python3.11/site-packages/sklearn/base.py:465: UserWarning: X does not have valid feature names, but SVR was fitted with feature names\n",
      "  warnings.warn(\n",
      "/Library/Frameworks/Python.framework/Versions/3.11/lib/python3.11/site-packages/sklearn/base.py:465: UserWarning: X does not have valid feature names, but SVR was fitted with feature names\n",
      "  warnings.warn(\n",
      "/Library/Frameworks/Python.framework/Versions/3.11/lib/python3.11/site-packages/sklearn/base.py:465: UserWarning: X does not have valid feature names, but SVR was fitted with feature names\n",
      "  warnings.warn(\n",
      "/Library/Frameworks/Python.framework/Versions/3.11/lib/python3.11/site-packages/sklearn/base.py:465: UserWarning: X does not have valid feature names, but SVR was fitted with feature names\n",
      "  warnings.warn(\n",
      "/Library/Frameworks/Python.framework/Versions/3.11/lib/python3.11/site-packages/sklearn/base.py:465: UserWarning: X does not have valid feature names, but SVR was fitted with feature names\n",
      "  warnings.warn(\n",
      "/Library/Frameworks/Python.framework/Versions/3.11/lib/python3.11/site-packages/sklearn/base.py:465: UserWarning: X does not have valid feature names, but SVR was fitted with feature names\n",
      "  warnings.warn(\n",
      "/Library/Frameworks/Python.framework/Versions/3.11/lib/python3.11/site-packages/sklearn/base.py:465: UserWarning: X does not have valid feature names, but SVR was fitted with feature names\n",
      "  warnings.warn(\n",
      "/Library/Frameworks/Python.framework/Versions/3.11/lib/python3.11/site-packages/sklearn/base.py:465: UserWarning: X does not have valid feature names, but SVR was fitted with feature names\n",
      "  warnings.warn(\n",
      "/Library/Frameworks/Python.framework/Versions/3.11/lib/python3.11/site-packages/sklearn/base.py:465: UserWarning: X does not have valid feature names, but SVR was fitted with feature names\n",
      "  warnings.warn(\n",
      "/Library/Frameworks/Python.framework/Versions/3.11/lib/python3.11/site-packages/sklearn/base.py:465: UserWarning: X does not have valid feature names, but SVR was fitted with feature names\n",
      "  warnings.warn(\n",
      "/Library/Frameworks/Python.framework/Versions/3.11/lib/python3.11/site-packages/sklearn/base.py:465: UserWarning: X does not have valid feature names, but SVR was fitted with feature names\n",
      "  warnings.warn(\n"
     ]
    },
    {
     "data": {
      "text/plain": [
       "[array([4758.44223363]),\n",
       " array([4718.77608929]),\n",
       " array([4681.25612267]),\n",
       " array([4645.89329706]),\n",
       " array([4612.5543322]),\n",
       " array([4580.97946482]),\n",
       " array([4550.80721139]),\n",
       " array([4521.59438379]),\n",
       " array([4492.82315434]),\n",
       " array([4463.88988733]),\n",
       " array([4434.07063915]),\n",
       " array([4402.45475696]),\n",
       " array([4367.82988087]),\n",
       " array([4328.48690278]),\n",
       " array([4281.89055321]),\n",
       " array([4224.14348931]),\n",
       " array([4149.27211798]),\n",
       " array([4049.2362646]),\n",
       " array([3920.10035924]),\n",
       " array([3791.33246693]),\n",
       " array([3747.7264296]),\n",
       " array([3758.11344962]),\n",
       " array([3754.40857489]),\n",
       " array([3755.64133179]),\n",
       " array([3755.220231]),\n",
       " array([3755.36285161]),\n",
       " array([3755.31440585]),\n",
       " array([3755.3308457]),\n",
       " array([3755.32526503]),\n",
       " array([3755.32715923])]"
      ]
     },
     "execution_count": 14,
     "metadata": {},
     "output_type": "execute_result"
    }
   ],
   "source": [
    "x_next_30_days = []\n",
    "for i in range(30):\n",
    "    x_pred_next = svr_rbf.predict(last_data)\n",
    "    x_next_30_days.append(x_pred_next)\n",
    "    last_data = x_pred_next.reshape(-1,1)\n",
    "x_next_30_days"
   ]
  },
  {
   "cell_type": "code",
   "execution_count": 15,
   "id": "223d2c60",
   "metadata": {},
   "outputs": [
    {
     "data": {
      "image/png": "[encoded data removed]",
      "text/plain": [
       "<Figure size 1000x600 with 1 Axes>"
      ]
     },
     "metadata": {},
     "output_type": "display_data"
    }
   ],
   "source": [
    "plt.figure(figsize=(10, 6))\n",
    "plt.plot(x_next_30_days, marker='o', color='b', label='Predicted Next 30 Days')\n",
    "\n",
    "plt.title('Predicted Values for the Next 30 Days')\n",
    "plt.xlabel('Date')\n",
    "plt.ylabel('Predicted Value')\n",
    "plt.legend()\n",
    "\n",
    "plt.show()"
   ]
  },
  {
   "cell_type": "code",
   "execution_count": 16,
   "id": "2e9b6465",
   "metadata": {},
   "outputs": [],
   "source": [
    "y_pred = y_pred.reshape(-1,1)"
   ]
  },
  {
   "cell_type": "code",
   "execution_count": null,
   "id": "bf181d44",
   "metadata": {},
   "outputs": [],
   "source": [
    "# Create index for the next 30 days\n",
    "last_index =  data.index[-1]\n",
    "next_30_dates = pd.RangeIndex(start=last_index, stop=last_index+30, step=1)"
   ]
  },
  {
   "cell_type": "code",
   "execution_count": 17,
   "id": "b1559351",
   "metadata": {},
   "outputs": [
    {
     "name": "stdout",
     "output_type": "stream",
     "text": [
      "Testing RMSE: 372.7406438134404\n",
      "Testing MAPE: 2.674499100614891%\n",
      "Testing MAE: 143.57999700193199\n",
      "Huber loss: [138935.58755046]\n"
     ]
    }
   ],
   "source": [
    "from sklearn.metrics import mean_absolute_percentage_error,mean_absolute_error\n",
    "# RMSE\n",
    "test_rmse = np.sqrt(np.mean((y_pred - y_test)**2))\n",
    "print('Testing RMSE:', test_rmse)\n",
    "# MAPE\n",
    "test_mape = mean_absolute_percentage_error(y_test,y_pred)\n",
    "print('Testing MAPE:', str(test_mape*100)+'%')\n",
    "# MAE\n",
    "test_mae = mean_absolute_error(y_test,y_pred)\n",
    "print('Testing MAE:', test_mae)\n",
    "# Huber loss\n",
    "hl= mean_squared_error(y_test, y_pred, multioutput='raw_values')\n",
    "print('Huber loss:', hl)"
   ]
  },
  {
   "cell_type": "code",
   "execution_count": null,
   "id": "8f9a7746",
   "metadata": {},
   "outputs": [],
   "source": [
    "plt.plot(y_train_index, y_train)\n",
    "plt.plot(y_test.index, y_test)\n",
    "plt.plot(y_test.index, y_pred)\n",
    "plt.plot(next_30_dates,x_next_30_days)\n",
    "plt.legend(['Train', 'Test', 'Predictions','Next30Day'])\n",
    "plt.show()"
   ]
  }
 ],
 "metadata": {
  "kernelspec": {
   "display_name": "Python 3 (ipykernel)",
   "language": "python",
   "name": "python3"
  },
  "language_info": {
   "codemirror_mode": {
    "name": "ipython",
    "version": 3
   },
   "file_extension": ".py",
   "mimetype": "text/x-python",
   "name": "python",
   "nbconvert_exporter": "python",
   "pygments_lexer": "ipython3",
   "version": "3.11.2"
  }
 },
 "nbformat": 4,
 "nbformat_minor": 5
}
