{
 "cells": [
  {
   "cell_type": "markdown",
   "id": "0c2dab88",
   "metadata": {},
   "source": [
    "## Review steps"
   ]
  },
  {
   "cell_type": "markdown",
   "id": "7ad466ae",
   "metadata": {},
   "source": [
    "1. Data collection\n",
    "2. Data preprocessing\n",
    "3. train-test split\n",
    "4. Choosing ml/dl model\n",
    "5. Train model\n",
    "6. Do prediction and evaluate the model"
   ]
  },
  {
   "cell_type": "code",
   "execution_count": 1,
   "id": "1257413f",
   "metadata": {},
   "outputs": [],
   "source": [
    "import numpy as np # linear algebra import pandas\n",
    "from numpy import array\n",
    "import pandas as pd\n",
    "import math \n",
    "import seaborn as sns \n",
    "import datetime as dt \n",
    "from datetime import datetime\n",
    "sns.set_style(\"whitegrid\") \n",
    "from pandas.plotting import autocorrelation_plot \n",
    "import matplotlib.pyplot as plt\n",
    "%matplotlib inline\n",
    "plt.style.use(\"ggplot\" )\n",
    "from sklearn.metrics import mean_squared_error\n",
    "from sklearn.metrics import mean_absolute_percentage_error\n",
    "from sklearn.metrics import mean_absolute_error\n",
    "from tqdm import tqdm\n",
    "from sklearn.svm import SVR"
   ]
  },
  {
   "cell_type": "markdown",
   "id": "39d47361",
   "metadata": {},
   "source": [
    "## Loading data"
   ]
  },
  {
   "cell_type": "code",
   "execution_count": 2,
   "id": "b92395b0",
   "metadata": {},
   "outputs": [
    {
     "data": {
      "text/html": [
       "<div>\n",
       "<style scoped>\n",
       "    .dataframe tbody tr th:only-of-type {\n",
       "        vertical-align: middle;\n",
       "    }\n",
       "\n",
       "    .dataframe tbody tr th {\n",
       "        vertical-align: top;\n",
       "    }\n",
       "\n",
       "    .dataframe thead th {\n",
       "        text-align: right;\n",
       "    }\n",
       "</style>\n",
       "<table border=\"1\" class=\"dataframe\">\n",
       "  <thead>\n",
       "    <tr style=\"text-align: right;\">\n",
       "      <th></th>\n",
       "      <th>Date</th>\n",
       "      <th>Price</th>\n",
       "      <th>Open</th>\n",
       "      <th>High</th>\n",
       "      <th>Low</th>\n",
       "      <th>Volume</th>\n",
       "      <th>Change</th>\n",
       "    </tr>\n",
       "  </thead>\n",
       "  <tbody>\n",
       "    <tr>\n",
       "      <th>0</th>\n",
       "      <td>04/01/2018</td>\n",
       "      <td>4320,00</td>\n",
       "      <td>4210,00</td>\n",
       "      <td>4320,00</td>\n",
       "      <td>4205,00</td>\n",
       "      <td>1160000,0</td>\n",
       "      <td>0,03850</td>\n",
       "    </tr>\n",
       "    <tr>\n",
       "      <th>1</th>\n",
       "      <td>05/01/2018</td>\n",
       "      <td>4380,00</td>\n",
       "      <td>4340,00</td>\n",
       "      <td>4385,00</td>\n",
       "      <td>4315,00</td>\n",
       "      <td>942600,0</td>\n",
       "      <td>0,01390</td>\n",
       "    </tr>\n",
       "    <tr>\n",
       "      <th>2</th>\n",
       "      <td>09/01/2018</td>\n",
       "      <td>4465,00</td>\n",
       "      <td>4415,00</td>\n",
       "      <td>4470,00</td>\n",
       "      <td>4375,00</td>\n",
       "      <td>968700,0</td>\n",
       "      <td>0,01940</td>\n",
       "    </tr>\n",
       "    <tr>\n",
       "      <th>3</th>\n",
       "      <td>10/01/2018</td>\n",
       "      <td>4520,00</td>\n",
       "      <td>4470,00</td>\n",
       "      <td>4530,00</td>\n",
       "      <td>4465,00</td>\n",
       "      <td>764000,0</td>\n",
       "      <td>0,01230</td>\n",
       "    </tr>\n",
       "    <tr>\n",
       "      <th>4</th>\n",
       "      <td>11/01/2018</td>\n",
       "      <td>4540,00</td>\n",
       "      <td>4525,00</td>\n",
       "      <td>4545,00</td>\n",
       "      <td>4515,00</td>\n",
       "      <td>796800,0</td>\n",
       "      <td>0,00440</td>\n",
       "    </tr>\n",
       "    <tr>\n",
       "      <th>...</th>\n",
       "      <td>...</td>\n",
       "      <td>...</td>\n",
       "      <td>...</td>\n",
       "      <td>...</td>\n",
       "      <td>...</td>\n",
       "      <td>...</td>\n",
       "      <td>...</td>\n",
       "    </tr>\n",
       "    <tr>\n",
       "      <th>1447</th>\n",
       "      <td>08/12/2023</td>\n",
       "      <td>3216,00</td>\n",
       "      <td>3271,00</td>\n",
       "      <td>3271,00</td>\n",
       "      <td>3199,00</td>\n",
       "      <td>1440000,0</td>\n",
       "      <td>-0,01680</td>\n",
       "    </tr>\n",
       "    <tr>\n",
       "      <th>1448</th>\n",
       "      <td>11/12/2023</td>\n",
       "      <td>3216,00</td>\n",
       "      <td>3259,00</td>\n",
       "      <td>3269,00</td>\n",
       "      <td>3213,00</td>\n",
       "      <td>944400,0</td>\n",
       "      <td>0,00000</td>\n",
       "    </tr>\n",
       "    <tr>\n",
       "      <th>1449</th>\n",
       "      <td>12/12/2023</td>\n",
       "      <td>3176,00</td>\n",
       "      <td>3269,00</td>\n",
       "      <td>3271,00</td>\n",
       "      <td>3174,00</td>\n",
       "      <td>991400,0</td>\n",
       "      <td>-0,01240</td>\n",
       "    </tr>\n",
       "    <tr>\n",
       "      <th>1450</th>\n",
       "      <td>13/12/2023</td>\n",
       "      <td>3218,00</td>\n",
       "      <td>3190,00</td>\n",
       "      <td>3230,00</td>\n",
       "      <td>3190,00</td>\n",
       "      <td>1040000,0</td>\n",
       "      <td>0,01320</td>\n",
       "    </tr>\n",
       "    <tr>\n",
       "      <th>1451</th>\n",
       "      <td>14/12/2023</td>\n",
       "      <td>3142,00</td>\n",
       "      <td>3205,00</td>\n",
       "      <td>3205,00</td>\n",
       "      <td>3133,00</td>\n",
       "      <td>1110000,0</td>\n",
       "      <td>-0,02360</td>\n",
       "    </tr>\n",
       "  </tbody>\n",
       "</table>\n",
       "<p>1452 rows × 7 columns</p>\n",
       "</div>"
      ],
      "text/plain": [
       "            Date    Price     Open     High      Low     Volume    Change\n",
       "0     04/01/2018  4320,00  4210,00  4320,00  4205,00  1160000,0   0,03850\n",
       "1     05/01/2018  4380,00  4340,00  4385,00  4315,00   942600,0   0,01390\n",
       "2     09/01/2018  4465,00  4415,00  4470,00  4375,00   968700,0   0,01940\n",
       "3     10/01/2018  4520,00  4470,00  4530,00  4465,00   764000,0   0,01230\n",
       "4     11/01/2018  4540,00  4525,00  4545,00  4515,00   796800,0   0,00440\n",
       "...          ...      ...      ...      ...      ...        ...       ...\n",
       "1447  08/12/2023  3216,00  3271,00  3271,00  3199,00  1440000,0  -0,01680\n",
       "1448  11/12/2023  3216,00  3259,00  3269,00  3213,00   944400,0   0,00000\n",
       "1449  12/12/2023  3176,00  3269,00  3271,00  3174,00   991400,0  -0,01240\n",
       "1450  13/12/2023  3218,00  3190,00  3230,00  3190,00  1040000,0   0,01320\n",
       "1451  14/12/2023  3142,00  3205,00  3205,00  3133,00  1110000,0  -0,02360\n",
       "\n",
       "[1452 rows x 7 columns]"
      ]
     },
     "execution_count": 2,
     "metadata": {},
     "output_type": "execute_result"
    }
   ],
   "source": [
    "data= pd.read_csv(\"Yamaha.csv\",delimiter=\";\")\n",
    "data"
   ]
  },
  {
   "cell_type": "markdown",
   "id": "79f8654f",
   "metadata": {},
   "source": [
    "## Data Exploration"
   ]
  },
  {
   "cell_type": "code",
   "execution_count": 3,
   "id": "b39bad11",
   "metadata": {},
   "outputs": [
    {
     "name": "stdout",
     "output_type": "stream",
     "text": [
      "<class 'pandas.core.frame.DataFrame'>\n",
      "RangeIndex: 1452 entries, 0 to 1451\n",
      "Data columns (total 7 columns):\n",
      " #   Column  Non-Null Count  Dtype \n",
      "---  ------  --------------  ----- \n",
      " 0   Date    1452 non-null   object\n",
      " 1   Price   1452 non-null   object\n",
      " 2   Open    1452 non-null   object\n",
      " 3   High    1452 non-null   object\n",
      " 4   Low     1452 non-null   object\n",
      " 5   Volume  1452 non-null   object\n",
      " 6   Change  1452 non-null   object\n",
      "dtypes: object(7)\n",
      "memory usage: 79.5+ KB\n"
     ]
    }
   ],
   "source": [
    "# Check the data type of each value column\n",
    "data.info()"
   ]
  },
  {
   "cell_type": "code",
   "execution_count": 4,
   "id": "f8b9c1e2",
   "metadata": {},
   "outputs": [
    {
     "data": {
      "text/plain": [
       "0      2018-01-04\n",
       "1      2018-01-05\n",
       "2      2018-01-09\n",
       "3      2018-01-10\n",
       "4      2018-01-11\n",
       "          ...    \n",
       "1447   2023-12-08\n",
       "1448   2023-12-11\n",
       "1449   2023-12-12\n",
       "1450   2023-12-13\n",
       "1451   2023-12-14\n",
       "Name: Date, Length: 1452, dtype: datetime64[ns]"
      ]
     },
     "execution_count": 4,
     "metadata": {},
     "output_type": "execute_result"
    }
   ],
   "source": [
    "# Reformat the date data type\n",
    "data['Date'] = pd.to_datetime(data['Date'], format='%d/%m/%Y')  # Ví dụ cho định dạng dd/mm/yyyy\n",
    "data['Date']"
   ]
  },
  {
   "cell_type": "code",
   "execution_count": 5,
   "id": "f075de4b",
   "metadata": {},
   "outputs": [
    {
     "name": "stdout",
     "output_type": "stream",
     "text": [
      "<class 'pandas.core.frame.DataFrame'>\n",
      "RangeIndex: 1452 entries, 0 to 1451\n",
      "Data columns (total 7 columns):\n",
      " #   Column  Non-Null Count  Dtype         \n",
      "---  ------  --------------  -----         \n",
      " 0   Date    1452 non-null   datetime64[ns]\n",
      " 1   Price   1452 non-null   float64       \n",
      " 2   Open    1452 non-null   float64       \n",
      " 3   High    1452 non-null   float64       \n",
      " 4   Low     1452 non-null   float64       \n",
      " 5   Volume  1452 non-null   float64       \n",
      " 6   Change  1452 non-null   float64       \n",
      "dtypes: datetime64[ns](1), float64(6)\n",
      "memory usage: 79.5 KB\n"
     ]
    }
   ],
   "source": [
    "# Clean data and cast data for calculation\n",
    "data['Price'] = data['Price'].str.replace(',', '.').astype(float)\n",
    "data['Open'] = data['Open'].str.replace(',', '.').astype(float)\n",
    "data['High'] = data['High'].str.replace(',', '.').astype(float)\n",
    "data['Low'] = data['Low'].str.replace(',', '.').astype(float)\n",
    "data['Volume'] = data['Volume'].str.replace(',', '.').astype(float)\n",
    "data['Change'] = data['Change'].str.replace(',', '.').astype(float)\n",
    "data.info()"
   ]
  },
  {
   "cell_type": "code",
   "execution_count": 6,
   "id": "0b9eea0a",
   "metadata": {},
   "outputs": [
    {
     "data": {
      "text/html": [
       "<div>\n",
       "<style scoped>\n",
       "    .dataframe tbody tr th:only-of-type {\n",
       "        vertical-align: middle;\n",
       "    }\n",
       "\n",
       "    .dataframe tbody tr th {\n",
       "        vertical-align: top;\n",
       "    }\n",
       "\n",
       "    .dataframe thead th {\n",
       "        text-align: right;\n",
       "    }\n",
       "</style>\n",
       "<table border=\"1\" class=\"dataframe\">\n",
       "  <thead>\n",
       "    <tr style=\"text-align: right;\">\n",
       "      <th></th>\n",
       "      <th>Date</th>\n",
       "      <th>Price</th>\n",
       "      <th>Open</th>\n",
       "      <th>High</th>\n",
       "      <th>Low</th>\n",
       "      <th>Volume</th>\n",
       "      <th>Change</th>\n",
       "    </tr>\n",
       "  </thead>\n",
       "  <tbody>\n",
       "    <tr>\n",
       "      <th>count</th>\n",
       "      <td>1452</td>\n",
       "      <td>1452.000000</td>\n",
       "      <td>1452.000000</td>\n",
       "      <td>1452.000000</td>\n",
       "      <td>1452.000000</td>\n",
       "      <td>1.452000e+03</td>\n",
       "      <td>1452.000000</td>\n",
       "    </tr>\n",
       "    <tr>\n",
       "      <th>mean</th>\n",
       "      <td>2020-12-26 16:00:59.504132352</td>\n",
       "      <td>5342.451102</td>\n",
       "      <td>5344.658402</td>\n",
       "      <td>5400.580579</td>\n",
       "      <td>5283.276171</td>\n",
       "      <td>6.088632e+05</td>\n",
       "      <td>0.000012</td>\n",
       "    </tr>\n",
       "    <tr>\n",
       "      <th>min</th>\n",
       "      <td>2018-01-04 00:00:00</td>\n",
       "      <td>3142.000000</td>\n",
       "      <td>3190.000000</td>\n",
       "      <td>3205.000000</td>\n",
       "      <td>3133.000000</td>\n",
       "      <td>1.144000e+05</td>\n",
       "      <td>-0.145700</td>\n",
       "    </tr>\n",
       "    <tr>\n",
       "      <th>25%</th>\n",
       "      <td>2019-07-01 18:00:00</td>\n",
       "      <td>4938.750000</td>\n",
       "      <td>4940.000000</td>\n",
       "      <td>4990.000000</td>\n",
       "      <td>4890.000000</td>\n",
       "      <td>4.071750e+05</td>\n",
       "      <td>-0.011325</td>\n",
       "    </tr>\n",
       "    <tr>\n",
       "      <th>50%</th>\n",
       "      <td>2020-12-28 12:00:00</td>\n",
       "      <td>5315.000000</td>\n",
       "      <td>5320.000000</td>\n",
       "      <td>5370.000000</td>\n",
       "      <td>5260.000000</td>\n",
       "      <td>5.324000e+05</td>\n",
       "      <td>0.000000</td>\n",
       "    </tr>\n",
       "    <tr>\n",
       "      <th>75%</th>\n",
       "      <td>2022-06-24 18:00:00</td>\n",
       "      <td>5770.000000</td>\n",
       "      <td>5790.000000</td>\n",
       "      <td>5840.000000</td>\n",
       "      <td>5720.000000</td>\n",
       "      <td>7.116750e+05</td>\n",
       "      <td>0.010700</td>\n",
       "    </tr>\n",
       "    <tr>\n",
       "      <th>max</th>\n",
       "      <td>2023-12-14 00:00:00</td>\n",
       "      <td>7440.000000</td>\n",
       "      <td>7450.000000</td>\n",
       "      <td>7490.000000</td>\n",
       "      <td>7360.000000</td>\n",
       "      <td>3.140000e+06</td>\n",
       "      <td>0.126700</td>\n",
       "    </tr>\n",
       "    <tr>\n",
       "      <th>std</th>\n",
       "      <td>NaN</td>\n",
       "      <td>695.721143</td>\n",
       "      <td>694.041663</td>\n",
       "      <td>698.877570</td>\n",
       "      <td>688.962765</td>\n",
       "      <td>3.185040e+05</td>\n",
       "      <td>0.020299</td>\n",
       "    </tr>\n",
       "  </tbody>\n",
       "</table>\n",
       "</div>"
      ],
      "text/plain": [
       "                                Date        Price         Open         High  \\\n",
       "count                           1452  1452.000000  1452.000000  1452.000000   \n",
       "mean   2020-12-26 16:00:59.504132352  5342.451102  5344.658402  5400.580579   \n",
       "min              2018-01-04 00:00:00  3142.000000  3190.000000  3205.000000   \n",
       "25%              2019-07-01 18:00:00  4938.750000  4940.000000  4990.000000   \n",
       "50%              2020-12-28 12:00:00  5315.000000  5320.000000  5370.000000   \n",
       "75%              2022-06-24 18:00:00  5770.000000  5790.000000  5840.000000   \n",
       "max              2023-12-14 00:00:00  7440.000000  7450.000000  7490.000000   \n",
       "std                              NaN   695.721143   694.041663   698.877570   \n",
       "\n",
       "               Low        Volume       Change  \n",
       "count  1452.000000  1.452000e+03  1452.000000  \n",
       "mean   5283.276171  6.088632e+05     0.000012  \n",
       "min    3133.000000  1.144000e+05    -0.145700  \n",
       "25%    4890.000000  4.071750e+05    -0.011325  \n",
       "50%    5260.000000  5.324000e+05     0.000000  \n",
       "75%    5720.000000  7.116750e+05     0.010700  \n",
       "max    7360.000000  3.140000e+06     0.126700  \n",
       "std     688.962765  3.185040e+05     0.020299  "
      ]
     },
     "execution_count": 6,
     "metadata": {},
     "output_type": "execute_result"
    }
   ],
   "source": [
    "# Gets descriptive statistical information about a DataFrame or a Series\n",
    "data.describe()"
   ]
  },
  {
   "cell_type": "markdown",
   "id": "2ab6ee45",
   "metadata": {},
   "source": [
    "## Data Visualization"
   ]
  },
  {
   "cell_type": "code",
   "execution_count": 7,
   "id": "e2596555",
   "metadata": {},
   "outputs": [],
   "source": [
    "# Reshape turns df into a NumPy array of size (-1, 1)\n",
    "df=data['Price'].values\n",
    "df = df.reshape(-1, 1)"
   ]
  },
  {
   "cell_type": "code",
   "execution_count": 8,
   "id": "d7cb69c3",
   "metadata": {},
   "outputs": [
    {
     "data": {
      "text/plain": [
       "array([[0.27408097],\n",
       "       [0.28804095],\n",
       "       [0.30781759],\n",
       "       ...,\n",
       "       [0.00791066],\n",
       "       [0.01768264],\n",
       "       [0.        ]])"
      ]
     },
     "execution_count": 8,
     "metadata": {},
     "output_type": "execute_result"
    }
   ],
   "source": [
    "from sklearn.preprocessing import MinMaxScaler\n",
    "scaler = MinMaxScaler() # Perform data normalization according to the min-max scaling method\n",
    "price_scaled=scaler.fit_transform(df) # Fit và transform the data\n",
    "price_scaled"
   ]
  },
  {
   "cell_type": "code",
   "execution_count": 9,
   "id": "7dc411d8",
   "metadata": {},
   "outputs": [
    {
     "data": {
      "image/png": "[encoded data removed]",
      "text/plain": [
       "<Figure size 640x480 with 1 Axes>"
      ]
     },
     "metadata": {},
     "output_type": "display_data"
    }
   ],
   "source": [
    "# Create plot\n",
    "plt.figure(figure=(10,6))\n",
    "plt.plot(data['Date'],data['Price'].values, label=\"Price\", color=\"IndianRed\")\n",
    "\n",
    "# Adding title\n",
    "plt.title(\"Plot of price due to date\")\n",
    "\n",
    "# Adding label\n",
    "plt.xlabel(\"Date\")\n",
    "plt.ylabel(\"Price\")\n",
    "\n",
    "# Show the plot\n",
    "plt.legend()\n",
    "plt.show()"
   ]
  },
  {
   "cell_type": "markdown",
   "id": "8916df77",
   "metadata": {},
   "source": [
    "## Data Preprocessing"
   ]
  },
  {
   "cell_type": "markdown",
   "id": "7c98f8f8",
   "metadata": {},
   "source": [
    "### Split data into training and testing set"
   ]
  },
  {
   "cell_type": "markdown",
   "id": "7ad3d5ea",
   "metadata": {},
   "source": [
    "### Training - testing 8:2"
   ]
  },
  {
   "cell_type": "code",
   "execution_count": 10,
   "id": "425c27df",
   "metadata": {},
   "outputs": [],
   "source": [
    "# Split train test validation in ratio 8:2\n",
    "# Split the data into training, testing\n",
    "train_size = int(0.8 * len(data))\n",
    "test_size = int(0.2 * len(data))\n",
    "\n",
    "X2D = data[['High']] # Independent variable in 2-dimensional array\n",
    "Y2D = data[['Price']] # Dependent variable in 2-dimensional array"
   ]
  },
  {
   "cell_type": "code",
   "execution_count": 11,
   "id": "d0f1a1c6",
   "metadata": {},
   "outputs": [
    {
     "name": "stdout",
     "output_type": "stream",
     "text": [
      "Best parameters: {'C': 1000, 'epsilon': 0.001, 'gamma': 'scale'}\n",
      "Best score: 5668.545857168434\n"
     ]
    }
   ],
   "source": [
    "from sklearn.svm import SVR\n",
    "from sklearn.model_selection import GridSearchCV\n",
    "from sklearn.model_selection import cross_val_score\n",
    "\n",
    "y_train = Y2D[:train_size]\n",
    "x_train = X2D[:train_size]\n",
    "y_test = Y2D[train_size:]\n",
    "x_test = X2D[train_size:]\n",
    "y_train_index = y_train.index # Get the index before converting it to a 2-dimensional array (serves plot)\n",
    "y_train = Y2D[:train_size].values.ravel()\n",
    "\n",
    "# Create SVR model with RBF kernel\n",
    "model = SVR(kernel='rbf')\n",
    "param_grid = {\n",
    "    'C': [0.1, 1, 10, 100, 1000],             \n",
    "    'gamma': ['scale', 'auto', 0.001, 0.01, 0.1, 1],  \n",
    "    'epsilon': [0.001, 0.01, 0.1, 1, 10]     \n",
    "}\n",
    "\n",
    "# Create a GridSearchCV object\n",
    "grid_search = GridSearchCV(model, param_grid, cv=5, scoring='neg_mean_squared_error', n_jobs=-1)\n",
    "\n",
    "# Train the model using grid search\n",
    "svr_rbf = grid_search.fit(x_train,y_train)\n",
    "\n",
    "print(\"Best parameters:\", grid_search.best_params_)\n",
    "print(\"Best score:\", -grid_search.best_score_)"
   ]
  },
  {
   "cell_type": "code",
   "execution_count": 12,
   "id": "cd5c5cc8",
   "metadata": {},
   "outputs": [
    {
     "data": {
      "text/plain": [
       "array([5160.3240087 , 5160.3240087 , 5359.90502136, 5299.97751068,\n",
       "       5581.00867447, 5631.29839525, 5560.86321767, 5520.56143398,\n",
       "       5540.71190344, 5530.63617027, 5621.25271482, 5611.19993942,\n",
       "       5550.78785902, 5611.19993942, 5621.25271482, 5611.19993942,\n",
       "       5470.22609967, 5399.94605003, 5460.17054732, 5389.92785592,\n",
       "       5270.05176156, 5460.17054732, 5440.07418665, 5399.94605003,\n",
       "       5379.91507305, 5349.90726245, 5349.90726245, 5299.97751068,\n",
       "       5319.93917546, 5349.90726245, 5369.90753496, 5309.95692155,\n",
       "       5389.92785592, 5389.92785592, 5520.56143398, 5399.94605003,\n",
       "       5339.91394362, 5430.03388108, 5389.92785592, 5369.90753496,\n",
       "       5430.03388108, 5480.28611738, 5520.56143398, 5470.22609967,\n",
       "       5430.03388108, 5319.93917546, 5210.21614183, 5170.30596476,\n",
       "       4970.82964469, 4960.92197111, 4872.57482441, 4887.17638097,\n",
       "       4882.3029603 , 4867.7203519 , 4882.3029603 , 4901.83247553,\n",
       "       4810.0015111 , 4790.99030265, 4757.99092051, 4786.25538199,\n",
       "       4800.48152649, 4853.1966334 , 4814.7723368 , 4674.38435687,\n",
       "       4711.37274167, 4824.33564863, 4776.8066237 , 4753.30335269,\n",
       "       4800.48152649, 4936.22022373, 4960.92197111, 4960.92197111,\n",
       "       5020.54233947, 5010.58087231, 5030.51082286, 5010.58087231,\n",
       "       4990.68379165, 5010.58087231, 5170.30596476, 5080.42121148,\n",
       "       5020.54233947, 5000.6276101 , 5030.51082286, 4970.82964469,\n",
       "       4980.75069815, 4951.02903221, 4980.75069815, 4936.22022373,\n",
       "       4921.45217505, 5090.41042801, 5050.46437573, 5110.3900438 ,\n",
       "       5090.41042801, 5130.36767186, 5090.41042801, 5100.40023842,\n",
       "       5220.19000015, 5270.05176156, 5250.10705563, 5190.26438581,\n",
       "       5230.16287732, 5140.35472426, 5070.43327252, 4916.53932074,\n",
       "       4892.05586502, 4805.23791108, 4882.3029603 , 4901.83247553,\n",
       "       4926.37005218, 4926.37005218, 4916.53932074, 4931.29278988,\n",
       "       4931.29278988, 5010.58087231, 5030.51082286, 5090.41042801,\n",
       "       5090.41042801, 5170.30596476, 5120.37933083, 5020.54233947,\n",
       "       5010.58087231, 5080.42121148, 5160.3240087 , 5180.28607422,\n",
       "       5200.24101555, 5240.13510545, 5250.10705563, 5290.00048911,\n",
       "       5260.0791313 , 5200.24101555, 5210.21614183, 5240.13510545,\n",
       "       5250.10705563, 5160.3240087 , 5180.28607422, 5290.00048911,\n",
       "       5349.90726245, 5369.90753496, 5349.90726245, 5359.90502136,\n",
       "       5329.9247107 , 5379.91507305, 5349.90726245, 5339.91394362,\n",
       "       5490.35017891, 5460.17054732, 5490.35017891, 5550.78785902,\n",
       "       5631.29839525, 5701.34191065, 5601.14103299, 5570.93712043,\n",
       "       5560.86321767, 5671.39129547, 5631.29839525, 5510.48841926,\n",
       "       5490.35017891, 5510.48841926, 5650.3622263 , 5718.25957293,\n",
       "       5787.44351189, 5632.30253613, 5575.973248  , 5590.0703046 ,\n",
       "       5646.35152361, 5797.26085105, 5825.63846806, 5768.74454977,\n",
       "       5740.08851937, 5673.39150632, 5636.31827536, 5684.38403555,\n",
       "       5692.36900841, 5492.36343471, 5425.01577325, 5494.37682875,\n",
       "       5535.67395954, 5463.18672177, 5548.77268884, 5560.86321767,\n",
       "       5470.22609967, 5402.95258129, 5295.98644112, 5247.11547631,\n",
       "       5276.03579165, 5229.16562461, 5228.16836504, 5298.97970859,\n",
       "       5270.05176156, 5318.94080949, 5329.9247107 , 5250.10705563,\n",
       "       5312.9512789 , 5313.94945698, 5298.97970859, 5461.17589099,\n",
       "       5437.06152806, 5510.48841926, 5510.48841926, 5479.27992616,\n",
       "       4876.46304219, 4623.59993221, 4647.6278421 , 4624.52570186,\n",
       "       4593.86045242, 4615.25983807, 4680.84584626, 4588.25238037,\n",
       "       4513.7832311 , 4448.3144882 , 4450.38946725, 4466.84118794,\n",
       "       4495.03765708, 4526.44897326, 4491.05303106, 4454.52689494,\n",
       "       4517.69354109, 4537.07421475, 4515.73988592, 4495.03765708,\n",
       "       4499.9992435 , 4512.80376603, 4533.21975276, 4532.25450956,\n",
       "       4504.94007091, 4387.30649735, 4275.83671026, 4279.48115238,\n",
       "       4279.48115238, 4308.28234796, 4337.57787012, 4293.96194614,\n",
       "       4251.30576477, 4165.47174801, 4146.2234925 , 4089.75398723,\n",
       "       4075.73597793, 4001.31927583, 3968.52509733, 4026.84996534,\n",
       "       4125.65890817, 3956.11743073, 3980.05049519, 3996.5392604 ,\n",
       "       4019.48631726, 4040.47480483, 4047.96738675, 4091.03164292,\n",
       "       4049.21994445, 3971.95915118, 3970.81216777, 3960.59491832,\n",
       "       3895.54446806, 3864.79725128, 3835.26952917, 3830.45584999,\n",
       "       3878.64300175, 3844.88948105, 3874.44068495, 3844.88948105,\n",
       "       3897.40572811, 3998.92565009, 3808.53940138, 3814.40205246,\n",
       "       3848.37825063, 3933.99986595, 3910.32168625, 3962.83925014,\n",
       "       3939.28031108, 4162.12034035, 4118.74554198, 4138.21186961,\n",
       "       4287.08872048, 4158.0954954 , 4120.67277005, 3964.28049395,\n",
       "       3950.14350658, 3997.49635269, 4079.32102299, 4144.13414759,\n",
       "       4176.32911266, 4222.14319612, 4370.23590493, 4423.11858641,\n",
       "       4411.56417619, 4474.23605765, 4695.04973193, 4699.61769941,\n",
       "       4695.04973193, 4787.33144443, 4841.90314452])"
      ]
     },
     "execution_count": 12,
     "metadata": {},
     "output_type": "execute_result"
    }
   ],
   "source": [
    "y_pred = svr_rbf.predict(x_test)\n",
    "y_pred"
   ]
  },
  {
   "cell_type": "code",
   "execution_count": 13,
   "id": "4f97d624",
   "metadata": {},
   "outputs": [
    {
     "data": {
      "text/plain": [
       "array([[3142.]])"
      ]
     },
     "execution_count": 13,
     "metadata": {},
     "output_type": "execute_result"
    }
   ],
   "source": [
    "last_row = data.tail(1)\n",
    "last_data = last_row['Price'].values.reshape(-1,1)\n",
    "last_data"
   ]
  },
  {
   "cell_type": "code",
   "execution_count": 14,
   "id": "a2bf2982",
   "metadata": {},
   "outputs": [
    {
     "name": "stderr",
     "output_type": "stream",
     "text": [
      "/Library/Frameworks/Python.framework/Versions/3.11/lib/python3.11/site-packages/sklearn/base.py:465: UserWarning: X does not have valid feature names, but SVR was fitted with feature names\n",
      "  warnings.warn(\n",
      "/Library/Frameworks/Python.framework/Versions/3.11/lib/python3.11/site-packages/sklearn/base.py:465: UserWarning: X does not have valid feature names, but SVR was fitted with feature names\n",
      "  warnings.warn(\n",
      "/Library/Frameworks/Python.framework/Versions/3.11/lib/python3.11/site-packages/sklearn/base.py:465: UserWarning: X does not have valid feature names, but SVR was fitted with feature names\n",
      "  warnings.warn(\n",
      "/Library/Frameworks/Python.framework/Versions/3.11/lib/python3.11/site-packages/sklearn/base.py:465: UserWarning: X does not have valid feature names, but SVR was fitted with feature names\n",
      "  warnings.warn(\n",
      "/Library/Frameworks/Python.framework/Versions/3.11/lib/python3.11/site-packages/sklearn/base.py:465: UserWarning: X does not have valid feature names, but SVR was fitted with feature names\n",
      "  warnings.warn(\n",
      "/Library/Frameworks/Python.framework/Versions/3.11/lib/python3.11/site-packages/sklearn/base.py:465: UserWarning: X does not have valid feature names, but SVR was fitted with feature names\n",
      "  warnings.warn(\n",
      "/Library/Frameworks/Python.framework/Versions/3.11/lib/python3.11/site-packages/sklearn/base.py:465: UserWarning: X does not have valid feature names, but SVR was fitted with feature names\n",
      "  warnings.warn(\n",
      "/Library/Frameworks/Python.framework/Versions/3.11/lib/python3.11/site-packages/sklearn/base.py:465: UserWarning: X does not have valid feature names, but SVR was fitted with feature names\n",
      "  warnings.warn(\n",
      "/Library/Frameworks/Python.framework/Versions/3.11/lib/python3.11/site-packages/sklearn/base.py:465: UserWarning: X does not have valid feature names, but SVR was fitted with feature names\n",
      "  warnings.warn(\n",
      "/Library/Frameworks/Python.framework/Versions/3.11/lib/python3.11/site-packages/sklearn/base.py:465: UserWarning: X does not have valid feature names, but SVR was fitted with feature names\n",
      "  warnings.warn(\n",
      "/Library/Frameworks/Python.framework/Versions/3.11/lib/python3.11/site-packages/sklearn/base.py:465: UserWarning: X does not have valid feature names, but SVR was fitted with feature names\n",
      "  warnings.warn(\n",
      "/Library/Frameworks/Python.framework/Versions/3.11/lib/python3.11/site-packages/sklearn/base.py:465: UserWarning: X does not have valid feature names, but SVR was fitted with feature names\n",
      "  warnings.warn(\n",
      "/Library/Frameworks/Python.framework/Versions/3.11/lib/python3.11/site-packages/sklearn/base.py:465: UserWarning: X does not have valid feature names, but SVR was fitted with feature names\n",
      "  warnings.warn(\n",
      "/Library/Frameworks/Python.framework/Versions/3.11/lib/python3.11/site-packages/sklearn/base.py:465: UserWarning: X does not have valid feature names, but SVR was fitted with feature names\n",
      "  warnings.warn(\n",
      "/Library/Frameworks/Python.framework/Versions/3.11/lib/python3.11/site-packages/sklearn/base.py:465: UserWarning: X does not have valid feature names, but SVR was fitted with feature names\n",
      "  warnings.warn(\n",
      "/Library/Frameworks/Python.framework/Versions/3.11/lib/python3.11/site-packages/sklearn/base.py:465: UserWarning: X does not have valid feature names, but SVR was fitted with feature names\n",
      "  warnings.warn(\n",
      "/Library/Frameworks/Python.framework/Versions/3.11/lib/python3.11/site-packages/sklearn/base.py:465: UserWarning: X does not have valid feature names, but SVR was fitted with feature names\n",
      "  warnings.warn(\n",
      "/Library/Frameworks/Python.framework/Versions/3.11/lib/python3.11/site-packages/sklearn/base.py:465: UserWarning: X does not have valid feature names, but SVR was fitted with feature names\n",
      "  warnings.warn(\n",
      "/Library/Frameworks/Python.framework/Versions/3.11/lib/python3.11/site-packages/sklearn/base.py:465: UserWarning: X does not have valid feature names, but SVR was fitted with feature names\n",
      "  warnings.warn(\n",
      "/Library/Frameworks/Python.framework/Versions/3.11/lib/python3.11/site-packages/sklearn/base.py:465: UserWarning: X does not have valid feature names, but SVR was fitted with feature names\n",
      "  warnings.warn(\n",
      "/Library/Frameworks/Python.framework/Versions/3.11/lib/python3.11/site-packages/sklearn/base.py:465: UserWarning: X does not have valid feature names, but SVR was fitted with feature names\n",
      "  warnings.warn(\n",
      "/Library/Frameworks/Python.framework/Versions/3.11/lib/python3.11/site-packages/sklearn/base.py:465: UserWarning: X does not have valid feature names, but SVR was fitted with feature names\n",
      "  warnings.warn(\n",
      "/Library/Frameworks/Python.framework/Versions/3.11/lib/python3.11/site-packages/sklearn/base.py:465: UserWarning: X does not have valid feature names, but SVR was fitted with feature names\n",
      "  warnings.warn(\n",
      "/Library/Frameworks/Python.framework/Versions/3.11/lib/python3.11/site-packages/sklearn/base.py:465: UserWarning: X does not have valid feature names, but SVR was fitted with feature names\n",
      "  warnings.warn(\n",
      "/Library/Frameworks/Python.framework/Versions/3.11/lib/python3.11/site-packages/sklearn/base.py:465: UserWarning: X does not have valid feature names, but SVR was fitted with feature names\n",
      "  warnings.warn(\n",
      "/Library/Frameworks/Python.framework/Versions/3.11/lib/python3.11/site-packages/sklearn/base.py:465: UserWarning: X does not have valid feature names, but SVR was fitted with feature names\n",
      "  warnings.warn(\n",
      "/Library/Frameworks/Python.framework/Versions/3.11/lib/python3.11/site-packages/sklearn/base.py:465: UserWarning: X does not have valid feature names, but SVR was fitted with feature names\n",
      "  warnings.warn(\n",
      "/Library/Frameworks/Python.framework/Versions/3.11/lib/python3.11/site-packages/sklearn/base.py:465: UserWarning: X does not have valid feature names, but SVR was fitted with feature names\n",
      "  warnings.warn(\n",
      "/Library/Frameworks/Python.framework/Versions/3.11/lib/python3.11/site-packages/sklearn/base.py:465: UserWarning: X does not have valid feature names, but SVR was fitted with feature names\n",
      "  warnings.warn(\n",
      "/Library/Frameworks/Python.framework/Versions/3.11/lib/python3.11/site-packages/sklearn/base.py:465: UserWarning: X does not have valid feature names, but SVR was fitted with feature names\n",
      "  warnings.warn(\n"
     ]
    },
    {
     "data": {
      "text/plain": [
       "[array([4972.01163301]),\n",
       " array([4923.43017302]),\n",
       " array([4875.90888997]),\n",
       " array([4830.00003022]),\n",
       " array([4786.25541058]),\n",
       " array([4745.12010454]),\n",
       " array([4706.84941523]),\n",
       " array([4671.47701693]),\n",
       " array([4638.83558185]),\n",
       " array([4608.60868986]),\n",
       " array([4580.38766054]),\n",
       " array([4553.71549363]),\n",
       " array([4528.11136411]),\n",
       " array([4503.07618662]),\n",
       " array([4478.08177695]),\n",
       " array([4452.54484222]),\n",
       " array([4425.78396937]),\n",
       " array([4396.95345179]),\n",
       " array([4364.9419213]),\n",
       " array([4328.21632361]),\n",
       " array([4284.58698294]),\n",
       " array([4230.89260565]),\n",
       " array([4162.77096607]),\n",
       " array([4075.44489587]),\n",
       " array([3969.03305016]),\n",
       " array([3864.82293143]),\n",
       " array([3811.91193645]),\n",
       " array([3809.98196662]),\n",
       " array([3810.2641756]),\n",
       " array([3810.22132384])]"
      ]
     },
     "execution_count": 14,
     "metadata": {},
     "output_type": "execute_result"
    }
   ],
   "source": [
    "x_next_30_days = []\n",
    "for i in range(30):\n",
    "    x_pred_next = svr_rbf.predict(last_data)\n",
    "    x_next_30_days.append(x_pred_next)\n",
    "    last_data = x_pred_next.reshape(-1,1)\n",
    "x_next_30_days"
   ]
  },
  {
   "cell_type": "code",
   "execution_count": 15,
   "id": "5b306a77",
   "metadata": {},
   "outputs": [
    {
     "data": {
      "image/png": "[encoded data removed]",
      "text/plain": [
       "<Figure size 1000x600 with 1 Axes>"
      ]
     },
     "metadata": {},
     "output_type": "display_data"
    }
   ],
   "source": [
    "plt.figure(figsize=(10, 6))\n",
    "plt.plot(x_next_30_days, marker='o', color='b', label='Predicted Next 30 Days')\n",
    "\n",
    "plt.title('Predicted Values for the Next 30 Days')\n",
    "plt.xlabel('Date')\n",
    "plt.ylabel('Predicted Value')\n",
    "plt.legend()\n",
    "\n",
    "plt.show()"
   ]
  },
  {
   "cell_type": "code",
   "execution_count": 16,
   "id": "302ca177",
   "metadata": {},
   "outputs": [],
   "source": [
    "y_pred = y_pred.reshape(-1,1)"
   ]
  },
  {
   "cell_type": "code",
   "execution_count": 17,
   "id": "7d7686d4",
   "metadata": {},
   "outputs": [],
   "source": [
    "# Create index for the next 30 days\n",
    "last_index =  data.index[-1]\n",
    "next_30_dates = pd.RangeIndex(start=last_index, stop=last_index+30, step=1)"
   ]
  },
  {
   "cell_type": "code",
   "execution_count": 18,
   "id": "138da92c",
   "metadata": {},
   "outputs": [
    {
     "name": "stdout",
     "output_type": "stream",
     "text": [
      "Testing RMSE: 282.1766822673138\n",
      "Testing MAPE: 2.835719798188094%\n",
      "Testing MAE: 103.68710876241472\n",
      "Huber loss: [79623.68001539]\n"
     ]
    }
   ],
   "source": [
    "from sklearn.metrics import mean_absolute_percentage_error,mean_absolute_error\n",
    "# RMSE\n",
    "test_rmse = np.sqrt(np.mean((y_pred - y_test)**2))\n",
    "print('Testing RMSE:', test_rmse)\n",
    "# MAPE\n",
    "test_mape = mean_absolute_percentage_error(y_test,y_pred)\n",
    "print('Testing MAPE:', str(test_mape*100)+'%')\n",
    "# MAE\n",
    "test_mae = mean_absolute_error(y_test,y_pred)\n",
    "print('Testing MAE:', test_mae)\n",
    "# Huber loss\n",
    "hl= mean_squared_error(y_test, y_pred, multioutput='raw_values')\n",
    "print('Huber loss:', hl)"
   ]
  },
  {
   "cell_type": "code",
   "execution_count": 19,
   "id": "8f9a7746",
   "metadata": {},
   "outputs": [
    {
     "data": {
      "image/png": "[encoded data removed]",
      "text/plain": [
       "<Figure size 640x480 with 1 Axes>"
      ]
     },
     "metadata": {},
     "output_type": "display_data"
    }
   ],
   "source": [
    "plt.plot(y_train_index, y_train)\n",
    "plt.plot(y_test.index, y_test)\n",
    "plt.plot(y_test.index, y_pred)\n",
    "plt.plot(next_30_dates,x_next_30_days)\n",
    "plt.legend(['Train', 'Test', 'Predictions','Next30Day'])\n",
    "plt.show()"
   ]
  },
  {
   "cell_type": "code",
   "execution_count": null,
   "id": "625e5571",
   "metadata": {},
   "outputs": [],
   "source": []
  }
 ],
 "metadata": {
  "kernelspec": {
   "display_name": "Python 3 (ipykernel)",
   "language": "python",
   "name": "python3"
  },
  "language_info": {
   "codemirror_mode": {
    "name": "ipython",
    "version": 3
   },
   "file_extension": ".py",
   "mimetype": "text/x-python",
   "name": "python",
   "nbconvert_exporter": "python",
   "pygments_lexer": "ipython3",
   "version": "3.11.2"
  }
 },
 "nbformat": 4,
 "nbformat_minor": 5
}
