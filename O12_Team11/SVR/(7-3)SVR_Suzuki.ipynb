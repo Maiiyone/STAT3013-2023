{
 "cells": [
  {
   "cell_type": "markdown",
   "id": "0c2dab88",
   "metadata": {},
   "source": [
    "## Review steps"
   ]
  },
  {
   "cell_type": "markdown",
   "id": "7ad466ae",
   "metadata": {},
   "source": [
    "1. Data collection\n",
    "2. Data preprocessing\n",
    "3. train-test split\n",
    "4. Choosing ml/dl model\n",
    "5. Train model\n",
    "6. Do prediction and evaluate the model"
   ]
  },
  {
   "cell_type": "code",
   "execution_count": 1,
   "id": "1257413f",
   "metadata": {},
   "outputs": [],
   "source": [
    "import numpy as np # linear algebra import pandas\n",
    "from numpy import array\n",
    "import pandas as pd\n",
    "import math \n",
    "import seaborn as sns \n",
    "import datetime as dt \n",
    "from datetime import datetime\n",
    "sns.set_style(\"whitegrid\") \n",
    "from pandas.plotting import autocorrelation_plot \n",
    "import matplotlib.pyplot as plt\n",
    "%matplotlib inline\n",
    "plt.style.use(\"ggplot\" )\n",
    "from sklearn.metrics import mean_squared_error\n",
    "from sklearn.metrics import mean_absolute_percentage_error\n",
    "from sklearn.metrics import mean_absolute_error\n",
    "from tqdm import tqdm\n",
    "from sklearn.svm import SVR"
   ]
  },
  {
   "cell_type": "markdown",
   "id": "39d47361",
   "metadata": {},
   "source": [
    "## Loading data"
   ]
  },
  {
   "cell_type": "code",
   "execution_count": 2,
   "id": "b92395b0",
   "metadata": {},
   "outputs": [
    {
     "data": {
      "text/html": [
       "<div>\n",
       "<style scoped>\n",
       "    .dataframe tbody tr th:only-of-type {\n",
       "        vertical-align: middle;\n",
       "    }\n",
       "\n",
       "    .dataframe tbody tr th {\n",
       "        vertical-align: top;\n",
       "    }\n",
       "\n",
       "    .dataframe thead th {\n",
       "        text-align: right;\n",
       "    }\n",
       "</style>\n",
       "<table border=\"1\" class=\"dataframe\">\n",
       "  <thead>\n",
       "    <tr style=\"text-align: right;\">\n",
       "      <th></th>\n",
       "      <th>Date</th>\n",
       "      <th>Price</th>\n",
       "      <th>Open</th>\n",
       "      <th>High</th>\n",
       "      <th>Low</th>\n",
       "      <th>Volume</th>\n",
       "      <th>Change</th>\n",
       "    </tr>\n",
       "  </thead>\n",
       "  <tbody>\n",
       "    <tr>\n",
       "      <th>0</th>\n",
       "      <td>04/01/2018</td>\n",
       "      <td>6742,00</td>\n",
       "      <td>6600,00</td>\n",
       "      <td>6744,00</td>\n",
       "      <td>6588,00</td>\n",
       "      <td>1940000,0</td>\n",
       "      <td>0,0318</td>\n",
       "    </tr>\n",
       "    <tr>\n",
       "      <th>1</th>\n",
       "      <td>05/01/2018</td>\n",
       "      <td>6740,00</td>\n",
       "      <td>6742,00</td>\n",
       "      <td>6775,00</td>\n",
       "      <td>6681,00</td>\n",
       "      <td>2010000,0</td>\n",
       "      <td>-0,0003</td>\n",
       "    </tr>\n",
       "    <tr>\n",
       "      <th>2</th>\n",
       "      <td>09/01/2018</td>\n",
       "      <td>6653,00</td>\n",
       "      <td>6800,00</td>\n",
       "      <td>6811,00</td>\n",
       "      <td>6648,00</td>\n",
       "      <td>2100000,0</td>\n",
       "      <td>-0,0129</td>\n",
       "    </tr>\n",
       "    <tr>\n",
       "      <th>3</th>\n",
       "      <td>10/01/2018</td>\n",
       "      <td>6666,00</td>\n",
       "      <td>6650,00</td>\n",
       "      <td>6699,00</td>\n",
       "      <td>6636,00</td>\n",
       "      <td>1070000,0</td>\n",
       "      <td>0,002</td>\n",
       "    </tr>\n",
       "    <tr>\n",
       "      <th>4</th>\n",
       "      <td>11/01/2018</td>\n",
       "      <td>6564,00</td>\n",
       "      <td>6634,00</td>\n",
       "      <td>6644,00</td>\n",
       "      <td>6528,00</td>\n",
       "      <td>1660000,0</td>\n",
       "      <td>-0,0153</td>\n",
       "    </tr>\n",
       "    <tr>\n",
       "      <th>...</th>\n",
       "      <td>...</td>\n",
       "      <td>...</td>\n",
       "      <td>...</td>\n",
       "      <td>...</td>\n",
       "      <td>...</td>\n",
       "      <td>...</td>\n",
       "      <td>...</td>\n",
       "    </tr>\n",
       "    <tr>\n",
       "      <th>1447</th>\n",
       "      <td>08/12/2023</td>\n",
       "      <td>5744,00</td>\n",
       "      <td>5732,00</td>\n",
       "      <td>5769,00</td>\n",
       "      <td>5679,00</td>\n",
       "      <td>2320000,0</td>\n",
       "      <td>-0,025</td>\n",
       "    </tr>\n",
       "    <tr>\n",
       "      <th>1448</th>\n",
       "      <td>11/12/2023</td>\n",
       "      <td>5742,00</td>\n",
       "      <td>5724,00</td>\n",
       "      <td>5782,00</td>\n",
       "      <td>5708,00</td>\n",
       "      <td>1490000,0</td>\n",
       "      <td>-0,0003</td>\n",
       "    </tr>\n",
       "    <tr>\n",
       "      <th>1449</th>\n",
       "      <td>12/12/2023</td>\n",
       "      <td>5639,00</td>\n",
       "      <td>5800,00</td>\n",
       "      <td>5818,00</td>\n",
       "      <td>5638,00</td>\n",
       "      <td>1760000,0</td>\n",
       "      <td>-0,0179</td>\n",
       "    </tr>\n",
       "    <tr>\n",
       "      <th>1450</th>\n",
       "      <td>13/12/2023</td>\n",
       "      <td>5682,00</td>\n",
       "      <td>5600,00</td>\n",
       "      <td>5696,00</td>\n",
       "      <td>5545,00</td>\n",
       "      <td>1940000,0</td>\n",
       "      <td>0,0076</td>\n",
       "    </tr>\n",
       "    <tr>\n",
       "      <th>1451</th>\n",
       "      <td>14/12/2023</td>\n",
       "      <td>5461,00</td>\n",
       "      <td>5566,00</td>\n",
       "      <td>5595,00</td>\n",
       "      <td>5436,00</td>\n",
       "      <td>2310000,0</td>\n",
       "      <td>-0,0389</td>\n",
       "    </tr>\n",
       "  </tbody>\n",
       "</table>\n",
       "<p>1452 rows × 7 columns</p>\n",
       "</div>"
      ],
      "text/plain": [
       "            Date    Price     Open     High      Low     Volume   Change\n",
       "0     04/01/2018  6742,00  6600,00  6744,00  6588,00  1940000,0   0,0318\n",
       "1     05/01/2018  6740,00  6742,00  6775,00  6681,00  2010000,0  -0,0003\n",
       "2     09/01/2018  6653,00  6800,00  6811,00  6648,00  2100000,0  -0,0129\n",
       "3     10/01/2018  6666,00  6650,00  6699,00  6636,00  1070000,0    0,002\n",
       "4     11/01/2018  6564,00  6634,00  6644,00  6528,00  1660000,0  -0,0153\n",
       "...          ...      ...      ...      ...      ...        ...      ...\n",
       "1447  08/12/2023  5744,00  5732,00  5769,00  5679,00  2320000,0   -0,025\n",
       "1448  11/12/2023  5742,00  5724,00  5782,00  5708,00  1490000,0  -0,0003\n",
       "1449  12/12/2023  5639,00  5800,00  5818,00  5638,00  1760000,0  -0,0179\n",
       "1450  13/12/2023  5682,00  5600,00  5696,00  5545,00  1940000,0   0,0076\n",
       "1451  14/12/2023  5461,00  5566,00  5595,00  5436,00  2310000,0  -0,0389\n",
       "\n",
       "[1452 rows x 7 columns]"
      ]
     },
     "execution_count": 2,
     "metadata": {},
     "output_type": "execute_result"
    }
   ],
   "source": [
    "data= pd.read_csv(\"Suzuki-2.csv\",delimiter=\";\")\n",
    "data"
   ]
  },
  {
   "cell_type": "markdown",
   "id": "79f8654f",
   "metadata": {},
   "source": [
    "## Data Exploration"
   ]
  },
  {
   "cell_type": "code",
   "execution_count": 3,
   "id": "b39bad11",
   "metadata": {},
   "outputs": [
    {
     "name": "stdout",
     "output_type": "stream",
     "text": [
      "<class 'pandas.core.frame.DataFrame'>\n",
      "RangeIndex: 1452 entries, 0 to 1451\n",
      "Data columns (total 7 columns):\n",
      " #   Column  Non-Null Count  Dtype \n",
      "---  ------  --------------  ----- \n",
      " 0   Date    1452 non-null   object\n",
      " 1   Price   1452 non-null   object\n",
      " 2   Open    1452 non-null   object\n",
      " 3   High    1452 non-null   object\n",
      " 4   Low     1452 non-null   object\n",
      " 5   Volume  1452 non-null   object\n",
      " 6   Change  1452 non-null   object\n",
      "dtypes: object(7)\n",
      "memory usage: 79.5+ KB\n"
     ]
    }
   ],
   "source": [
    "# Check the data type of each value column\n",
    "data.info()"
   ]
  },
  {
   "cell_type": "code",
   "execution_count": 4,
   "id": "f8b9c1e2",
   "metadata": {},
   "outputs": [
    {
     "data": {
      "text/plain": [
       "0      2018-01-04\n",
       "1      2018-01-05\n",
       "2      2018-01-09\n",
       "3      2018-01-10\n",
       "4      2018-01-11\n",
       "          ...    \n",
       "1447   2023-12-08\n",
       "1448   2023-12-11\n",
       "1449   2023-12-12\n",
       "1450   2023-12-13\n",
       "1451   2023-12-14\n",
       "Name: Date, Length: 1452, dtype: datetime64[ns]"
      ]
     },
     "execution_count": 4,
     "metadata": {},
     "output_type": "execute_result"
    }
   ],
   "source": [
    "# Reformat the date data type\n",
    "data['Date'] = pd.to_datetime(data['Date'], format='%d/%m/%Y')  # Ví dụ cho định dạng dd/mm/yyyy\n",
    "data['Date']"
   ]
  },
  {
   "cell_type": "code",
   "execution_count": 5,
   "id": "f075de4b",
   "metadata": {},
   "outputs": [
    {
     "name": "stdout",
     "output_type": "stream",
     "text": [
      "<class 'pandas.core.frame.DataFrame'>\n",
      "RangeIndex: 1452 entries, 0 to 1451\n",
      "Data columns (total 7 columns):\n",
      " #   Column  Non-Null Count  Dtype         \n",
      "---  ------  --------------  -----         \n",
      " 0   Date    1452 non-null   datetime64[ns]\n",
      " 1   Price   1452 non-null   float64       \n",
      " 2   Open    1452 non-null   float64       \n",
      " 3   High    1452 non-null   float64       \n",
      " 4   Low     1452 non-null   float64       \n",
      " 5   Volume  1452 non-null   float64       \n",
      " 6   Change  1452 non-null   float64       \n",
      "dtypes: datetime64[ns](1), float64(6)\n",
      "memory usage: 79.5 KB\n"
     ]
    }
   ],
   "source": [
    "# Clean data and cast data for calculation\n",
    "data['Price'] = data['Price'].str.replace(',', '.').astype(float)\n",
    "data['Open'] = data['Open'].str.replace(',', '.').astype(float)\n",
    "data['High'] = data['High'].str.replace(',', '.').astype(float)\n",
    "data['Low'] = data['Low'].str.replace(',', '.').astype(float)\n",
    "data['Volume'] = data['Volume'].str.replace(',', '.').astype(float)\n",
    "data['Change'] = data['Change'].str.replace(',', '.').astype(float)\n",
    "data.info()"
   ]
  },
  {
   "cell_type": "code",
   "execution_count": 6,
   "id": "0b9eea0a",
   "metadata": {},
   "outputs": [
    {
     "data": {
      "text/html": [
       "<div>\n",
       "<style scoped>\n",
       "    .dataframe tbody tr th:only-of-type {\n",
       "        vertical-align: middle;\n",
       "    }\n",
       "\n",
       "    .dataframe tbody tr th {\n",
       "        vertical-align: top;\n",
       "    }\n",
       "\n",
       "    .dataframe thead th {\n",
       "        text-align: right;\n",
       "    }\n",
       "</style>\n",
       "<table border=\"1\" class=\"dataframe\">\n",
       "  <thead>\n",
       "    <tr style=\"text-align: right;\">\n",
       "      <th></th>\n",
       "      <th>Date</th>\n",
       "      <th>Price</th>\n",
       "      <th>Open</th>\n",
       "      <th>High</th>\n",
       "      <th>Low</th>\n",
       "      <th>Volume</th>\n",
       "      <th>Change</th>\n",
       "    </tr>\n",
       "  </thead>\n",
       "  <tbody>\n",
       "    <tr>\n",
       "      <th>count</th>\n",
       "      <td>1452</td>\n",
       "      <td>1452.000000</td>\n",
       "      <td>1452.000000</td>\n",
       "      <td>1452.000000</td>\n",
       "      <td>1452.000000</td>\n",
       "      <td>1.452000e+03</td>\n",
       "      <td>1452.000000</td>\n",
       "    </tr>\n",
       "    <tr>\n",
       "      <th>mean</th>\n",
       "      <td>2020-12-26 16:00:59.504132352</td>\n",
       "      <td>4968.014807</td>\n",
       "      <td>4971.077135</td>\n",
       "      <td>5025.840220</td>\n",
       "      <td>4914.231061</td>\n",
       "      <td>1.824907e+06</td>\n",
       "      <td>0.000106</td>\n",
       "    </tr>\n",
       "    <tr>\n",
       "      <th>min</th>\n",
       "      <td>2018-01-04 00:00:00</td>\n",
       "      <td>2465.500000</td>\n",
       "      <td>2469.500000</td>\n",
       "      <td>2551.500000</td>\n",
       "      <td>2438.000000</td>\n",
       "      <td>4.430000e+05</td>\n",
       "      <td>-0.139700</td>\n",
       "    </tr>\n",
       "    <tr>\n",
       "      <th>25%</th>\n",
       "      <td>2019-07-01 18:00:00</td>\n",
       "      <td>4493.250000</td>\n",
       "      <td>4500.000000</td>\n",
       "      <td>4566.000000</td>\n",
       "      <td>4451.750000</td>\n",
       "      <td>1.260000e+06</td>\n",
       "      <td>-0.011725</td>\n",
       "    </tr>\n",
       "    <tr>\n",
       "      <th>50%</th>\n",
       "      <td>2020-12-28 12:00:00</td>\n",
       "      <td>4867.500000</td>\n",
       "      <td>4870.500000</td>\n",
       "      <td>4921.500000</td>\n",
       "      <td>4818.500000</td>\n",
       "      <td>1.630000e+06</td>\n",
       "      <td>0.000000</td>\n",
       "    </tr>\n",
       "    <tr>\n",
       "      <th>75%</th>\n",
       "      <td>2022-06-24 18:00:00</td>\n",
       "      <td>5424.250000</td>\n",
       "      <td>5423.500000</td>\n",
       "      <td>5504.250000</td>\n",
       "      <td>5367.000000</td>\n",
       "      <td>2.140000e+06</td>\n",
       "      <td>0.011700</td>\n",
       "    </tr>\n",
       "    <tr>\n",
       "      <th>max</th>\n",
       "      <td>2023-12-14 00:00:00</td>\n",
       "      <td>7639.000000</td>\n",
       "      <td>7613.000000</td>\n",
       "      <td>7680.000000</td>\n",
       "      <td>7494.000000</td>\n",
       "      <td>9.980000e+06</td>\n",
       "      <td>0.111500</td>\n",
       "    </tr>\n",
       "    <tr>\n",
       "      <th>std</th>\n",
       "      <td>NaN</td>\n",
       "      <td>833.802239</td>\n",
       "      <td>836.965130</td>\n",
       "      <td>837.524591</td>\n",
       "      <td>833.583430</td>\n",
       "      <td>8.684992e+05</td>\n",
       "      <td>0.021457</td>\n",
       "    </tr>\n",
       "  </tbody>\n",
       "</table>\n",
       "</div>"
      ],
      "text/plain": [
       "                                Date        Price         Open         High  \\\n",
       "count                           1452  1452.000000  1452.000000  1452.000000   \n",
       "mean   2020-12-26 16:00:59.504132352  4968.014807  4971.077135  5025.840220   \n",
       "min              2018-01-04 00:00:00  2465.500000  2469.500000  2551.500000   \n",
       "25%              2019-07-01 18:00:00  4493.250000  4500.000000  4566.000000   \n",
       "50%              2020-12-28 12:00:00  4867.500000  4870.500000  4921.500000   \n",
       "75%              2022-06-24 18:00:00  5424.250000  5423.500000  5504.250000   \n",
       "max              2023-12-14 00:00:00  7639.000000  7613.000000  7680.000000   \n",
       "std                              NaN   833.802239   836.965130   837.524591   \n",
       "\n",
       "               Low        Volume       Change  \n",
       "count  1452.000000  1.452000e+03  1452.000000  \n",
       "mean   4914.231061  1.824907e+06     0.000106  \n",
       "min    2438.000000  4.430000e+05    -0.139700  \n",
       "25%    4451.750000  1.260000e+06    -0.011725  \n",
       "50%    4818.500000  1.630000e+06     0.000000  \n",
       "75%    5367.000000  2.140000e+06     0.011700  \n",
       "max    7494.000000  9.980000e+06     0.111500  \n",
       "std     833.583430  8.684992e+05     0.021457  "
      ]
     },
     "execution_count": 6,
     "metadata": {},
     "output_type": "execute_result"
    }
   ],
   "source": [
    "# Gets descriptive statistical information about a DataFrame or a Series\n",
    "data.describe()"
   ]
  },
  {
   "cell_type": "markdown",
   "id": "2ab6ee45",
   "metadata": {},
   "source": [
    "## Data Visualization"
   ]
  },
  {
   "cell_type": "code",
   "execution_count": 7,
   "id": "e2596555",
   "metadata": {},
   "outputs": [],
   "source": [
    "# Reshape turns df into a NumPy array of size (-1, 1)\n",
    "df=data['Price'].values\n",
    "df = df.reshape(-1, 1)"
   ]
  },
  {
   "cell_type": "code",
   "execution_count": 8,
   "id": "d7cb69c3",
   "metadata": {},
   "outputs": [
    {
     "data": {
      "text/plain": [
       "array([[0.82661641],\n",
       "       [0.82622983],\n",
       "       [0.80941336],\n",
       "       ...,\n",
       "       [0.61341452],\n",
       "       [0.6217261 ],\n",
       "       [0.57900841]])"
      ]
     },
     "execution_count": 8,
     "metadata": {},
     "output_type": "execute_result"
    }
   ],
   "source": [
    "from sklearn.preprocessing import MinMaxScaler\n",
    "scaler = MinMaxScaler() # Perform data normalization according to the min-max scaling method\n",
    "price_scaled=scaler.fit_transform(df) # Fit và transform the data\n",
    "price_scaled"
   ]
  },
  {
   "cell_type": "code",
   "execution_count": 9,
   "id": "7dc411d8",
   "metadata": {},
   "outputs": [
    {
     "data": {
      "image/png": "[encoded data removed]",
      "text/plain": [
       "<Figure size 640x480 with 1 Axes>"
      ]
     },
     "metadata": {},
     "output_type": "display_data"
    }
   ],
   "source": [
    "# Create plot\n",
    "plt.figure(figure=(10,6))\n",
    "plt.plot(data['Date'],data['Price'].values, label=\"Price\", color=\"IndianRed\")\n",
    "\n",
    "# Adding title\n",
    "plt.title(\"Plot of price due to date\")\n",
    "\n",
    "# Adding label\n",
    "plt.xlabel(\"Date\")\n",
    "plt.ylabel(\"Price\")\n",
    "\n",
    "# Show the plot\n",
    "plt.legend()\n",
    "plt.show()"
   ]
  },
  {
   "cell_type": "markdown",
   "id": "8916df77",
   "metadata": {},
   "source": [
    "## Data Preprocessing"
   ]
  },
  {
   "cell_type": "markdown",
   "id": "7c98f8f8",
   "metadata": {},
   "source": [
    "### Split data into training and testing set"
   ]
  },
  {
   "cell_type": "markdown",
   "id": "f0af9e79",
   "metadata": {},
   "source": [
    "### Training - testing 7:3"
   ]
  },
  {
   "cell_type": "code",
   "execution_count": 10,
   "id": "6a8e1460",
   "metadata": {},
   "outputs": [],
   "source": [
    "# Split train test validation in ratio 7:3\n",
    "# Split the data into training, testing\n",
    "train_size = int(0.7 * len(data))\n",
    "test_size = int(0.3 * len(data))\n",
    "\n",
    "\n",
    "X2D = data[['High']] # Independent variable in 2-dimensional array\n",
    "Y2D = data[['Price']] # Dependent variable in 2-dimensional array"
   ]
  },
  {
   "cell_type": "markdown",
   "id": "d6663a3d",
   "metadata": {},
   "source": [
    "### SVR"
   ]
  },
  {
   "cell_type": "code",
   "execution_count": 11,
   "id": "fed94425",
   "metadata": {},
   "outputs": [
    {
     "name": "stdout",
     "output_type": "stream",
     "text": [
      "Best parameters: {'C': 1000, 'epsilon': 1, 'gamma': 'scale'}\n",
      "Best score: 523116.6737963289\n"
     ]
    }
   ],
   "source": [
    "from sklearn.svm import SVR\n",
    "from sklearn.model_selection import GridSearchCV\n",
    "from sklearn.model_selection import cross_val_score\n",
    "\n",
    "y_train = Y2D[:train_size]\n",
    "x_train = X2D[:train_size]\n",
    "y_test = Y2D[train_size:]\n",
    "x_test = X2D[train_size:]\n",
    "y_train_index = y_train.index # Get the index before converting it to a 2-dimensional array (serves plot)\n",
    "y_train = Y2D[:train_size].values.ravel()\n",
    "\n",
    "# Create SVR model with RBF kernel\n",
    "model = SVR(kernel='rbf')\n",
    "param_grid = {\n",
    "    'C': [0.1, 1, 10, 100, 1000],             \n",
    "    'gamma': ['scale', 'auto', 0.001, 0.01, 0.1, 1],  \n",
    "    'epsilon': [0.001, 0.01, 0.1, 1, 10]     \n",
    "}\n",
    "\n",
    "# Create a GridSearchCV object\n",
    "grid_search = GridSearchCV(model, param_grid, cv=5, scoring='neg_mean_squared_error', n_jobs=-1)\n",
    "\n",
    "# Train the model using grid search\n",
    "svr_rbf = grid_search.fit(x_train,y_train)\n",
    "\n",
    "print(\"Best parameters:\", grid_search.best_params_)\n",
    "print(\"Best score:\", -grid_search.best_score_)"
   ]
  },
  {
   "cell_type": "code",
   "execution_count": 12,
   "id": "b42b2c6c",
   "metadata": {},
   "outputs": [
    {
     "data": {
      "text/plain": [
       "array([3548.20541418, 3817.41953603, 3719.03976454, 3780.41872521,\n",
       "       3864.8072296 , 3927.90847401, 4074.11051746, 4018.33306924,\n",
       "       4160.95071323, 4242.36774609, 4159.91781963, 4230.02869752,\n",
       "       4192.94647716, 4223.85484696, 4279.3092151 , 4238.25604508,\n",
       "       4143.3863536 , 4165.08186149, 4208.40841387, 4096.85927157,\n",
       "       3965.82884482, 3947.35993562, 3853.67938484, 3812.40335358,\n",
       "       3802.3859475 , 3823.44547569, 3852.66885594, 3865.81993211,\n",
       "       3952.48637199, 4128.91481777, 4128.91481777, 4035.87820916,\n",
       "       3981.24678449, 3992.56724429, 3910.5466378 , 3857.72333423,\n",
       "       4014.20741793, 3984.33307055, 3974.04887017, 3896.28113996,\n",
       "       3846.60956988, 3702.3427345 , 3756.56697487, 3798.38460998,\n",
       "       3668.13184235, 3716.08922724, 3607.02220471, 3662.28791028,\n",
       "       3737.76735169, 3750.62237266, 3677.88476011, 3706.26653239,\n",
       "       3690.58900717, 3783.40846112, 3799.38464173, 3918.7117111 ,\n",
       "       3920.75444149, 3910.5466378 , 3909.52667331, 4004.92884751,\n",
       "       4010.08287751, 4089.62047908, 4046.20610082, 3971.99323266,\n",
       "       3951.46084239, 4033.8132216 , 4146.48668353, 4021.42800384,\n",
       "       4109.26880571, 4114.43924651, 4168.17975721, 4098.92753535,\n",
       "       4187.78936532, 4261.8794228 , 4277.26008457, 4248.53275468,\n",
       "       4296.71082777, 4235.17139858, 4241.33994652, 4301.82337881,\n",
       "       4260.85329708, 4233.11455946, 4278.28469847, 4332.44335996,\n",
       "       4265.98300306, 4228.99991781, 4341.61037066, 4350.76842484,\n",
       "       4389.33555762, 4399.45768112, 4359.91744344, 4396.42223149,\n",
       "       4382.24333823, 4362.96509746, 4353.81910502, 4392.3733824 ,\n",
       "       4395.41018887, 4369.05736624, 4331.42425442, 4361.94932521,\n",
       "       4370.07234975, 4346.69928978, 4730.27471546, 4775.64794094,\n",
       "       4847.64741295, 4787.48172223, 4822.98506364, 4818.05352789,\n",
       "       4876.26949444, 4810.16353455, 4890.0939624 , 4849.62081434,\n",
       "       4797.34316706, 4780.57872097, 4793.39857075, 4875.28222014,\n",
       "       4745.07327024, 4845.67408077, 4841.72761596, 4901.94769518,\n",
       "       4956.33543338, 4907.87612185, 4852.58105062, 4915.78239496,\n",
       "       4989.02027535, 5011.82579614, 5042.5971098 , 5003.89105244,\n",
       "       4910.8407422 , 4937.53532277, 4944.46017344, 4990.01138343,\n",
       "       4952.37643079, 4824.95775036, 4722.38041358, 4713.49758654,\n",
       "       4655.20161354, 4621.53693493, 4550.00081748, 4581.84147917,\n",
       "       4702.63792859, 4789.45400227, 4793.39857075, 4812.13598571,\n",
       "       4682.88349894, 4539.0361239 , 4603.68724506, 4708.5617951 ,\n",
       "       4628.47310653, 4679.91912244, 4674.9777232 , 4648.27562716,\n",
       "       4641.34718049, 4661.13631135, 4730.27471546, 4813.12222236,\n",
       "       4808.19111094, 4819.03981548, 4980.1020679 , 5021.74782743,\n",
       "       4991.99371786, 4997.94167028, 5035.64539524, 5102.26071591,\n",
       "       5622.40831989, 5225.9191714 , 5215.93467883, 5132.14066906,\n",
       "       5036.63837807, 4999.92463847, 5011.82579614, 5050.54430162,\n",
       "       5063.46383386, 5077.38444285, 5018.77079747, 4981.09282356,\n",
       "       4973.16786324, 4944.46017344, 4874.29496972, 4908.86429808,\n",
       "       4839.7544792 , 4730.27471546, 4721.39352796, 4770.71706103,\n",
       "       4692.76239033, 4718.43273196, 4634.41614694, 4709.54900725,\n",
       "       4739.15430468, 4689.79909178, 4733.23474333, 4628.47310653,\n",
       "       4615.58930568, 4362.96509746, 4432.78085039, 4344.66405485,\n",
       "       4389.33555762, 4364.99630437, 4304.88966834, 4232.0860188 ,\n",
       "       4262.90545662, 4173.34197932, 4182.63080464, 4255.72130267,\n",
       "       4269.0597096 , 4260.85329708, 4283.40630275, 4265.98300306,\n",
       "       4133.05004078, 4231.05739801, 4418.65863705, 4270.0850902 ,\n",
       "       4301.82337881, 4392.3733824 , 4456.94017495, 4703.62531217,\n",
       "       4738.16775454, 4807.20490873, 4838.76793382, 4847.64741295,\n",
       "       4836.79488776, 4800.30164445, 4805.232522  , 4894.04475819,\n",
       "       4882.19365407, 4897.99599842, 4773.67560325, 4741.12735565,\n",
       "       4671.02388255, 4704.61266627, 4721.39352796, 4782.55101411,\n",
       "       4789.45400227, 4794.38471644, 4752.96442786, 4702.63792859,\n",
       "       4687.82338684, 4735.20800133, 4769.73086946, 4826.93048185,\n",
       "       4803.26015688, 4863.43672886, 4920.72483893, 4925.6680937 ,\n",
       "       4941.49216865, 4971.18700866, 4885.15607369, 4803.26015688,\n",
       "       4587.80282154, 4644.31682417, 4437.81923405, 4466.98822316,\n",
       "       4458.95063657, 4562.94593815, 4662.12526661, 4651.2442009 ,\n",
       "       4733.23474333, 4787.48172223, 4839.7544792 , 4834.82189952,\n",
       "       4866.39780015, 4825.94411037, 4843.7008158 , 4793.39857075,\n",
       "       4698.68809208, 4672.0124043 , 4631.44488083, 4647.28600266,\n",
       "       4667.06937502, 4629.46375504, 4637.38691475, 4684.85956319,\n",
       "       4688.81125681, 4679.91912244, 4629.46375504, 4592.76862053,\n",
       "       4606.66363462, 4624.50993327, 4584.82247949, 4623.51899332,\n",
       "       4673.98932426, 4795.37086419, 4788.46786216, 4790.44014287,\n",
       "       4835.80838654, 4833.83542641, 4813.12222236, 4823.97140155,\n",
       "       4882.19365407, 4749.01895359, 4638.37706166, 4664.10304244,\n",
       "       4661.13631135, 4696.71298737, 4741.12735565, 4661.13631135,\n",
       "       4569.91071276, 4570.9053653 , 4606.66363462, 4587.80282154,\n",
       "       4562.94593815, 4564.93627109, 4589.78935508, 4782.55101411,\n",
       "       4851.59428697, 5015.79412804, 4962.27504808, 5044.58367093,\n",
       "       5018.77079747, 5020.75544405, 5090.31728611, 5071.4175569 ,\n",
       "       5063.46383386, 5034.65245225, 4972.17741678, 4993.97621026,\n",
       "       5032.66668584, 5067.44038974, 4941.49216865, 4921.71342441,\n",
       "       4995.95886097, 5222.92369108, 5184.99257886, 5250.88498496,\n",
       "       5240.89801873, 5367.7153667 , 5464.40216988, 5478.3368565 ,\n",
       "       5448.47032311, 5372.70454549, 5391.6587858 , 5363.72368318,\n",
       "       5339.76785392, 5274.85563253, 5361.72773151, 5449.4662661 ,\n",
       "       5435.52062865, 5519.1159679 , 5558.86266696, 5507.1850278 ,\n",
       "       5505.19619389, 5527.06802927, 5697.88088314, 5686.95105029,\n",
       "       5594.61148595, 5433.52796973, 5424.5597112 , 5401.6315214 ,\n",
       "       5334.77596435, 5327.78678284, 5257.87622152, 5327.78678284,\n",
       "       5231.91043989, 5161.05069431, 5196.96815951, 5150.08206475,\n",
       "       5180.00361102, 5264.86766291, 5305.81745133, 5352.74508419,\n",
       "       5330.78221934, 5443.49020526, 5526.07410191, 5556.87607554,\n",
       "       5703.84402991, 5733.67817571, 5874.57334302, 5914.81769197,\n",
       "       6004.8244673 , 5970.36986642, 5882.61144942, 5908.77244534,\n",
       "       5952.16264317, 6070.86495592, 6151.19428026, 6284.2873943 ,\n",
       "       6252.26159485, 6209.95994932, 6195.80541693, 6019.03269526,\n",
       "       6089.17438427, 6104.43288494, 6099.34686234, 6096.29515367,\n",
       "       6010.91235724, 6097.31239564, 5886.63251143, 5599.57548904,\n",
       "       5607.51756044, 5772.52176559, 5923.89122383, 5960.25169023,\n",
       "       6053.57769814, 5985.56080679, 5897.69737431, 6018.01746416,\n",
       "       5924.89981139, 5834.46122395, 5802.45992117, 5805.45694786,\n",
       "       5785.48804043, 5875.57781439, 5799.46350445, 5792.47419003,\n",
       "       5873.56895478, 5833.4600412 , 5996.710641  , 6087.13988155,\n",
       "       6098.32963217, 6082.0537027 , 6318.07578446, 6407.01589047,\n",
       "       6407.01589047, 6522.32990309, 6496.26183865, 6391.55205357,\n",
       "       6329.93481311, 6331.90774029, 6301.21490081, 6008.88282851,\n",
       "       5960.25169023, 6027.15637849, 6021.06331379, 6089.17438427,\n",
       "       6046.46174385, 6010.91235724, 6042.39624401, 5970.36986642,\n",
       "       5822.45200799, 5912.80227331, 5909.77977604, 5718.75695196,\n",
       "       5731.68815114, 5767.53737609, 5646.23419047, 5545.94853936])"
      ]
     },
     "execution_count": 12,
     "metadata": {},
     "output_type": "execute_result"
    }
   ],
   "source": [
    "# Predict test\n",
    "y_pred = svr_rbf.predict(x_test)\n",
    "y_pred"
   ]
  },
  {
   "cell_type": "code",
   "execution_count": 13,
   "id": "caf83afb",
   "metadata": {},
   "outputs": [
    {
     "data": {
      "text/plain": [
       "array([[5461.]])"
      ]
     },
     "execution_count": 13,
     "metadata": {},
     "output_type": "execute_result"
    }
   ],
   "source": [
    "last_row = data.tail(1)\n",
    "last_data = last_row['Price'].values.reshape(-1,1)\n",
    "last_data"
   ]
  },
  {
   "cell_type": "markdown",
   "id": "66364216",
   "metadata": {},
   "source": [
    "## Predict"
   ]
  },
  {
   "cell_type": "code",
   "execution_count": 14,
   "id": "45e46d01",
   "metadata": {},
   "outputs": [
    {
     "name": "stderr",
     "output_type": "stream",
     "text": [
      "/Library/Frameworks/Python.framework/Versions/3.11/lib/python3.11/site-packages/sklearn/base.py:465: UserWarning: X does not have valid feature names, but SVR was fitted with feature names\n",
      "  warnings.warn(\n",
      "/Library/Frameworks/Python.framework/Versions/3.11/lib/python3.11/site-packages/sklearn/base.py:465: UserWarning: X does not have valid feature names, but SVR was fitted with feature names\n",
      "  warnings.warn(\n",
      "/Library/Frameworks/Python.framework/Versions/3.11/lib/python3.11/site-packages/sklearn/base.py:465: UserWarning: X does not have valid feature names, but SVR was fitted with feature names\n",
      "  warnings.warn(\n",
      "/Library/Frameworks/Python.framework/Versions/3.11/lib/python3.11/site-packages/sklearn/base.py:465: UserWarning: X does not have valid feature names, but SVR was fitted with feature names\n",
      "  warnings.warn(\n",
      "/Library/Frameworks/Python.framework/Versions/3.11/lib/python3.11/site-packages/sklearn/base.py:465: UserWarning: X does not have valid feature names, but SVR was fitted with feature names\n",
      "  warnings.warn(\n",
      "/Library/Frameworks/Python.framework/Versions/3.11/lib/python3.11/site-packages/sklearn/base.py:465: UserWarning: X does not have valid feature names, but SVR was fitted with feature names\n",
      "  warnings.warn(\n",
      "/Library/Frameworks/Python.framework/Versions/3.11/lib/python3.11/site-packages/sklearn/base.py:465: UserWarning: X does not have valid feature names, but SVR was fitted with feature names\n",
      "  warnings.warn(\n",
      "/Library/Frameworks/Python.framework/Versions/3.11/lib/python3.11/site-packages/sklearn/base.py:465: UserWarning: X does not have valid feature names, but SVR was fitted with feature names\n",
      "  warnings.warn(\n",
      "/Library/Frameworks/Python.framework/Versions/3.11/lib/python3.11/site-packages/sklearn/base.py:465: UserWarning: X does not have valid feature names, but SVR was fitted with feature names\n",
      "  warnings.warn(\n",
      "/Library/Frameworks/Python.framework/Versions/3.11/lib/python3.11/site-packages/sklearn/base.py:465: UserWarning: X does not have valid feature names, but SVR was fitted with feature names\n",
      "  warnings.warn(\n",
      "/Library/Frameworks/Python.framework/Versions/3.11/lib/python3.11/site-packages/sklearn/base.py:465: UserWarning: X does not have valid feature names, but SVR was fitted with feature names\n",
      "  warnings.warn(\n",
      "/Library/Frameworks/Python.framework/Versions/3.11/lib/python3.11/site-packages/sklearn/base.py:465: UserWarning: X does not have valid feature names, but SVR was fitted with feature names\n",
      "  warnings.warn(\n",
      "/Library/Frameworks/Python.framework/Versions/3.11/lib/python3.11/site-packages/sklearn/base.py:465: UserWarning: X does not have valid feature names, but SVR was fitted with feature names\n",
      "  warnings.warn(\n",
      "/Library/Frameworks/Python.framework/Versions/3.11/lib/python3.11/site-packages/sklearn/base.py:465: UserWarning: X does not have valid feature names, but SVR was fitted with feature names\n",
      "  warnings.warn(\n",
      "/Library/Frameworks/Python.framework/Versions/3.11/lib/python3.11/site-packages/sklearn/base.py:465: UserWarning: X does not have valid feature names, but SVR was fitted with feature names\n",
      "  warnings.warn(\n",
      "/Library/Frameworks/Python.framework/Versions/3.11/lib/python3.11/site-packages/sklearn/base.py:465: UserWarning: X does not have valid feature names, but SVR was fitted with feature names\n",
      "  warnings.warn(\n",
      "/Library/Frameworks/Python.framework/Versions/3.11/lib/python3.11/site-packages/sklearn/base.py:465: UserWarning: X does not have valid feature names, but SVR was fitted with feature names\n",
      "  warnings.warn(\n",
      "/Library/Frameworks/Python.framework/Versions/3.11/lib/python3.11/site-packages/sklearn/base.py:465: UserWarning: X does not have valid feature names, but SVR was fitted with feature names\n",
      "  warnings.warn(\n",
      "/Library/Frameworks/Python.framework/Versions/3.11/lib/python3.11/site-packages/sklearn/base.py:465: UserWarning: X does not have valid feature names, but SVR was fitted with feature names\n",
      "  warnings.warn(\n",
      "/Library/Frameworks/Python.framework/Versions/3.11/lib/python3.11/site-packages/sklearn/base.py:465: UserWarning: X does not have valid feature names, but SVR was fitted with feature names\n",
      "  warnings.warn(\n",
      "/Library/Frameworks/Python.framework/Versions/3.11/lib/python3.11/site-packages/sklearn/base.py:465: UserWarning: X does not have valid feature names, but SVR was fitted with feature names\n",
      "  warnings.warn(\n",
      "/Library/Frameworks/Python.framework/Versions/3.11/lib/python3.11/site-packages/sklearn/base.py:465: UserWarning: X does not have valid feature names, but SVR was fitted with feature names\n",
      "  warnings.warn(\n",
      "/Library/Frameworks/Python.framework/Versions/3.11/lib/python3.11/site-packages/sklearn/base.py:465: UserWarning: X does not have valid feature names, but SVR was fitted with feature names\n",
      "  warnings.warn(\n",
      "/Library/Frameworks/Python.framework/Versions/3.11/lib/python3.11/site-packages/sklearn/base.py:465: UserWarning: X does not have valid feature names, but SVR was fitted with feature names\n",
      "  warnings.warn(\n",
      "/Library/Frameworks/Python.framework/Versions/3.11/lib/python3.11/site-packages/sklearn/base.py:465: UserWarning: X does not have valid feature names, but SVR was fitted with feature names\n",
      "  warnings.warn(\n",
      "/Library/Frameworks/Python.framework/Versions/3.11/lib/python3.11/site-packages/sklearn/base.py:465: UserWarning: X does not have valid feature names, but SVR was fitted with feature names\n",
      "  warnings.warn(\n",
      "/Library/Frameworks/Python.framework/Versions/3.11/lib/python3.11/site-packages/sklearn/base.py:465: UserWarning: X does not have valid feature names, but SVR was fitted with feature names\n",
      "  warnings.warn(\n",
      "/Library/Frameworks/Python.framework/Versions/3.11/lib/python3.11/site-packages/sklearn/base.py:465: UserWarning: X does not have valid feature names, but SVR was fitted with feature names\n",
      "  warnings.warn(\n",
      "/Library/Frameworks/Python.framework/Versions/3.11/lib/python3.11/site-packages/sklearn/base.py:465: UserWarning: X does not have valid feature names, but SVR was fitted with feature names\n",
      "  warnings.warn(\n",
      "/Library/Frameworks/Python.framework/Versions/3.11/lib/python3.11/site-packages/sklearn/base.py:465: UserWarning: X does not have valid feature names, but SVR was fitted with feature names\n",
      "  warnings.warn(\n"
     ]
    },
    {
     "data": {
      "text/plain": [
       "[array([5412.59880761]),\n",
       " array([5364.3212646]),\n",
       " array([5316.12487895]),\n",
       " array([5267.98876619]),\n",
       " array([5219.91710538]),\n",
       " array([5171.93970909]),\n",
       " array([5124.10976668]),\n",
       " array([5076.49903723]),\n",
       " array([5029.19102306]),\n",
       " array([4982.27288721]),\n",
       " array([4935.82701566]),\n",
       " array([4889.92311578]),\n",
       " array([4844.6115836]),\n",
       " array([4799.91860227]),\n",
       " array([4755.84312612]),\n",
       " array([4712.355628]),\n",
       " array([4669.39829426]),\n",
       " array([4626.88625906]),\n",
       " array([4584.70947096]),\n",
       " array([4542.73485688]),\n",
       " array([4500.80856589]),\n",
       " array([4458.75821962]),\n",
       " array([4416.39525676]),\n",
       " array([4373.51763696]),\n",
       " array([4329.91336911]),\n",
       " array([4285.3655553]),\n",
       " array([4239.65988415]),\n",
       " array([4192.59572146]),\n",
       " array([4144.00202044]),\n",
       " array([4093.75898851])]"
      ]
     },
     "execution_count": 14,
     "metadata": {},
     "output_type": "execute_result"
    }
   ],
   "source": [
    "# Create an array containing the predict value of the next 30 days\n",
    "x_next_30_days = []\n",
    "# Predict the price for the next 30 days based on the price of the previous day\n",
    "for i in range(30):\n",
    "    x_pred_next = svr_rbf.predict(last_data)\n",
    "    x_next_30_days.append(x_pred_next)\n",
    "    last_data = x_pred_next.reshape(-1,1)\n",
    "x_next_30_days"
   ]
  },
  {
   "cell_type": "code",
   "execution_count": 15,
   "id": "0fa0d29f",
   "metadata": {},
   "outputs": [
    {
     "data": {
      "image/png": "[encoded data removed]",
      "text/plain": [
       "<Figure size 1000x600 with 1 Axes>"
      ]
     },
     "metadata": {},
     "output_type": "display_data"
    }
   ],
   "source": [
    "# Drawing plot\n",
    "plt.figure(figsize=(10, 6))\n",
    "plt.plot(x_next_30_days, marker='o', color='b', label='Predicted Next 30 Days')\n",
    "\n",
    "# Setting title\n",
    "plt.title('Predicted price for the next 30 days')\n",
    "plt.xlabel('Date')\n",
    "plt.ylabel('Predicted Value')\n",
    "plt.legend()\n",
    "\n",
    "# Show plot\n",
    "plt.show()"
   ]
  },
  {
   "cell_type": "code",
   "execution_count": 16,
   "id": "6f61b216",
   "metadata": {},
   "outputs": [],
   "source": [
    "# Convert the predict price column into a 2-dimensional array\n",
    "y_pred = y_pred.reshape(-1,1)"
   ]
  },
  {
   "cell_type": "code",
   "execution_count": 17,
   "id": "35727207",
   "metadata": {},
   "outputs": [],
   "source": [
    "# Create index for the next 30 days\n",
    "last_index =  data.index[-1]\n",
    "next_30_dates = pd.RangeIndex(start=last_index, stop=last_index+30, step=1)"
   ]
  },
  {
   "cell_type": "code",
   "execution_count": 18,
   "id": "4eb985cb",
   "metadata": {},
   "outputs": [
    {
     "name": "stdout",
     "output_type": "stream",
     "text": [
      "Testing RMSE: 42.23763693696104\n",
      "Testing MAPE: 0.6251718667486109%\n",
      "Testing MAE: 30.33917984821055\n",
      "Huber loss: [1784.01797402]\n"
     ]
    }
   ],
   "source": [
    "# RMSE\n",
    "test_rmse = np.sqrt(np.mean((y_pred - y_test)**2))\n",
    "print('Testing RMSE:', test_rmse)\n",
    "# MAPE\n",
    "test_mape = mean_absolute_percentage_error(y_test,y_pred)\n",
    "print('Testing MAPE:', str(test_mape*100)+'%')\n",
    "# MAE\n",
    "test_mae = mean_absolute_error(y_test,y_pred)\n",
    "print('Testing MAE:', test_mae)\n",
    "# Huber loss\n",
    "hl= mean_squared_error(y_test, y_pred, multioutput='raw_values')\n",
    "print('Huber loss:', hl)"
   ]
  },
  {
   "cell_type": "code",
   "execution_count": 19,
   "id": "d0f6b108",
   "metadata": {},
   "outputs": [
    {
     "data": {
      "image/png": "[encoded data removed]",
      "text/plain": [
       "<Figure size 640x480 with 1 Axes>"
      ]
     },
     "metadata": {},
     "output_type": "display_data"
    }
   ],
   "source": [
    "plt.plot(y_train_index, y_train)\n",
    "plt.plot(y_test.index, y_test)\n",
    "plt.plot(y_test.index, y_pred)\n",
    "plt.plot(next_30_dates,x_next_30_days)\n",
    "plt.legend(['Train', 'Test', 'Predictions','Next30Day'])\n",
    "plt.show()"
   ]
  },
  {
   "cell_type": "code",
   "execution_count": null,
   "id": "8f9a7746",
   "metadata": {},
   "outputs": [],
   "source": []
  }
 ],
 "metadata": {
  "kernelspec": {
   "display_name": "Python 3 (ipykernel)",
   "language": "python",
   "name": "python3"
  },
  "language_info": {
   "codemirror_mode": {
    "name": "ipython",
    "version": 3
   },
   "file_extension": ".py",
   "mimetype": "text/x-python",
   "name": "python",
   "nbconvert_exporter": "python",
   "pygments_lexer": "ipython3",
   "version": "3.11.2"
  }
 },
 "nbformat": 4,
 "nbformat_minor": 5
}
