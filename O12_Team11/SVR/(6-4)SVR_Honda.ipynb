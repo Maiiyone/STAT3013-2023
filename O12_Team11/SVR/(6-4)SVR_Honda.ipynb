{
 "cells": [
  {
   "cell_type": "markdown",
   "id": "0c2dab88",
   "metadata": {},
   "source": [
    "## Review steps"
   ]
  },
  {
   "cell_type": "markdown",
   "id": "7ad466ae",
   "metadata": {},
   "source": [
    "1. Data collection\n",
    "2. Data preprocessing\n",
    "3. train-test split\n",
    "4. Choosing ml/dl model\n",
    "5. Train model\n",
    "6. Do prediction and evaluate the model"
   ]
  },
  {
   "cell_type": "code",
   "execution_count": 18,
   "id": "1257413f",
   "metadata": {},
   "outputs": [],
   "source": [
    "import numpy as np # linear algebra import pandas\n",
    "from numpy import array\n",
    "import pandas as pd\n",
    "import math \n",
    "import seaborn as sns \n",
    "import datetime as dt \n",
    "from datetime import datetime\n",
    "sns.set_style(\"whitegrid\") \n",
    "from pandas.plotting import autocorrelation_plot \n",
    "import matplotlib.pyplot as plt\n",
    "%matplotlib inline\n",
    "plt.style.use(\"ggplot\" )\n",
    "from sklearn.metrics import mean_squared_error\n",
    "from sklearn.metrics import mean_absolute_percentage_error\n",
    "from sklearn.metrics import mean_absolute_error\n",
    "from tqdm import tqdm\n",
    "from sklearn.svm import SVR"
   ]
  },
  {
   "cell_type": "markdown",
   "id": "39d47361",
   "metadata": {},
   "source": [
    "## Loading data"
   ]
  },
  {
   "cell_type": "code",
   "execution_count": 19,
   "id": "b92395b0",
   "metadata": {},
   "outputs": [
    {
     "data": {
      "text/html": [
       "<div>\n",
       "<style scoped>\n",
       "    .dataframe tbody tr th:only-of-type {\n",
       "        vertical-align: middle;\n",
       "    }\n",
       "\n",
       "    .dataframe tbody tr th {\n",
       "        vertical-align: top;\n",
       "    }\n",
       "\n",
       "    .dataframe thead th {\n",
       "        text-align: right;\n",
       "    }\n",
       "</style>\n",
       "<table border=\"1\" class=\"dataframe\">\n",
       "  <thead>\n",
       "    <tr style=\"text-align: right;\">\n",
       "      <th></th>\n",
       "      <th>Date</th>\n",
       "      <th>Price</th>\n",
       "      <th>Open</th>\n",
       "      <th>High</th>\n",
       "      <th>Low</th>\n",
       "      <th>Volume</th>\n",
       "      <th>Change</th>\n",
       "    </tr>\n",
       "  </thead>\n",
       "  <tbody>\n",
       "    <tr>\n",
       "      <th>0</th>\n",
       "      <td>04/01/2018</td>\n",
       "      <td>1328,70</td>\n",
       "      <td>1308,30</td>\n",
       "      <td>1328,70</td>\n",
       "      <td>1302,00</td>\n",
       "      <td>14890000,0</td>\n",
       "      <td>0,032200</td>\n",
       "    </tr>\n",
       "    <tr>\n",
       "      <th>1</th>\n",
       "      <td>05/01/2018</td>\n",
       "      <td>1340,30</td>\n",
       "      <td>1333,30</td>\n",
       "      <td>1351,30</td>\n",
       "      <td>1330,00</td>\n",
       "      <td>14300000,0</td>\n",
       "      <td>0,008700</td>\n",
       "    </tr>\n",
       "    <tr>\n",
       "      <th>2</th>\n",
       "      <td>09/01/2018</td>\n",
       "      <td>1336,70</td>\n",
       "      <td>1347,30</td>\n",
       "      <td>1352,30</td>\n",
       "      <td>1332,30</td>\n",
       "      <td>10340000,0</td>\n",
       "      <td>-0,002700</td>\n",
       "    </tr>\n",
       "    <tr>\n",
       "      <th>3</th>\n",
       "      <td>10/01/2018</td>\n",
       "      <td>1367,30</td>\n",
       "      <td>1345,00</td>\n",
       "      <td>1383,70</td>\n",
       "      <td>1342,70</td>\n",
       "      <td>14080000,0</td>\n",
       "      <td>0,022900</td>\n",
       "    </tr>\n",
       "    <tr>\n",
       "      <th>4</th>\n",
       "      <td>11/01/2018</td>\n",
       "      <td>1342,00</td>\n",
       "      <td>1345,00</td>\n",
       "      <td>1351,70</td>\n",
       "      <td>1332,70</td>\n",
       "      <td>12090000,0</td>\n",
       "      <td>-0,018500</td>\n",
       "    </tr>\n",
       "    <tr>\n",
       "      <th>...</th>\n",
       "      <td>...</td>\n",
       "      <td>...</td>\n",
       "      <td>...</td>\n",
       "      <td>...</td>\n",
       "      <td>...</td>\n",
       "      <td>...</td>\n",
       "      <td>...</td>\n",
       "    </tr>\n",
       "    <tr>\n",
       "      <th>1447</th>\n",
       "      <td>08/12/2023</td>\n",
       "      <td>1458,00</td>\n",
       "      <td>1488,00</td>\n",
       "      <td>1490,00</td>\n",
       "      <td>1450,50</td>\n",
       "      <td>28600000,0</td>\n",
       "      <td>-0,025700</td>\n",
       "    </tr>\n",
       "    <tr>\n",
       "      <th>1448</th>\n",
       "      <td>11/12/2023</td>\n",
       "      <td>1494,50</td>\n",
       "      <td>1496,00</td>\n",
       "      <td>1501,00</td>\n",
       "      <td>1486,50</td>\n",
       "      <td>14850000,0</td>\n",
       "      <td>0,025000</td>\n",
       "    </tr>\n",
       "    <tr>\n",
       "      <th>1449</th>\n",
       "      <td>12/12/2023</td>\n",
       "      <td>1477,50</td>\n",
       "      <td>1501,00</td>\n",
       "      <td>1502,00</td>\n",
       "      <td>1477,50</td>\n",
       "      <td>11320000,0</td>\n",
       "      <td>-0,011400</td>\n",
       "    </tr>\n",
       "    <tr>\n",
       "      <th>1450</th>\n",
       "      <td>13/12/2023</td>\n",
       "      <td>1469,00</td>\n",
       "      <td>1476,50</td>\n",
       "      <td>1477,00</td>\n",
       "      <td>1456,00</td>\n",
       "      <td>14080000,0</td>\n",
       "      <td>-0,005800</td>\n",
       "    </tr>\n",
       "    <tr>\n",
       "      <th>1451</th>\n",
       "      <td>14/12/2023</td>\n",
       "      <td>1395,50</td>\n",
       "      <td>1434,00</td>\n",
       "      <td>1439,50</td>\n",
       "      <td>1389,00</td>\n",
       "      <td>27040000,0</td>\n",
       "      <td>-0,050000</td>\n",
       "    </tr>\n",
       "  </tbody>\n",
       "</table>\n",
       "<p>1452 rows × 7 columns</p>\n",
       "</div>"
      ],
      "text/plain": [
       "            Date    Price     Open     High      Low      Volume     Change\n",
       "0     04/01/2018  1328,70  1308,30  1328,70  1302,00  14890000,0   0,032200\n",
       "1     05/01/2018  1340,30  1333,30  1351,30  1330,00  14300000,0   0,008700\n",
       "2     09/01/2018  1336,70  1347,30  1352,30  1332,30  10340000,0  -0,002700\n",
       "3     10/01/2018  1367,30  1345,00  1383,70  1342,70  14080000,0   0,022900\n",
       "4     11/01/2018  1342,00  1345,00  1351,70  1332,70  12090000,0  -0,018500\n",
       "...          ...      ...      ...      ...      ...         ...        ...\n",
       "1447  08/12/2023  1458,00  1488,00  1490,00  1450,50  28600000,0  -0,025700\n",
       "1448  11/12/2023  1494,50  1496,00  1501,00  1486,50  14850000,0   0,025000\n",
       "1449  12/12/2023  1477,50  1501,00  1502,00  1477,50  11320000,0  -0,011400\n",
       "1450  13/12/2023  1469,00  1476,50  1477,00  1456,00  14080000,0  -0,005800\n",
       "1451  14/12/2023  1395,50  1434,00  1439,50  1389,00  27040000,0  -0,050000\n",
       "\n",
       "[1452 rows x 7 columns]"
      ]
     },
     "execution_count": 19,
     "metadata": {},
     "output_type": "execute_result"
    }
   ],
   "source": [
    "data= pd.read_csv(\"Honda-2.csv\",delimiter=\";\")\n",
    "data"
   ]
  },
  {
   "cell_type": "markdown",
   "id": "79f8654f",
   "metadata": {},
   "source": [
    "## Data Exploration"
   ]
  },
  {
   "cell_type": "code",
   "execution_count": 20,
   "id": "b39bad11",
   "metadata": {},
   "outputs": [
    {
     "name": "stdout",
     "output_type": "stream",
     "text": [
      "<class 'pandas.core.frame.DataFrame'>\n",
      "RangeIndex: 1452 entries, 0 to 1451\n",
      "Data columns (total 7 columns):\n",
      " #   Column  Non-Null Count  Dtype \n",
      "---  ------  --------------  ----- \n",
      " 0   Date    1452 non-null   object\n",
      " 1   Price   1452 non-null   object\n",
      " 2   Open    1452 non-null   object\n",
      " 3   High    1452 non-null   object\n",
      " 4   Low     1452 non-null   object\n",
      " 5   Volume  1452 non-null   object\n",
      " 6   Change  1452 non-null   object\n",
      "dtypes: object(7)\n",
      "memory usage: 79.5+ KB\n"
     ]
    }
   ],
   "source": [
    "# Check the data type of each value column\n",
    "data.info()"
   ]
  },
  {
   "cell_type": "code",
   "execution_count": 21,
   "id": "f8b9c1e2",
   "metadata": {},
   "outputs": [
    {
     "data": {
      "text/plain": [
       "0      2018-01-04\n",
       "1      2018-01-05\n",
       "2      2018-01-09\n",
       "3      2018-01-10\n",
       "4      2018-01-11\n",
       "          ...    \n",
       "1447   2023-12-08\n",
       "1448   2023-12-11\n",
       "1449   2023-12-12\n",
       "1450   2023-12-13\n",
       "1451   2023-12-14\n",
       "Name: Date, Length: 1452, dtype: datetime64[ns]"
      ]
     },
     "execution_count": 21,
     "metadata": {},
     "output_type": "execute_result"
    }
   ],
   "source": [
    "# Reformat the date data type\n",
    "data['Date'] = pd.to_datetime(data['Date'], format='%d/%m/%Y')  # Ví dụ cho định dạng dd/mm/yyyy\n",
    "data['Date']"
   ]
  },
  {
   "cell_type": "code",
   "execution_count": 22,
   "id": "f075de4b",
   "metadata": {},
   "outputs": [
    {
     "name": "stdout",
     "output_type": "stream",
     "text": [
      "<class 'pandas.core.frame.DataFrame'>\n",
      "RangeIndex: 1452 entries, 0 to 1451\n",
      "Data columns (total 7 columns):\n",
      " #   Column  Non-Null Count  Dtype         \n",
      "---  ------  --------------  -----         \n",
      " 0   Date    1452 non-null   datetime64[ns]\n",
      " 1   Price   1452 non-null   float64       \n",
      " 2   Open    1452 non-null   float64       \n",
      " 3   High    1452 non-null   float64       \n",
      " 4   Low     1452 non-null   float64       \n",
      " 5   Volume  1452 non-null   float64       \n",
      " 6   Change  1452 non-null   float64       \n",
      "dtypes: datetime64[ns](1), float64(6)\n",
      "memory usage: 79.5 KB\n"
     ]
    }
   ],
   "source": [
    "# Clean data and cast data for calculation\n",
    "data['Price'] = data['Price'].str.replace(',', '.').astype(float)\n",
    "data['Open'] = data['Open'].str.replace(',', '.').astype(float)\n",
    "data['High'] = data['High'].str.replace(',', '.').astype(float)\n",
    "data['Low'] = data['Low'].str.replace(',', '.').astype(float)\n",
    "data['Volume'] = data['Volume'].str.replace(',', '.').astype(float)\n",
    "data['Change'] = data['Change'].str.replace(',', '.').astype(float)\n",
    "data.info()"
   ]
  },
  {
   "cell_type": "code",
   "execution_count": 23,
   "id": "0b9eea0a",
   "metadata": {},
   "outputs": [
    {
     "data": {
      "text/html": [
       "<div>\n",
       "<style scoped>\n",
       "    .dataframe tbody tr th:only-of-type {\n",
       "        vertical-align: middle;\n",
       "    }\n",
       "\n",
       "    .dataframe tbody tr th {\n",
       "        vertical-align: top;\n",
       "    }\n",
       "\n",
       "    .dataframe thead th {\n",
       "        text-align: right;\n",
       "    }\n",
       "</style>\n",
       "<table border=\"1\" class=\"dataframe\">\n",
       "  <thead>\n",
       "    <tr style=\"text-align: right;\">\n",
       "      <th></th>\n",
       "      <th>Date</th>\n",
       "      <th>Price</th>\n",
       "      <th>Open</th>\n",
       "      <th>High</th>\n",
       "      <th>Low</th>\n",
       "      <th>Volume</th>\n",
       "      <th>Change</th>\n",
       "    </tr>\n",
       "  </thead>\n",
       "  <tbody>\n",
       "    <tr>\n",
       "      <th>count</th>\n",
       "      <td>1452</td>\n",
       "      <td>1452.000000</td>\n",
       "      <td>1452.000000</td>\n",
       "      <td>1452.000000</td>\n",
       "      <td>1452.000000</td>\n",
       "      <td>1.452000e+03</td>\n",
       "      <td>1452.000000</td>\n",
       "    </tr>\n",
       "    <tr>\n",
       "      <th>mean</th>\n",
       "      <td>2020-12-26 16:00:59.504132352</td>\n",
       "      <td>1105.688912</td>\n",
       "      <td>1106.123485</td>\n",
       "      <td>1115.705579</td>\n",
       "      <td>1095.946556</td>\n",
       "      <td>1.393168e+07</td>\n",
       "      <td>0.000222</td>\n",
       "    </tr>\n",
       "    <tr>\n",
       "      <th>min</th>\n",
       "      <td>2018-01-04 00:00:00</td>\n",
       "      <td>711.800000</td>\n",
       "      <td>717.200000</td>\n",
       "      <td>746.700000</td>\n",
       "      <td>706.700000</td>\n",
       "      <td>3.360000e+06</td>\n",
       "      <td>-0.071000</td>\n",
       "    </tr>\n",
       "    <tr>\n",
       "      <th>25%</th>\n",
       "      <td>2019-07-01 18:00:00</td>\n",
       "      <td>995.375000</td>\n",
       "      <td>995.725000</td>\n",
       "      <td>1005.600000</td>\n",
       "      <td>986.525000</td>\n",
       "      <td>1.040000e+07</td>\n",
       "      <td>-0.010100</td>\n",
       "    </tr>\n",
       "    <tr>\n",
       "      <th>50%</th>\n",
       "      <td>2020-12-28 12:00:00</td>\n",
       "      <td>1087.000000</td>\n",
       "      <td>1088.300000</td>\n",
       "      <td>1097.150000</td>\n",
       "      <td>1078.150000</td>\n",
       "      <td>1.284000e+07</td>\n",
       "      <td>0.000000</td>\n",
       "    </tr>\n",
       "    <tr>\n",
       "      <th>75%</th>\n",
       "      <td>2022-06-24 18:00:00</td>\n",
       "      <td>1172.700000</td>\n",
       "      <td>1174.400000</td>\n",
       "      <td>1181.325000</td>\n",
       "      <td>1163.850000</td>\n",
       "      <td>1.624750e+07</td>\n",
       "      <td>0.010225</td>\n",
       "    </tr>\n",
       "    <tr>\n",
       "      <th>max</th>\n",
       "      <td>2023-12-14 00:00:00</td>\n",
       "      <td>1802.300000</td>\n",
       "      <td>1802.300000</td>\n",
       "      <td>1821.000000</td>\n",
       "      <td>1780.000000</td>\n",
       "      <td>4.645000e+07</td>\n",
       "      <td>0.106200</td>\n",
       "    </tr>\n",
       "    <tr>\n",
       "      <th>std</th>\n",
       "      <td>NaN</td>\n",
       "      <td>183.522697</td>\n",
       "      <td>184.289369</td>\n",
       "      <td>184.962911</td>\n",
       "      <td>182.567989</td>\n",
       "      <td>5.240151e+06</td>\n",
       "      <td>0.018327</td>\n",
       "    </tr>\n",
       "  </tbody>\n",
       "</table>\n",
       "</div>"
      ],
      "text/plain": [
       "                                Date        Price         Open         High  \\\n",
       "count                           1452  1452.000000  1452.000000  1452.000000   \n",
       "mean   2020-12-26 16:00:59.504132352  1105.688912  1106.123485  1115.705579   \n",
       "min              2018-01-04 00:00:00   711.800000   717.200000   746.700000   \n",
       "25%              2019-07-01 18:00:00   995.375000   995.725000  1005.600000   \n",
       "50%              2020-12-28 12:00:00  1087.000000  1088.300000  1097.150000   \n",
       "75%              2022-06-24 18:00:00  1172.700000  1174.400000  1181.325000   \n",
       "max              2023-12-14 00:00:00  1802.300000  1802.300000  1821.000000   \n",
       "std                              NaN   183.522697   184.289369   184.962911   \n",
       "\n",
       "               Low        Volume       Change  \n",
       "count  1452.000000  1.452000e+03  1452.000000  \n",
       "mean   1095.946556  1.393168e+07     0.000222  \n",
       "min     706.700000  3.360000e+06    -0.071000  \n",
       "25%     986.525000  1.040000e+07    -0.010100  \n",
       "50%    1078.150000  1.284000e+07     0.000000  \n",
       "75%    1163.850000  1.624750e+07     0.010225  \n",
       "max    1780.000000  4.645000e+07     0.106200  \n",
       "std     182.567989  5.240151e+06     0.018327  "
      ]
     },
     "execution_count": 23,
     "metadata": {},
     "output_type": "execute_result"
    }
   ],
   "source": [
    "# Gets descriptive statistical information about a DataFrame or a Series\n",
    "data.describe()"
   ]
  },
  {
   "cell_type": "markdown",
   "id": "2ab6ee45",
   "metadata": {},
   "source": [
    "## Data Visualization"
   ]
  },
  {
   "cell_type": "code",
   "execution_count": 24,
   "id": "e2596555",
   "metadata": {},
   "outputs": [],
   "source": [
    "# Reshape turns df into a NumPy array of size (-1, 1)\n",
    "df=data['Price'].values\n",
    "df = df.reshape(-1, 1)"
   ]
  },
  {
   "cell_type": "code",
   "execution_count": 25,
   "id": "d7cb69c3",
   "metadata": {},
   "outputs": [
    {
     "data": {
      "text/plain": [
       "array([[0.56570381],\n",
       "       [0.57634113],\n",
       "       [0.57303989],\n",
       "       ...,\n",
       "       [0.70215497],\n",
       "       [0.69436039],\n",
       "       [0.62696011]])"
      ]
     },
     "execution_count": 25,
     "metadata": {},
     "output_type": "execute_result"
    }
   ],
   "source": [
    "from sklearn.preprocessing import MinMaxScaler\n",
    "scaler = MinMaxScaler() # Perform data normalization according to the min-max scaling method\n",
    "price_scaled=scaler.fit_transform(df) # Fit và transform the data\n",
    "price_scaled"
   ]
  },
  {
   "cell_type": "code",
   "execution_count": 26,
   "id": "7dc411d8",
   "metadata": {},
   "outputs": [
    {
     "data": {
      "image/png": "[encoded data removed]",
      "text/plain": [
       "<Figure size 640x480 with 1 Axes>"
      ]
     },
     "metadata": {},
     "output_type": "display_data"
    }
   ],
   "source": [
    "# Create plot\n",
    "plt.figure(figure=(10,6))\n",
    "plt.plot(data['Date'],data['Price'].values, label=\"Price\", color=\"IndianRed\")\n",
    "\n",
    "# Adding title\n",
    "plt.title(\"Plot of price due to date\")\n",
    "\n",
    "# Adding label\n",
    "plt.xlabel(\"Date\")\n",
    "plt.ylabel(\"Price\")\n",
    "\n",
    "# Show the plot\n",
    "plt.legend()\n",
    "plt.show()"
   ]
  },
  {
   "cell_type": "markdown",
   "id": "8916df77",
   "metadata": {},
   "source": [
    "## Data Preprocessing"
   ]
  },
  {
   "cell_type": "markdown",
   "id": "7c98f8f8",
   "metadata": {},
   "source": [
    "### Split data into training and testing set"
   ]
  },
  {
   "cell_type": "markdown",
   "id": "5e6d051b",
   "metadata": {},
   "source": [
    "### Training - testing 6:4"
   ]
  },
  {
   "cell_type": "code",
   "execution_count": 27,
   "id": "274c00ca",
   "metadata": {},
   "outputs": [],
   "source": [
    "# Split train test validation in ratio 6:4\n",
    "# Split the data into training, testing\n",
    "train_size = int(0.6 * len(data))\n",
    "test_size = int(0.4 * len(data))\n",
    "\n",
    "X2D = data[['High']] # Independent variable in 2-dimensional array\n",
    "Y2D = data[['Price']] # Dependent variable in 2-dimensional array"
   ]
  },
  {
   "cell_type": "code",
   "execution_count": 28,
   "id": "490f7c24",
   "metadata": {},
   "outputs": [
    {
     "name": "stdout",
     "output_type": "stream",
     "text": [
      "Best parameters: {'C': 1000, 'epsilon': 0.1, 'gamma': 'scale'}\n",
      "Best score: 2012.0313294713262\n"
     ]
    }
   ],
   "source": [
    "from sklearn.svm import SVR\n",
    "from sklearn.model_selection import GridSearchCV\n",
    "from sklearn.model_selection import cross_val_score\n",
    "\n",
    "y_train = Y2D[:train_size]\n",
    "x_train = X2D[:train_size]\n",
    "y_test = Y2D[train_size:]\n",
    "x_test = X2D[train_size:]\n",
    "y_train_index = y_train.index # Get the index before converting it to a 2-dimensional array (serves plot)\n",
    "y_train = Y2D[:train_size].values.ravel()\n",
    "\n",
    "# Create SVR model with RBF kernel\n",
    "model = SVR(kernel='rbf')\n",
    "param_grid = {\n",
    "    'C': [0.1, 1, 10, 100, 1000],             \n",
    "    'gamma': ['scale', 'auto', 0.001, 0.01, 0.1, 1],  \n",
    "    'epsilon': [0.001, 0.01, 0.1, 1, 10]     \n",
    "}\n",
    "\n",
    "# Create a GridSearchCV object\n",
    "grid_search = GridSearchCV(model, param_grid, cv=5, scoring='neg_mean_squared_error', n_jobs=-1)\n",
    "\n",
    "# Train the model using grid search\n",
    "svr_rbf = grid_search.fit(x_train,y_train)\n",
    "\n",
    "print(\"Best parameters:\", grid_search.best_params_)\n",
    "print(\"Best score:\", -grid_search.best_score_)"
   ]
  },
  {
   "cell_type": "code",
   "execution_count": 29,
   "id": "bff4990c",
   "metadata": {},
   "outputs": [
    {
     "data": {
      "text/plain": [
       "array([1184.37742506, 1206.75328349, 1212.18904278, 1210.29357343,\n",
       "       1217.5288195 , 1218.45716768, 1197.34347085, 1175.9411422 ,\n",
       "       1172.73612665, 1158.70102066, 1147.90054028, 1105.46970002,\n",
       "       1101.45924828, 1094.65012618, 1103.31870458, 1094.65012618,\n",
       "       1079.52189218, 1099.88594251, 1108.01383689, 1119.61468969,\n",
       "       1112.78595639, 1123.19801352, 1121.20120302, 1146.8273789 ,\n",
       "       1150.05186159, 1140.43239044, 1136.95413574, 1122.59737531,\n",
       "       1144.36641076, 1128.97152335, 1137.58420897, 1142.23577313,\n",
       "       1111.82483268, 1101.73755812, 1132.36815871, 1151.88497783,\n",
       "       1179.44248677, 1179.12534064, 1184.06442408, 1146.5057871 ,\n",
       "       1140.43239044, 1155.77686087, 1132.05780323, 1107.63555326,\n",
       "       1129.27871254, 1144.36641076, 1157.94268697, 1139.69202043,\n",
       "       1137.26903773, 1152.53279235, 1172.41461665, 1167.03434445,\n",
       "       1169.51391336, 1164.87330103, 1140.11492712, 1134.13257264,\n",
       "       1145.00735582, 1118.92363781, 1117.93962274, 1111.82483268,\n",
       "       1154.37021185, 1156.20988601, 1164.87330103, 1167.03434445,\n",
       "       1108.58219168, 1103.59847552, 1090.72802265, 1087.08889557,\n",
       "       1087.08889557, 1101.45924828, 1103.59847552, 1089.81781742,\n",
       "       1078.23870301, 1100.81065315, 1091.63877543, 1108.29787388,\n",
       "       1103.31870458, 1090.72802265, 1060.10806482, 1054.94015032,\n",
       "       1057.1939344 , 1059.13989361, 1061.74667475, 1061.36193869,\n",
       "       1083.17499388, 1083.17499388, 1070.2772012 , 1068.02485279,\n",
       "       1071.77058574, 1062.0348983 , 1063.9492765 , 1070.83795933,\n",
       "       1075.84737704, 1050.58139221, 1038.81585731, 1043.52535445,\n",
       "       1059.81794838, 1066.13588914, 1060.78389154, 1073.62881611,\n",
       "       1077.96335501, 1075.84737704, 1101.08848814, 1129.27871254,\n",
       "       1138.63668817, 1146.8273789 , 1153.61330902, 1165.52201102,\n",
       "       1167.03434445, 1170.58965867, 1180.49786084, 1183.01905311,\n",
       "       1151.12971926, 1136.22042693, 1141.17406317, 1127.23696817,\n",
       "       1124.60480641, 1125.91773017, 1129.68880174, 1115.98279402,\n",
       "       1110.1987496 , 1105.75133121, 1121.20120302, 1147.14913834,\n",
       "       1150.37507746, 1133.82050661, 1141.17406317, 1144.68678676,\n",
       "       1220.86082312, 1209.62721882, 1198.33946098, 1232.73980826,\n",
       "       1232.4668504 , 1230.91999877, 1217.15683159, 1202.87322016,\n",
       "       1196.64405782, 1178.06646321, 1183.64664879, 1187.80109392,\n",
       "       1134.86186834, 1133.0935108 , 1097.12359784, 1066.79831184,\n",
       "       1039.12455495, 1035.71818463, 1068.96518431, 1049.28195827,\n",
       "       1051.97491739, 1065.18711042, 1082.81038633, 1113.07497234,\n",
       "       1105.75133121, 1128.97152335, 1159.4594156 , 1138.63668817,\n",
       "       1151.45332911, 1157.61771958, 1180.91922654, 1178.80795344,\n",
       "       1171.34172183, 1147.57840494, 1147.57840494, 1149.29819331,\n",
       "       1129.27871254, 1083.72168114, 1068.40130988, 1073.99939696,\n",
       "       1079.79650584, 1080.98519521, 1084.35918244, 1092.55023438,\n",
       "       1080.43682249, 1098.68687496, 1142.55476949, 1138.63668817,\n",
       "       1127.94991653, 1121.59934954, 1130.71652061, 1101.73755812,\n",
       "       1131.02552497, 1152.96488153, 1152.53279235, 1149.29819331,\n",
       "       1122.19770913, 1106.12723815, 1089.18091437, 1098.31858342,\n",
       "       1077.04448343, 1063.66290076, 1075.47841217, 1061.74667475,\n",
       "       1069.6218292 , 1070.83795933, 1068.40130988, 1043.52535445,\n",
       "       1042.91410424, 1053.95493333, 1057.48664881, 1062.0348983 ,\n",
       "       1098.96329012, 1102.01607737, 1110.1987496 , 1092.82383339,\n",
       "       1122.89752365, 1121.20120302, 1141.81078816, 1128.66465949,\n",
       "       1098.04255625, 1094.37590084, 1103.8784785 , 1124.60480641,\n",
       "       1082.53684536, 1101.08848814, 1106.40947116, 1139.0584849 ,\n",
       "       1119.21957634, 1100.53301567, 1109.91279415, 1118.92363781,\n",
       "       1129.27871254, 1103.31870458, 1086.45219009, 1074.27711017,\n",
       "       1073.62881611, 1055.52973769, 1069.90285697, 1087.3617529 ,\n",
       "       1099.60893696, 1098.68687496, 1109.24670608, 1108.29787388,\n",
       "       1118.62803853, 1142.55476949, 1170.91207194, 1168.11325919,\n",
       "       1154.04577486, 1155.45215117, 1165.1976945 , 1137.26903773,\n",
       "       1143.61963819, 1138.0048513 , 1149.72877299, 1148.97541773,\n",
       "       1133.40488073, 1146.8273789 , 1116.66599645, 1127.23696817,\n",
       "       1123.90048321, 1132.78244279, 1184.69014018, 1204.52917112,\n",
       "       1196.34374991, 1225.44977193, 1225.44977193, 1231.55697982,\n",
       "       1236.74605029, 1221.22943259, 1227.64104683, 1223.98533722,\n",
       "       1222.42544796, 1218.73523418, 1242.23459752, 1235.47040065,\n",
       "       1219.93796824, 1217.5288195 , 1214.07264527, 1204.52917112,\n",
       "       1219.93796824, 1216.59813025, 1222.42544796, 1234.01375731,\n",
       "       1220.86082312, 1217.15683159, 1196.64405782, 1179.12534064,\n",
       "       1186.7674398 , 1166.60245512, 1153.2890529 , 1123.59919751,\n",
       "       1120.60512263, 1101.45924828, 1091.91213177, 1076.40026453,\n",
       "       1065.85156179, 1087.08889557, 1098.96329012, 1104.5327394 ,\n",
       "       1092.82383339, 1081.62445876, 1071.49105195, 1073.07229453,\n",
       "       1091.63877543, 1084.35918244, 1094.37590084, 1089.18091437,\n",
       "       1085.90636696, 1082.26322676, 1090.72802265, 1102.01607737,\n",
       "       1114.04065352, 1109.91279415, 1103.8784785 , 1115.98279402,\n",
       "       1129.99674444, 1135.17490727, 1130.30500753, 1137.58420897,\n",
       "       1149.29819331, 1144.36641076, 1089.18091437, 1109.53197793,\n",
       "       1102.66678959, 1104.5327394 , 1099.88594251, 1101.08848814,\n",
       "       1106.12723815, 1112.40109104, 1127.23696817, 1125.20998258,\n",
       "       1117.93962274, 1122.19770913, 1103.8784785 , 1108.96172328,\n",
       "       1110.86713688, 1097.7666889 , 1084.35918244, 1089.18091437,\n",
       "       1091.00118376, 1082.53684536, 1089.54483885, 1086.17928961,\n",
       "       1101.73755812, 1097.39910758, 1096.20626878, 1091.00118376,\n",
       "       1073.07229453, 1077.68786512, 1027.38145448, 1036.02878374,\n",
       "       1010.17305665, 1023.81615396, 1026.33375059, 1011.21935333,\n",
       "       1003.9208515 , 1012.26660223, 1011.21935333, 1028.00962815,\n",
       "       1040.45983353, 1061.74667475, 1043.93232044, 1043.93232044,\n",
       "       1036.75282156, 1004.6476582 , 1031.14438588, 1050.98016736,\n",
       "       1016.88299585, 1016.14787743, 1032.18665393, 1042.19978505,\n",
       "       1043.21984868, 1047.27282084, 1051.97491739, 1062.99362418,\n",
       "       1069.6218292 , 1076.76849473, 1072.14296525, 1068.68336791,\n",
       "       1088.27127474, 1087.99841305, 1078.60561928, 1064.90190394,\n",
       "       1063.66290076, 1102.38776817, 1114.04065352, 1114.04065352,\n",
       "       1126.22161172, 1136.22042693, 1148.97541773, 1175.19503963,\n",
       "       1164.11610798, 1178.06646321, 1184.69014018, 1198.63753076,\n",
       "       1193.62592217, 1192.61248603, 1195.94281756, 1205.78854662,\n",
       "       1207.13821583, 1212.47232082, 1218.73523418, 1211.24283881,\n",
       "       1182.28546708, 1118.62803853, 1132.78244279, 1114.33105248,\n",
       "       1117.64514968, 1108.58219168, 1131.33484417, 1125.91773017,\n",
       "       1116.27537378, 1125.20998258, 1134.13257264, 1148.22283008,\n",
       "       1156.53470829, 1167.03434445, 1178.80795344, 1192.61248603,\n",
       "       1182.28546708, 1154.69471908, 1156.85957146, 1167.68183814,\n",
       "       1172.73612665, 1180.49786084, 1171.6637783 , 1167.03434445,\n",
       "       1167.35814398, 1182.60004266, 1178.38440084, 1173.80656163,\n",
       "       1158.37600971, 1163.35857473, 1166.60245512, 1158.37600971,\n",
       "       1165.1976945 , 1189.55041792, 1204.82032523, 1202.57991106,\n",
       "       1202.87322016, 1215.6649792 , 1220.3073438 , 1208.09817673,\n",
       "       1248.71270536, 1272.30724147, 1260.6991967 , 1277.1045884 ,\n",
       "       1295.28206747, 1314.41192286, 1313.36383713, 1333.07908448,\n",
       "       1317.53496799, 1332.14223634, 1339.62516705, 1351.48855682,\n",
       "       1350.17650734, 1336.10514248, 1326.35016126, 1344.00581764,\n",
       "       1361.93508792, 1356.4369476 , 1344.382173  , 1360.9108533 ,\n",
       "       1354.696755  , 1332.97639026, 1289.2298706 , 1179.71000883,\n",
       "       1213.34891003, 1256.39906811, 1273.20098475, 1304.68122258,\n",
       "       1269.96898626, 1254.43227487, 1264.20041893, 1328.41076128,\n",
       "       1323.82305969, 1296.77445431, 1266.13191819, 1303.52768724,\n",
       "       1274.52334754, 1261.67756402, 1276.40342688, 1274.52334754,\n",
       "       1329.192865  , 1346.53218312, 1355.65486612, 1361.13102587,\n",
       "       1361.21186272, 1359.90273463, 1359.41885798, 1319.12465696,\n",
       "       1307.92824871, 1306.80012783, 1247.90452311, 1232.53067309,\n",
       "       1268.05493167, 1272.63271436, 1267.47894682, 1205.43787764,\n",
       "       1164.64321532, 1159.92167447, 1246.5135937 , 1278.27248832,\n",
       "       1289.2298706 , 1255.21969423, 1263.61938532, 1114.32872612,\n",
       "       1133.60530268, 1204.65114468, 1250.48228235, 1265.55333786,\n",
       "       1268.05493167, 1246.5135937 , 1229.92668184, 1187.23387683,\n",
       "       1193.74257944, 1195.67459379, 1144.4231949 , 1133.60530268,\n",
       "       1134.0532157 , 1096.55321327, 1098.28418498, 1075.12059666,\n",
       "       1069.00520198, 1054.93173636, 1057.05301447, 1054.4451731 ,\n",
       "       1056.34061934, 1053.34038072, 1052.46483673, 1050.85420853,\n",
       "       1050.69612483, 1050.66154166, 1050.65492992, 1050.68145943,\n",
       "       1050.75104841, 1050.73786758, 1050.80931734, 1050.81364838,\n",
       "       1050.93514645, 1051.01772531, 1051.13166292, 1052.45162623,\n",
       "       1085.36985126, 1077.57572658, 1063.74496148, 1054.35645527,\n",
       "       1052.55285301, 1051.38592047, 1052.0667619 , 1055.64917553,\n",
       "       1052.01466129, 1052.3242097 , 1055.64917553, 1059.8651939 ,\n",
       "       1064.31460924, 1068.18223158, 1060.58066615, 1067.71242252,\n",
       "       1077.57572658, 1143.62550842, 1184.77186758, 1114.32872612,\n",
       "       1067.71242252, 1069.65559056, 1067.25300257, 1061.82351597,\n",
       "       1056.34061934, 1090.5358883 , 1087.03216965, 1081.84152258,\n",
       "       1066.58300349, 1072.05307371, 1067.25300257, 1064.90478962,\n",
       "       1149.28747989, 1135.10389832, 1105.90388169, 1119.50758002,\n",
       "       1129.20533299, 1193.35709537, 1200.14564032, 1164.64321532,\n",
       "       1194.32138621, 1214.93927875, 1175.4568165 , 1190.4761437 ,\n",
       "       1253.84111778, 1231.929782  , 1229.92668184, 1278.83098922,\n",
       "       1336.77351809])"
      ]
     },
     "execution_count": 29,
     "metadata": {},
     "output_type": "execute_result"
    }
   ],
   "source": [
    "y_pred = svr_rbf.predict(x_test)\n",
    "y_pred"
   ]
  },
  {
   "cell_type": "code",
   "execution_count": 30,
   "id": "dd2c6faf",
   "metadata": {},
   "outputs": [
    {
     "data": {
      "text/plain": [
       "array([[1395.5]])"
      ]
     },
     "execution_count": 30,
     "metadata": {},
     "output_type": "execute_result"
    }
   ],
   "source": [
    "last_row = data.tail(1)\n",
    "last_data = last_row['Price'].values.reshape(-1,1)\n",
    "last_data"
   ]
  },
  {
   "cell_type": "code",
   "execution_count": 31,
   "id": "66db1a65",
   "metadata": {},
   "outputs": [
    {
     "name": "stderr",
     "output_type": "stream",
     "text": [
      "/Library/Frameworks/Python.framework/Versions/3.11/lib/python3.11/site-packages/sklearn/base.py:465: UserWarning: X does not have valid feature names, but SVR was fitted with feature names\n",
      "  warnings.warn(\n",
      "/Library/Frameworks/Python.framework/Versions/3.11/lib/python3.11/site-packages/sklearn/base.py:465: UserWarning: X does not have valid feature names, but SVR was fitted with feature names\n",
      "  warnings.warn(\n",
      "/Library/Frameworks/Python.framework/Versions/3.11/lib/python3.11/site-packages/sklearn/base.py:465: UserWarning: X does not have valid feature names, but SVR was fitted with feature names\n",
      "  warnings.warn(\n",
      "/Library/Frameworks/Python.framework/Versions/3.11/lib/python3.11/site-packages/sklearn/base.py:465: UserWarning: X does not have valid feature names, but SVR was fitted with feature names\n",
      "  warnings.warn(\n",
      "/Library/Frameworks/Python.framework/Versions/3.11/lib/python3.11/site-packages/sklearn/base.py:465: UserWarning: X does not have valid feature names, but SVR was fitted with feature names\n",
      "  warnings.warn(\n",
      "/Library/Frameworks/Python.framework/Versions/3.11/lib/python3.11/site-packages/sklearn/base.py:465: UserWarning: X does not have valid feature names, but SVR was fitted with feature names\n",
      "  warnings.warn(\n",
      "/Library/Frameworks/Python.framework/Versions/3.11/lib/python3.11/site-packages/sklearn/base.py:465: UserWarning: X does not have valid feature names, but SVR was fitted with feature names\n",
      "  warnings.warn(\n",
      "/Library/Frameworks/Python.framework/Versions/3.11/lib/python3.11/site-packages/sklearn/base.py:465: UserWarning: X does not have valid feature names, but SVR was fitted with feature names\n",
      "  warnings.warn(\n",
      "/Library/Frameworks/Python.framework/Versions/3.11/lib/python3.11/site-packages/sklearn/base.py:465: UserWarning: X does not have valid feature names, but SVR was fitted with feature names\n",
      "  warnings.warn(\n",
      "/Library/Frameworks/Python.framework/Versions/3.11/lib/python3.11/site-packages/sklearn/base.py:465: UserWarning: X does not have valid feature names, but SVR was fitted with feature names\n",
      "  warnings.warn(\n",
      "/Library/Frameworks/Python.framework/Versions/3.11/lib/python3.11/site-packages/sklearn/base.py:465: UserWarning: X does not have valid feature names, but SVR was fitted with feature names\n",
      "  warnings.warn(\n",
      "/Library/Frameworks/Python.framework/Versions/3.11/lib/python3.11/site-packages/sklearn/base.py:465: UserWarning: X does not have valid feature names, but SVR was fitted with feature names\n",
      "  warnings.warn(\n",
      "/Library/Frameworks/Python.framework/Versions/3.11/lib/python3.11/site-packages/sklearn/base.py:465: UserWarning: X does not have valid feature names, but SVR was fitted with feature names\n",
      "  warnings.warn(\n",
      "/Library/Frameworks/Python.framework/Versions/3.11/lib/python3.11/site-packages/sklearn/base.py:465: UserWarning: X does not have valid feature names, but SVR was fitted with feature names\n",
      "  warnings.warn(\n",
      "/Library/Frameworks/Python.framework/Versions/3.11/lib/python3.11/site-packages/sklearn/base.py:465: UserWarning: X does not have valid feature names, but SVR was fitted with feature names\n",
      "  warnings.warn(\n",
      "/Library/Frameworks/Python.framework/Versions/3.11/lib/python3.11/site-packages/sklearn/base.py:465: UserWarning: X does not have valid feature names, but SVR was fitted with feature names\n",
      "  warnings.warn(\n",
      "/Library/Frameworks/Python.framework/Versions/3.11/lib/python3.11/site-packages/sklearn/base.py:465: UserWarning: X does not have valid feature names, but SVR was fitted with feature names\n",
      "  warnings.warn(\n",
      "/Library/Frameworks/Python.framework/Versions/3.11/lib/python3.11/site-packages/sklearn/base.py:465: UserWarning: X does not have valid feature names, but SVR was fitted with feature names\n",
      "  warnings.warn(\n",
      "/Library/Frameworks/Python.framework/Versions/3.11/lib/python3.11/site-packages/sklearn/base.py:465: UserWarning: X does not have valid feature names, but SVR was fitted with feature names\n",
      "  warnings.warn(\n",
      "/Library/Frameworks/Python.framework/Versions/3.11/lib/python3.11/site-packages/sklearn/base.py:465: UserWarning: X does not have valid feature names, but SVR was fitted with feature names\n",
      "  warnings.warn(\n",
      "/Library/Frameworks/Python.framework/Versions/3.11/lib/python3.11/site-packages/sklearn/base.py:465: UserWarning: X does not have valid feature names, but SVR was fitted with feature names\n",
      "  warnings.warn(\n",
      "/Library/Frameworks/Python.framework/Versions/3.11/lib/python3.11/site-packages/sklearn/base.py:465: UserWarning: X does not have valid feature names, but SVR was fitted with feature names\n",
      "  warnings.warn(\n",
      "/Library/Frameworks/Python.framework/Versions/3.11/lib/python3.11/site-packages/sklearn/base.py:465: UserWarning: X does not have valid feature names, but SVR was fitted with feature names\n",
      "  warnings.warn(\n",
      "/Library/Frameworks/Python.framework/Versions/3.11/lib/python3.11/site-packages/sklearn/base.py:465: UserWarning: X does not have valid feature names, but SVR was fitted with feature names\n",
      "  warnings.warn(\n",
      "/Library/Frameworks/Python.framework/Versions/3.11/lib/python3.11/site-packages/sklearn/base.py:465: UserWarning: X does not have valid feature names, but SVR was fitted with feature names\n",
      "  warnings.warn(\n",
      "/Library/Frameworks/Python.framework/Versions/3.11/lib/python3.11/site-packages/sklearn/base.py:465: UserWarning: X does not have valid feature names, but SVR was fitted with feature names\n",
      "  warnings.warn(\n",
      "/Library/Frameworks/Python.framework/Versions/3.11/lib/python3.11/site-packages/sklearn/base.py:465: UserWarning: X does not have valid feature names, but SVR was fitted with feature names\n",
      "  warnings.warn(\n",
      "/Library/Frameworks/Python.framework/Versions/3.11/lib/python3.11/site-packages/sklearn/base.py:465: UserWarning: X does not have valid feature names, but SVR was fitted with feature names\n",
      "  warnings.warn(\n",
      "/Library/Frameworks/Python.framework/Versions/3.11/lib/python3.11/site-packages/sklearn/base.py:465: UserWarning: X does not have valid feature names, but SVR was fitted with feature names\n",
      "  warnings.warn(\n",
      "/Library/Frameworks/Python.framework/Versions/3.11/lib/python3.11/site-packages/sklearn/base.py:465: UserWarning: X does not have valid feature names, but SVR was fitted with feature names\n",
      "  warnings.warn(\n"
     ]
    },
    {
     "data": {
      "text/plain": [
       "[array([1361.97613728]),\n",
       " array([1349.68593061]),\n",
       " array([1340.21111713]),\n",
       " array([1331.68105182]),\n",
       " array([1323.33924698]),\n",
       " array([1314.76673548]),\n",
       " array([1305.70745191]),\n",
       " array([1296.03667757]),\n",
       " array([1285.78011574]),\n",
       " array([1275.13607296]),\n",
       " array([1264.45162612]),\n",
       " array([1254.12428763]),\n",
       " array([1244.46693448]),\n",
       " array([1235.62244521]),\n",
       " array([1227.57032011]),\n",
       " array([1220.18762704]),\n",
       " array([1213.30893253]),\n",
       " array([1206.7618855]),\n",
       " array([1200.38132202]),\n",
       " array([1194.01139949]),\n",
       " array([1187.50312931]),\n",
       " array([1180.71189698]),\n",
       " array([1173.49837047]),\n",
       " array([1165.73641606]),\n",
       " array([1157.33222034]),\n",
       " array([1148.25745339]),\n",
       " array([1138.59184986]),\n",
       " array([1128.55411497]),\n",
       " array([1118.48441592]),\n",
       " array([1108.75710791])]"
      ]
     },
     "execution_count": 31,
     "metadata": {},
     "output_type": "execute_result"
    }
   ],
   "source": [
    "x_next_30_days = []\n",
    "for i in range(30):\n",
    "    x_pred_next = svr_rbf.predict(last_data)\n",
    "    x_next_30_days.append(x_pred_next)\n",
    "    last_data = x_pred_next.reshape(-1,1)\n",
    "x_next_30_days"
   ]
  },
  {
   "cell_type": "code",
   "execution_count": 32,
   "id": "7cf5a660",
   "metadata": {},
   "outputs": [
    {
     "data": {
      "image/png": "[encoded data removed]",
      "text/plain": [
       "<Figure size 1000x600 with 1 Axes>"
      ]
     },
     "metadata": {},
     "output_type": "display_data"
    }
   ],
   "source": [
    "plt.figure(figsize=(10, 6))\n",
    "plt.plot(x_next_30_days, marker='o', color='b', label='Predicted Next 30 Days')\n",
    "\n",
    "plt.title('Predicted Values for the Next 30 Days')\n",
    "plt.xlabel('Date')\n",
    "plt.ylabel('Predicted Value')\n",
    "plt.legend()\n",
    "\n",
    "plt.show()"
   ]
  },
  {
   "cell_type": "code",
   "execution_count": 38,
   "id": "319dbd93",
   "metadata": {},
   "outputs": [],
   "source": [
    "y_pred = y_pred.reshape(-1,1)"
   ]
  },
  {
   "cell_type": "code",
   "execution_count": 39,
   "id": "4703b8d4",
   "metadata": {},
   "outputs": [],
   "source": [
    "# Create index for the next 30 days\n",
    "last_index =  data.index[-1]\n",
    "next_30_dates = pd.RangeIndex(start=last_index, stop=last_index+30, step=1)"
   ]
  },
  {
   "cell_type": "code",
   "execution_count": 41,
   "id": "d150c67f",
   "metadata": {},
   "outputs": [
    {
     "name": "stdout",
     "output_type": "stream",
     "text": [
      "Testing RMSE: 202.6763352691749\n",
      "Testing MAPE: 5.744620000062291%\n",
      "Testing MAE: 89.61870559211998\n",
      "Huber loss: [41077.69687814]\n"
     ]
    }
   ],
   "source": [
    "from sklearn.metrics import mean_absolute_percentage_error,mean_absolute_error\n",
    "# RMSE\n",
    "test_rmse = np.sqrt(np.mean((y_pred - y_test)**2))\n",
    "print('Testing RMSE:', test_rmse)\n",
    "# MAPE\n",
    "test_mape = mean_absolute_percentage_error(y_test,y_pred)\n",
    "print('Testing MAPE:', str(test_mape*100)+'%')\n",
    "# MAE\n",
    "test_mae = mean_absolute_error(y_test,y_pred)\n",
    "print('Testing MAE:', test_mae)\n",
    "# Huber loss\n",
    "hl= mean_squared_error(y_test, y_pred, multioutput='raw_values')\n",
    "print('Huber loss:', hl)"
   ]
  },
  {
   "cell_type": "code",
   "execution_count": 40,
   "id": "3c055f44",
   "metadata": {},
   "outputs": [
    {
     "data": {
      "image/png": "[encoded data removed]",
      "text/plain": [
       "<Figure size 640x480 with 1 Axes>"
      ]
     },
     "metadata": {},
     "output_type": "display_data"
    }
   ],
   "source": [
    "plt.plot(y_train_index, y_train)\n",
    "plt.plot(y_test.index, y_test)\n",
    "plt.plot(y_test.index, y_pred)\n",
    "plt.plot(next_30_dates,x_next_30_days)\n",
    "plt.legend(['Train', 'Test', 'Predictions','Next30Day'])\n",
    "plt.show()"
   ]
  },
  {
   "cell_type": "code",
   "execution_count": null,
   "id": "0f3f7123",
   "metadata": {},
   "outputs": [],
   "source": []
  }
 ],
 "metadata": {
  "kernelspec": {
   "display_name": "Python 3 (ipykernel)",
   "language": "python",
   "name": "python3"
  },
  "language_info": {
   "codemirror_mode": {
    "name": "ipython",
    "version": 3
   },
   "file_extension": ".py",
   "mimetype": "text/x-python",
   "name": "python",
   "nbconvert_exporter": "python",
   "pygments_lexer": "ipython3",
   "version": "3.11.2"
  }
 },
 "nbformat": 4,
 "nbformat_minor": 5
}
