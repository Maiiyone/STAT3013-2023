{
 "cells": [
  {
   "cell_type": "markdown",
   "id": "0c2dab88",
   "metadata": {},
   "source": [
    "## Review steps"
   ]
  },
  {
   "cell_type": "markdown",
   "id": "7ad466ae",
   "metadata": {},
   "source": [
    "1. Data collection\n",
    "2. Data preprocessing\n",
    "3. train-test split\n",
    "4. Choosing ml/dl model\n",
    "5. Train model\n",
    "6. Do prediction and evaluate the model"
   ]
  },
  {
   "cell_type": "code",
   "execution_count": 1,
   "id": "1257413f",
   "metadata": {},
   "outputs": [],
   "source": [
    "import numpy as np # linear algebra import pandas\n",
    "from numpy import array\n",
    "import pandas as pd\n",
    "import math \n",
    "import seaborn as sns \n",
    "import datetime as dt \n",
    "from datetime import datetime\n",
    "sns.set_style(\"whitegrid\") \n",
    "from pandas.plotting import autocorrelation_plot \n",
    "import matplotlib.pyplot as plt\n",
    "%matplotlib inline\n",
    "plt.style.use(\"ggplot\" )\n",
    "from sklearn.metrics import mean_squared_error\n",
    "from sklearn.metrics import mean_absolute_percentage_error\n",
    "from sklearn.metrics import mean_absolute_error\n",
    "from tqdm import tqdm\n",
    "from sklearn.svm import SVR"
   ]
  },
  {
   "cell_type": "markdown",
   "id": "39d47361",
   "metadata": {},
   "source": [
    "## Loading data"
   ]
  },
  {
   "cell_type": "code",
   "execution_count": 2,
   "id": "b92395b0",
   "metadata": {},
   "outputs": [
    {
     "data": {
      "text/html": [
       "<div>\n",
       "<style scoped>\n",
       "    .dataframe tbody tr th:only-of-type {\n",
       "        vertical-align: middle;\n",
       "    }\n",
       "\n",
       "    .dataframe tbody tr th {\n",
       "        vertical-align: top;\n",
       "    }\n",
       "\n",
       "    .dataframe thead th {\n",
       "        text-align: right;\n",
       "    }\n",
       "</style>\n",
       "<table border=\"1\" class=\"dataframe\">\n",
       "  <thead>\n",
       "    <tr style=\"text-align: right;\">\n",
       "      <th></th>\n",
       "      <th>Date</th>\n",
       "      <th>Price</th>\n",
       "      <th>Open</th>\n",
       "      <th>High</th>\n",
       "      <th>Low</th>\n",
       "      <th>Volume</th>\n",
       "      <th>Change</th>\n",
       "    </tr>\n",
       "  </thead>\n",
       "  <tbody>\n",
       "    <tr>\n",
       "      <th>0</th>\n",
       "      <td>04/01/2018</td>\n",
       "      <td>6742,00</td>\n",
       "      <td>6600,00</td>\n",
       "      <td>6744,00</td>\n",
       "      <td>6588,00</td>\n",
       "      <td>1940000,0</td>\n",
       "      <td>0,0318</td>\n",
       "    </tr>\n",
       "    <tr>\n",
       "      <th>1</th>\n",
       "      <td>05/01/2018</td>\n",
       "      <td>6740,00</td>\n",
       "      <td>6742,00</td>\n",
       "      <td>6775,00</td>\n",
       "      <td>6681,00</td>\n",
       "      <td>2010000,0</td>\n",
       "      <td>-0,0003</td>\n",
       "    </tr>\n",
       "    <tr>\n",
       "      <th>2</th>\n",
       "      <td>09/01/2018</td>\n",
       "      <td>6653,00</td>\n",
       "      <td>6800,00</td>\n",
       "      <td>6811,00</td>\n",
       "      <td>6648,00</td>\n",
       "      <td>2100000,0</td>\n",
       "      <td>-0,0129</td>\n",
       "    </tr>\n",
       "    <tr>\n",
       "      <th>3</th>\n",
       "      <td>10/01/2018</td>\n",
       "      <td>6666,00</td>\n",
       "      <td>6650,00</td>\n",
       "      <td>6699,00</td>\n",
       "      <td>6636,00</td>\n",
       "      <td>1070000,0</td>\n",
       "      <td>0,002</td>\n",
       "    </tr>\n",
       "    <tr>\n",
       "      <th>4</th>\n",
       "      <td>11/01/2018</td>\n",
       "      <td>6564,00</td>\n",
       "      <td>6634,00</td>\n",
       "      <td>6644,00</td>\n",
       "      <td>6528,00</td>\n",
       "      <td>1660000,0</td>\n",
       "      <td>-0,0153</td>\n",
       "    </tr>\n",
       "    <tr>\n",
       "      <th>...</th>\n",
       "      <td>...</td>\n",
       "      <td>...</td>\n",
       "      <td>...</td>\n",
       "      <td>...</td>\n",
       "      <td>...</td>\n",
       "      <td>...</td>\n",
       "      <td>...</td>\n",
       "    </tr>\n",
       "    <tr>\n",
       "      <th>1447</th>\n",
       "      <td>08/12/2023</td>\n",
       "      <td>5744,00</td>\n",
       "      <td>5732,00</td>\n",
       "      <td>5769,00</td>\n",
       "      <td>5679,00</td>\n",
       "      <td>2320000,0</td>\n",
       "      <td>-0,025</td>\n",
       "    </tr>\n",
       "    <tr>\n",
       "      <th>1448</th>\n",
       "      <td>11/12/2023</td>\n",
       "      <td>5742,00</td>\n",
       "      <td>5724,00</td>\n",
       "      <td>5782,00</td>\n",
       "      <td>5708,00</td>\n",
       "      <td>1490000,0</td>\n",
       "      <td>-0,0003</td>\n",
       "    </tr>\n",
       "    <tr>\n",
       "      <th>1449</th>\n",
       "      <td>12/12/2023</td>\n",
       "      <td>5639,00</td>\n",
       "      <td>5800,00</td>\n",
       "      <td>5818,00</td>\n",
       "      <td>5638,00</td>\n",
       "      <td>1760000,0</td>\n",
       "      <td>-0,0179</td>\n",
       "    </tr>\n",
       "    <tr>\n",
       "      <th>1450</th>\n",
       "      <td>13/12/2023</td>\n",
       "      <td>5682,00</td>\n",
       "      <td>5600,00</td>\n",
       "      <td>5696,00</td>\n",
       "      <td>5545,00</td>\n",
       "      <td>1940000,0</td>\n",
       "      <td>0,0076</td>\n",
       "    </tr>\n",
       "    <tr>\n",
       "      <th>1451</th>\n",
       "      <td>14/12/2023</td>\n",
       "      <td>5461,00</td>\n",
       "      <td>5566,00</td>\n",
       "      <td>5595,00</td>\n",
       "      <td>5436,00</td>\n",
       "      <td>2310000,0</td>\n",
       "      <td>-0,0389</td>\n",
       "    </tr>\n",
       "  </tbody>\n",
       "</table>\n",
       "<p>1452 rows × 7 columns</p>\n",
       "</div>"
      ],
      "text/plain": [
       "            Date    Price     Open     High      Low     Volume   Change\n",
       "0     04/01/2018  6742,00  6600,00  6744,00  6588,00  1940000,0   0,0318\n",
       "1     05/01/2018  6740,00  6742,00  6775,00  6681,00  2010000,0  -0,0003\n",
       "2     09/01/2018  6653,00  6800,00  6811,00  6648,00  2100000,0  -0,0129\n",
       "3     10/01/2018  6666,00  6650,00  6699,00  6636,00  1070000,0    0,002\n",
       "4     11/01/2018  6564,00  6634,00  6644,00  6528,00  1660000,0  -0,0153\n",
       "...          ...      ...      ...      ...      ...        ...      ...\n",
       "1447  08/12/2023  5744,00  5732,00  5769,00  5679,00  2320000,0   -0,025\n",
       "1448  11/12/2023  5742,00  5724,00  5782,00  5708,00  1490000,0  -0,0003\n",
       "1449  12/12/2023  5639,00  5800,00  5818,00  5638,00  1760000,0  -0,0179\n",
       "1450  13/12/2023  5682,00  5600,00  5696,00  5545,00  1940000,0   0,0076\n",
       "1451  14/12/2023  5461,00  5566,00  5595,00  5436,00  2310000,0  -0,0389\n",
       "\n",
       "[1452 rows x 7 columns]"
      ]
     },
     "execution_count": 2,
     "metadata": {},
     "output_type": "execute_result"
    }
   ],
   "source": [
    "data= pd.read_csv(\"Suzuki-2.csv\",delimiter=\";\")\n",
    "data"
   ]
  },
  {
   "cell_type": "markdown",
   "id": "79f8654f",
   "metadata": {},
   "source": [
    "## Data Exploration"
   ]
  },
  {
   "cell_type": "code",
   "execution_count": 3,
   "id": "b39bad11",
   "metadata": {},
   "outputs": [
    {
     "name": "stdout",
     "output_type": "stream",
     "text": [
      "<class 'pandas.core.frame.DataFrame'>\n",
      "RangeIndex: 1452 entries, 0 to 1451\n",
      "Data columns (total 7 columns):\n",
      " #   Column  Non-Null Count  Dtype \n",
      "---  ------  --------------  ----- \n",
      " 0   Date    1452 non-null   object\n",
      " 1   Price   1452 non-null   object\n",
      " 2   Open    1452 non-null   object\n",
      " 3   High    1452 non-null   object\n",
      " 4   Low     1452 non-null   object\n",
      " 5   Volume  1452 non-null   object\n",
      " 6   Change  1452 non-null   object\n",
      "dtypes: object(7)\n",
      "memory usage: 79.5+ KB\n"
     ]
    }
   ],
   "source": [
    "# Check the data type of each value column\n",
    "data.info()"
   ]
  },
  {
   "cell_type": "code",
   "execution_count": 4,
   "id": "f8b9c1e2",
   "metadata": {},
   "outputs": [
    {
     "data": {
      "text/plain": [
       "0      2018-01-04\n",
       "1      2018-01-05\n",
       "2      2018-01-09\n",
       "3      2018-01-10\n",
       "4      2018-01-11\n",
       "          ...    \n",
       "1447   2023-12-08\n",
       "1448   2023-12-11\n",
       "1449   2023-12-12\n",
       "1450   2023-12-13\n",
       "1451   2023-12-14\n",
       "Name: Date, Length: 1452, dtype: datetime64[ns]"
      ]
     },
     "execution_count": 4,
     "metadata": {},
     "output_type": "execute_result"
    }
   ],
   "source": [
    "# Reformat the date data type\n",
    "data['Date'] = pd.to_datetime(data['Date'], format='%d/%m/%Y')  # Ví dụ cho định dạng dd/mm/yyyy\n",
    "data['Date']"
   ]
  },
  {
   "cell_type": "code",
   "execution_count": 5,
   "id": "f075de4b",
   "metadata": {},
   "outputs": [
    {
     "name": "stdout",
     "output_type": "stream",
     "text": [
      "<class 'pandas.core.frame.DataFrame'>\n",
      "RangeIndex: 1452 entries, 0 to 1451\n",
      "Data columns (total 7 columns):\n",
      " #   Column  Non-Null Count  Dtype         \n",
      "---  ------  --------------  -----         \n",
      " 0   Date    1452 non-null   datetime64[ns]\n",
      " 1   Price   1452 non-null   float64       \n",
      " 2   Open    1452 non-null   float64       \n",
      " 3   High    1452 non-null   float64       \n",
      " 4   Low     1452 non-null   float64       \n",
      " 5   Volume  1452 non-null   float64       \n",
      " 6   Change  1452 non-null   float64       \n",
      "dtypes: datetime64[ns](1), float64(6)\n",
      "memory usage: 79.5 KB\n"
     ]
    }
   ],
   "source": [
    "# Clean data and cast data for calculation\n",
    "data['Price'] = data['Price'].str.replace(',', '.').astype(float)\n",
    "data['Open'] = data['Open'].str.replace(',', '.').astype(float)\n",
    "data['High'] = data['High'].str.replace(',', '.').astype(float)\n",
    "data['Low'] = data['Low'].str.replace(',', '.').astype(float)\n",
    "data['Volume'] = data['Volume'].str.replace(',', '.').astype(float)\n",
    "data['Change'] = data['Change'].str.replace(',', '.').astype(float)\n",
    "data.info()"
   ]
  },
  {
   "cell_type": "code",
   "execution_count": 6,
   "id": "0b9eea0a",
   "metadata": {},
   "outputs": [
    {
     "data": {
      "text/html": [
       "<div>\n",
       "<style scoped>\n",
       "    .dataframe tbody tr th:only-of-type {\n",
       "        vertical-align: middle;\n",
       "    }\n",
       "\n",
       "    .dataframe tbody tr th {\n",
       "        vertical-align: top;\n",
       "    }\n",
       "\n",
       "    .dataframe thead th {\n",
       "        text-align: right;\n",
       "    }\n",
       "</style>\n",
       "<table border=\"1\" class=\"dataframe\">\n",
       "  <thead>\n",
       "    <tr style=\"text-align: right;\">\n",
       "      <th></th>\n",
       "      <th>Date</th>\n",
       "      <th>Price</th>\n",
       "      <th>Open</th>\n",
       "      <th>High</th>\n",
       "      <th>Low</th>\n",
       "      <th>Volume</th>\n",
       "      <th>Change</th>\n",
       "    </tr>\n",
       "  </thead>\n",
       "  <tbody>\n",
       "    <tr>\n",
       "      <th>count</th>\n",
       "      <td>1452</td>\n",
       "      <td>1452.000000</td>\n",
       "      <td>1452.000000</td>\n",
       "      <td>1452.000000</td>\n",
       "      <td>1452.000000</td>\n",
       "      <td>1.452000e+03</td>\n",
       "      <td>1452.000000</td>\n",
       "    </tr>\n",
       "    <tr>\n",
       "      <th>mean</th>\n",
       "      <td>2020-12-26 16:00:59.504132352</td>\n",
       "      <td>4968.014807</td>\n",
       "      <td>4971.077135</td>\n",
       "      <td>5025.840220</td>\n",
       "      <td>4914.231061</td>\n",
       "      <td>1.824907e+06</td>\n",
       "      <td>0.000106</td>\n",
       "    </tr>\n",
       "    <tr>\n",
       "      <th>min</th>\n",
       "      <td>2018-01-04 00:00:00</td>\n",
       "      <td>2465.500000</td>\n",
       "      <td>2469.500000</td>\n",
       "      <td>2551.500000</td>\n",
       "      <td>2438.000000</td>\n",
       "      <td>4.430000e+05</td>\n",
       "      <td>-0.139700</td>\n",
       "    </tr>\n",
       "    <tr>\n",
       "      <th>25%</th>\n",
       "      <td>2019-07-01 18:00:00</td>\n",
       "      <td>4493.250000</td>\n",
       "      <td>4500.000000</td>\n",
       "      <td>4566.000000</td>\n",
       "      <td>4451.750000</td>\n",
       "      <td>1.260000e+06</td>\n",
       "      <td>-0.011725</td>\n",
       "    </tr>\n",
       "    <tr>\n",
       "      <th>50%</th>\n",
       "      <td>2020-12-28 12:00:00</td>\n",
       "      <td>4867.500000</td>\n",
       "      <td>4870.500000</td>\n",
       "      <td>4921.500000</td>\n",
       "      <td>4818.500000</td>\n",
       "      <td>1.630000e+06</td>\n",
       "      <td>0.000000</td>\n",
       "    </tr>\n",
       "    <tr>\n",
       "      <th>75%</th>\n",
       "      <td>2022-06-24 18:00:00</td>\n",
       "      <td>5424.250000</td>\n",
       "      <td>5423.500000</td>\n",
       "      <td>5504.250000</td>\n",
       "      <td>5367.000000</td>\n",
       "      <td>2.140000e+06</td>\n",
       "      <td>0.011700</td>\n",
       "    </tr>\n",
       "    <tr>\n",
       "      <th>max</th>\n",
       "      <td>2023-12-14 00:00:00</td>\n",
       "      <td>7639.000000</td>\n",
       "      <td>7613.000000</td>\n",
       "      <td>7680.000000</td>\n",
       "      <td>7494.000000</td>\n",
       "      <td>9.980000e+06</td>\n",
       "      <td>0.111500</td>\n",
       "    </tr>\n",
       "    <tr>\n",
       "      <th>std</th>\n",
       "      <td>NaN</td>\n",
       "      <td>833.802239</td>\n",
       "      <td>836.965130</td>\n",
       "      <td>837.524591</td>\n",
       "      <td>833.583430</td>\n",
       "      <td>8.684992e+05</td>\n",
       "      <td>0.021457</td>\n",
       "    </tr>\n",
       "  </tbody>\n",
       "</table>\n",
       "</div>"
      ],
      "text/plain": [
       "                                Date        Price         Open         High  \\\n",
       "count                           1452  1452.000000  1452.000000  1452.000000   \n",
       "mean   2020-12-26 16:00:59.504132352  4968.014807  4971.077135  5025.840220   \n",
       "min              2018-01-04 00:00:00  2465.500000  2469.500000  2551.500000   \n",
       "25%              2019-07-01 18:00:00  4493.250000  4500.000000  4566.000000   \n",
       "50%              2020-12-28 12:00:00  4867.500000  4870.500000  4921.500000   \n",
       "75%              2022-06-24 18:00:00  5424.250000  5423.500000  5504.250000   \n",
       "max              2023-12-14 00:00:00  7639.000000  7613.000000  7680.000000   \n",
       "std                              NaN   833.802239   836.965130   837.524591   \n",
       "\n",
       "               Low        Volume       Change  \n",
       "count  1452.000000  1.452000e+03  1452.000000  \n",
       "mean   4914.231061  1.824907e+06     0.000106  \n",
       "min    2438.000000  4.430000e+05    -0.139700  \n",
       "25%    4451.750000  1.260000e+06    -0.011725  \n",
       "50%    4818.500000  1.630000e+06     0.000000  \n",
       "75%    5367.000000  2.140000e+06     0.011700  \n",
       "max    7494.000000  9.980000e+06     0.111500  \n",
       "std     833.583430  8.684992e+05     0.021457  "
      ]
     },
     "execution_count": 6,
     "metadata": {},
     "output_type": "execute_result"
    }
   ],
   "source": [
    "# Gets descriptive statistical information about a DataFrame or a Series\n",
    "data.describe()"
   ]
  },
  {
   "cell_type": "markdown",
   "id": "2ab6ee45",
   "metadata": {},
   "source": [
    "## Data Visualization"
   ]
  },
  {
   "cell_type": "code",
   "execution_count": 7,
   "id": "e2596555",
   "metadata": {},
   "outputs": [],
   "source": [
    "# Reshape turns df into a NumPy array of size (-1, 1)\n",
    "df=data['Price'].values\n",
    "df = df.reshape(-1, 1)"
   ]
  },
  {
   "cell_type": "code",
   "execution_count": 8,
   "id": "d7cb69c3",
   "metadata": {},
   "outputs": [
    {
     "data": {
      "text/plain": [
       "array([[0.82661641],\n",
       "       [0.82622983],\n",
       "       [0.80941336],\n",
       "       ...,\n",
       "       [0.61341452],\n",
       "       [0.6217261 ],\n",
       "       [0.57900841]])"
      ]
     },
     "execution_count": 8,
     "metadata": {},
     "output_type": "execute_result"
    }
   ],
   "source": [
    "from sklearn.preprocessing import MinMaxScaler\n",
    "scaler = MinMaxScaler() # Perform data normalization according to the min-max scaling method\n",
    "price_scaled=scaler.fit_transform(df) # Fit và transform the data\n",
    "price_scaled"
   ]
  },
  {
   "cell_type": "code",
   "execution_count": 9,
   "id": "7dc411d8",
   "metadata": {},
   "outputs": [
    {
     "data": {
      "image/png": "[encoded data removed]",
      "text/plain": [
       "<Figure size 640x480 with 1 Axes>"
      ]
     },
     "metadata": {},
     "output_type": "display_data"
    }
   ],
   "source": [
    "# Create plot\n",
    "plt.figure(figure=(10,6))\n",
    "plt.plot(data['Date'],data['Price'].values, label=\"Price\", color=\"IndianRed\")\n",
    "\n",
    "# Adding title\n",
    "plt.title(\"Plot of price due to date\")\n",
    "\n",
    "# Adding label\n",
    "plt.xlabel(\"Date\")\n",
    "plt.ylabel(\"Price\")\n",
    "\n",
    "# Show the plot\n",
    "plt.legend()\n",
    "plt.show()"
   ]
  },
  {
   "cell_type": "markdown",
   "id": "8916df77",
   "metadata": {},
   "source": [
    "## Data Preprocessing"
   ]
  },
  {
   "cell_type": "markdown",
   "id": "7c98f8f8",
   "metadata": {},
   "source": [
    "### Split data into training and testing set"
   ]
  },
  {
   "cell_type": "markdown",
   "id": "eca2bed0",
   "metadata": {},
   "source": [
    "### Training - testing 6:4"
   ]
  },
  {
   "cell_type": "code",
   "execution_count": 10,
   "id": "3863b16b",
   "metadata": {},
   "outputs": [],
   "source": [
    "# Split train test validation in ratio 6:4\n",
    "# Split the data into training, testing\n",
    "train_size = int(0.6 * len(data))\n",
    "test_size = int(0.4 * len(data))\n",
    "\n",
    "X2D = data[['High']] # Independent variable in 2-dimensional array\n",
    "Y2D = data[['Price']] # Dependent variable in 2-dimensional array"
   ]
  },
  {
   "cell_type": "code",
   "execution_count": 11,
   "id": "049fd128",
   "metadata": {},
   "outputs": [
    {
     "name": "stdout",
     "output_type": "stream",
     "text": [
      "Best parameters: {'C': 1000, 'epsilon': 1, 'gamma': 'scale'}\n",
      "Best score: 203577.0552107712\n"
     ]
    }
   ],
   "source": [
    "from sklearn.svm import SVR\n",
    "from sklearn.model_selection import GridSearchCV\n",
    "from sklearn.model_selection import cross_val_score\n",
    "\n",
    "y_train = Y2D[:train_size]\n",
    "x_train = X2D[:train_size]\n",
    "y_test = Y2D[train_size:]\n",
    "x_test = X2D[train_size:]\n",
    "y_train_index = y_train.index # Get the index before converting it to a 2-dimensional array (serves plot)\n",
    "y_train = Y2D[:train_size].values.ravel()\n",
    "\n",
    "# Create SVR model with RBF kernel\n",
    "model = SVR(kernel='rbf')\n",
    "param_grid = {\n",
    "    'C': [0.1, 1, 10, 100, 1000],             \n",
    "    'gamma': ['scale', 'auto', 0.001, 0.01, 0.1, 1],  \n",
    "    'epsilon': [0.001, 0.01, 0.1, 1, 10]     \n",
    "}\n",
    "\n",
    "# Create a GridSearchCV object\n",
    "grid_search = GridSearchCV(model, param_grid, cv=5, scoring='neg_mean_squared_error', n_jobs=-1)\n",
    "\n",
    "# Train the model using grid search\n",
    "svr_rbf = grid_search.fit(x_train,y_train)\n",
    "\n",
    "print(\"Best parameters:\", grid_search.best_params_)\n",
    "print(\"Best score:\", -grid_search.best_score_)"
   ]
  },
  {
   "cell_type": "code",
   "execution_count": 12,
   "id": "f24eadad",
   "metadata": {},
   "outputs": [
    {
     "data": {
      "text/plain": [
       "array([4475.49861585, 4461.35667115, 4689.74820575, 4611.99728179,\n",
       "       4817.97395378, 4901.44305127, 4875.60230751, 4784.19509686,\n",
       "       4792.14332273, 4717.60332218, 4749.41601697, 4606.00383775,\n",
       "       4561.98097856, 4583.00823272, 4644.9257306 , 4619.98529188,\n",
       "       4625.97395863, 4698.7040144 , 4724.56402403, 4781.21442977,\n",
       "       4767.30383561, 4783.2015468 , 4882.55887534, 5039.67729924,\n",
       "       5029.72995036, 5011.82458871, 5035.69838074, 5031.71943249,\n",
       "       5170.89141204, 5106.30966666, 5161.95484291, 5174.86254645,\n",
       "       5093.38434798, 5058.57643621, 5139.10815839, 5206.61531486,\n",
       "       5197.68791983, 5155.99601147, 5126.18985185, 4904.42505093,\n",
       "       4867.65240905, 4747.42823254, 4731.52370322, 4683.77625189,\n",
       "       4896.47322886, 4939.22097974, 4999.88793281, 5053.60313037,\n",
       "       5054.59780187, 5116.25057673, 5271.00992196, 5270.02038685,\n",
       "       5283.87045812, 5240.31718987, 5096.36730934, 5059.57108101,\n",
       "       5147.05617964, 5103.32710288, 5124.20213661, 5086.42369223,\n",
       "       5205.62350668, 5267.05155728, 5375.68952543, 5414.10878863,\n",
       "       5472.16791539, 5460.36317395, 5324.38874627, 5235.36350289,\n",
       "       5165.92690567, 5158.97553598, 5234.37266031, 5325.37620794,\n",
       "       5307.59618419, 5301.6667996 , 5253.19260838, 5316.48771344,\n",
       "       5162.94789606, 5052.60845403, 4785.18864157, 4748.42213181,\n",
       "       4616.9902138 , 4540.92085501, 4569.99508178, 4536.90544654,\n",
       "       4657.88283207, 4647.91650711, 4634.95337435, 4600.00822379,\n",
       "       4628.96756584, 4572.99917249, 4510.77259438, 4574.00039336,\n",
       "       4572.99917249, 4425.91732132, 4357.73227214, 4370.99737847,\n",
       "       4430.98758916, 4456.30135308, 4385.26411731, 4412.72280001,\n",
       "       4422.87394934, 4412.72280001, 4503.72677868, 4582.00763769,\n",
       "       4612.99598331, 4628.96756584, 4657.88283207, 4844.79885964,\n",
       "       4827.90884824, 4839.83108837, 4895.47929072, 4845.79242826,\n",
       "       4667.84491125, 4644.9257306 , 4640.93737026, 4645.92270255,\n",
       "       4627.96974964, 4912.37744327, 4866.65870496, 4812.01308205,\n",
       "       4848.773165  , 4863.67763511, 4901.44305127, 5025.75097626,\n",
       "       5109.29210019, 4907.40713086, 4872.62103914, 4850.76034967,\n",
       "       4989.94106753, 4832.87638707, 4829.89585466, 4832.87638707,\n",
       "       4824.92835846, 4755.37904657, 4833.86990451, 4765.31647487,\n",
       "       4697.70904427, 4625.97395863, 4633.95586748, 4629.96532962,\n",
       "       4521.83585514, 4497.68399458, 4326.03433063, 3908.65166711,\n",
       "       3742.92111829, 3549.50465697, 3818.16844457, 3720.34860562,\n",
       "       3781.40325143, 3865.23852891, 3927.93316853, 4073.50217126,\n",
       "       4017.89914655, 4160.25781028, 4241.79171871, 4159.22459856,\n",
       "       4229.42394081, 4192.2784085 , 4223.23710897, 4278.84009761,\n",
       "       4237.67003801, 4142.69227493, 4164.39053845, 4207.76240842,\n",
       "       4096.20665004, 3965.63820204, 3947.27058094, 3854.18552348,\n",
       "       3813.18523274, 3803.23286431, 3824.1544871 , 3853.18180163,\n",
       "       3866.24443812, 3952.36817668, 4128.22662634, 4128.22662634,\n",
       "       4035.3795633 , 3980.97747103, 3992.24386046, 3910.67855738,\n",
       "       3858.20224432, 4013.78997997, 3984.04869701, 3973.81558383,\n",
       "       3896.50429073, 3847.16333677, 3703.7179808 , 3757.69011007,\n",
       "       3799.25715424, 3669.60473774, 3717.41060891, 3608.51545329,\n",
       "       3663.77175408, 3738.98921644, 3751.77784384, 3679.33550749,\n",
       "       3707.62719272, 3692.00395689, 3784.37474397, 3800.25080174,\n",
       "       3918.79262957, 3920.82275547, 3910.67855738, 3909.66503013,\n",
       "       4004.55019753, 4009.68239108, 4088.98022983, 4045.6735244 ,\n",
       "       3971.77046284, 3951.34837338, 4033.32173419, 4145.79215422,\n",
       "       4020.98202746, 4108.59870279, 4113.76324703, 4167.48994028,\n",
       "       4098.27167332, 4187.11536716, 4261.35610064, 4276.78426045,\n",
       "       4247.97243667, 4296.3020943 , 4234.57816979, 4240.76138691,\n",
       "       4301.43351471, 4260.32698866, 4232.51664283, 4277.81221693,\n",
       "       4332.17646996, 4265.47185469, 4228.39293254, 4341.3834064 ,\n",
       "       4350.58267546, 4389.33671859, 4399.51115921, 4359.77413856,\n",
       "       4396.45988825, 4382.20861043, 4362.83620402, 4353.64737006,\n",
       "       4392.39011141, 4395.44259563, 4368.9576781 , 4331.15301045,\n",
       "       4361.81561361, 4369.97757786, 4346.49506738, 4732.51786548,\n",
       "       4778.23370857, 4850.76034967, 4790.15629238, 4825.9218526 ,\n",
       "       4820.95440285, 4879.57744113, 4813.00655934, 4893.49144057,\n",
       "       4852.74755685, 4800.09131395, 4783.2015468 , 4796.11734115,\n",
       "       4878.58364584, 4747.42823254, 4848.773165  , 4844.79885964,\n",
       "       4905.41906864, 4960.10353964, 4911.38336283, 4855.72841167,\n",
       "       4919.33625779, 4992.92508576, 5015.80353955, 5046.64030418,\n",
       "       5007.84566494, 4914.36563109, 4941.20964195, 4948.17022016,\n",
       "       4993.91976685, 4956.12564501, 4827.90884824, 4724.56402403,\n",
       "       4715.61434811, 4656.88639626, 4622.9798704 , 4550.95376271,\n",
       "       4583.00823272, 4704.6732402 , 4792.14332273, 4796.11734115,\n",
       "       4814.99351501, 4684.77165993, 4539.91712474, 4605.00472142,\n",
       "       4710.64149525, 4629.96532962, 4681.7853343 , 4676.80743282,\n",
       "       4649.91012815, 4642.93164562, 4662.8643811 , 4732.51786548,\n",
       "       4815.98699373, 4811.01960489, 4821.94788892, 4983.97315385,\n",
       "       5025.75097626, 4995.90914085, 5001.87734882, 5039.67729924,\n",
       "       5106.30966666, 5621.84317342, 5229.41792686, 5219.50589872,\n",
       "       5136.12730528, 5040.67202303, 5003.86677686, 5015.80353955,\n",
       "       5054.59780187, 5067.52801357, 5081.4514695 , 5022.76674184,\n",
       "       4984.96779403, 4977.01082083, 4948.17022016, 4877.58985852,\n",
       "       4912.37744327, 4842.81173712, 4732.51786548, 4723.56970303,\n",
       "       4773.26570321, 4694.72395751, 4720.58661185, 4635.95083086,\n",
       "       4711.63611478, 4741.46452557, 4691.73859946, 4735.50024216,\n",
       "       4629.96532962, 4616.9902138 , 4362.83620402, 4433.01499092,\n",
       "       4344.45068863, 4389.33671859, 4364.87708987, 4304.51135868,\n",
       "       4231.48579649, 4262.38514368, 4172.65527953, 4181.95160498,\n",
       "       4255.18041076, 4268.55792919, 4260.32698866, 4282.95085433,\n",
       "       4265.47185469, 4132.35952786, 4230.45489564, 4418.8147045 ,\n",
       "       4269.5864772 , 4301.43351471, 4392.39011141, 4457.31261302,\n",
       "       4705.66801496, 4740.47051998, 4810.02612769, 4841.81818299,\n",
       "       4850.76034967, 4839.83108837, 4803.07177118, 4808.03917247,\n",
       "       4897.46717574, 4885.54038319, 4901.44305127, 4776.24652808,\n",
       "       4743.452489  , 4672.82446483, 4706.66276307, 4723.56970303,\n",
       "       4785.18864157, 4792.14332273, 4797.11083813, 4755.37904657,\n",
       "       4704.6732402 , 4689.74820575, 4737.48840438, 4772.27207957,\n",
       "       4829.89585466, 4806.05221495, 4866.65870496, 4924.30710826,\n",
       "       4929.27818075, 4945.18706618, 4975.02163348, 4888.52196602,\n",
       "       4806.05221495, 4589.01038795, 4645.92270255, 4438.08173627,\n",
       "       4467.41982805, 4459.33483816, 4563.98494561, 4663.86056728,\n",
       "       4652.90022164, 4735.50024216, 4790.15629238, 4842.81173712,\n",
       "       4837.8440111 , 4869.63983894, 4828.90235003, 4846.78600195,\n",
       "       4796.11734115, 4700.69386839, 4673.82026206, 4632.95830991,\n",
       "       4648.9133404 , 4668.84089874, 4630.96304133, 4638.94290177,\n",
       "       4686.76237615, 4690.74341832, 4681.7853343 , 4630.96304133,\n",
       "       4594.01036712, 4608.00188992, 4625.97395863, 4586.00961158,\n",
       "       4624.97598312, 4675.81174572, 4798.10433246, 4791.14980949,\n",
       "       4793.13683231, 4838.83754763, 4836.85047866, 4815.98699373,\n",
       "       4826.91534914, 4885.54038319, 4751.40374605, 4639.94016033,\n",
       "       4665.85281874, 4662.8643811 , 4698.7040144 , 4743.452489  ,\n",
       "       4662.8643811 , 4570.99651701, 4571.99788048, 4608.00188992,\n",
       "       4589.01038795, 4563.98494561, 4565.98861685, 4591.01057518,\n",
       "       4785.18864157, 4854.73478739, 5019.78250859, 4966.07059686,\n",
       "       5048.62970383, 5022.76674184, 5024.75623157, 5094.37868072,\n",
       "       5075.48448041, 5067.52801357, 5038.68257296, 4976.01622421,\n",
       "       4997.89852983, 5036.69311355, 5071.50631093, 4945.18706618,\n",
       "       4925.30130507, 4999.88793281, 5226.44467399, 5188.75806568,\n",
       "       5254.18277223, 5244.27950287, 5369.77489935, 5465.28196347,\n",
       "       5479.05356012, 5449.54087611, 5374.70383387, 5393.42676811,\n",
       "       5365.83117054, 5342.15744666, 5277.93561722, 5363.85910916,\n",
       "       5450.5247839 , 5436.7487145 , 5519.38410661, 5558.75011844,\n",
       "       5507.57919927, 5505.61183143, 5527.25494701, 5697.07608781,\n",
       "       5686.15998282, 5594.2180949 , 5434.78044191, 5425.92228587,\n",
       "       5403.27677948, 5337.22287866, 5330.31296215, 5261.1128934 ,\n",
       "       5330.31296215, 5235.36350289, 5164.93392762, 5200.66399648,\n",
       "       5154.00954324, 5183.79601196, 5268.04120446, 5308.5842826 ,\n",
       "       5354.98317414, 5333.27457371, 5444.62112485, 5526.27104348,\n",
       "       5556.78095543, 5703.03470751, 5732.87684622, 5874.36209897,\n",
       "       5914.86900667, 6005.43071282, 5970.77943516, 5882.4514888 ,\n",
       "       5908.78372267, 5952.45843046, 6071.74353273, 6152.15201815,\n",
       "       6284.75012764, 6252.90139159, 6210.78418271, 6196.67585519,\n",
       "       6019.71064787, 6090.09738987, 6105.38130355, 6100.28800835,\n",
       "       6097.23135828, 6011.55009202, 6098.25029533, 5886.49850496,\n",
       "       5599.14830338, 5607.03909231, 5771.80265114, 5924.00262007,\n",
       "       5960.59867612, 6054.40104263, 5986.06059944, 5897.63558457,\n",
       "       6018.69050425, 5925.0178754 , 5834.01199561, 5801.85283785,\n",
       "       5804.86311681, 5784.81270474, 5875.37293055, 5798.84351966,\n",
       "       5791.82550807, 5873.35136596, 5833.00537298, 5997.27325078,\n",
       "       6088.05869057, 6099.26917903, 6082.96120254, 6318.32960013,\n",
       "       6406.72960561, 6406.72960561, 6521.82816206, 6495.72658868,\n",
       "       6391.34896386, 6330.11262497, 6332.07286487, 6301.57494242,\n",
       "       6009.51018939, 5960.59867612, 6027.87239985, 6021.7509904 ,\n",
       "       6090.09738987, 6047.25880153, 6011.55009202, 6043.17739338,\n",
       "       5970.77943516, 5821.93952259, 5912.84023529, 5909.79772101,\n",
       "       5717.94532671, 5730.88473585, 5766.80349469, 5645.55689168,\n",
       "       5545.95245675])"
      ]
     },
     "execution_count": 12,
     "metadata": {},
     "output_type": "execute_result"
    }
   ],
   "source": [
    "y_pred = svr_rbf.predict(x_test)\n",
    "y_pred"
   ]
  },
  {
   "cell_type": "code",
   "execution_count": 13,
   "id": "afe0c03b",
   "metadata": {},
   "outputs": [
    {
     "data": {
      "text/plain": [
       "array([[5461.]])"
      ]
     },
     "execution_count": 13,
     "metadata": {},
     "output_type": "execute_result"
    }
   ],
   "source": [
    "last_row = data.tail(1)\n",
    "last_data = last_row['Price'].values.reshape(-1,1)\n",
    "last_data"
   ]
  },
  {
   "cell_type": "code",
   "execution_count": 14,
   "id": "e891cda8",
   "metadata": {},
   "outputs": [
    {
     "name": "stderr",
     "output_type": "stream",
     "text": [
      "/Library/Frameworks/Python.framework/Versions/3.11/lib/python3.11/site-packages/sklearn/base.py:465: UserWarning: X does not have valid feature names, but SVR was fitted with feature names\n",
      "  warnings.warn(\n",
      "/Library/Frameworks/Python.framework/Versions/3.11/lib/python3.11/site-packages/sklearn/base.py:465: UserWarning: X does not have valid feature names, but SVR was fitted with feature names\n",
      "  warnings.warn(\n",
      "/Library/Frameworks/Python.framework/Versions/3.11/lib/python3.11/site-packages/sklearn/base.py:465: UserWarning: X does not have valid feature names, but SVR was fitted with feature names\n",
      "  warnings.warn(\n",
      "/Library/Frameworks/Python.framework/Versions/3.11/lib/python3.11/site-packages/sklearn/base.py:465: UserWarning: X does not have valid feature names, but SVR was fitted with feature names\n",
      "  warnings.warn(\n",
      "/Library/Frameworks/Python.framework/Versions/3.11/lib/python3.11/site-packages/sklearn/base.py:465: UserWarning: X does not have valid feature names, but SVR was fitted with feature names\n",
      "  warnings.warn(\n",
      "/Library/Frameworks/Python.framework/Versions/3.11/lib/python3.11/site-packages/sklearn/base.py:465: UserWarning: X does not have valid feature names, but SVR was fitted with feature names\n",
      "  warnings.warn(\n",
      "/Library/Frameworks/Python.framework/Versions/3.11/lib/python3.11/site-packages/sklearn/base.py:465: UserWarning: X does not have valid feature names, but SVR was fitted with feature names\n",
      "  warnings.warn(\n",
      "/Library/Frameworks/Python.framework/Versions/3.11/lib/python3.11/site-packages/sklearn/base.py:465: UserWarning: X does not have valid feature names, but SVR was fitted with feature names\n",
      "  warnings.warn(\n",
      "/Library/Frameworks/Python.framework/Versions/3.11/lib/python3.11/site-packages/sklearn/base.py:465: UserWarning: X does not have valid feature names, but SVR was fitted with feature names\n",
      "  warnings.warn(\n",
      "/Library/Frameworks/Python.framework/Versions/3.11/lib/python3.11/site-packages/sklearn/base.py:465: UserWarning: X does not have valid feature names, but SVR was fitted with feature names\n",
      "  warnings.warn(\n",
      "/Library/Frameworks/Python.framework/Versions/3.11/lib/python3.11/site-packages/sklearn/base.py:465: UserWarning: X does not have valid feature names, but SVR was fitted with feature names\n",
      "  warnings.warn(\n",
      "/Library/Frameworks/Python.framework/Versions/3.11/lib/python3.11/site-packages/sklearn/base.py:465: UserWarning: X does not have valid feature names, but SVR was fitted with feature names\n",
      "  warnings.warn(\n",
      "/Library/Frameworks/Python.framework/Versions/3.11/lib/python3.11/site-packages/sklearn/base.py:465: UserWarning: X does not have valid feature names, but SVR was fitted with feature names\n",
      "  warnings.warn(\n",
      "/Library/Frameworks/Python.framework/Versions/3.11/lib/python3.11/site-packages/sklearn/base.py:465: UserWarning: X does not have valid feature names, but SVR was fitted with feature names\n",
      "  warnings.warn(\n",
      "/Library/Frameworks/Python.framework/Versions/3.11/lib/python3.11/site-packages/sklearn/base.py:465: UserWarning: X does not have valid feature names, but SVR was fitted with feature names\n",
      "  warnings.warn(\n",
      "/Library/Frameworks/Python.framework/Versions/3.11/lib/python3.11/site-packages/sklearn/base.py:465: UserWarning: X does not have valid feature names, but SVR was fitted with feature names\n",
      "  warnings.warn(\n",
      "/Library/Frameworks/Python.framework/Versions/3.11/lib/python3.11/site-packages/sklearn/base.py:465: UserWarning: X does not have valid feature names, but SVR was fitted with feature names\n",
      "  warnings.warn(\n",
      "/Library/Frameworks/Python.framework/Versions/3.11/lib/python3.11/site-packages/sklearn/base.py:465: UserWarning: X does not have valid feature names, but SVR was fitted with feature names\n",
      "  warnings.warn(\n",
      "/Library/Frameworks/Python.framework/Versions/3.11/lib/python3.11/site-packages/sklearn/base.py:465: UserWarning: X does not have valid feature names, but SVR was fitted with feature names\n",
      "  warnings.warn(\n",
      "/Library/Frameworks/Python.framework/Versions/3.11/lib/python3.11/site-packages/sklearn/base.py:465: UserWarning: X does not have valid feature names, but SVR was fitted with feature names\n",
      "  warnings.warn(\n",
      "/Library/Frameworks/Python.framework/Versions/3.11/lib/python3.11/site-packages/sklearn/base.py:465: UserWarning: X does not have valid feature names, but SVR was fitted with feature names\n",
      "  warnings.warn(\n",
      "/Library/Frameworks/Python.framework/Versions/3.11/lib/python3.11/site-packages/sklearn/base.py:465: UserWarning: X does not have valid feature names, but SVR was fitted with feature names\n",
      "  warnings.warn(\n",
      "/Library/Frameworks/Python.framework/Versions/3.11/lib/python3.11/site-packages/sklearn/base.py:465: UserWarning: X does not have valid feature names, but SVR was fitted with feature names\n",
      "  warnings.warn(\n",
      "/Library/Frameworks/Python.framework/Versions/3.11/lib/python3.11/site-packages/sklearn/base.py:465: UserWarning: X does not have valid feature names, but SVR was fitted with feature names\n",
      "  warnings.warn(\n",
      "/Library/Frameworks/Python.framework/Versions/3.11/lib/python3.11/site-packages/sklearn/base.py:465: UserWarning: X does not have valid feature names, but SVR was fitted with feature names\n",
      "  warnings.warn(\n",
      "/Library/Frameworks/Python.framework/Versions/3.11/lib/python3.11/site-packages/sklearn/base.py:465: UserWarning: X does not have valid feature names, but SVR was fitted with feature names\n",
      "  warnings.warn(\n",
      "/Library/Frameworks/Python.framework/Versions/3.11/lib/python3.11/site-packages/sklearn/base.py:465: UserWarning: X does not have valid feature names, but SVR was fitted with feature names\n",
      "  warnings.warn(\n",
      "/Library/Frameworks/Python.framework/Versions/3.11/lib/python3.11/site-packages/sklearn/base.py:465: UserWarning: X does not have valid feature names, but SVR was fitted with feature names\n",
      "  warnings.warn(\n",
      "/Library/Frameworks/Python.framework/Versions/3.11/lib/python3.11/site-packages/sklearn/base.py:465: UserWarning: X does not have valid feature names, but SVR was fitted with feature names\n",
      "  warnings.warn(\n",
      "/Library/Frameworks/Python.framework/Versions/3.11/lib/python3.11/site-packages/sklearn/base.py:465: UserWarning: X does not have valid feature names, but SVR was fitted with feature names\n",
      "  warnings.warn(\n"
     ]
    },
    {
     "data": {
      "text/plain": [
       "[array([5414.10878863]),\n",
       " array([5367.91035823]),\n",
       " array([5322.32518534]),\n",
       " array([5277.26804596]),\n",
       " array([5232.65648415]),\n",
       " array([5188.41717987]),\n",
       " array([5144.49029087]),\n",
       " array([5100.83188399]),\n",
       " array([5057.41456851]),\n",
       " array([5014.22644838]),\n",
       " array([4971.26854865]),\n",
       " array([4928.55094744]),\n",
       " array([4886.08794267]),\n",
       " array([4843.89267241]),\n",
       " array([4801.97165884]),\n",
       " array([4760.31973434]),\n",
       " array([4718.91573042]),\n",
       " array([4677.71918216]),\n",
       " array([4636.66815286]),\n",
       " array([4595.67815334]),\n",
       " array([4554.64204548]),\n",
       " array([4513.43079995]),\n",
       " array([4471.89502593]),\n",
       " array([4429.86730323]),\n",
       " array([4387.16551316]),\n",
       " array([4343.59757227]),\n",
       " array([4298.96820167]),\n",
       " array([4253.08857317]),\n",
       " array([4205.7897807]),\n",
       " array([4156.94093796])]"
      ]
     },
     "execution_count": 14,
     "metadata": {},
     "output_type": "execute_result"
    }
   ],
   "source": [
    "x_next_30_days = []\n",
    "for i in range(30):\n",
    "    x_pred_next = svr_rbf.predict(last_data)\n",
    "    x_next_30_days.append(x_pred_next)\n",
    "    last_data = x_pred_next.reshape(-1,1)\n",
    "x_next_30_days"
   ]
  },
  {
   "cell_type": "code",
   "execution_count": 15,
   "id": "223d2c60",
   "metadata": {},
   "outputs": [
    {
     "data": {
      "image/png": "[encoded data removed]",
      "text/plain": [
       "<Figure size 1000x600 with 1 Axes>"
      ]
     },
     "metadata": {},
     "output_type": "display_data"
    }
   ],
   "source": [
    "plt.figure(figsize=(10, 6))\n",
    "plt.plot(x_next_30_days, marker='o', color='b', label='Predicted Next 30 Days')\n",
    "\n",
    "plt.title('Predicted Values for the Next 30 Days')\n",
    "plt.xlabel('Date')\n",
    "plt.ylabel('Predicted Value')\n",
    "plt.legend()\n",
    "\n",
    "plt.show()"
   ]
  },
  {
   "cell_type": "code",
   "execution_count": 16,
   "id": "2e9b6465",
   "metadata": {},
   "outputs": [],
   "source": [
    "y_pred = y_pred.reshape(-1,1)"
   ]
  },
  {
   "cell_type": "code",
   "execution_count": null,
   "id": "7e8e887c",
   "metadata": {},
   "outputs": [],
   "source": [
    "# Create index for the next 30 days\n",
    "last_index =  data.index[-1]\n",
    "next_30_dates = pd.RangeIndex(start=last_index, stop=last_index+30, step=1)"
   ]
  },
  {
   "cell_type": "code",
   "execution_count": 17,
   "id": "b1559351",
   "metadata": {},
   "outputs": [
    {
     "name": "stdout",
     "output_type": "stream",
     "text": [
      "Testing RMSE: 45.31792910413668\n",
      "Testing MAPE: 0.6740354277447269%\n",
      "Testing MAE: 32.46829068730847\n",
      "Huber loss: [2053.71469829]\n"
     ]
    }
   ],
   "source": [
    "from sklearn.metrics import mean_absolute_percentage_error,mean_absolute_error\n",
    "# RMSE\n",
    "test_rmse = np.sqrt(np.mean((y_pred - y_test)**2))\n",
    "print('Testing RMSE:', test_rmse)\n",
    "# MAPE\n",
    "test_mape = mean_absolute_percentage_error(y_test,y_pred)\n",
    "print('Testing MAPE:', str(test_mape*100)+'%')\n",
    "# MAE\n",
    "test_mae = mean_absolute_error(y_test,y_pred)\n",
    "print('Testing MAE:', test_mae)\n",
    "# Huber loss\n",
    "hl= mean_squared_error(y_test, y_pred, multioutput='raw_values')\n",
    "print('Huber loss:', hl)"
   ]
  },
  {
   "cell_type": "code",
   "execution_count": null,
   "id": "8f9a7746",
   "metadata": {},
   "outputs": [],
   "source": [
    "plt.plot(y_train_index, y_train)\n",
    "plt.plot(y_test.index, y_test)\n",
    "plt.plot(y_test.index, y_pred)\n",
    "plt.plot(next_30_dates,x_next_30_days)\n",
    "plt.legend(['Train', 'Test', 'Predictions','Next30Day'])\n",
    "plt.show()"
   ]
  }
 ],
 "metadata": {
  "kernelspec": {
   "display_name": "Python 3 (ipykernel)",
   "language": "python",
   "name": "python3"
  },
  "language_info": {
   "codemirror_mode": {
    "name": "ipython",
    "version": 3
   },
   "file_extension": ".py",
   "mimetype": "text/x-python",
   "name": "python",
   "nbconvert_exporter": "python",
   "pygments_lexer": "ipython3",
   "version": "3.11.2"
  }
 },
 "nbformat": 4,
 "nbformat_minor": 5
}
