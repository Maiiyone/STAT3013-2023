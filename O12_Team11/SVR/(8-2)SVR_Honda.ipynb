{
 "cells": [
  {
   "cell_type": "markdown",
   "id": "0c2dab88",
   "metadata": {},
   "source": [
    "## Review steps"
   ]
  },
  {
   "cell_type": "markdown",
   "id": "7ad466ae",
   "metadata": {},
   "source": [
    "1. Data collection\n",
    "2. Data preprocessing\n",
    "3. train-test split\n",
    "4. Choosing ml/dl model\n",
    "5. Train model\n",
    "6. Do prediction and evaluate the model"
   ]
  },
  {
   "cell_type": "code",
   "execution_count": 23,
   "id": "1257413f",
   "metadata": {},
   "outputs": [],
   "source": [
    "import numpy as np # linear algebra import pandas\n",
    "from numpy import array\n",
    "import pandas as pd\n",
    "import math \n",
    "import seaborn as sns \n",
    "import datetime as dt \n",
    "from datetime import datetime\n",
    "sns.set_style(\"whitegrid\") \n",
    "from pandas.plotting import autocorrelation_plot \n",
    "import matplotlib.pyplot as plt\n",
    "%matplotlib inline\n",
    "plt.style.use(\"ggplot\" )\n",
    "from sklearn.metrics import mean_squared_error\n",
    "from sklearn.metrics import mean_absolute_percentage_error\n",
    "from sklearn.metrics import mean_absolute_error\n",
    "from tqdm import tqdm\n",
    "from sklearn.svm import SVR"
   ]
  },
  {
   "cell_type": "markdown",
   "id": "39d47361",
   "metadata": {},
   "source": [
    "## Loading data"
   ]
  },
  {
   "cell_type": "code",
   "execution_count": 24,
   "id": "b92395b0",
   "metadata": {},
   "outputs": [
    {
     "data": {
      "text/html": [
       "<div>\n",
       "<style scoped>\n",
       "    .dataframe tbody tr th:only-of-type {\n",
       "        vertical-align: middle;\n",
       "    }\n",
       "\n",
       "    .dataframe tbody tr th {\n",
       "        vertical-align: top;\n",
       "    }\n",
       "\n",
       "    .dataframe thead th {\n",
       "        text-align: right;\n",
       "    }\n",
       "</style>\n",
       "<table border=\"1\" class=\"dataframe\">\n",
       "  <thead>\n",
       "    <tr style=\"text-align: right;\">\n",
       "      <th></th>\n",
       "      <th>Date</th>\n",
       "      <th>Price</th>\n",
       "      <th>Open</th>\n",
       "      <th>High</th>\n",
       "      <th>Low</th>\n",
       "      <th>Volume</th>\n",
       "      <th>Change</th>\n",
       "    </tr>\n",
       "  </thead>\n",
       "  <tbody>\n",
       "    <tr>\n",
       "      <th>0</th>\n",
       "      <td>04/01/2018</td>\n",
       "      <td>1328,70</td>\n",
       "      <td>1308,30</td>\n",
       "      <td>1328,70</td>\n",
       "      <td>1302,00</td>\n",
       "      <td>14890000,0</td>\n",
       "      <td>0,032200</td>\n",
       "    </tr>\n",
       "    <tr>\n",
       "      <th>1</th>\n",
       "      <td>05/01/2018</td>\n",
       "      <td>1340,30</td>\n",
       "      <td>1333,30</td>\n",
       "      <td>1351,30</td>\n",
       "      <td>1330,00</td>\n",
       "      <td>14300000,0</td>\n",
       "      <td>0,008700</td>\n",
       "    </tr>\n",
       "    <tr>\n",
       "      <th>2</th>\n",
       "      <td>09/01/2018</td>\n",
       "      <td>1336,70</td>\n",
       "      <td>1347,30</td>\n",
       "      <td>1352,30</td>\n",
       "      <td>1332,30</td>\n",
       "      <td>10340000,0</td>\n",
       "      <td>-0,002700</td>\n",
       "    </tr>\n",
       "    <tr>\n",
       "      <th>3</th>\n",
       "      <td>10/01/2018</td>\n",
       "      <td>1367,30</td>\n",
       "      <td>1345,00</td>\n",
       "      <td>1383,70</td>\n",
       "      <td>1342,70</td>\n",
       "      <td>14080000,0</td>\n",
       "      <td>0,022900</td>\n",
       "    </tr>\n",
       "    <tr>\n",
       "      <th>4</th>\n",
       "      <td>11/01/2018</td>\n",
       "      <td>1342,00</td>\n",
       "      <td>1345,00</td>\n",
       "      <td>1351,70</td>\n",
       "      <td>1332,70</td>\n",
       "      <td>12090000,0</td>\n",
       "      <td>-0,018500</td>\n",
       "    </tr>\n",
       "    <tr>\n",
       "      <th>...</th>\n",
       "      <td>...</td>\n",
       "      <td>...</td>\n",
       "      <td>...</td>\n",
       "      <td>...</td>\n",
       "      <td>...</td>\n",
       "      <td>...</td>\n",
       "      <td>...</td>\n",
       "    </tr>\n",
       "    <tr>\n",
       "      <th>1447</th>\n",
       "      <td>08/12/2023</td>\n",
       "      <td>1458,00</td>\n",
       "      <td>1488,00</td>\n",
       "      <td>1490,00</td>\n",
       "      <td>1450,50</td>\n",
       "      <td>28600000,0</td>\n",
       "      <td>-0,025700</td>\n",
       "    </tr>\n",
       "    <tr>\n",
       "      <th>1448</th>\n",
       "      <td>11/12/2023</td>\n",
       "      <td>1494,50</td>\n",
       "      <td>1496,00</td>\n",
       "      <td>1501,00</td>\n",
       "      <td>1486,50</td>\n",
       "      <td>14850000,0</td>\n",
       "      <td>0,025000</td>\n",
       "    </tr>\n",
       "    <tr>\n",
       "      <th>1449</th>\n",
       "      <td>12/12/2023</td>\n",
       "      <td>1477,50</td>\n",
       "      <td>1501,00</td>\n",
       "      <td>1502,00</td>\n",
       "      <td>1477,50</td>\n",
       "      <td>11320000,0</td>\n",
       "      <td>-0,011400</td>\n",
       "    </tr>\n",
       "    <tr>\n",
       "      <th>1450</th>\n",
       "      <td>13/12/2023</td>\n",
       "      <td>1469,00</td>\n",
       "      <td>1476,50</td>\n",
       "      <td>1477,00</td>\n",
       "      <td>1456,00</td>\n",
       "      <td>14080000,0</td>\n",
       "      <td>-0,005800</td>\n",
       "    </tr>\n",
       "    <tr>\n",
       "      <th>1451</th>\n",
       "      <td>14/12/2023</td>\n",
       "      <td>1395,50</td>\n",
       "      <td>1434,00</td>\n",
       "      <td>1439,50</td>\n",
       "      <td>1389,00</td>\n",
       "      <td>27040000,0</td>\n",
       "      <td>-0,050000</td>\n",
       "    </tr>\n",
       "  </tbody>\n",
       "</table>\n",
       "<p>1452 rows × 7 columns</p>\n",
       "</div>"
      ],
      "text/plain": [
       "            Date    Price     Open     High      Low      Volume     Change\n",
       "0     04/01/2018  1328,70  1308,30  1328,70  1302,00  14890000,0   0,032200\n",
       "1     05/01/2018  1340,30  1333,30  1351,30  1330,00  14300000,0   0,008700\n",
       "2     09/01/2018  1336,70  1347,30  1352,30  1332,30  10340000,0  -0,002700\n",
       "3     10/01/2018  1367,30  1345,00  1383,70  1342,70  14080000,0   0,022900\n",
       "4     11/01/2018  1342,00  1345,00  1351,70  1332,70  12090000,0  -0,018500\n",
       "...          ...      ...      ...      ...      ...         ...        ...\n",
       "1447  08/12/2023  1458,00  1488,00  1490,00  1450,50  28600000,0  -0,025700\n",
       "1448  11/12/2023  1494,50  1496,00  1501,00  1486,50  14850000,0   0,025000\n",
       "1449  12/12/2023  1477,50  1501,00  1502,00  1477,50  11320000,0  -0,011400\n",
       "1450  13/12/2023  1469,00  1476,50  1477,00  1456,00  14080000,0  -0,005800\n",
       "1451  14/12/2023  1395,50  1434,00  1439,50  1389,00  27040000,0  -0,050000\n",
       "\n",
       "[1452 rows x 7 columns]"
      ]
     },
     "execution_count": 24,
     "metadata": {},
     "output_type": "execute_result"
    }
   ],
   "source": [
    "data= pd.read_csv(\"Honda-2.csv\",delimiter=\";\")\n",
    "data"
   ]
  },
  {
   "cell_type": "markdown",
   "id": "79f8654f",
   "metadata": {},
   "source": [
    "## Data Exploration"
   ]
  },
  {
   "cell_type": "code",
   "execution_count": 25,
   "id": "b39bad11",
   "metadata": {},
   "outputs": [
    {
     "name": "stdout",
     "output_type": "stream",
     "text": [
      "<class 'pandas.core.frame.DataFrame'>\n",
      "RangeIndex: 1452 entries, 0 to 1451\n",
      "Data columns (total 7 columns):\n",
      " #   Column  Non-Null Count  Dtype \n",
      "---  ------  --------------  ----- \n",
      " 0   Date    1452 non-null   object\n",
      " 1   Price   1452 non-null   object\n",
      " 2   Open    1452 non-null   object\n",
      " 3   High    1452 non-null   object\n",
      " 4   Low     1452 non-null   object\n",
      " 5   Volume  1452 non-null   object\n",
      " 6   Change  1452 non-null   object\n",
      "dtypes: object(7)\n",
      "memory usage: 79.5+ KB\n"
     ]
    }
   ],
   "source": [
    "# Check the data type of each value column\n",
    "data.info()"
   ]
  },
  {
   "cell_type": "code",
   "execution_count": 26,
   "id": "f8b9c1e2",
   "metadata": {},
   "outputs": [
    {
     "data": {
      "text/plain": [
       "0      2018-01-04\n",
       "1      2018-01-05\n",
       "2      2018-01-09\n",
       "3      2018-01-10\n",
       "4      2018-01-11\n",
       "          ...    \n",
       "1447   2023-12-08\n",
       "1448   2023-12-11\n",
       "1449   2023-12-12\n",
       "1450   2023-12-13\n",
       "1451   2023-12-14\n",
       "Name: Date, Length: 1452, dtype: datetime64[ns]"
      ]
     },
     "execution_count": 26,
     "metadata": {},
     "output_type": "execute_result"
    }
   ],
   "source": [
    "# Reformat the date data type\n",
    "data['Date'] = pd.to_datetime(data['Date'], format='%d/%m/%Y')  # Ví dụ cho định dạng dd/mm/yyyy\n",
    "data['Date']"
   ]
  },
  {
   "cell_type": "code",
   "execution_count": 27,
   "id": "f075de4b",
   "metadata": {},
   "outputs": [
    {
     "name": "stdout",
     "output_type": "stream",
     "text": [
      "<class 'pandas.core.frame.DataFrame'>\n",
      "RangeIndex: 1452 entries, 0 to 1451\n",
      "Data columns (total 7 columns):\n",
      " #   Column  Non-Null Count  Dtype         \n",
      "---  ------  --------------  -----         \n",
      " 0   Date    1452 non-null   datetime64[ns]\n",
      " 1   Price   1452 non-null   float64       \n",
      " 2   Open    1452 non-null   float64       \n",
      " 3   High    1452 non-null   float64       \n",
      " 4   Low     1452 non-null   float64       \n",
      " 5   Volume  1452 non-null   float64       \n",
      " 6   Change  1452 non-null   float64       \n",
      "dtypes: datetime64[ns](1), float64(6)\n",
      "memory usage: 79.5 KB\n"
     ]
    }
   ],
   "source": [
    "# Clean data and cast data for calculation\n",
    "data['Price'] = data['Price'].str.replace(',', '.').astype(float)\n",
    "data['Open'] = data['Open'].str.replace(',', '.').astype(float)\n",
    "data['High'] = data['High'].str.replace(',', '.').astype(float)\n",
    "data['Low'] = data['Low'].str.replace(',', '.').astype(float)\n",
    "data['Volume'] = data['Volume'].str.replace(',', '.').astype(float)\n",
    "data['Change'] = data['Change'].str.replace(',', '.').astype(float)\n",
    "data.info()"
   ]
  },
  {
   "cell_type": "code",
   "execution_count": 28,
   "id": "0b9eea0a",
   "metadata": {},
   "outputs": [
    {
     "data": {
      "text/html": [
       "<div>\n",
       "<style scoped>\n",
       "    .dataframe tbody tr th:only-of-type {\n",
       "        vertical-align: middle;\n",
       "    }\n",
       "\n",
       "    .dataframe tbody tr th {\n",
       "        vertical-align: top;\n",
       "    }\n",
       "\n",
       "    .dataframe thead th {\n",
       "        text-align: right;\n",
       "    }\n",
       "</style>\n",
       "<table border=\"1\" class=\"dataframe\">\n",
       "  <thead>\n",
       "    <tr style=\"text-align: right;\">\n",
       "      <th></th>\n",
       "      <th>Date</th>\n",
       "      <th>Price</th>\n",
       "      <th>Open</th>\n",
       "      <th>High</th>\n",
       "      <th>Low</th>\n",
       "      <th>Volume</th>\n",
       "      <th>Change</th>\n",
       "    </tr>\n",
       "  </thead>\n",
       "  <tbody>\n",
       "    <tr>\n",
       "      <th>count</th>\n",
       "      <td>1452</td>\n",
       "      <td>1452.000000</td>\n",
       "      <td>1452.000000</td>\n",
       "      <td>1452.000000</td>\n",
       "      <td>1452.000000</td>\n",
       "      <td>1.452000e+03</td>\n",
       "      <td>1452.000000</td>\n",
       "    </tr>\n",
       "    <tr>\n",
       "      <th>mean</th>\n",
       "      <td>2020-12-26 16:00:59.504132352</td>\n",
       "      <td>1105.688912</td>\n",
       "      <td>1106.123485</td>\n",
       "      <td>1115.705579</td>\n",
       "      <td>1095.946556</td>\n",
       "      <td>1.393168e+07</td>\n",
       "      <td>0.000222</td>\n",
       "    </tr>\n",
       "    <tr>\n",
       "      <th>min</th>\n",
       "      <td>2018-01-04 00:00:00</td>\n",
       "      <td>711.800000</td>\n",
       "      <td>717.200000</td>\n",
       "      <td>746.700000</td>\n",
       "      <td>706.700000</td>\n",
       "      <td>3.360000e+06</td>\n",
       "      <td>-0.071000</td>\n",
       "    </tr>\n",
       "    <tr>\n",
       "      <th>25%</th>\n",
       "      <td>2019-07-01 18:00:00</td>\n",
       "      <td>995.375000</td>\n",
       "      <td>995.725000</td>\n",
       "      <td>1005.600000</td>\n",
       "      <td>986.525000</td>\n",
       "      <td>1.040000e+07</td>\n",
       "      <td>-0.010100</td>\n",
       "    </tr>\n",
       "    <tr>\n",
       "      <th>50%</th>\n",
       "      <td>2020-12-28 12:00:00</td>\n",
       "      <td>1087.000000</td>\n",
       "      <td>1088.300000</td>\n",
       "      <td>1097.150000</td>\n",
       "      <td>1078.150000</td>\n",
       "      <td>1.284000e+07</td>\n",
       "      <td>0.000000</td>\n",
       "    </tr>\n",
       "    <tr>\n",
       "      <th>75%</th>\n",
       "      <td>2022-06-24 18:00:00</td>\n",
       "      <td>1172.700000</td>\n",
       "      <td>1174.400000</td>\n",
       "      <td>1181.325000</td>\n",
       "      <td>1163.850000</td>\n",
       "      <td>1.624750e+07</td>\n",
       "      <td>0.010225</td>\n",
       "    </tr>\n",
       "    <tr>\n",
       "      <th>max</th>\n",
       "      <td>2023-12-14 00:00:00</td>\n",
       "      <td>1802.300000</td>\n",
       "      <td>1802.300000</td>\n",
       "      <td>1821.000000</td>\n",
       "      <td>1780.000000</td>\n",
       "      <td>4.645000e+07</td>\n",
       "      <td>0.106200</td>\n",
       "    </tr>\n",
       "    <tr>\n",
       "      <th>std</th>\n",
       "      <td>NaN</td>\n",
       "      <td>183.522697</td>\n",
       "      <td>184.289369</td>\n",
       "      <td>184.962911</td>\n",
       "      <td>182.567989</td>\n",
       "      <td>5.240151e+06</td>\n",
       "      <td>0.018327</td>\n",
       "    </tr>\n",
       "  </tbody>\n",
       "</table>\n",
       "</div>"
      ],
      "text/plain": [
       "                                Date        Price         Open         High  \\\n",
       "count                           1452  1452.000000  1452.000000  1452.000000   \n",
       "mean   2020-12-26 16:00:59.504132352  1105.688912  1106.123485  1115.705579   \n",
       "min              2018-01-04 00:00:00   711.800000   717.200000   746.700000   \n",
       "25%              2019-07-01 18:00:00   995.375000   995.725000  1005.600000   \n",
       "50%              2020-12-28 12:00:00  1087.000000  1088.300000  1097.150000   \n",
       "75%              2022-06-24 18:00:00  1172.700000  1174.400000  1181.325000   \n",
       "max              2023-12-14 00:00:00  1802.300000  1802.300000  1821.000000   \n",
       "std                              NaN   183.522697   184.289369   184.962911   \n",
       "\n",
       "               Low        Volume       Change  \n",
       "count  1452.000000  1.452000e+03  1452.000000  \n",
       "mean   1095.946556  1.393168e+07     0.000222  \n",
       "min     706.700000  3.360000e+06    -0.071000  \n",
       "25%     986.525000  1.040000e+07    -0.010100  \n",
       "50%    1078.150000  1.284000e+07     0.000000  \n",
       "75%    1163.850000  1.624750e+07     0.010225  \n",
       "max    1780.000000  4.645000e+07     0.106200  \n",
       "std     182.567989  5.240151e+06     0.018327  "
      ]
     },
     "execution_count": 28,
     "metadata": {},
     "output_type": "execute_result"
    }
   ],
   "source": [
    "# Gets descriptive statistical information about a DataFrame or a Series\n",
    "data.describe()"
   ]
  },
  {
   "cell_type": "markdown",
   "id": "2ab6ee45",
   "metadata": {},
   "source": [
    "## Data Visualization"
   ]
  },
  {
   "cell_type": "code",
   "execution_count": 29,
   "id": "e2596555",
   "metadata": {},
   "outputs": [],
   "source": [
    "# Reshape turns df into a NumPy array of size (-1, 1)\n",
    "df=data['Price'].values\n",
    "df = df.reshape(-1, 1)"
   ]
  },
  {
   "cell_type": "code",
   "execution_count": 30,
   "id": "d7cb69c3",
   "metadata": {},
   "outputs": [
    {
     "data": {
      "text/plain": [
       "array([[0.56570381],\n",
       "       [0.57634113],\n",
       "       [0.57303989],\n",
       "       ...,\n",
       "       [0.70215497],\n",
       "       [0.69436039],\n",
       "       [0.62696011]])"
      ]
     },
     "execution_count": 30,
     "metadata": {},
     "output_type": "execute_result"
    }
   ],
   "source": [
    "from sklearn.preprocessing import MinMaxScaler\n",
    "scaler = MinMaxScaler() # Perform data normalization according to the min-max scaling method\n",
    "price_scaled=scaler.fit_transform(df) # Fit và transform the data\n",
    "price_scaled"
   ]
  },
  {
   "cell_type": "code",
   "execution_count": 31,
   "id": "7dc411d8",
   "metadata": {},
   "outputs": [
    {
     "data": {
      "image/png": "[encoded data removed]",
      "text/plain": [
       "<Figure size 640x480 with 1 Axes>"
      ]
     },
     "metadata": {},
     "output_type": "display_data"
    }
   ],
   "source": [
    "# Create plot\n",
    "plt.figure(figure=(10,6))\n",
    "plt.plot(data['Date'],data['Price'].values, label=\"Price\", color=\"IndianRed\")\n",
    "\n",
    "# Adding title\n",
    "plt.title(\"Plot of price due to date\")\n",
    "\n",
    "# Adding label\n",
    "plt.xlabel(\"Date\")\n",
    "plt.ylabel(\"Price\")\n",
    "\n",
    "# Show the plot\n",
    "plt.legend()\n",
    "plt.show()"
   ]
  },
  {
   "cell_type": "markdown",
   "id": "8916df77",
   "metadata": {},
   "source": [
    "## Data Preprocessing"
   ]
  },
  {
   "cell_type": "markdown",
   "id": "7c98f8f8",
   "metadata": {},
   "source": [
    "### Split data into training and testing set"
   ]
  },
  {
   "cell_type": "markdown",
   "id": "38cbaa7a",
   "metadata": {},
   "source": [
    "### Training - testing 8:2"
   ]
  },
  {
   "cell_type": "code",
   "execution_count": 32,
   "id": "fbd0ffbf",
   "metadata": {},
   "outputs": [],
   "source": [
    "# Split train test validation in ratio 8:2\n",
    "# Split the data into training, testing\n",
    "train_size = int(0.8 * len(data))\n",
    "test_size = int(0.2 * len(data))\n",
    "\n",
    "X2D = data[['High']] # Independent variable in 2-dimensional array\n",
    "Y2D = data[['Price']] # Dependent variable in 2-dimensional array"
   ]
  },
  {
   "cell_type": "code",
   "execution_count": 33,
   "id": "f5abf4f0",
   "metadata": {},
   "outputs": [
    {
     "name": "stdout",
     "output_type": "stream",
     "text": [
      "Best parameters: {'C': 1000, 'epsilon': 0.001, 'gamma': 'scale'}\n",
      "Best score: 532.1959376430601\n"
     ]
    }
   ],
   "source": [
    "from sklearn.svm import SVR\n",
    "from sklearn.model_selection import GridSearchCV\n",
    "from sklearn.model_selection import cross_val_score\n",
    "\n",
    "y_train = Y2D[:train_size]\n",
    "x_train = X2D[:train_size]\n",
    "y_test = Y2D[train_size:]\n",
    "x_test = X2D[train_size:]\n",
    "y_train_index = y_train.index # Get the index before converting it to a 2-dimensional array (serves plot)\n",
    "y_train = Y2D[:train_size].values.ravel()\n",
    "\n",
    "# Create SVR model with RBF kernel\n",
    "model = SVR(kernel='rbf')\n",
    "param_grid = {\n",
    "    'C': [0.1, 1, 10, 100, 1000],             \n",
    "    'gamma': ['scale', 'auto', 0.001, 0.01, 0.1, 1],  \n",
    "    'epsilon': [0.001, 0.01, 0.1, 1, 10]     \n",
    "}\n",
    "\n",
    "# Create a GridSearchCV object\n",
    "grid_search = GridSearchCV(model, param_grid, cv=5, scoring='neg_mean_squared_error', n_jobs=-1)\n",
    "\n",
    "# Train the model using grid search\n",
    "svr_rbf = grid_search.fit(x_train,y_train)\n",
    "\n",
    "print(\"Best parameters:\", grid_search.best_params_)\n",
    "print(\"Best score:\", -grid_search.best_score_)"
   ]
  },
  {
   "cell_type": "code",
   "execution_count": 34,
   "id": "32fc883f",
   "metadata": {},
   "outputs": [
    {
     "data": {
      "text/plain": [
       "array([1071.26383269, 1072.87326539, 1091.92650446, 1084.42791072,\n",
       "       1094.75022198, 1089.39220804, 1086.01948927, 1082.27431533,\n",
       "       1090.98722537, 1102.62843212, 1114.95653282, 1110.73950971,\n",
       "       1104.54547785, 1116.93382067, 1131.04948721, 1136.19291875,\n",
       "       1131.35678859, 1138.57276748, 1150.03180173, 1145.22883467,\n",
       "       1089.39220804, 1110.3495596 , 1103.29846302, 1105.21842913,\n",
       "       1100.43362563, 1101.67293021, 1106.85721656, 1113.28380515,\n",
       "       1128.29205359, 1126.25962934, 1118.92126156, 1123.22822039,\n",
       "       1104.54547785, 1109.76536332, 1111.71610115, 1098.24836866,\n",
       "       1084.42791072, 1089.39220804, 1091.26892068, 1082.55528204,\n",
       "       1089.76733016, 1086.30038937, 1102.34157602, 1097.86922034,\n",
       "       1096.63868529, 1091.26892068, 1072.87326539, 1077.58492884,\n",
       "       1027.15799965, 1035.72550149, 1010.12577313, 1023.6289988 ,\n",
       "       1026.12083796, 1011.16180686, 1003.93137593, 1012.19865034,\n",
       "       1011.16180686, 1027.77991553, 1040.12344463, 1061.40010308,\n",
       "       1043.5754008 , 1043.5754008 , 1036.44367641, 1004.65182199,\n",
       "       1030.88432876, 1050.6008057 , 1016.76795918, 1016.0404405 ,\n",
       "       1031.91690147, 1041.85243899, 1042.86669617, 1046.90169241,\n",
       "       1051.59485814, 1062.65721766, 1069.36448162, 1076.6448235 ,\n",
       "       1071.92706927, 1068.41220443, 1088.45480319, 1088.17368028,\n",
       "       1078.52413886, 1064.5838832 , 1063.33254889, 1103.01118588,\n",
       "       1114.95653282, 1114.95653282, 1127.27472745, 1137.22667841,\n",
       "       1149.71833673, 1174.91288497, 1164.31542274, 1177.65792081,\n",
       "       1184.00044581, 1197.47661747, 1192.60774058, 1191.62732574,\n",
       "       1194.85417517, 1204.49483365, 1205.83017708, 1211.14431405,\n",
       "       1217.46129983, 1209.91412036, 1181.69540316, 1119.61925527,\n",
       "       1133.82139564, 1115.2524787 , 1118.6224997 , 1109.37638169,\n",
       "       1132.38239302, 1126.96996152, 1117.23129012, 1126.25962934,\n",
       "       1135.16073405, 1148.98699482, 1157.03085817, 1167.11023346,\n",
       "       1178.3670511 , 1191.62732574, 1181.69540316, 1155.25611986,\n",
       "       1157.34388942, 1167.72985856, 1172.56275572, 1179.98385918,\n",
       "       1171.53777005, 1167.11023346, 1167.42011546, 1181.99675489,\n",
       "       1177.96196473, 1173.58583411, 1158.80393045, 1163.58924571,\n",
       "       1166.69684528, 1158.80393045, 1165.3517213 , 1188.67228902,\n",
       "       1203.53909781, 1201.33441014, 1201.62251206, 1214.35400061,\n",
       "       1219.06009131, 1206.78217771, 1248.54155659, 1272.8734008 ,\n",
       "       1260.99276012, 1277.72409779, 1295.82958823, 1314.62551686,\n",
       "       1313.59649162, 1333.08949108, 1317.69420298, 1332.15271064,\n",
       "       1339.68400253, 1351.95865493, 1350.5718855 , 1336.12650999,\n",
       "       1326.39121555, 1344.15684454, 1364.00955307, 1358.97380523,\n",
       "       1346.50177337, 1363.2621407 , 1357.21966012, 1334.35676296,\n",
       "       1287.04684746, 1171.1508944 , 1205.9402458 , 1251.62752842,\n",
       "       1269.71185958, 1303.79429523, 1266.22507168, 1249.51817586,\n",
       "       1260.01081096, 1329.45263061, 1324.50941272, 1295.22259521,\n",
       "       1262.09017794, 1302.54379975, 1271.13943327, 1257.29700749,\n",
       "       1273.17000502, 1271.13943327, 1330.29393109, 1348.76523801,\n",
       "       1358.18869031, 1363.45093219, 1363.51863607, 1362.34858695,\n",
       "       1361.89310093, 1319.43514457, 1307.31372279, 1306.09107219,\n",
       "       1242.53032396, 1226.16111522, 1264.16179315, 1269.09854397,\n",
       "       1263.54115733, 1197.67574666, 1155.90330313, 1151.17423791,\n",
       "       1241.04407368, 1275.18968039, 1287.04684746, 1250.36245914,\n",
       "       1259.38557677, 1106.98616714, 1125.30781572, 1196.85646049,\n",
       "       1245.28730722, 1261.46715515, 1264.16179315, 1241.04407368,\n",
       "       1223.40204112, 1178.8479727 , 1185.54768428, 1187.54343726,\n",
       "       1135.83340686, 1125.30781572, 1125.74039566, 1090.69125397,\n",
       "       1092.24820452, 1072.09971777, 1067.09532061, 1056.48212843,\n",
       "       1057.95940053, 1056.1536499 , 1057.45594589, 1055.42628817,\n",
       "       1054.87292736, 1053.95255743, 1053.87997324, 1053.86630525,\n",
       "       1053.86397435, 1053.87397152, 1053.90393988, 1053.89802397,\n",
       "       1053.93097094, 1053.93302805, 1053.99272303, 1054.03499676,\n",
       "       1054.09499849, 1054.86477431, 1080.81621339, 1074.15359751,\n",
       "       1062.94533059, 1056.09424971, 1054.9274139 , 1054.234162  ,\n",
       "       1054.6303486 , 1056.97411438, 1054.59911346, 1054.78648354,\n",
       "       1056.97411438, 1060.00479358, 1063.38653015, 1066.43558371,\n",
       "       1060.53779913, 1066.06058309, 1074.15359751, 1135.05189035,\n",
       "       1176.32353083, 1106.98616714, 1066.06058309, 1067.61919117,\n",
       "       1065.69504891, 1061.47414145, 1057.45594589, 1085.33619722,\n",
       "       1082.26229215, 1077.77499403, 1065.16410649, 1069.56819664,\n",
       "       1065.69504891, 1063.84590422, 1140.61671512, 1126.75624113,\n",
       "       1099.18180822, 1111.84855989, 1121.0741003 , 1185.14986212,\n",
       "       1192.17392195, 1155.90330313, 1186.14525462, 1207.60724465,\n",
       "       1166.8235042 , 1182.18075288, 1248.88451537, 1225.52406992,\n",
       "       1223.40204112, 1275.79337197, 1338.42006792])"
      ]
     },
     "execution_count": 34,
     "metadata": {},
     "output_type": "execute_result"
    }
   ],
   "source": [
    "y_pred = svr_rbf.predict(x_test)\n",
    "y_pred"
   ]
  },
  {
   "cell_type": "code",
   "execution_count": 35,
   "id": "ca902a11",
   "metadata": {},
   "outputs": [
    {
     "data": {
      "text/plain": [
       "array([[1395.5]])"
      ]
     },
     "execution_count": 35,
     "metadata": {},
     "output_type": "execute_result"
    }
   ],
   "source": [
    "last_row = data.tail(1)\n",
    "last_data = last_row['Price'].values.reshape(-1,1)\n",
    "last_data"
   ]
  },
  {
   "cell_type": "code",
   "execution_count": 36,
   "id": "c5ebda20",
   "metadata": {},
   "outputs": [
    {
     "name": "stderr",
     "output_type": "stream",
     "text": [
      "/Library/Frameworks/Python.framework/Versions/3.11/lib/python3.11/site-packages/sklearn/base.py:465: UserWarning: X does not have valid feature names, but SVR was fitted with feature names\n",
      "  warnings.warn(\n",
      "/Library/Frameworks/Python.framework/Versions/3.11/lib/python3.11/site-packages/sklearn/base.py:465: UserWarning: X does not have valid feature names, but SVR was fitted with feature names\n",
      "  warnings.warn(\n",
      "/Library/Frameworks/Python.framework/Versions/3.11/lib/python3.11/site-packages/sklearn/base.py:465: UserWarning: X does not have valid feature names, but SVR was fitted with feature names\n",
      "  warnings.warn(\n",
      "/Library/Frameworks/Python.framework/Versions/3.11/lib/python3.11/site-packages/sklearn/base.py:465: UserWarning: X does not have valid feature names, but SVR was fitted with feature names\n",
      "  warnings.warn(\n",
      "/Library/Frameworks/Python.framework/Versions/3.11/lib/python3.11/site-packages/sklearn/base.py:465: UserWarning: X does not have valid feature names, but SVR was fitted with feature names\n",
      "  warnings.warn(\n",
      "/Library/Frameworks/Python.framework/Versions/3.11/lib/python3.11/site-packages/sklearn/base.py:465: UserWarning: X does not have valid feature names, but SVR was fitted with feature names\n",
      "  warnings.warn(\n",
      "/Library/Frameworks/Python.framework/Versions/3.11/lib/python3.11/site-packages/sklearn/base.py:465: UserWarning: X does not have valid feature names, but SVR was fitted with feature names\n",
      "  warnings.warn(\n",
      "/Library/Frameworks/Python.framework/Versions/3.11/lib/python3.11/site-packages/sklearn/base.py:465: UserWarning: X does not have valid feature names, but SVR was fitted with feature names\n",
      "  warnings.warn(\n",
      "/Library/Frameworks/Python.framework/Versions/3.11/lib/python3.11/site-packages/sklearn/base.py:465: UserWarning: X does not have valid feature names, but SVR was fitted with feature names\n",
      "  warnings.warn(\n",
      "/Library/Frameworks/Python.framework/Versions/3.11/lib/python3.11/site-packages/sklearn/base.py:465: UserWarning: X does not have valid feature names, but SVR was fitted with feature names\n",
      "  warnings.warn(\n",
      "/Library/Frameworks/Python.framework/Versions/3.11/lib/python3.11/site-packages/sklearn/base.py:465: UserWarning: X does not have valid feature names, but SVR was fitted with feature names\n",
      "  warnings.warn(\n",
      "/Library/Frameworks/Python.framework/Versions/3.11/lib/python3.11/site-packages/sklearn/base.py:465: UserWarning: X does not have valid feature names, but SVR was fitted with feature names\n",
      "  warnings.warn(\n",
      "/Library/Frameworks/Python.framework/Versions/3.11/lib/python3.11/site-packages/sklearn/base.py:465: UserWarning: X does not have valid feature names, but SVR was fitted with feature names\n",
      "  warnings.warn(\n",
      "/Library/Frameworks/Python.framework/Versions/3.11/lib/python3.11/site-packages/sklearn/base.py:465: UserWarning: X does not have valid feature names, but SVR was fitted with feature names\n",
      "  warnings.warn(\n",
      "/Library/Frameworks/Python.framework/Versions/3.11/lib/python3.11/site-packages/sklearn/base.py:465: UserWarning: X does not have valid feature names, but SVR was fitted with feature names\n",
      "  warnings.warn(\n",
      "/Library/Frameworks/Python.framework/Versions/3.11/lib/python3.11/site-packages/sklearn/base.py:465: UserWarning: X does not have valid feature names, but SVR was fitted with feature names\n",
      "  warnings.warn(\n",
      "/Library/Frameworks/Python.framework/Versions/3.11/lib/python3.11/site-packages/sklearn/base.py:465: UserWarning: X does not have valid feature names, but SVR was fitted with feature names\n",
      "  warnings.warn(\n",
      "/Library/Frameworks/Python.framework/Versions/3.11/lib/python3.11/site-packages/sklearn/base.py:465: UserWarning: X does not have valid feature names, but SVR was fitted with feature names\n",
      "  warnings.warn(\n",
      "/Library/Frameworks/Python.framework/Versions/3.11/lib/python3.11/site-packages/sklearn/base.py:465: UserWarning: X does not have valid feature names, but SVR was fitted with feature names\n",
      "  warnings.warn(\n",
      "/Library/Frameworks/Python.framework/Versions/3.11/lib/python3.11/site-packages/sklearn/base.py:465: UserWarning: X does not have valid feature names, but SVR was fitted with feature names\n",
      "  warnings.warn(\n",
      "/Library/Frameworks/Python.framework/Versions/3.11/lib/python3.11/site-packages/sklearn/base.py:465: UserWarning: X does not have valid feature names, but SVR was fitted with feature names\n",
      "  warnings.warn(\n",
      "/Library/Frameworks/Python.framework/Versions/3.11/lib/python3.11/site-packages/sklearn/base.py:465: UserWarning: X does not have valid feature names, but SVR was fitted with feature names\n",
      "  warnings.warn(\n",
      "/Library/Frameworks/Python.framework/Versions/3.11/lib/python3.11/site-packages/sklearn/base.py:465: UserWarning: X does not have valid feature names, but SVR was fitted with feature names\n",
      "  warnings.warn(\n",
      "/Library/Frameworks/Python.framework/Versions/3.11/lib/python3.11/site-packages/sklearn/base.py:465: UserWarning: X does not have valid feature names, but SVR was fitted with feature names\n",
      "  warnings.warn(\n",
      "/Library/Frameworks/Python.framework/Versions/3.11/lib/python3.11/site-packages/sklearn/base.py:465: UserWarning: X does not have valid feature names, but SVR was fitted with feature names\n",
      "  warnings.warn(\n",
      "/Library/Frameworks/Python.framework/Versions/3.11/lib/python3.11/site-packages/sklearn/base.py:465: UserWarning: X does not have valid feature names, but SVR was fitted with feature names\n",
      "  warnings.warn(\n",
      "/Library/Frameworks/Python.framework/Versions/3.11/lib/python3.11/site-packages/sklearn/base.py:465: UserWarning: X does not have valid feature names, but SVR was fitted with feature names\n",
      "  warnings.warn(\n",
      "/Library/Frameworks/Python.framework/Versions/3.11/lib/python3.11/site-packages/sklearn/base.py:465: UserWarning: X does not have valid feature names, but SVR was fitted with feature names\n",
      "  warnings.warn(\n",
      "/Library/Frameworks/Python.framework/Versions/3.11/lib/python3.11/site-packages/sklearn/base.py:465: UserWarning: X does not have valid feature names, but SVR was fitted with feature names\n",
      "  warnings.warn(\n",
      "/Library/Frameworks/Python.framework/Versions/3.11/lib/python3.11/site-packages/sklearn/base.py:465: UserWarning: X does not have valid feature names, but SVR was fitted with feature names\n",
      "  warnings.warn(\n"
     ]
    },
    {
     "data": {
      "text/plain": [
       "[array([1363.96988456]),\n",
       " array([1351.45920401]),\n",
       " array([1341.79593624]),\n",
       " array([1333.1789756]),\n",
       " array([1324.89660478]),\n",
       " array([1316.56895771]),\n",
       " array([1307.96496685]),\n",
       " array([1298.94839308]),\n",
       " array([1289.46715513]),\n",
       " array([1279.55778224]),\n",
       " array([1269.34764814]),\n",
       " array([1259.03987502]),\n",
       " array([1248.87280032]),\n",
       " array([1239.06228079]),\n",
       " array([1229.75114191]),\n",
       " array([1220.98823915]),\n",
       " array([1212.73932414]),\n",
       " array([1204.91419832]),\n",
       " array([1197.39351668]),\n",
       " array([1190.0475126]),\n",
       " array([1182.74673289]),\n",
       " array([1175.36812326]),\n",
       " array([1167.80017468]),\n",
       " array([1159.95026022]),\n",
       " array([1151.75632164]),\n",
       " array([1143.20312264]),\n",
       " array([1134.33939703]),\n",
       " array([1125.28667154]),\n",
       " array([1116.22742736]),\n",
       " array([1107.36697506])]"
      ]
     },
     "execution_count": 36,
     "metadata": {},
     "output_type": "execute_result"
    }
   ],
   "source": [
    "x_next_30_days = []\n",
    "for i in range(30):\n",
    "    x_pred_next = svr_rbf.predict(last_data)\n",
    "    x_next_30_days.append(x_pred_next)\n",
    "    last_data = x_pred_next.reshape(-1,1)\n",
    "x_next_30_days"
   ]
  },
  {
   "cell_type": "code",
   "execution_count": 37,
   "id": "5dfe330d",
   "metadata": {},
   "outputs": [
    {
     "data": {
      "image/png": "[encoded data removed]",
      "text/plain": [
       "<Figure size 1000x600 with 1 Axes>"
      ]
     },
     "metadata": {},
     "output_type": "display_data"
    }
   ],
   "source": [
    "plt.figure(figsize=(10, 6))\n",
    "plt.plot(x_next_30_days, marker='o', color='b', label='Predicted Next 30 Days')\n",
    "\n",
    "plt.title('Predicted Values for the Next 30 Days')\n",
    "plt.xlabel('Date')\n",
    "plt.ylabel('Predicted Value')\n",
    "plt.legend()\n",
    "\n",
    "plt.show()"
   ]
  },
  {
   "cell_type": "code",
   "execution_count": 38,
   "id": "19740168",
   "metadata": {},
   "outputs": [],
   "source": [
    "y_pred = y_pred.reshape(-1,1)"
   ]
  },
  {
   "cell_type": "code",
   "execution_count": 39,
   "id": "8e7bc7dd",
   "metadata": {},
   "outputs": [],
   "source": [
    "# Create index for the next 30 days\n",
    "last_index =  data.index[-1]\n",
    "next_30_dates = pd.RangeIndex(start=last_index, stop=last_index+30, step=1)"
   ]
  },
  {
   "cell_type": "code",
   "execution_count": 42,
   "id": "cd97a97d",
   "metadata": {},
   "outputs": [
    {
     "name": "stdout",
     "output_type": "stream",
     "text": [
      "Testing RMSE: 287.4188649083281\n",
      "Testing MAPE: 10.942715554059216%\n",
      "Testing MAE: 173.32411402058963\n",
      "Huber loss: [82609.60390519]\n"
     ]
    }
   ],
   "source": [
    "from sklearn.metrics import mean_absolute_percentage_error,mean_absolute_error\n",
    "# RMSE\n",
    "test_rmse = np.sqrt(np.mean((y_pred - y_test)**2))\n",
    "print('Testing RMSE:', test_rmse)\n",
    "# MAPE\n",
    "test_mape = mean_absolute_percentage_error(y_test,y_pred)\n",
    "print('Testing MAPE:', str(test_mape*100)+'%')\n",
    "# MAE\n",
    "test_mae = mean_absolute_error(y_test,y_pred)\n",
    "print('Testing MAE:', test_mae)\n",
    "# Huber loss\n",
    "hl= mean_squared_error(y_test, y_pred, multioutput='raw_values')\n",
    "print('Huber loss:', hl)"
   ]
  },
  {
   "cell_type": "code",
   "execution_count": 41,
   "id": "3c055f44",
   "metadata": {},
   "outputs": [
    {
     "data": {
      "image/png": "[encoded data removed]",
      "text/plain": [
       "<Figure size 640x480 with 1 Axes>"
      ]
     },
     "metadata": {},
     "output_type": "display_data"
    }
   ],
   "source": [
    "plt.plot(y_train_index, y_train)\n",
    "plt.plot(y_test.index, y_test)\n",
    "plt.plot(y_test.index, y_pred)\n",
    "plt.plot(next_30_dates,x_next_30_days)\n",
    "plt.legend(['Train', 'Test', 'Predictions','Next30Day'])\n",
    "plt.show()"
   ]
  },
  {
   "cell_type": "code",
   "execution_count": null,
   "id": "c09b6b96",
   "metadata": {},
   "outputs": [],
   "source": []
  }
 ],
 "metadata": {
  "kernelspec": {
   "display_name": "Python 3 (ipykernel)",
   "language": "python",
   "name": "python3"
  },
  "language_info": {
   "codemirror_mode": {
    "name": "ipython",
    "version": 3
   },
   "file_extension": ".py",
   "mimetype": "text/x-python",
   "name": "python",
   "nbconvert_exporter": "python",
   "pygments_lexer": "ipython3",
   "version": "3.11.2"
  }
 },
 "nbformat": 4,
 "nbformat_minor": 5
}
