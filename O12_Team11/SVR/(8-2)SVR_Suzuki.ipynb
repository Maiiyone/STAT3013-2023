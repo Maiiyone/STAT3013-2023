{
 "cells": [
  {
   "cell_type": "markdown",
   "id": "0c2dab88",
   "metadata": {},
   "source": [
    "## Review steps"
   ]
  },
  {
   "cell_type": "markdown",
   "id": "7ad466ae",
   "metadata": {},
   "source": [
    "1. Data collection\n",
    "2. Data preprocessing\n",
    "3. train-test split\n",
    "4. Choosing ml/dl model\n",
    "5. Train model\n",
    "6. Do prediction and evaluate the model"
   ]
  },
  {
   "cell_type": "code",
   "execution_count": 1,
   "id": "1257413f",
   "metadata": {},
   "outputs": [],
   "source": [
    "import numpy as np # linear algebra import pandas\n",
    "from numpy import array\n",
    "import pandas as pd\n",
    "import math \n",
    "import seaborn as sns \n",
    "import datetime as dt \n",
    "from datetime import datetime\n",
    "sns.set_style(\"whitegrid\") \n",
    "from pandas.plotting import autocorrelation_plot \n",
    "import matplotlib.pyplot as plt\n",
    "%matplotlib inline\n",
    "plt.style.use(\"ggplot\" )\n",
    "from sklearn.metrics import mean_squared_error\n",
    "from sklearn.metrics import mean_absolute_percentage_error\n",
    "from sklearn.metrics import mean_absolute_error\n",
    "from tqdm import tqdm\n",
    "from sklearn.svm import SVR"
   ]
  },
  {
   "cell_type": "markdown",
   "id": "39d47361",
   "metadata": {},
   "source": [
    "## Loading data"
   ]
  },
  {
   "cell_type": "code",
   "execution_count": 2,
   "id": "b92395b0",
   "metadata": {},
   "outputs": [
    {
     "data": {
      "text/html": [
       "<div>\n",
       "<style scoped>\n",
       "    .dataframe tbody tr th:only-of-type {\n",
       "        vertical-align: middle;\n",
       "    }\n",
       "\n",
       "    .dataframe tbody tr th {\n",
       "        vertical-align: top;\n",
       "    }\n",
       "\n",
       "    .dataframe thead th {\n",
       "        text-align: right;\n",
       "    }\n",
       "</style>\n",
       "<table border=\"1\" class=\"dataframe\">\n",
       "  <thead>\n",
       "    <tr style=\"text-align: right;\">\n",
       "      <th></th>\n",
       "      <th>Date</th>\n",
       "      <th>Price</th>\n",
       "      <th>Open</th>\n",
       "      <th>High</th>\n",
       "      <th>Low</th>\n",
       "      <th>Volume</th>\n",
       "      <th>Change</th>\n",
       "    </tr>\n",
       "  </thead>\n",
       "  <tbody>\n",
       "    <tr>\n",
       "      <th>0</th>\n",
       "      <td>04/01/2018</td>\n",
       "      <td>6742,00</td>\n",
       "      <td>6600,00</td>\n",
       "      <td>6744,00</td>\n",
       "      <td>6588,00</td>\n",
       "      <td>1940000,0</td>\n",
       "      <td>0,0318</td>\n",
       "    </tr>\n",
       "    <tr>\n",
       "      <th>1</th>\n",
       "      <td>05/01/2018</td>\n",
       "      <td>6740,00</td>\n",
       "      <td>6742,00</td>\n",
       "      <td>6775,00</td>\n",
       "      <td>6681,00</td>\n",
       "      <td>2010000,0</td>\n",
       "      <td>-0,0003</td>\n",
       "    </tr>\n",
       "    <tr>\n",
       "      <th>2</th>\n",
       "      <td>09/01/2018</td>\n",
       "      <td>6653,00</td>\n",
       "      <td>6800,00</td>\n",
       "      <td>6811,00</td>\n",
       "      <td>6648,00</td>\n",
       "      <td>2100000,0</td>\n",
       "      <td>-0,0129</td>\n",
       "    </tr>\n",
       "    <tr>\n",
       "      <th>3</th>\n",
       "      <td>10/01/2018</td>\n",
       "      <td>6666,00</td>\n",
       "      <td>6650,00</td>\n",
       "      <td>6699,00</td>\n",
       "      <td>6636,00</td>\n",
       "      <td>1070000,0</td>\n",
       "      <td>0,002</td>\n",
       "    </tr>\n",
       "    <tr>\n",
       "      <th>4</th>\n",
       "      <td>11/01/2018</td>\n",
       "      <td>6564,00</td>\n",
       "      <td>6634,00</td>\n",
       "      <td>6644,00</td>\n",
       "      <td>6528,00</td>\n",
       "      <td>1660000,0</td>\n",
       "      <td>-0,0153</td>\n",
       "    </tr>\n",
       "    <tr>\n",
       "      <th>...</th>\n",
       "      <td>...</td>\n",
       "      <td>...</td>\n",
       "      <td>...</td>\n",
       "      <td>...</td>\n",
       "      <td>...</td>\n",
       "      <td>...</td>\n",
       "      <td>...</td>\n",
       "    </tr>\n",
       "    <tr>\n",
       "      <th>1447</th>\n",
       "      <td>08/12/2023</td>\n",
       "      <td>5744,00</td>\n",
       "      <td>5732,00</td>\n",
       "      <td>5769,00</td>\n",
       "      <td>5679,00</td>\n",
       "      <td>2320000,0</td>\n",
       "      <td>-0,025</td>\n",
       "    </tr>\n",
       "    <tr>\n",
       "      <th>1448</th>\n",
       "      <td>11/12/2023</td>\n",
       "      <td>5742,00</td>\n",
       "      <td>5724,00</td>\n",
       "      <td>5782,00</td>\n",
       "      <td>5708,00</td>\n",
       "      <td>1490000,0</td>\n",
       "      <td>-0,0003</td>\n",
       "    </tr>\n",
       "    <tr>\n",
       "      <th>1449</th>\n",
       "      <td>12/12/2023</td>\n",
       "      <td>5639,00</td>\n",
       "      <td>5800,00</td>\n",
       "      <td>5818,00</td>\n",
       "      <td>5638,00</td>\n",
       "      <td>1760000,0</td>\n",
       "      <td>-0,0179</td>\n",
       "    </tr>\n",
       "    <tr>\n",
       "      <th>1450</th>\n",
       "      <td>13/12/2023</td>\n",
       "      <td>5682,00</td>\n",
       "      <td>5600,00</td>\n",
       "      <td>5696,00</td>\n",
       "      <td>5545,00</td>\n",
       "      <td>1940000,0</td>\n",
       "      <td>0,0076</td>\n",
       "    </tr>\n",
       "    <tr>\n",
       "      <th>1451</th>\n",
       "      <td>14/12/2023</td>\n",
       "      <td>5461,00</td>\n",
       "      <td>5566,00</td>\n",
       "      <td>5595,00</td>\n",
       "      <td>5436,00</td>\n",
       "      <td>2310000,0</td>\n",
       "      <td>-0,0389</td>\n",
       "    </tr>\n",
       "  </tbody>\n",
       "</table>\n",
       "<p>1452 rows × 7 columns</p>\n",
       "</div>"
      ],
      "text/plain": [
       "            Date    Price     Open     High      Low     Volume   Change\n",
       "0     04/01/2018  6742,00  6600,00  6744,00  6588,00  1940000,0   0,0318\n",
       "1     05/01/2018  6740,00  6742,00  6775,00  6681,00  2010000,0  -0,0003\n",
       "2     09/01/2018  6653,00  6800,00  6811,00  6648,00  2100000,0  -0,0129\n",
       "3     10/01/2018  6666,00  6650,00  6699,00  6636,00  1070000,0    0,002\n",
       "4     11/01/2018  6564,00  6634,00  6644,00  6528,00  1660000,0  -0,0153\n",
       "...          ...      ...      ...      ...      ...        ...      ...\n",
       "1447  08/12/2023  5744,00  5732,00  5769,00  5679,00  2320000,0   -0,025\n",
       "1448  11/12/2023  5742,00  5724,00  5782,00  5708,00  1490000,0  -0,0003\n",
       "1449  12/12/2023  5639,00  5800,00  5818,00  5638,00  1760000,0  -0,0179\n",
       "1450  13/12/2023  5682,00  5600,00  5696,00  5545,00  1940000,0   0,0076\n",
       "1451  14/12/2023  5461,00  5566,00  5595,00  5436,00  2310000,0  -0,0389\n",
       "\n",
       "[1452 rows x 7 columns]"
      ]
     },
     "execution_count": 2,
     "metadata": {},
     "output_type": "execute_result"
    }
   ],
   "source": [
    "data= pd.read_csv(\"Suzuki-2.csv\",delimiter=\";\")\n",
    "data"
   ]
  },
  {
   "cell_type": "markdown",
   "id": "79f8654f",
   "metadata": {},
   "source": [
    "## Data Exploration"
   ]
  },
  {
   "cell_type": "code",
   "execution_count": 3,
   "id": "b39bad11",
   "metadata": {},
   "outputs": [
    {
     "name": "stdout",
     "output_type": "stream",
     "text": [
      "<class 'pandas.core.frame.DataFrame'>\n",
      "RangeIndex: 1452 entries, 0 to 1451\n",
      "Data columns (total 7 columns):\n",
      " #   Column  Non-Null Count  Dtype \n",
      "---  ------  --------------  ----- \n",
      " 0   Date    1452 non-null   object\n",
      " 1   Price   1452 non-null   object\n",
      " 2   Open    1452 non-null   object\n",
      " 3   High    1452 non-null   object\n",
      " 4   Low     1452 non-null   object\n",
      " 5   Volume  1452 non-null   object\n",
      " 6   Change  1452 non-null   object\n",
      "dtypes: object(7)\n",
      "memory usage: 79.5+ KB\n"
     ]
    }
   ],
   "source": [
    "# Check the data type of each value column\n",
    "data.info()"
   ]
  },
  {
   "cell_type": "code",
   "execution_count": 4,
   "id": "f8b9c1e2",
   "metadata": {},
   "outputs": [
    {
     "data": {
      "text/plain": [
       "0      2018-01-04\n",
       "1      2018-01-05\n",
       "2      2018-01-09\n",
       "3      2018-01-10\n",
       "4      2018-01-11\n",
       "          ...    \n",
       "1447   2023-12-08\n",
       "1448   2023-12-11\n",
       "1449   2023-12-12\n",
       "1450   2023-12-13\n",
       "1451   2023-12-14\n",
       "Name: Date, Length: 1452, dtype: datetime64[ns]"
      ]
     },
     "execution_count": 4,
     "metadata": {},
     "output_type": "execute_result"
    }
   ],
   "source": [
    "# Reformat the date data type\n",
    "data['Date'] = pd.to_datetime(data['Date'], format='%d/%m/%Y')  # Ví dụ cho định dạng dd/mm/yyyy\n",
    "data['Date']"
   ]
  },
  {
   "cell_type": "code",
   "execution_count": 5,
   "id": "f075de4b",
   "metadata": {},
   "outputs": [
    {
     "name": "stdout",
     "output_type": "stream",
     "text": [
      "<class 'pandas.core.frame.DataFrame'>\n",
      "RangeIndex: 1452 entries, 0 to 1451\n",
      "Data columns (total 7 columns):\n",
      " #   Column  Non-Null Count  Dtype         \n",
      "---  ------  --------------  -----         \n",
      " 0   Date    1452 non-null   datetime64[ns]\n",
      " 1   Price   1452 non-null   float64       \n",
      " 2   Open    1452 non-null   float64       \n",
      " 3   High    1452 non-null   float64       \n",
      " 4   Low     1452 non-null   float64       \n",
      " 5   Volume  1452 non-null   float64       \n",
      " 6   Change  1452 non-null   float64       \n",
      "dtypes: datetime64[ns](1), float64(6)\n",
      "memory usage: 79.5 KB\n"
     ]
    }
   ],
   "source": [
    "# Clean data and cast data for calculation\n",
    "data['Price'] = data['Price'].str.replace(',', '.').astype(float)\n",
    "data['Open'] = data['Open'].str.replace(',', '.').astype(float)\n",
    "data['High'] = data['High'].str.replace(',', '.').astype(float)\n",
    "data['Low'] = data['Low'].str.replace(',', '.').astype(float)\n",
    "data['Volume'] = data['Volume'].str.replace(',', '.').astype(float)\n",
    "data['Change'] = data['Change'].str.replace(',', '.').astype(float)\n",
    "data.info()"
   ]
  },
  {
   "cell_type": "code",
   "execution_count": 6,
   "id": "0b9eea0a",
   "metadata": {},
   "outputs": [
    {
     "data": {
      "text/html": [
       "<div>\n",
       "<style scoped>\n",
       "    .dataframe tbody tr th:only-of-type {\n",
       "        vertical-align: middle;\n",
       "    }\n",
       "\n",
       "    .dataframe tbody tr th {\n",
       "        vertical-align: top;\n",
       "    }\n",
       "\n",
       "    .dataframe thead th {\n",
       "        text-align: right;\n",
       "    }\n",
       "</style>\n",
       "<table border=\"1\" class=\"dataframe\">\n",
       "  <thead>\n",
       "    <tr style=\"text-align: right;\">\n",
       "      <th></th>\n",
       "      <th>Date</th>\n",
       "      <th>Price</th>\n",
       "      <th>Open</th>\n",
       "      <th>High</th>\n",
       "      <th>Low</th>\n",
       "      <th>Volume</th>\n",
       "      <th>Change</th>\n",
       "    </tr>\n",
       "  </thead>\n",
       "  <tbody>\n",
       "    <tr>\n",
       "      <th>count</th>\n",
       "      <td>1452</td>\n",
       "      <td>1452.000000</td>\n",
       "      <td>1452.000000</td>\n",
       "      <td>1452.000000</td>\n",
       "      <td>1452.000000</td>\n",
       "      <td>1.452000e+03</td>\n",
       "      <td>1452.000000</td>\n",
       "    </tr>\n",
       "    <tr>\n",
       "      <th>mean</th>\n",
       "      <td>2020-12-26 16:00:59.504132352</td>\n",
       "      <td>4968.014807</td>\n",
       "      <td>4971.077135</td>\n",
       "      <td>5025.840220</td>\n",
       "      <td>4914.231061</td>\n",
       "      <td>1.824907e+06</td>\n",
       "      <td>0.000106</td>\n",
       "    </tr>\n",
       "    <tr>\n",
       "      <th>min</th>\n",
       "      <td>2018-01-04 00:00:00</td>\n",
       "      <td>2465.500000</td>\n",
       "      <td>2469.500000</td>\n",
       "      <td>2551.500000</td>\n",
       "      <td>2438.000000</td>\n",
       "      <td>4.430000e+05</td>\n",
       "      <td>-0.139700</td>\n",
       "    </tr>\n",
       "    <tr>\n",
       "      <th>25%</th>\n",
       "      <td>2019-07-01 18:00:00</td>\n",
       "      <td>4493.250000</td>\n",
       "      <td>4500.000000</td>\n",
       "      <td>4566.000000</td>\n",
       "      <td>4451.750000</td>\n",
       "      <td>1.260000e+06</td>\n",
       "      <td>-0.011725</td>\n",
       "    </tr>\n",
       "    <tr>\n",
       "      <th>50%</th>\n",
       "      <td>2020-12-28 12:00:00</td>\n",
       "      <td>4867.500000</td>\n",
       "      <td>4870.500000</td>\n",
       "      <td>4921.500000</td>\n",
       "      <td>4818.500000</td>\n",
       "      <td>1.630000e+06</td>\n",
       "      <td>0.000000</td>\n",
       "    </tr>\n",
       "    <tr>\n",
       "      <th>75%</th>\n",
       "      <td>2022-06-24 18:00:00</td>\n",
       "      <td>5424.250000</td>\n",
       "      <td>5423.500000</td>\n",
       "      <td>5504.250000</td>\n",
       "      <td>5367.000000</td>\n",
       "      <td>2.140000e+06</td>\n",
       "      <td>0.011700</td>\n",
       "    </tr>\n",
       "    <tr>\n",
       "      <th>max</th>\n",
       "      <td>2023-12-14 00:00:00</td>\n",
       "      <td>7639.000000</td>\n",
       "      <td>7613.000000</td>\n",
       "      <td>7680.000000</td>\n",
       "      <td>7494.000000</td>\n",
       "      <td>9.980000e+06</td>\n",
       "      <td>0.111500</td>\n",
       "    </tr>\n",
       "    <tr>\n",
       "      <th>std</th>\n",
       "      <td>NaN</td>\n",
       "      <td>833.802239</td>\n",
       "      <td>836.965130</td>\n",
       "      <td>837.524591</td>\n",
       "      <td>833.583430</td>\n",
       "      <td>8.684992e+05</td>\n",
       "      <td>0.021457</td>\n",
       "    </tr>\n",
       "  </tbody>\n",
       "</table>\n",
       "</div>"
      ],
      "text/plain": [
       "                                Date        Price         Open         High  \\\n",
       "count                           1452  1452.000000  1452.000000  1452.000000   \n",
       "mean   2020-12-26 16:00:59.504132352  4968.014807  4971.077135  5025.840220   \n",
       "min              2018-01-04 00:00:00  2465.500000  2469.500000  2551.500000   \n",
       "25%              2019-07-01 18:00:00  4493.250000  4500.000000  4566.000000   \n",
       "50%              2020-12-28 12:00:00  4867.500000  4870.500000  4921.500000   \n",
       "75%              2022-06-24 18:00:00  5424.250000  5423.500000  5504.250000   \n",
       "max              2023-12-14 00:00:00  7639.000000  7613.000000  7680.000000   \n",
       "std                              NaN   833.802239   836.965130   837.524591   \n",
       "\n",
       "               Low        Volume       Change  \n",
       "count  1452.000000  1.452000e+03  1452.000000  \n",
       "mean   4914.231061  1.824907e+06     0.000106  \n",
       "min    2438.000000  4.430000e+05    -0.139700  \n",
       "25%    4451.750000  1.260000e+06    -0.011725  \n",
       "50%    4818.500000  1.630000e+06     0.000000  \n",
       "75%    5367.000000  2.140000e+06     0.011700  \n",
       "max    7494.000000  9.980000e+06     0.111500  \n",
       "std     833.583430  8.684992e+05     0.021457  "
      ]
     },
     "execution_count": 6,
     "metadata": {},
     "output_type": "execute_result"
    }
   ],
   "source": [
    "# Gets descriptive statistical information about a DataFrame or a Series\n",
    "data.describe()"
   ]
  },
  {
   "cell_type": "markdown",
   "id": "2ab6ee45",
   "metadata": {},
   "source": [
    "## Data Visualization"
   ]
  },
  {
   "cell_type": "code",
   "execution_count": 7,
   "id": "e2596555",
   "metadata": {},
   "outputs": [],
   "source": [
    "# Reshape turns df into a NumPy array of size (-1, 1)\n",
    "df=data['Price'].values\n",
    "df = df.reshape(-1, 1)"
   ]
  },
  {
   "cell_type": "code",
   "execution_count": 8,
   "id": "d7cb69c3",
   "metadata": {},
   "outputs": [
    {
     "data": {
      "text/plain": [
       "array([[0.82661641],\n",
       "       [0.82622983],\n",
       "       [0.80941336],\n",
       "       ...,\n",
       "       [0.61341452],\n",
       "       [0.6217261 ],\n",
       "       [0.57900841]])"
      ]
     },
     "execution_count": 8,
     "metadata": {},
     "output_type": "execute_result"
    }
   ],
   "source": [
    "from sklearn.preprocessing import MinMaxScaler\n",
    "scaler = MinMaxScaler() # Perform data normalization according to the min-max scaling method\n",
    "price_scaled=scaler.fit_transform(df) # Fit và transform the data\n",
    "price_scaled"
   ]
  },
  {
   "cell_type": "code",
   "execution_count": 9,
   "id": "7dc411d8",
   "metadata": {},
   "outputs": [
    {
     "data": {
      "image/png": "[encoded data removed]",
      "text/plain": [
       "<Figure size 640x480 with 1 Axes>"
      ]
     },
     "metadata": {},
     "output_type": "display_data"
    }
   ],
   "source": [
    "# Create plot\n",
    "plt.figure(figure=(10,6))\n",
    "plt.plot(data['Date'],data['Price'].values, label=\"Price\", color=\"IndianRed\")\n",
    "\n",
    "# Adding title\n",
    "plt.title(\"Plot of price due to date\")\n",
    "\n",
    "# Adding label\n",
    "plt.xlabel(\"Date\")\n",
    "plt.ylabel(\"Price\")\n",
    "\n",
    "# Show the plot\n",
    "plt.legend()\n",
    "plt.show()"
   ]
  },
  {
   "cell_type": "markdown",
   "id": "8916df77",
   "metadata": {},
   "source": [
    "## Data Preprocessing"
   ]
  },
  {
   "cell_type": "markdown",
   "id": "7c98f8f8",
   "metadata": {},
   "source": [
    "### Split data into training and testing set"
   ]
  },
  {
   "cell_type": "markdown",
   "id": "7ad3d5ea",
   "metadata": {},
   "source": [
    "### Training - testing 8:2"
   ]
  },
  {
   "cell_type": "code",
   "execution_count": 10,
   "id": "425c27df",
   "metadata": {},
   "outputs": [],
   "source": [
    "# Split train test validation in ratio 8:2\n",
    "# Split the data into training, testing\n",
    "train_size = int(0.8 * len(data))\n",
    "test_size = int(0.2 * len(data))\n",
    "\n",
    "X2D = data[['High']] # Independent variable in 2-dimensional array\n",
    "Y2D = data[['Price']] # Dependent variable in 2-dimensional array"
   ]
  },
  {
   "cell_type": "code",
   "execution_count": 11,
   "id": "d0f1a1c6",
   "metadata": {},
   "outputs": [
    {
     "name": "stdout",
     "output_type": "stream",
     "text": [
      "Best parameters: {'C': 1000, 'epsilon': 0.001, 'gamma': 'scale'}\n",
      "Best score: 475259.48865376675\n"
     ]
    }
   ],
   "source": [
    "from sklearn.svm import SVR\n",
    "from sklearn.model_selection import GridSearchCV\n",
    "from sklearn.model_selection import cross_val_score\n",
    "\n",
    "y_train = Y2D[:train_size]\n",
    "x_train = X2D[:train_size]\n",
    "y_test = Y2D[train_size:]\n",
    "x_test = X2D[train_size:]\n",
    "y_train_index = y_train.index # Get the index before converting it to a 2-dimensional array (serves plot)\n",
    "y_train = Y2D[:train_size].values.ravel()\n",
    "\n",
    "# Create SVR model with RBF kernel\n",
    "model = SVR(kernel='rbf')\n",
    "param_grid = {\n",
    "    'C': [0.1, 1, 10, 100, 1000],             \n",
    "    'gamma': ['scale', 'auto', 0.001, 0.01, 0.1, 1],  \n",
    "    'epsilon': [0.001, 0.01, 0.1, 1, 10]     \n",
    "}\n",
    "\n",
    "# Create a GridSearchCV object\n",
    "grid_search = GridSearchCV(model, param_grid, cv=5, scoring='neg_mean_squared_error', n_jobs=-1)\n",
    "\n",
    "# Train the model using grid search\n",
    "svr_rbf = grid_search.fit(x_train,y_train)\n",
    "\n",
    "print(\"Best parameters:\", grid_search.best_params_)\n",
    "print(\"Best score:\", -grid_search.best_score_)"
   ]
  },
  {
   "cell_type": "code",
   "execution_count": 12,
   "id": "cd5c5cc8",
   "metadata": {},
   "outputs": [
    {
     "data": {
      "text/plain": [
       "array([4537.83816977, 4602.98253888, 4709.24829637, 4628.05487111,\n",
       "       4680.19458794, 4675.18301456, 4648.11242875, 4641.09256819,\n",
       "       4661.14787154, 4731.26966578, 4815.13193878, 4810.15154765,\n",
       "       4821.10632476, 4982.54755931, 5023.92448368, 4994.37595135,\n",
       "       5000.2880676 , 5037.70496389, 5103.61648147, 5622.02991221,\n",
       "       5225.75108262, 5215.88260757, 5133.13056944, 5038.68911238,\n",
       "       5002.25848372, 5014.07814668, 5052.46519553, 5065.25460044,\n",
       "       5079.02598193, 5020.97088018, 4983.53348124, 4975.64491308,\n",
       "       4947.02398238, 4876.75488668, 4911.43245665, 4841.9984807 ,\n",
       "       4731.26966578, 4722.26325066, 4772.25099635, 4693.22174762,\n",
       "       4719.26037485, 4634.07235796, 4710.24967016, 4740.272568  ,\n",
       "       4690.21588665, 4734.27103558, 4628.05487111, 4615.01693539,\n",
       "       4363.32816622, 4431.94390891, 4345.46822753, 4389.1537263 ,\n",
       "       4365.31354553, 4306.81810511, 4236.55809564, 4266.23607292,\n",
       "       4180.15607838, 4189.0657495 , 4259.31058368, 4272.17273422,\n",
       "       4264.25730028, 4286.02741475, 4269.20433571, 4141.51442765,\n",
       "       4235.56888987, 4418.00113445, 4273.16223269, 4303.84725008,\n",
       "       4392.13584267, 4455.8707698 , 4704.24090238, 4739.27242655,\n",
       "       4809.15528149, 4841.0042644 , 4849.94986051, 4839.01563632,\n",
       "       4802.1796811 , 4807.16256233, 4896.58006484, 4884.68802334,\n",
       "       4900.54206253, 4775.24620295, 4742.27271159, 4671.1733599 ,\n",
       "       4705.24244991, 4722.26325066, 4784.22877342, 4791.21197753,\n",
       "       4796.19820266, 4754.26954242, 4703.23932125, 4688.21183835,\n",
       "       4736.27172742, 4771.25248322, 4829.06859901, 4805.16959497,\n",
       "       4865.8400621 , 4923.30455492, 4928.24876863, 4944.060783  ,\n",
       "       4973.6723353 , 4887.66189102, 4805.16959497, 4586.93892737,\n",
       "       4644.10113147, 4436.9260822 , 4465.84943663, 4457.86607951,\n",
       "       4561.87972277, 4662.15049893, 4651.12079602, 4734.27103558,\n",
       "       4789.21707041, 4841.9984807 , 4837.02674786, 4868.81761278,\n",
       "       4828.07353952, 4845.97469333, 4795.20107753, 4699.23266847,\n",
       "       4672.17580487, 4631.06362683, 4647.10961865, 4667.16338262,\n",
       "       4629.05779168, 4637.08105262, 4685.20556254, 4689.21387633,\n",
       "       4680.19458794, 4629.05779168, 4591.95218986, 4605.99103903,\n",
       "       4624.04317913, 4583.93116147, 4623.04025591, 4674.18063262,\n",
       "       4797.19526749, 4790.21455357, 4792.20934209, 4838.02122461,\n",
       "       4836.03220612, 4815.13193878, 4826.08322743, 4884.68802334,\n",
       "       4750.27138275, 4638.08394068, 4664.15570434, 4661.14787154,\n",
       "       4697.22915059, 4742.27271159, 4661.14787154, 4568.89491149,\n",
       "       4569.89717843, 4605.99103903, 4586.93892737, 4561.87972277,\n",
       "       4563.88393714, 4588.94418654, 4784.22877342, 4853.92398103,\n",
       "       5018.0170262 , 4964.7934786 , 5046.56158705, 5020.97088018,\n",
       "       5022.93997637, 5091.81295687, 5073.12412411, 5065.25460044,\n",
       "       5036.72079425, 4974.65864646, 4996.34680428, 5034.75238992,\n",
       "       5069.18942747, 4944.060783  , 4924.29351331, 4998.31750875,\n",
       "       5222.79007936, 5185.31642024, 5250.44222848, 5240.56223893,\n",
       "       5366.41781216, 5463.06375475, 5477.04105195, 5447.09714982,\n",
       "       5371.38961806, 5390.29326959, 5362.44124173, 5338.59855256,\n",
       "       5274.17434986, 5360.45325062, 5448.09481427, 5434.13071156,\n",
       "       5518.00383587, 5557.99914292, 5506.01073815, 5504.01218351,\n",
       "       5526.00080299, 5698.10147874, 5687.08883187, 5594.01227957,\n",
       "       5432.13641898, 5423.16397888, 5400.24917716, 5333.63501147,\n",
       "       5326.68822688, 5257.36111828, 5326.68822688, 5231.67430234,\n",
       "       5161.6756931 , 5197.14407574, 5150.845942  , 5180.38974327,\n",
       "       5264.28244388, 5304.87214073, 5351.50974494, 5329.66510881,\n",
       "       5442.10934658, 5525.00111779, 5555.99882203, 5704.10879547,\n",
       "       5734.15079472, 5875.59221956, 5915.83987983, 6005.64507486,\n",
       "       5971.29668885, 5883.63631936, 5909.7983038 , 5953.13217138,\n",
       "       6071.41777777, 6151.38895136, 6284.07067134, 6252.10904149,\n",
       "       6209.92922158, 6195.8237975 , 6019.80145753, 6089.64507665,\n",
       "       6104.8344836 , 6099.77150183, 6096.73361974, 6011.71125151,\n",
       "       6097.74625324, 5887.65936022, 5599.01502695, 5607.01980471,\n",
       "       5773.22390571, 5924.905269  , 5961.20351312, 6054.20608778,\n",
       "       5986.4445601 , 5898.72621268, 6018.79006315, 5925.91276   ,\n",
       "       5835.40870281, 5803.30055543, 5806.30943655, 5786.25455965,\n",
       "       5876.59758935, 5800.29191242, 5793.2726394 , 5874.58689008,\n",
       "       5834.40484491, 5997.55892286, 6087.61976359, 6098.75888083,\n",
       "       6082.55650443, 6317.81955604, 6406.78756176, 6406.78756176,\n",
       "       6522.3084878 , 6496.18995396, 6391.30668501, 6329.67162465,\n",
       "       6331.64373688, 6300.97472852, 6009.68904803, 5961.20351312,\n",
       "       6027.89377056, 6021.82434479, 6089.64507665, 6047.12039392,\n",
       "       6011.71125151, 6043.07191066, 5971.29668885, 5823.36453566,\n",
       "       5913.8258428 , 5910.80512185, 5719.12856474, 5732.14767121,\n",
       "       5768.21305093, 5646.04884456, 5544.99799383])"
      ]
     },
     "execution_count": 12,
     "metadata": {},
     "output_type": "execute_result"
    }
   ],
   "source": [
    "y_pred = svr_rbf.predict(x_test)\n",
    "y_pred"
   ]
  },
  {
   "cell_type": "code",
   "execution_count": 13,
   "id": "4f97d624",
   "metadata": {},
   "outputs": [
    {
     "data": {
      "text/plain": [
       "array([[5461.]])"
      ]
     },
     "execution_count": 13,
     "metadata": {},
     "output_type": "execute_result"
    }
   ],
   "source": [
    "last_row = data.tail(1)\n",
    "last_data = last_row['Price'].values.reshape(-1,1)\n",
    "last_data"
   ]
  },
  {
   "cell_type": "code",
   "execution_count": 14,
   "id": "a2bf2982",
   "metadata": {},
   "outputs": [
    {
     "name": "stderr",
     "output_type": "stream",
     "text": [
      "/Library/Frameworks/Python.framework/Versions/3.11/lib/python3.11/site-packages/sklearn/base.py:465: UserWarning: X does not have valid feature names, but SVR was fitted with feature names\n",
      "  warnings.warn(\n",
      "/Library/Frameworks/Python.framework/Versions/3.11/lib/python3.11/site-packages/sklearn/base.py:465: UserWarning: X does not have valid feature names, but SVR was fitted with feature names\n",
      "  warnings.warn(\n",
      "/Library/Frameworks/Python.framework/Versions/3.11/lib/python3.11/site-packages/sklearn/base.py:465: UserWarning: X does not have valid feature names, but SVR was fitted with feature names\n",
      "  warnings.warn(\n",
      "/Library/Frameworks/Python.framework/Versions/3.11/lib/python3.11/site-packages/sklearn/base.py:465: UserWarning: X does not have valid feature names, but SVR was fitted with feature names\n",
      "  warnings.warn(\n",
      "/Library/Frameworks/Python.framework/Versions/3.11/lib/python3.11/site-packages/sklearn/base.py:465: UserWarning: X does not have valid feature names, but SVR was fitted with feature names\n",
      "  warnings.warn(\n",
      "/Library/Frameworks/Python.framework/Versions/3.11/lib/python3.11/site-packages/sklearn/base.py:465: UserWarning: X does not have valid feature names, but SVR was fitted with feature names\n",
      "  warnings.warn(\n",
      "/Library/Frameworks/Python.framework/Versions/3.11/lib/python3.11/site-packages/sklearn/base.py:465: UserWarning: X does not have valid feature names, but SVR was fitted with feature names\n",
      "  warnings.warn(\n",
      "/Library/Frameworks/Python.framework/Versions/3.11/lib/python3.11/site-packages/sklearn/base.py:465: UserWarning: X does not have valid feature names, but SVR was fitted with feature names\n",
      "  warnings.warn(\n",
      "/Library/Frameworks/Python.framework/Versions/3.11/lib/python3.11/site-packages/sklearn/base.py:465: UserWarning: X does not have valid feature names, but SVR was fitted with feature names\n",
      "  warnings.warn(\n",
      "/Library/Frameworks/Python.framework/Versions/3.11/lib/python3.11/site-packages/sklearn/base.py:465: UserWarning: X does not have valid feature names, but SVR was fitted with feature names\n",
      "  warnings.warn(\n",
      "/Library/Frameworks/Python.framework/Versions/3.11/lib/python3.11/site-packages/sklearn/base.py:465: UserWarning: X does not have valid feature names, but SVR was fitted with feature names\n",
      "  warnings.warn(\n",
      "/Library/Frameworks/Python.framework/Versions/3.11/lib/python3.11/site-packages/sklearn/base.py:465: UserWarning: X does not have valid feature names, but SVR was fitted with feature names\n",
      "  warnings.warn(\n",
      "/Library/Frameworks/Python.framework/Versions/3.11/lib/python3.11/site-packages/sklearn/base.py:465: UserWarning: X does not have valid feature names, but SVR was fitted with feature names\n",
      "  warnings.warn(\n",
      "/Library/Frameworks/Python.framework/Versions/3.11/lib/python3.11/site-packages/sklearn/base.py:465: UserWarning: X does not have valid feature names, but SVR was fitted with feature names\n",
      "  warnings.warn(\n",
      "/Library/Frameworks/Python.framework/Versions/3.11/lib/python3.11/site-packages/sklearn/base.py:465: UserWarning: X does not have valid feature names, but SVR was fitted with feature names\n",
      "  warnings.warn(\n",
      "/Library/Frameworks/Python.framework/Versions/3.11/lib/python3.11/site-packages/sklearn/base.py:465: UserWarning: X does not have valid feature names, but SVR was fitted with feature names\n",
      "  warnings.warn(\n",
      "/Library/Frameworks/Python.framework/Versions/3.11/lib/python3.11/site-packages/sklearn/base.py:465: UserWarning: X does not have valid feature names, but SVR was fitted with feature names\n",
      "  warnings.warn(\n",
      "/Library/Frameworks/Python.framework/Versions/3.11/lib/python3.11/site-packages/sklearn/base.py:465: UserWarning: X does not have valid feature names, but SVR was fitted with feature names\n",
      "  warnings.warn(\n",
      "/Library/Frameworks/Python.framework/Versions/3.11/lib/python3.11/site-packages/sklearn/base.py:465: UserWarning: X does not have valid feature names, but SVR was fitted with feature names\n",
      "  warnings.warn(\n",
      "/Library/Frameworks/Python.framework/Versions/3.11/lib/python3.11/site-packages/sklearn/base.py:465: UserWarning: X does not have valid feature names, but SVR was fitted with feature names\n",
      "  warnings.warn(\n",
      "/Library/Frameworks/Python.framework/Versions/3.11/lib/python3.11/site-packages/sklearn/base.py:465: UserWarning: X does not have valid feature names, but SVR was fitted with feature names\n",
      "  warnings.warn(\n",
      "/Library/Frameworks/Python.framework/Versions/3.11/lib/python3.11/site-packages/sklearn/base.py:465: UserWarning: X does not have valid feature names, but SVR was fitted with feature names\n",
      "  warnings.warn(\n",
      "/Library/Frameworks/Python.framework/Versions/3.11/lib/python3.11/site-packages/sklearn/base.py:465: UserWarning: X does not have valid feature names, but SVR was fitted with feature names\n",
      "  warnings.warn(\n",
      "/Library/Frameworks/Python.framework/Versions/3.11/lib/python3.11/site-packages/sklearn/base.py:465: UserWarning: X does not have valid feature names, but SVR was fitted with feature names\n",
      "  warnings.warn(\n",
      "/Library/Frameworks/Python.framework/Versions/3.11/lib/python3.11/site-packages/sklearn/base.py:465: UserWarning: X does not have valid feature names, but SVR was fitted with feature names\n",
      "  warnings.warn(\n",
      "/Library/Frameworks/Python.framework/Versions/3.11/lib/python3.11/site-packages/sklearn/base.py:465: UserWarning: X does not have valid feature names, but SVR was fitted with feature names\n",
      "  warnings.warn(\n",
      "/Library/Frameworks/Python.framework/Versions/3.11/lib/python3.11/site-packages/sklearn/base.py:465: UserWarning: X does not have valid feature names, but SVR was fitted with feature names\n",
      "  warnings.warn(\n",
      "/Library/Frameworks/Python.framework/Versions/3.11/lib/python3.11/site-packages/sklearn/base.py:465: UserWarning: X does not have valid feature names, but SVR was fitted with feature names\n",
      "  warnings.warn(\n",
      "/Library/Frameworks/Python.framework/Versions/3.11/lib/python3.11/site-packages/sklearn/base.py:465: UserWarning: X does not have valid feature names, but SVR was fitted with feature names\n",
      "  warnings.warn(\n",
      "/Library/Frameworks/Python.framework/Versions/3.11/lib/python3.11/site-packages/sklearn/base.py:465: UserWarning: X does not have valid feature names, but SVR was fitted with feature names\n",
      "  warnings.warn(\n"
     ]
    },
    {
     "data": {
      "text/plain": [
       "[array([5411.20569348]),\n",
       " array([5361.65168102]),\n",
       " array([5312.45697614]),\n",
       " array([5263.74543513]),\n",
       " array([5215.63144749]),\n",
       " array([5168.20609244]),\n",
       " array([5121.52636829]),\n",
       " array([5075.60919199]),\n",
       " array([5030.43062924]),\n",
       " array([4985.92971914]),\n",
       " array([4942.01561792]),\n",
       " array([4898.57665808]),\n",
       " array([4855.49015062]),\n",
       " array([4812.63212868]),\n",
       " array([4769.88655661]),\n",
       " array([4727.15371135]),\n",
       " array([4684.35746068]),\n",
       " array([4641.45105282]),\n",
       " array([4598.42086947]),\n",
       " array([4555.28748446]),\n",
       " array([4512.10342198]),\n",
       " array([4468.9473054]),\n",
       " array([4425.91463199]),\n",
       " array([4383.10608821]),\n",
       " array([4340.61492004]),\n",
       " array([4298.51515658]),\n",
       " array([4256.85232076]),\n",
       " array([4215.63769419]),\n",
       " array([4174.84644867]),\n",
       " array([4134.419275])]"
      ]
     },
     "execution_count": 14,
     "metadata": {},
     "output_type": "execute_result"
    }
   ],
   "source": [
    "x_next_30_days = []\n",
    "for i in range(30):\n",
    "    x_pred_next = svr_rbf.predict(last_data)\n",
    "    x_next_30_days.append(x_pred_next)\n",
    "    last_data = x_pred_next.reshape(-1,1)\n",
    "x_next_30_days"
   ]
  },
  {
   "cell_type": "code",
   "execution_count": 15,
   "id": "5b306a77",
   "metadata": {},
   "outputs": [
    {
     "data": {
      "image/png": "[encoded data removed]",
      "text/plain": [
       "<Figure size 1000x600 with 1 Axes>"
      ]
     },
     "metadata": {},
     "output_type": "display_data"
    }
   ],
   "source": [
    "plt.figure(figsize=(10, 6))\n",
    "plt.plot(x_next_30_days, marker='o', color='b', label='Predicted Next 30 Days')\n",
    "\n",
    "plt.title('Predicted Values for the Next 30 Days')\n",
    "plt.xlabel('Date')\n",
    "plt.ylabel('Predicted Value')\n",
    "plt.legend()\n",
    "\n",
    "plt.show()"
   ]
  },
  {
   "cell_type": "code",
   "execution_count": 16,
   "id": "302ca177",
   "metadata": {},
   "outputs": [],
   "source": [
    "y_pred = y_pred.reshape(-1,1)"
   ]
  },
  {
   "cell_type": "code",
   "execution_count": 17,
   "id": "2670760d",
   "metadata": {},
   "outputs": [],
   "source": [
    "# Create index for the next 30 days\n",
    "last_index =  data.index[-1]\n",
    "next_30_dates = pd.RangeIndex(start=last_index, stop=last_index+30, step=1)"
   ]
  },
  {
   "cell_type": "code",
   "execution_count": 19,
   "id": "138da92c",
   "metadata": {},
   "outputs": [
    {
     "name": "stdout",
     "output_type": "stream",
     "text": [
      "Testing RMSE: 45.91716729781934\n",
      "Testing MAPE: 0.6113694975699457%\n",
      "Testing MAE: 31.716131950043856\n",
      "Huber loss: [2108.38625266]\n"
     ]
    }
   ],
   "source": [
    "from sklearn.metrics import mean_absolute_percentage_error,mean_absolute_error\n",
    "# RMSE\n",
    "test_rmse = np.sqrt(np.mean((y_pred - y_test)**2))\n",
    "print('Testing RMSE:', test_rmse)\n",
    "# MAPE\n",
    "test_mape = mean_absolute_percentage_error(y_test,y_pred)\n",
    "print('Testing MAPE:', str(test_mape*100)+'%')\n",
    "# MAE\n",
    "test_mae = mean_absolute_error(y_test,y_pred)\n",
    "print('Testing MAE:', test_mae)\n",
    "# Huber loss\n",
    "hl= mean_squared_error(y_test, y_pred, multioutput='raw_values')\n",
    "print('Huber loss:', hl)"
   ]
  },
  {
   "cell_type": "code",
   "execution_count": null,
   "id": "8f9a7746",
   "metadata": {},
   "outputs": [],
   "source": [
    "plt.plot(y_train_index, y_train)\n",
    "plt.plot(y_test.index, y_test)\n",
    "plt.plot(y_test.index, y_pred)\n",
    "plt.plot(next_30_dates,x_next_30_days)\n",
    "plt.legend(['Train', 'Test', 'Predictions','Next30Day'])\n",
    "plt.show()"
   ]
  }
 ],
 "metadata": {
  "kernelspec": {
   "display_name": "Python 3 (ipykernel)",
   "language": "python",
   "name": "python3"
  },
  "language_info": {
   "codemirror_mode": {
    "name": "ipython",
    "version": 3
   },
   "file_extension": ".py",
   "mimetype": "text/x-python",
   "name": "python",
   "nbconvert_exporter": "python",
   "pygments_lexer": "ipython3",
   "version": "3.11.2"
  }
 },
 "nbformat": 4,
 "nbformat_minor": 5
}
