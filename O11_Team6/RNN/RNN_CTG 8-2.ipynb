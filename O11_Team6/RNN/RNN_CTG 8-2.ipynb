{
 "cells": [
  {
   "cell_type": "code",
   "execution_count": 1,
   "id": "b45c0c9d",
   "metadata": {},
   "outputs": [
    {
     "name": "stdout",
     "output_type": "stream",
     "text": [
      "WARNING:tensorflow:From C:\\Users\\ASUS\\anaconda3\\Lib\\site-packages\\keras\\src\\losses.py:2976: The name tf.losses.sparse_softmax_cross_entropy is deprecated. Please use tf.compat.v1.losses.sparse_softmax_cross_entropy instead.\n",
      "\n"
     ]
    }
   ],
   "source": [
    "import numpy as np\n",
    "import pandas as pd\n",
    "import matplotlib.pyplot as plt\n",
    "from sklearn.preprocessing import MinMaxScaler\n",
    "from keras.models import Sequential\n",
    "from keras.layers import Dense, SimpleRNN"
   ]
  },
  {
   "cell_type": "code",
   "execution_count": 2,
   "id": "e772b09b",
   "metadata": {},
   "outputs": [],
   "source": [
    "# 1. Load CSV File\n",
    "df = pd.read_csv('CTG.csv')\n",
    "df1 = df.reset_index()['Price']"
   ]
  },
  {
   "cell_type": "code",
   "execution_count": 3,
   "id": "7f8c7a53",
   "metadata": {},
   "outputs": [],
   "source": [
    "# 2. Scale Data\n",
    "scaler = MinMaxScaler(feature_range=(0, 1))\n",
    "df1 = scaler.fit_transform(np.array(df1).reshape(-1, 1))"
   ]
  },
  {
   "cell_type": "code",
   "execution_count": 4,
   "id": "6f4d2a7c",
   "metadata": {},
   "outputs": [],
   "source": [
    "# 3. Split Train and Test Data\n",
    "train_size = int(0.8 * len(df1))\n",
    "test_size = len(df1) - train_size\n",
    "\n",
    "train_data = df1[:train_size]\n",
    "test_data = df1[train_size:]"
   ]
  },
  {
   "cell_type": "code",
   "execution_count": 5,
   "id": "6097366b",
   "metadata": {},
   "outputs": [],
   "source": [
    "# 4. Create Dataset\n",
    "def create_dataset(dataset, time_step=1):\n",
    "    dataX, dataY = [], []\n",
    "    for i in range(len(dataset) - time_step - 1):\n",
    "        a = dataset[i:(i + time_step), 0]\n",
    "        dataX.append(a)\n",
    "        dataY.append(dataset[i + time_step, 0])\n",
    "    return np.array(dataX), np.array(dataY)\n",
    "\n",
    "time_step = 100\n",
    "X_train, y_train = create_dataset(train_data, time_step)\n",
    "X_test, y_test = create_dataset(test_data, time_step)"
   ]
  },
  {
   "cell_type": "code",
   "execution_count": 6,
   "id": "4830789b",
   "metadata": {},
   "outputs": [],
   "source": [
    "# 5. Reshape Input to Fit RNN\n",
    "X_train = X_train.reshape(X_train.shape[0], X_train.shape[1], 1)\n",
    "X_test = X_test.reshape(X_test.shape[0], X_test.shape[1], 1)"
   ]
  },
  {
   "cell_type": "code",
   "execution_count": 7,
   "id": "a277794c",
   "metadata": {},
   "outputs": [
    {
     "name": "stdout",
     "output_type": "stream",
     "text": [
      "WARNING:tensorflow:From C:\\Users\\ASUS\\anaconda3\\Lib\\site-packages\\keras\\src\\backend.py:873: The name tf.get_default_graph is deprecated. Please use tf.compat.v1.get_default_graph instead.\n",
      "\n",
      "WARNING:tensorflow:From C:\\Users\\ASUS\\anaconda3\\Lib\\site-packages\\keras\\src\\optimizers\\__init__.py:309: The name tf.train.Optimizer is deprecated. Please use tf.compat.v1.train.Optimizer instead.\n",
      "\n"
     ]
    }
   ],
   "source": [
    "# 6. Define RNN Model\n",
    "model = Sequential()\n",
    "model.add(SimpleRNN(50, input_shape=(time_step, 1)))\n",
    "model.add(Dense(1))\n",
    "model.compile(loss='mean_squared_error', optimizer='adam')"
   ]
  },
  {
   "cell_type": "code",
   "execution_count": 8,
   "id": "beb340a4",
   "metadata": {},
   "outputs": [
    {
     "name": "stdout",
     "output_type": "stream",
     "text": [
      "Epoch 1/100\n",
      "WARNING:tensorflow:From C:\\Users\\ASUS\\anaconda3\\Lib\\site-packages\\keras\\src\\utils\\tf_utils.py:492: The name tf.ragged.RaggedTensorValue is deprecated. Please use tf.compat.v1.ragged.RaggedTensorValue instead.\n",
      "\n",
      "21/21 [==============================] - 1s 9ms/step - loss: 0.0163\n",
      "Epoch 2/100\n",
      "21/21 [==============================] - 0s 9ms/step - loss: 0.0026\n",
      "Epoch 3/100\n",
      "21/21 [==============================] - 0s 9ms/step - loss: 0.0019\n",
      "Epoch 4/100\n",
      "21/21 [==============================] - 0s 10ms/step - loss: 0.0015\n",
      "Epoch 5/100\n",
      "21/21 [==============================] - 0s 10ms/step - loss: 0.0012\n",
      "Epoch 6/100\n",
      "21/21 [==============================] - 0s 10ms/step - loss: 0.0012\n",
      "Epoch 7/100\n",
      "21/21 [==============================] - 0s 9ms/step - loss: 0.0013\n",
      "Epoch 8/100\n",
      "21/21 [==============================] - 0s 10ms/step - loss: 0.0010\n",
      "Epoch 9/100\n",
      "21/21 [==============================] - 0s 10ms/step - loss: 9.4782e-04\n",
      "Epoch 10/100\n",
      "21/21 [==============================] - 0s 9ms/step - loss: 8.5989e-04\n",
      "Epoch 11/100\n",
      "21/21 [==============================] - 0s 10ms/step - loss: 8.1295e-04\n",
      "Epoch 12/100\n",
      "21/21 [==============================] - 0s 10ms/step - loss: 7.8165e-04\n",
      "Epoch 13/100\n",
      "21/21 [==============================] - 0s 9ms/step - loss: 7.7824e-04\n",
      "Epoch 14/100\n",
      "21/21 [==============================] - 0s 9ms/step - loss: 7.0019e-04\n",
      "Epoch 15/100\n",
      "21/21 [==============================] - 0s 9ms/step - loss: 6.6424e-04\n",
      "Epoch 16/100\n",
      "21/21 [==============================] - 0s 9ms/step - loss: 6.4740e-04\n",
      "Epoch 17/100\n",
      "21/21 [==============================] - 0s 9ms/step - loss: 5.9911e-04\n",
      "Epoch 18/100\n",
      "21/21 [==============================] - 0s 10ms/step - loss: 5.9176e-04\n",
      "Epoch 19/100\n",
      "21/21 [==============================] - 0s 9ms/step - loss: 8.1144e-04\n",
      "Epoch 20/100\n",
      "21/21 [==============================] - 0s 9ms/step - loss: 5.4694e-04\n",
      "Epoch 21/100\n",
      "21/21 [==============================] - 0s 9ms/step - loss: 5.1791e-04\n",
      "Epoch 22/100\n",
      "21/21 [==============================] - 0s 9ms/step - loss: 5.0546e-04\n",
      "Epoch 23/100\n",
      "21/21 [==============================] - 0s 10ms/step - loss: 5.1344e-04\n",
      "Epoch 24/100\n",
      "21/21 [==============================] - 0s 10ms/step - loss: 5.5696e-04\n",
      "Epoch 25/100\n",
      "21/21 [==============================] - 0s 10ms/step - loss: 5.9604e-04\n",
      "Epoch 26/100\n",
      "21/21 [==============================] - 0s 9ms/step - loss: 4.6694e-04\n",
      "Epoch 27/100\n",
      "21/21 [==============================] - 0s 9ms/step - loss: 4.9939e-04\n",
      "Epoch 28/100\n",
      "21/21 [==============================] - 0s 9ms/step - loss: 4.5212e-04\n",
      "Epoch 29/100\n",
      "21/21 [==============================] - 0s 9ms/step - loss: 4.3253e-04\n",
      "Epoch 30/100\n",
      "21/21 [==============================] - 0s 9ms/step - loss: 5.0357e-04\n",
      "Epoch 31/100\n",
      "21/21 [==============================] - 0s 9ms/step - loss: 7.0681e-04\n",
      "Epoch 32/100\n",
      "21/21 [==============================] - 0s 9ms/step - loss: 5.7718e-04\n",
      "Epoch 33/100\n",
      "21/21 [==============================] - 0s 9ms/step - loss: 4.3245e-04\n",
      "Epoch 34/100\n",
      "21/21 [==============================] - 0s 9ms/step - loss: 4.2469e-04\n",
      "Epoch 35/100\n",
      "21/21 [==============================] - 0s 9ms/step - loss: 4.5521e-04\n",
      "Epoch 36/100\n",
      "21/21 [==============================] - 0s 9ms/step - loss: 4.9569e-04\n",
      "Epoch 37/100\n",
      "21/21 [==============================] - 0s 9ms/step - loss: 5.9104e-04\n",
      "Epoch 38/100\n",
      "21/21 [==============================] - 0s 9ms/step - loss: 4.2489e-04\n",
      "Epoch 39/100\n",
      "21/21 [==============================] - 0s 10ms/step - loss: 3.9010e-04\n",
      "Epoch 40/100\n",
      "21/21 [==============================] - 0s 9ms/step - loss: 4.3718e-04\n",
      "Epoch 41/100\n",
      "21/21 [==============================] - 0s 11ms/step - loss: 3.9471e-04\n",
      "Epoch 42/100\n",
      "21/21 [==============================] - 0s 11ms/step - loss: 4.1657e-04\n",
      "Epoch 43/100\n",
      "21/21 [==============================] - 0s 9ms/step - loss: 4.1075e-04\n",
      "Epoch 44/100\n",
      "21/21 [==============================] - 0s 11ms/step - loss: 3.7329e-04\n",
      "Epoch 45/100\n",
      "21/21 [==============================] - 0s 9ms/step - loss: 3.9611e-04\n",
      "Epoch 46/100\n",
      "21/21 [==============================] - 0s 9ms/step - loss: 3.7434e-04\n",
      "Epoch 47/100\n",
      "21/21 [==============================] - 0s 10ms/step - loss: 3.7719e-04\n",
      "Epoch 48/100\n",
      "21/21 [==============================] - 0s 9ms/step - loss: 3.4539e-04\n",
      "Epoch 49/100\n",
      "21/21 [==============================] - 0s 10ms/step - loss: 3.3682e-04\n",
      "Epoch 50/100\n",
      "21/21 [==============================] - 0s 10ms/step - loss: 3.6493e-04\n",
      "Epoch 51/100\n",
      "21/21 [==============================] - 0s 10ms/step - loss: 4.0640e-04\n",
      "Epoch 52/100\n",
      "21/21 [==============================] - 0s 10ms/step - loss: 3.6050e-04\n",
      "Epoch 53/100\n",
      "21/21 [==============================] - 0s 12ms/step - loss: 3.3058e-04\n",
      "Epoch 54/100\n",
      "21/21 [==============================] - 0s 10ms/step - loss: 4.4279e-04\n",
      "Epoch 55/100\n",
      "21/21 [==============================] - 0s 10ms/step - loss: 3.5286e-04\n",
      "Epoch 56/100\n",
      "21/21 [==============================] - 0s 11ms/step - loss: 3.6273e-04\n",
      "Epoch 57/100\n",
      "21/21 [==============================] - 0s 11ms/step - loss: 3.2596e-04\n",
      "Epoch 58/100\n",
      "21/21 [==============================] - 0s 11ms/step - loss: 4.1156e-04\n",
      "Epoch 59/100\n",
      "21/21 [==============================] - 0s 10ms/step - loss: 4.4428e-04\n",
      "Epoch 60/100\n",
      "21/21 [==============================] - 0s 12ms/step - loss: 3.1141e-04\n",
      "Epoch 61/100\n",
      "21/21 [==============================] - 0s 13ms/step - loss: 3.2663e-04\n",
      "Epoch 62/100\n",
      "21/21 [==============================] - 0s 11ms/step - loss: 3.2684e-04\n",
      "Epoch 63/100\n",
      "21/21 [==============================] - 0s 11ms/step - loss: 3.1066e-04\n",
      "Epoch 64/100\n",
      "21/21 [==============================] - 0s 10ms/step - loss: 3.4696e-04\n",
      "Epoch 65/100\n",
      "21/21 [==============================] - 0s 10ms/step - loss: 3.2449e-04\n",
      "Epoch 66/100\n",
      "21/21 [==============================] - 0s 10ms/step - loss: 3.2912e-04\n",
      "Epoch 67/100\n",
      "21/21 [==============================] - 0s 11ms/step - loss: 3.0587e-04\n",
      "Epoch 68/100\n",
      "21/21 [==============================] - 0s 10ms/step - loss: 3.0614e-04\n",
      "Epoch 69/100\n",
      "21/21 [==============================] - 0s 10ms/step - loss: 3.0593e-04\n",
      "Epoch 70/100\n",
      "21/21 [==============================] - 0s 10ms/step - loss: 3.3028e-04\n",
      "Epoch 71/100\n",
      "21/21 [==============================] - 0s 11ms/step - loss: 2.9608e-04\n",
      "Epoch 72/100\n",
      "21/21 [==============================] - 0s 10ms/step - loss: 3.7222e-04\n",
      "Epoch 73/100\n",
      "21/21 [==============================] - 0s 10ms/step - loss: 3.0681e-04\n",
      "Epoch 74/100\n",
      "21/21 [==============================] - 0s 11ms/step - loss: 2.9952e-04\n",
      "Epoch 75/100\n",
      "21/21 [==============================] - 0s 10ms/step - loss: 3.6152e-04\n",
      "Epoch 76/100\n",
      "21/21 [==============================] - 0s 11ms/step - loss: 2.9998e-04\n",
      "Epoch 77/100\n",
      "21/21 [==============================] - 0s 10ms/step - loss: 3.0435e-04\n",
      "Epoch 78/100\n",
      "21/21 [==============================] - 0s 11ms/step - loss: 3.1546e-04\n",
      "Epoch 79/100\n",
      "21/21 [==============================] - 0s 10ms/step - loss: 3.2149e-04\n",
      "Epoch 80/100\n",
      "21/21 [==============================] - 0s 10ms/step - loss: 3.2701e-04\n",
      "Epoch 81/100\n",
      "21/21 [==============================] - 0s 10ms/step - loss: 3.0581e-04\n",
      "Epoch 82/100\n",
      "21/21 [==============================] - 0s 10ms/step - loss: 3.0672e-04\n",
      "Epoch 83/100\n",
      "21/21 [==============================] - 0s 10ms/step - loss: 3.0402e-04\n",
      "Epoch 84/100\n",
      "21/21 [==============================] - 0s 10ms/step - loss: 2.9052e-04\n",
      "Epoch 85/100\n",
      "21/21 [==============================] - 0s 11ms/step - loss: 2.7849e-04\n",
      "Epoch 86/100\n",
      "21/21 [==============================] - 0s 10ms/step - loss: 2.8286e-04\n",
      "Epoch 87/100\n",
      "21/21 [==============================] - 0s 11ms/step - loss: 3.0010e-04\n",
      "Epoch 88/100\n",
      "21/21 [==============================] - 0s 10ms/step - loss: 2.9895e-04\n",
      "Epoch 89/100\n",
      "21/21 [==============================] - 0s 10ms/step - loss: 2.8729e-04\n",
      "Epoch 90/100\n",
      "21/21 [==============================] - 0s 10ms/step - loss: 3.0195e-04\n",
      "Epoch 91/100\n",
      "21/21 [==============================] - 0s 12ms/step - loss: 2.8928e-04\n",
      "Epoch 92/100\n",
      "21/21 [==============================] - 0s 10ms/step - loss: 2.8535e-04\n",
      "Epoch 93/100\n",
      "21/21 [==============================] - 0s 11ms/step - loss: 3.2370e-04\n",
      "Epoch 94/100\n"
     ]
    },
    {
     "name": "stdout",
     "output_type": "stream",
     "text": [
      "21/21 [==============================] - 0s 12ms/step - loss: 3.7974e-04\n",
      "Epoch 95/100\n",
      "21/21 [==============================] - 0s 12ms/step - loss: 3.0791e-04\n",
      "Epoch 96/100\n",
      "21/21 [==============================] - 0s 11ms/step - loss: 2.8955e-04\n",
      "Epoch 97/100\n",
      "21/21 [==============================] - 0s 10ms/step - loss: 2.8276e-04\n",
      "Epoch 98/100\n",
      "21/21 [==============================] - 0s 10ms/step - loss: 2.6725e-04\n",
      "Epoch 99/100\n",
      "21/21 [==============================] - 0s 10ms/step - loss: 3.0985e-04\n",
      "Epoch 100/100\n",
      "21/21 [==============================] - 0s 10ms/step - loss: 2.8748e-04\n"
     ]
    },
    {
     "data": {
      "text/plain": [
       "<keras.src.callbacks.History at 0x1ee7b0e8fd0>"
      ]
     },
     "execution_count": 8,
     "metadata": {},
     "output_type": "execute_result"
    }
   ],
   "source": [
    "#  7. Fit Model with Training Data\n",
    "model.fit(X_train, y_train, epochs=100, batch_size=64, verbose=1)"
   ]
  },
  {
   "cell_type": "code",
   "execution_count": 9,
   "id": "b8303544",
   "metadata": {},
   "outputs": [
    {
     "name": "stdout",
     "output_type": "stream",
     "text": [
      "41/41 [==============================] - 0s 4ms/step\n",
      "8/8 [==============================] - 0s 4ms/step\n"
     ]
    }
   ],
   "source": [
    "# 8. Make Predictions\n",
    "train_predict = model.predict(X_train)\n",
    "test_predict = model.predict(X_test)"
   ]
  },
  {
   "cell_type": "code",
   "execution_count": 10,
   "id": "91e92adc",
   "metadata": {},
   "outputs": [],
   "source": [
    "# 9. Inverse Transform Predictions\n",
    "train_predict = scaler.inverse_transform(train_predict)\n",
    "test_predict = scaler.inverse_transform(test_predict)"
   ]
  },
  {
   "cell_type": "code",
   "execution_count": 11,
   "id": "6643f7e2",
   "metadata": {},
   "outputs": [
    {
     "name": "stdout",
     "output_type": "stream",
     "text": [
      "Testing MAPE: 2.4131973320432163\n",
      "Testing MAE: 644.8693515624996\n",
      "Testing RMSE: 826.2990080606966\n"
     ]
    }
   ],
   "source": [
    "# 10. Evaluate Model with RMSE\n",
    "from sklearn.metrics import mean_squared_error, mean_absolute_error\n",
    "test_mape = np.mean(np.abs((scaler.inverse_transform(y_test.reshape(-1, 1)) - test_predict) / scaler.inverse_transform(y_test.reshape(-1, 1)))) * 100\n",
    "test_mae = mean_absolute_error(scaler.inverse_transform(y_test.reshape(-1, 1)), test_predict)\n",
    "test_rmse = np.sqrt(np.mean((test_predict - scaler.inverse_transform(y_test.reshape(-1, 1))) ** 2))\n",
    "\n",
    "print('Testing MAPE:', test_mape)\n",
    "print('Testing MAE:', test_mae)\n",
    "print('Testing RMSE:', test_rmse)"
   ]
  },
  {
   "cell_type": "code",
   "execution_count": 12,
   "id": "97f1c3d0",
   "metadata": {},
   "outputs": [],
   "source": [
    "# 11. Forecast Next 30 Days\n",
    "last_input = test_data[-time_step:].reshape(1, -1)\n",
    "temp_input = list(last_input)\n",
    "temp_input = temp_input[0].tolist()\n",
    "\n",
    "lst_output = []\n",
    "i = 0\n",
    "while i < 30:\n",
    "    if len(temp_input) > time_step:\n",
    "        x_input = np.array(temp_input[1:])\n",
    "        x_input = x_input.reshape(1, -1)\n",
    "        x_input = x_input.reshape((1, time_step, 1))\n",
    "        yhat = model.predict(x_input, verbose=0)\n",
    "        temp_input.extend(yhat[0].tolist())\n",
    "        temp_input = temp_input[1:]\n",
    "        lst_output.extend(yhat.tolist())\n",
    "        i += 1\n",
    "    else:\n",
    "        x_input = last_input.reshape((1, time_step, 1))\n",
    "        yhat = model.predict(x_input, verbose=0)\n",
    "        temp_input.extend(yhat[0].tolist())\n",
    "        lst_output.extend(yhat.tolist())\n",
    "        i += 1"
   ]
  },
  {
   "cell_type": "code",
   "execution_count": 13,
   "id": "fa9389e6",
   "metadata": {
    "scrolled": true
   },
   "outputs": [
    {
     "data": {
      "image/png": "[encoded data removed]",
      "text/plain": [
       "<Figure size 640x480 with 1 Axes>"
      ]
     },
     "metadata": {},
     "output_type": "display_data"
    }
   ],
   "source": [
    "# 12. Plot Results\n",
    "train_data_index = pd.RangeIndex(start=0, stop=train_size, step=1)\n",
    "plt.plot(scaler.inverse_transform(train_data))\n",
    "\n",
    "test_data_index = pd.RangeIndex(start=train_size, stop=train_size+test_size, step=1)\n",
    "plt.plot(test_data_index,scaler.inverse_transform(test_data))\n",
    "\n",
    "test_data_index = pd.RangeIndex(start=train_size+101, stop=train_size+test_size, step=1)\n",
    "plt.plot(test_data_index,(test_predict))\n",
    "\n",
    "prediect_data_index = pd.RangeIndex(start=len(df1)-1, stop=len(df1)+29, step=1)\n",
    "plt.plot(prediect_data_index,scaler.inverse_transform(lst_output))\n",
    "\n",
    "plt.legend(['Train','Test','Predict','Predict30days'])\n",
    "plt.show()"
   ]
  }
 ],
 "metadata": {
  "kernelspec": {
   "display_name": "Python 3 (ipykernel)",
   "language": "python",
   "name": "python3"
  },
  "language_info": {
   "codemirror_mode": {
    "name": "ipython",
    "version": 3
   },
   "file_extension": ".py",
   "mimetype": "text/x-python",
   "name": "python",
   "nbconvert_exporter": "python",
   "pygments_lexer": "ipython3",
   "version": "3.11.4"
  }
 },
 "nbformat": 4,
 "nbformat_minor": 5
}
