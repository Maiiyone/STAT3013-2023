{
 "cells": [
  {
   "cell_type": "code",
   "execution_count": 1,
   "id": "a34ffaaf",
   "metadata": {},
   "outputs": [
    {
     "name": "stdout",
     "output_type": "stream",
     "text": [
      "WARNING:tensorflow:From C:\\Users\\ASUS\\anaconda3\\Lib\\site-packages\\keras\\src\\losses.py:2976: The name tf.losses.sparse_softmax_cross_entropy is deprecated. Please use tf.compat.v1.losses.sparse_softmax_cross_entropy instead.\n",
      "\n"
     ]
    }
   ],
   "source": [
    "import numpy as np\n",
    "import pandas as pd\n",
    "import matplotlib.pyplot as plt\n",
    "from sklearn.preprocessing import MinMaxScaler\n",
    "from keras.models import Sequential\n",
    "from keras.layers import Dense, SimpleRNN"
   ]
  },
  {
   "cell_type": "code",
   "execution_count": 2,
   "id": "f9039c82",
   "metadata": {},
   "outputs": [],
   "source": [
    "# 1. Load CSV File\n",
    "df = pd.read_csv('STB.csv')\n",
    "df1 = df.reset_index()['Price']"
   ]
  },
  {
   "cell_type": "code",
   "execution_count": 3,
   "id": "bbd97402",
   "metadata": {},
   "outputs": [],
   "source": [
    "# 2. Scale Data\n",
    "scaler = MinMaxScaler(feature_range=(0, 1))\n",
    "df1 = scaler.fit_transform(np.array(df1).reshape(-1, 1))"
   ]
  },
  {
   "cell_type": "code",
   "execution_count": 4,
   "id": "34121b65",
   "metadata": {},
   "outputs": [],
   "source": [
    "# 3. Split Train and Test Data\n",
    "train_size = int(0.9 * len(df1))\n",
    "test_size = len(df1) - train_size\n",
    "\n",
    "train_data = df1[:train_size]\n",
    "test_data = df1[train_size:]"
   ]
  },
  {
   "cell_type": "code",
   "execution_count": 5,
   "id": "f38ead41",
   "metadata": {},
   "outputs": [],
   "source": [
    "# 4. Create Dataset\n",
    "def create_dataset(dataset, time_step=1):\n",
    "    dataX, dataY = [], []\n",
    "    for i in range(len(dataset) - time_step - 1):\n",
    "        a = dataset[i:(i + time_step), 0]\n",
    "        dataX.append(a)\n",
    "        dataY.append(dataset[i + time_step, 0])\n",
    "    return np.array(dataX), np.array(dataY)\n",
    "\n",
    "time_step = 100\n",
    "X_train, y_train = create_dataset(train_data, time_step)\n",
    "X_test, y_test = create_dataset(test_data, time_step)"
   ]
  },
  {
   "cell_type": "code",
   "execution_count": 6,
   "id": "552db7d9",
   "metadata": {},
   "outputs": [],
   "source": [
    "# 5. Reshape Input to Fit RNN\n",
    "X_train = X_train.reshape(X_train.shape[0], X_train.shape[1], 1)\n",
    "X_test = X_test.reshape(X_test.shape[0], X_test.shape[1], 1)"
   ]
  },
  {
   "cell_type": "code",
   "execution_count": 7,
   "id": "812bd7bf",
   "metadata": {},
   "outputs": [
    {
     "name": "stdout",
     "output_type": "stream",
     "text": [
      "WARNING:tensorflow:From C:\\Users\\ASUS\\anaconda3\\Lib\\site-packages\\keras\\src\\backend.py:873: The name tf.get_default_graph is deprecated. Please use tf.compat.v1.get_default_graph instead.\n",
      "\n",
      "WARNING:tensorflow:From C:\\Users\\ASUS\\anaconda3\\Lib\\site-packages\\keras\\src\\optimizers\\__init__.py:309: The name tf.train.Optimizer is deprecated. Please use tf.compat.v1.train.Optimizer instead.\n",
      "\n"
     ]
    }
   ],
   "source": [
    "# 6. Define RNN Model\n",
    "model = Sequential()\n",
    "model.add(SimpleRNN(50, input_shape=(time_step, 1)))\n",
    "model.add(Dense(1))\n",
    "model.compile(loss='mean_squared_error', optimizer='adam')"
   ]
  },
  {
   "cell_type": "code",
   "execution_count": 8,
   "id": "66316d4d",
   "metadata": {},
   "outputs": [
    {
     "name": "stdout",
     "output_type": "stream",
     "text": [
      "Epoch 1/100\n",
      "WARNING:tensorflow:From C:\\Users\\ASUS\\anaconda3\\Lib\\site-packages\\keras\\src\\utils\\tf_utils.py:492: The name tf.ragged.RaggedTensorValue is deprecated. Please use tf.compat.v1.ragged.RaggedTensorValue instead.\n",
      "\n",
      "24/24 [==============================] - 1s 11ms/step - loss: 0.0045\n",
      "Epoch 2/100\n",
      "24/24 [==============================] - 0s 11ms/step - loss: 8.6662e-04\n",
      "Epoch 3/100\n",
      "24/24 [==============================] - 0s 12ms/step - loss: 8.1809e-04\n",
      "Epoch 4/100\n",
      "24/24 [==============================] - 0s 12ms/step - loss: 7.2396e-04\n",
      "Epoch 5/100\n",
      "24/24 [==============================] - 0s 12ms/step - loss: 7.3660e-04\n",
      "Epoch 6/100\n",
      "24/24 [==============================] - 0s 12ms/step - loss: 5.9613e-04\n",
      "Epoch 7/100\n",
      "24/24 [==============================] - 0s 11ms/step - loss: 6.8946e-04\n",
      "Epoch 8/100\n",
      "24/24 [==============================] - 0s 11ms/step - loss: 5.4512e-04\n",
      "Epoch 9/100\n",
      "24/24 [==============================] - 0s 12ms/step - loss: 0.0014\n",
      "Epoch 10/100\n",
      "24/24 [==============================] - 0s 11ms/step - loss: 6.0454e-04\n",
      "Epoch 11/100\n",
      "24/24 [==============================] - 0s 11ms/step - loss: 4.8928e-04\n",
      "Epoch 12/100\n",
      "24/24 [==============================] - 0s 11ms/step - loss: 4.6854e-04\n",
      "Epoch 13/100\n",
      "24/24 [==============================] - 0s 11ms/step - loss: 4.3461e-04\n",
      "Epoch 14/100\n",
      "24/24 [==============================] - 0s 11ms/step - loss: 4.2384e-04\n",
      "Epoch 15/100\n",
      "24/24 [==============================] - 0s 11ms/step - loss: 5.5152e-04\n",
      "Epoch 16/100\n",
      "24/24 [==============================] - 0s 10ms/step - loss: 7.2868e-04\n",
      "Epoch 17/100\n",
      "24/24 [==============================] - 0s 11ms/step - loss: 4.7488e-04\n",
      "Epoch 18/100\n",
      "24/24 [==============================] - 0s 11ms/step - loss: 3.8122e-04\n",
      "Epoch 19/100\n",
      "24/24 [==============================] - 0s 11ms/step - loss: 3.8433e-04\n",
      "Epoch 20/100\n",
      "24/24 [==============================] - 0s 14ms/step - loss: 3.7956e-04\n",
      "Epoch 21/100\n",
      "24/24 [==============================] - 0s 16ms/step - loss: 3.6450e-04\n",
      "Epoch 22/100\n",
      "24/24 [==============================] - 0s 14ms/step - loss: 3.7233e-04\n",
      "Epoch 23/100\n",
      "24/24 [==============================] - 0s 11ms/step - loss: 3.4906e-04\n",
      "Epoch 24/100\n",
      "24/24 [==============================] - 0s 11ms/step - loss: 3.3740e-04\n",
      "Epoch 25/100\n",
      "24/24 [==============================] - 0s 11ms/step - loss: 4.8087e-04\n",
      "Epoch 26/100\n",
      "24/24 [==============================] - 0s 10ms/step - loss: 4.4467e-04\n",
      "Epoch 27/100\n",
      "24/24 [==============================] - 0s 10ms/step - loss: 3.9100e-04\n",
      "Epoch 28/100\n",
      "24/24 [==============================] - 0s 10ms/step - loss: 3.3693e-04\n",
      "Epoch 29/100\n",
      "24/24 [==============================] - 0s 10ms/step - loss: 3.1647e-04\n",
      "Epoch 30/100\n",
      "24/24 [==============================] - 0s 10ms/step - loss: 3.7553e-04\n",
      "Epoch 31/100\n",
      "24/24 [==============================] - 0s 10ms/step - loss: 3.4591e-04\n",
      "Epoch 32/100\n",
      "24/24 [==============================] - 0s 10ms/step - loss: 3.4221e-04\n",
      "Epoch 33/100\n",
      "24/24 [==============================] - 0s 10ms/step - loss: 3.2399e-04\n",
      "Epoch 34/100\n",
      "24/24 [==============================] - 0s 10ms/step - loss: 3.2320e-04\n",
      "Epoch 35/100\n",
      "24/24 [==============================] - 0s 11ms/step - loss: 3.2394e-04\n",
      "Epoch 36/100\n",
      "24/24 [==============================] - 0s 11ms/step - loss: 2.9387e-04\n",
      "Epoch 37/100\n",
      "24/24 [==============================] - 0s 11ms/step - loss: 0.0014\n",
      "Epoch 38/100\n",
      "24/24 [==============================] - 0s 11ms/step - loss: 3.4758e-04\n",
      "Epoch 39/100\n",
      "24/24 [==============================] - 0s 11ms/step - loss: 3.0153e-04\n",
      "Epoch 40/100\n",
      "24/24 [==============================] - 0s 11ms/step - loss: 2.8503e-04\n",
      "Epoch 41/100\n",
      "24/24 [==============================] - 0s 13ms/step - loss: 2.8912e-04\n",
      "Epoch 42/100\n",
      "24/24 [==============================] - 0s 11ms/step - loss: 2.8965e-04\n",
      "Epoch 43/100\n",
      "24/24 [==============================] - 0s 10ms/step - loss: 2.6396e-04\n",
      "Epoch 44/100\n",
      "24/24 [==============================] - 0s 10ms/step - loss: 2.6975e-04\n",
      "Epoch 45/100\n",
      "24/24 [==============================] - 0s 11ms/step - loss: 2.6330e-04\n",
      "Epoch 46/100\n",
      "24/24 [==============================] - 0s 11ms/step - loss: 2.6454e-04\n",
      "Epoch 47/100\n",
      "24/24 [==============================] - 0s 11ms/step - loss: 3.3724e-04\n",
      "Epoch 48/100\n",
      "24/24 [==============================] - 0s 12ms/step - loss: 2.8733e-04\n",
      "Epoch 49/100\n",
      "24/24 [==============================] - 0s 11ms/step - loss: 3.6711e-04\n",
      "Epoch 50/100\n",
      "24/24 [==============================] - 0s 11ms/step - loss: 2.8994e-04\n",
      "Epoch 51/100\n",
      "24/24 [==============================] - 0s 12ms/step - loss: 2.9299e-04\n",
      "Epoch 52/100\n",
      "24/24 [==============================] - 0s 11ms/step - loss: 2.5303e-04\n",
      "Epoch 53/100\n",
      "24/24 [==============================] - 0s 10ms/step - loss: 2.5365e-04\n",
      "Epoch 54/100\n",
      "24/24 [==============================] - 0s 11ms/step - loss: 2.7488e-04\n",
      "Epoch 55/100\n",
      "24/24 [==============================] - 0s 10ms/step - loss: 3.2934e-04\n",
      "Epoch 56/100\n",
      "24/24 [==============================] - 0s 9ms/step - loss: 2.4664e-04\n",
      "Epoch 57/100\n",
      "24/24 [==============================] - 0s 9ms/step - loss: 2.5019e-04\n",
      "Epoch 58/100\n",
      "24/24 [==============================] - 0s 9ms/step - loss: 2.4758e-04\n",
      "Epoch 59/100\n",
      "24/24 [==============================] - 0s 10ms/step - loss: 2.5279e-04\n",
      "Epoch 60/100\n",
      "24/24 [==============================] - 0s 11ms/step - loss: 2.6812e-04\n",
      "Epoch 61/100\n",
      "24/24 [==============================] - 0s 9ms/step - loss: 2.4734e-04\n",
      "Epoch 62/100\n",
      "24/24 [==============================] - 0s 9ms/step - loss: 2.6982e-04\n",
      "Epoch 63/100\n",
      "24/24 [==============================] - 0s 9ms/step - loss: 2.4736e-04\n",
      "Epoch 64/100\n",
      "24/24 [==============================] - 0s 9ms/step - loss: 2.7412e-04\n",
      "Epoch 65/100\n",
      "24/24 [==============================] - 0s 10ms/step - loss: 2.5413e-04\n",
      "Epoch 66/100\n",
      "24/24 [==============================] - 0s 9ms/step - loss: 2.3875e-04\n",
      "Epoch 67/100\n",
      "24/24 [==============================] - 0s 8ms/step - loss: 2.3835e-04\n",
      "Epoch 68/100\n",
      "24/24 [==============================] - 0s 9ms/step - loss: 3.2742e-04\n",
      "Epoch 69/100\n",
      "24/24 [==============================] - 0s 8ms/step - loss: 2.3913e-04\n",
      "Epoch 70/100\n",
      "24/24 [==============================] - 0s 9ms/step - loss: 2.3972e-04\n",
      "Epoch 71/100\n",
      "24/24 [==============================] - 0s 9ms/step - loss: 2.3565e-04\n",
      "Epoch 72/100\n",
      "24/24 [==============================] - 0s 9ms/step - loss: 2.4122e-04\n",
      "Epoch 73/100\n",
      "24/24 [==============================] - 0s 8ms/step - loss: 2.4300e-04\n",
      "Epoch 74/100\n",
      "24/24 [==============================] - 0s 9ms/step - loss: 2.4590e-04\n",
      "Epoch 75/100\n",
      "24/24 [==============================] - 0s 9ms/step - loss: 3.1806e-04\n",
      "Epoch 76/100\n",
      "24/24 [==============================] - 0s 9ms/step - loss: 2.8716e-04\n",
      "Epoch 77/100\n",
      "24/24 [==============================] - 0s 9ms/step - loss: 2.3483e-04\n",
      "Epoch 78/100\n",
      "24/24 [==============================] - 0s 9ms/step - loss: 2.3760e-04\n",
      "Epoch 79/100\n",
      "24/24 [==============================] - 0s 8ms/step - loss: 2.2774e-04\n",
      "Epoch 80/100\n",
      "24/24 [==============================] - 0s 9ms/step - loss: 0.0015\n",
      "Epoch 81/100\n",
      "24/24 [==============================] - 0s 8ms/step - loss: 3.4790e-04\n",
      "Epoch 82/100\n",
      "24/24 [==============================] - 0s 8ms/step - loss: 2.3413e-04\n",
      "Epoch 83/100\n",
      "24/24 [==============================] - 0s 8ms/step - loss: 2.2360e-04\n",
      "Epoch 84/100\n",
      "24/24 [==============================] - 0s 8ms/step - loss: 2.3133e-04\n",
      "Epoch 85/100\n",
      "24/24 [==============================] - 0s 9ms/step - loss: 2.3475e-04\n",
      "Epoch 86/100\n",
      "24/24 [==============================] - 0s 9ms/step - loss: 2.5605e-04\n",
      "Epoch 87/100\n",
      "24/24 [==============================] - 0s 8ms/step - loss: 2.4623e-04\n",
      "Epoch 88/100\n",
      "24/24 [==============================] - 0s 9ms/step - loss: 2.2805e-04\n",
      "Epoch 89/100\n",
      "24/24 [==============================] - 0s 8ms/step - loss: 2.4506e-04\n",
      "Epoch 90/100\n",
      "24/24 [==============================] - 0s 8ms/step - loss: 2.1980e-04\n",
      "Epoch 91/100\n",
      "24/24 [==============================] - 0s 8ms/step - loss: 2.5880e-04\n",
      "Epoch 92/100\n",
      "24/24 [==============================] - 0s 8ms/step - loss: 2.2477e-04\n",
      "Epoch 93/100\n",
      "24/24 [==============================] - 0s 9ms/step - loss: 2.3528e-04\n",
      "Epoch 94/100\n"
     ]
    },
    {
     "name": "stdout",
     "output_type": "stream",
     "text": [
      "24/24 [==============================] - 0s 9ms/step - loss: 2.2419e-04\n",
      "Epoch 95/100\n",
      "24/24 [==============================] - 0s 9ms/step - loss: 2.4139e-04\n",
      "Epoch 96/100\n",
      "24/24 [==============================] - 0s 9ms/step - loss: 2.3580e-04\n",
      "Epoch 97/100\n",
      "24/24 [==============================] - 0s 8ms/step - loss: 2.2499e-04\n",
      "Epoch 98/100\n",
      "24/24 [==============================] - 0s 9ms/step - loss: 2.2022e-04\n",
      "Epoch 99/100\n",
      "24/24 [==============================] - 0s 8ms/step - loss: 2.2831e-04\n",
      "Epoch 100/100\n",
      "24/24 [==============================] - 0s 9ms/step - loss: 2.3182e-04\n"
     ]
    },
    {
     "data": {
      "text/plain": [
       "<keras.src.callbacks.History at 0x24b9058fa50>"
      ]
     },
     "execution_count": 8,
     "metadata": {},
     "output_type": "execute_result"
    }
   ],
   "source": [
    " #  7. Fit Model with Training Data\n",
    "model.fit(X_train, y_train, epochs=100, batch_size=64, verbose=1)"
   ]
  },
  {
   "cell_type": "code",
   "execution_count": 9,
   "id": "e5681f84",
   "metadata": {},
   "outputs": [
    {
     "name": "stdout",
     "output_type": "stream",
     "text": [
      "47/47 [==============================] - 0s 4ms/step\n",
      "3/3 [==============================] - 0s 4ms/step\n"
     ]
    }
   ],
   "source": [
    "# 8. Make Predictions\n",
    "train_predict = model.predict(X_train)\n",
    "test_predict = model.predict(X_test)"
   ]
  },
  {
   "cell_type": "code",
   "execution_count": 10,
   "id": "a68069c0",
   "metadata": {},
   "outputs": [],
   "source": [
    "# 9. Inverse Transform Predictions\n",
    "train_predict = scaler.inverse_transform(train_predict)\n",
    "test_predict = scaler.inverse_transform(test_predict)"
   ]
  },
  {
   "cell_type": "code",
   "execution_count": 11,
   "id": "53e23294",
   "metadata": {},
   "outputs": [
    {
     "name": "stdout",
     "output_type": "stream",
     "text": [
      "Testing MAPE: 3.2018955457423637\n",
      "Testing MAE: 605.6104947916666\n",
      "Testing RMSE: 757.3332489223277\n"
     ]
    }
   ],
   "source": [
    "# 10. Evaluate Model with RMSE\n",
    "from sklearn.metrics import mean_squared_error, mean_absolute_error\n",
    "test_mape = np.mean(np.abs((scaler.inverse_transform(y_test.reshape(-1, 1)) - test_predict) / scaler.inverse_transform(y_test.reshape(-1, 1)))) * 100\n",
    "test_mae = mean_absolute_error(scaler.inverse_transform(y_test.reshape(-1, 1)), test_predict)\n",
    "test_rmse = np.sqrt(np.mean((test_predict - scaler.inverse_transform(y_test.reshape(-1, 1))) ** 2))\n",
    "\n",
    "print('Testing MAPE:', test_mape)\n",
    "print('Testing MAE:', test_mae)\n",
    "print('Testing RMSE:', test_rmse)"
   ]
  },
  {
   "cell_type": "code",
   "execution_count": 12,
   "id": "7e00958e",
   "metadata": {},
   "outputs": [],
   "source": [
    "# 11. Forecast Next 30 Days\n",
    "last_input = test_data[-time_step:].reshape(1, -1)\n",
    "temp_input = list(last_input)\n",
    "temp_input = temp_input[0].tolist()\n",
    "\n",
    "lst_output = []\n",
    "i = 0\n",
    "while i < 30:\n",
    "    if len(temp_input) > time_step:\n",
    "        x_input = np.array(temp_input[1:])\n",
    "        x_input = x_input.reshape(1, -1)\n",
    "        x_input = x_input.reshape((1, time_step, 1))\n",
    "        yhat = model.predict(x_input, verbose=0)\n",
    "        temp_input.extend(yhat[0].tolist())\n",
    "        temp_input = temp_input[1:]\n",
    "        lst_output.extend(yhat.tolist())\n",
    "        i += 1\n",
    "    else:\n",
    "        x_input = last_input.reshape((1, time_step, 1))\n",
    "        yhat = model.predict(x_input, verbose=0)\n",
    "        temp_input.extend(yhat[0].tolist())\n",
    "        lst_output.extend(yhat.tolist())\n",
    "        i += 1"
   ]
  },
  {
   "cell_type": "code",
   "execution_count": 13,
   "id": "fedb7090",
   "metadata": {
    "scrolled": true
   },
   "outputs": [
    {
     "data": {
      "image/png": "[encoded data removed]",
      "text/plain": [
       "<Figure size 640x480 with 1 Axes>"
      ]
     },
     "metadata": {},
     "output_type": "display_data"
    }
   ],
   "source": [
    "# 12. Plot Results\n",
    "train_data_index = pd.RangeIndex(start=0, stop=train_size, step=1)\n",
    "plt.plot(scaler.inverse_transform(train_data))\n",
    "\n",
    "test_data_index = pd.RangeIndex(start=train_size, stop=train_size+test_size, step=1)\n",
    "plt.plot(test_data_index,scaler.inverse_transform(test_data))\n",
    "\n",
    "test_data_index = pd.RangeIndex(start=train_size+101, stop=train_size+test_size, step=1)\n",
    "plt.plot(test_data_index,(test_predict))\n",
    "\n",
    "prediect_data_index = pd.RangeIndex(start=len(df1)-1, stop=len(df1)+29, step=1)\n",
    "plt.plot(prediect_data_index,scaler.inverse_transform(lst_output))\n",
    "\n",
    "plt.legend(['Train','Test','Predict','Predict30days'])\n",
    "plt.show()"
   ]
  }
 ],
 "metadata": {
  "kernelspec": {
   "display_name": "Python 3 (ipykernel)",
   "language": "python",
   "name": "python3"
  },
  "language_info": {
   "codemirror_mode": {
    "name": "ipython",
    "version": 3
   },
   "file_extension": ".py",
   "mimetype": "text/x-python",
   "name": "python",
   "nbconvert_exporter": "python",
   "pygments_lexer": "ipython3",
   "version": "3.11.4"
  }
 },
 "nbformat": 4,
 "nbformat_minor": 5
}
