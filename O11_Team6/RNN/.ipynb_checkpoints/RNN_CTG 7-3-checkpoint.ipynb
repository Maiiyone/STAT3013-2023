{
 "cells": [
  {
   "cell_type": "code",
   "execution_count": 1,
   "id": "b45c0c9d",
   "metadata": {},
   "outputs": [
    {
     "name": "stdout",
     "output_type": "stream",
     "text": [
      "WARNING:tensorflow:From C:\\Users\\ASUS\\anaconda3\\Lib\\site-packages\\keras\\src\\losses.py:2976: The name tf.losses.sparse_softmax_cross_entropy is deprecated. Please use tf.compat.v1.losses.sparse_softmax_cross_entropy instead.\n",
      "\n"
     ]
    }
   ],
   "source": [
    "import numpy as np\n",
    "import pandas as pd\n",
    "import matplotlib.pyplot as plt\n",
    "from sklearn.preprocessing import MinMaxScaler\n",
    "from keras.models import Sequential\n",
    "from keras.layers import Dense, SimpleRNN"
   ]
  },
  {
   "cell_type": "code",
   "execution_count": 2,
   "id": "e772b09b",
   "metadata": {},
   "outputs": [],
   "source": [
    "# 1. Load CSV File\n",
    "df = pd.read_csv('CTG.csv')\n",
    "df1 = df.reset_index()['Price']"
   ]
  },
  {
   "cell_type": "code",
   "execution_count": 3,
   "id": "7f8c7a53",
   "metadata": {},
   "outputs": [],
   "source": [
    "# 2. Scale Data\n",
    "scaler = MinMaxScaler(feature_range=(0, 1))\n",
    "df1 = scaler.fit_transform(np.array(df1).reshape(-1, 1))"
   ]
  },
  {
   "cell_type": "code",
   "execution_count": 4,
   "id": "6f4d2a7c",
   "metadata": {},
   "outputs": [],
   "source": [
    "# 3. Split Train and Test Data\n",
    "train_size = int(0.7 * len(df1))\n",
    "test_size = len(df1) - train_size\n",
    "\n",
    "train_data = df1[:train_size]\n",
    "test_data = df1[train_size:]"
   ]
  },
  {
   "cell_type": "code",
   "execution_count": 5,
   "id": "6097366b",
   "metadata": {},
   "outputs": [],
   "source": [
    "# 4. Create Dataset\n",
    "def create_dataset(dataset, time_step=1):\n",
    "    dataX, dataY = [], []\n",
    "    for i in range(len(dataset) - time_step - 1):\n",
    "        a = dataset[i:(i + time_step), 0]\n",
    "        dataX.append(a)\n",
    "        dataY.append(dataset[i + time_step, 0])\n",
    "    return np.array(dataX), np.array(dataY)\n",
    "\n",
    "time_step = 100\n",
    "X_train, y_train = create_dataset(train_data, time_step)\n",
    "X_test, y_test = create_dataset(test_data, time_step)"
   ]
  },
  {
   "cell_type": "code",
   "execution_count": 6,
   "id": "4830789b",
   "metadata": {},
   "outputs": [],
   "source": [
    "# 5. Reshape Input to Fit RNN\n",
    "X_train = X_train.reshape(X_train.shape[0], X_train.shape[1], 1)\n",
    "X_test = X_test.reshape(X_test.shape[0], X_test.shape[1], 1)"
   ]
  },
  {
   "cell_type": "code",
   "execution_count": 7,
   "id": "a277794c",
   "metadata": {},
   "outputs": [
    {
     "name": "stdout",
     "output_type": "stream",
     "text": [
      "WARNING:tensorflow:From C:\\Users\\ASUS\\anaconda3\\Lib\\site-packages\\keras\\src\\backend.py:873: The name tf.get_default_graph is deprecated. Please use tf.compat.v1.get_default_graph instead.\n",
      "\n",
      "WARNING:tensorflow:From C:\\Users\\ASUS\\anaconda3\\Lib\\site-packages\\keras\\src\\optimizers\\__init__.py:309: The name tf.train.Optimizer is deprecated. Please use tf.compat.v1.train.Optimizer instead.\n",
      "\n"
     ]
    }
   ],
   "source": [
    "# 6. Define RNN Model\n",
    "model = Sequential()\n",
    "model.add(SimpleRNN(50, input_shape=(time_step, 1)))\n",
    "model.add(Dense(1))\n",
    "model.compile(loss='mean_squared_error', optimizer='adam')"
   ]
  },
  {
   "cell_type": "code",
   "execution_count": 8,
   "id": "beb340a4",
   "metadata": {},
   "outputs": [
    {
     "name": "stdout",
     "output_type": "stream",
     "text": [
      "Epoch 1/100\n",
      "WARNING:tensorflow:From C:\\Users\\ASUS\\anaconda3\\Lib\\site-packages\\keras\\src\\utils\\tf_utils.py:492: The name tf.ragged.RaggedTensorValue is deprecated. Please use tf.compat.v1.ragged.RaggedTensorValue instead.\n",
      "\n",
      "18/18 [==============================] - 1s 9ms/step - loss: 0.0044\n",
      "Epoch 2/100\n",
      "18/18 [==============================] - 0s 9ms/step - loss: 6.7527e-04\n",
      "Epoch 3/100\n",
      "18/18 [==============================] - 0s 9ms/step - loss: 5.4022e-04\n",
      "Epoch 4/100\n",
      "18/18 [==============================] - 0s 9ms/step - loss: 4.6171e-04\n",
      "Epoch 5/100\n",
      "18/18 [==============================] - 0s 9ms/step - loss: 5.0579e-04\n",
      "Epoch 6/100\n",
      "18/18 [==============================] - 0s 9ms/step - loss: 4.0018e-04\n",
      "Epoch 7/100\n",
      "18/18 [==============================] - 0s 9ms/step - loss: 3.4286e-04\n",
      "Epoch 8/100\n",
      "18/18 [==============================] - 0s 9ms/step - loss: 3.1146e-04\n",
      "Epoch 9/100\n",
      "18/18 [==============================] - 0s 9ms/step - loss: 3.0745e-04\n",
      "Epoch 10/100\n",
      "18/18 [==============================] - 0s 9ms/step - loss: 2.7308e-04\n",
      "Epoch 11/100\n",
      "18/18 [==============================] - 0s 9ms/step - loss: 2.6329e-04\n",
      "Epoch 12/100\n",
      "18/18 [==============================] - 0s 9ms/step - loss: 2.8068e-04\n",
      "Epoch 13/100\n",
      "18/18 [==============================] - 0s 9ms/step - loss: 2.6072e-04\n",
      "Epoch 14/100\n",
      "18/18 [==============================] - 0s 9ms/step - loss: 2.6318e-04\n",
      "Epoch 15/100\n",
      "18/18 [==============================] - 0s 9ms/step - loss: 2.6628e-04\n",
      "Epoch 16/100\n",
      "18/18 [==============================] - 0s 9ms/step - loss: 2.4959e-04\n",
      "Epoch 17/100\n",
      "18/18 [==============================] - 0s 9ms/step - loss: 2.2317e-04\n",
      "Epoch 18/100\n",
      "18/18 [==============================] - 0s 9ms/step - loss: 2.1553e-04\n",
      "Epoch 19/100\n",
      "18/18 [==============================] - 0s 9ms/step - loss: 2.1618e-04\n",
      "Epoch 20/100\n",
      "18/18 [==============================] - 0s 9ms/step - loss: 2.2170e-04\n",
      "Epoch 21/100\n",
      "18/18 [==============================] - 0s 9ms/step - loss: 2.0775e-04\n",
      "Epoch 22/100\n",
      "18/18 [==============================] - 0s 10ms/step - loss: 2.5123e-04\n",
      "Epoch 23/100\n",
      "18/18 [==============================] - 0s 10ms/step - loss: 3.2165e-04\n",
      "Epoch 24/100\n",
      "18/18 [==============================] - 0s 10ms/step - loss: 2.4974e-04\n",
      "Epoch 25/100\n",
      "18/18 [==============================] - 0s 10ms/step - loss: 2.2532e-04\n",
      "Epoch 26/100\n",
      "18/18 [==============================] - 0s 9ms/step - loss: 2.0161e-04\n",
      "Epoch 27/100\n",
      "18/18 [==============================] - 0s 10ms/step - loss: 2.0584e-04\n",
      "Epoch 28/100\n",
      "18/18 [==============================] - 0s 13ms/step - loss: 1.9583e-04\n",
      "Epoch 29/100\n",
      "18/18 [==============================] - 0s 12ms/step - loss: 2.0340e-04\n",
      "Epoch 30/100\n",
      "18/18 [==============================] - 0s 11ms/step - loss: 1.9920e-04\n",
      "Epoch 31/100\n",
      "18/18 [==============================] - 0s 10ms/step - loss: 1.8857e-04\n",
      "Epoch 32/100\n",
      "18/18 [==============================] - 0s 10ms/step - loss: 1.8089e-04\n",
      "Epoch 33/100\n",
      "18/18 [==============================] - 0s 10ms/step - loss: 1.7837e-04\n",
      "Epoch 34/100\n",
      "18/18 [==============================] - 0s 10ms/step - loss: 1.8505e-04\n",
      "Epoch 35/100\n",
      "18/18 [==============================] - 0s 9ms/step - loss: 1.8006e-04\n",
      "Epoch 36/100\n",
      "18/18 [==============================] - 0s 9ms/step - loss: 1.7186e-04\n",
      "Epoch 37/100\n",
      "18/18 [==============================] - 0s 10ms/step - loss: 1.8245e-04\n",
      "Epoch 38/100\n",
      "18/18 [==============================] - 0s 9ms/step - loss: 1.8323e-04\n",
      "Epoch 39/100\n",
      "18/18 [==============================] - 0s 9ms/step - loss: 1.8257e-04\n",
      "Epoch 40/100\n",
      "18/18 [==============================] - 0s 9ms/step - loss: 1.8982e-04\n",
      "Epoch 41/100\n",
      "18/18 [==============================] - 0s 9ms/step - loss: 1.6912e-04\n",
      "Epoch 42/100\n",
      "18/18 [==============================] - 0s 9ms/step - loss: 1.7090e-04\n",
      "Epoch 43/100\n",
      "18/18 [==============================] - 0s 9ms/step - loss: 1.6895e-04\n",
      "Epoch 44/100\n",
      "18/18 [==============================] - 0s 9ms/step - loss: 1.7991e-04\n",
      "Epoch 45/100\n",
      "18/18 [==============================] - 0s 9ms/step - loss: 1.7677e-04\n",
      "Epoch 46/100\n",
      "18/18 [==============================] - 0s 9ms/step - loss: 1.7891e-04\n",
      "Epoch 47/100\n",
      "18/18 [==============================] - 0s 9ms/step - loss: 1.6733e-04\n",
      "Epoch 48/100\n",
      "18/18 [==============================] - 0s 9ms/step - loss: 1.6541e-04\n",
      "Epoch 49/100\n",
      "18/18 [==============================] - 0s 9ms/step - loss: 1.7031e-04\n",
      "Epoch 50/100\n",
      "18/18 [==============================] - 0s 9ms/step - loss: 1.7391e-04\n",
      "Epoch 51/100\n",
      "18/18 [==============================] - 0s 9ms/step - loss: 1.6997e-04\n",
      "Epoch 52/100\n",
      "18/18 [==============================] - 0s 9ms/step - loss: 1.7413e-04\n",
      "Epoch 53/100\n",
      "18/18 [==============================] - 0s 9ms/step - loss: 1.6749e-04\n",
      "Epoch 54/100\n",
      "18/18 [==============================] - 0s 9ms/step - loss: 1.6445e-04\n",
      "Epoch 55/100\n",
      "18/18 [==============================] - 0s 9ms/step - loss: 1.6730e-04\n",
      "Epoch 56/100\n",
      "18/18 [==============================] - 0s 9ms/step - loss: 1.6351e-04\n",
      "Epoch 57/100\n",
      "18/18 [==============================] - 0s 9ms/step - loss: 1.7672e-04\n",
      "Epoch 58/100\n",
      "18/18 [==============================] - 0s 10ms/step - loss: 1.7405e-04\n",
      "Epoch 59/100\n",
      "18/18 [==============================] - 0s 10ms/step - loss: 1.6320e-04\n",
      "Epoch 60/100\n",
      "18/18 [==============================] - 0s 11ms/step - loss: 1.6337e-04\n",
      "Epoch 61/100\n",
      "18/18 [==============================] - 0s 11ms/step - loss: 1.7321e-04\n",
      "Epoch 62/100\n",
      "18/18 [==============================] - 0s 11ms/step - loss: 1.6714e-04\n",
      "Epoch 63/100\n",
      "18/18 [==============================] - 0s 10ms/step - loss: 1.9378e-04\n",
      "Epoch 64/100\n",
      "18/18 [==============================] - 0s 11ms/step - loss: 1.6500e-04\n",
      "Epoch 65/100\n",
      "18/18 [==============================] - 0s 11ms/step - loss: 1.6298e-04\n",
      "Epoch 66/100\n",
      "18/18 [==============================] - 0s 10ms/step - loss: 1.6628e-04\n",
      "Epoch 67/100\n",
      "18/18 [==============================] - 0s 10ms/step - loss: 1.6392e-04\n",
      "Epoch 68/100\n",
      "18/18 [==============================] - 0s 9ms/step - loss: 1.5835e-04\n",
      "Epoch 69/100\n",
      "18/18 [==============================] - 0s 10ms/step - loss: 1.6699e-04\n",
      "Epoch 70/100\n",
      "18/18 [==============================] - 0s 9ms/step - loss: 1.6026e-04\n",
      "Epoch 71/100\n",
      "18/18 [==============================] - 0s 9ms/step - loss: 1.7167e-04\n",
      "Epoch 72/100\n",
      "18/18 [==============================] - 0s 10ms/step - loss: 1.6049e-04\n",
      "Epoch 73/100\n",
      "18/18 [==============================] - 0s 10ms/step - loss: 1.5761e-04\n",
      "Epoch 74/100\n",
      "18/18 [==============================] - 0s 10ms/step - loss: 1.5925e-04\n",
      "Epoch 75/100\n",
      "18/18 [==============================] - 0s 9ms/step - loss: 1.6266e-04\n",
      "Epoch 76/100\n",
      "18/18 [==============================] - 0s 11ms/step - loss: 1.5672e-04\n",
      "Epoch 77/100\n",
      "18/18 [==============================] - 0s 12ms/step - loss: 1.7109e-04\n",
      "Epoch 78/100\n",
      "18/18 [==============================] - 0s 11ms/step - loss: 1.7243e-04\n",
      "Epoch 79/100\n",
      "18/18 [==============================] - 0s 11ms/step - loss: 1.6155e-04\n",
      "Epoch 80/100\n",
      "18/18 [==============================] - 0s 12ms/step - loss: 1.8064e-04\n",
      "Epoch 81/100\n",
      "18/18 [==============================] - 0s 11ms/step - loss: 1.8801e-04\n",
      "Epoch 82/100\n",
      "18/18 [==============================] - 0s 11ms/step - loss: 1.8617e-04\n",
      "Epoch 83/100\n",
      "18/18 [==============================] - 0s 10ms/step - loss: 1.6280e-04\n",
      "Epoch 84/100\n",
      "18/18 [==============================] - 0s 10ms/step - loss: 1.7424e-04\n",
      "Epoch 85/100\n",
      "18/18 [==============================] - 0s 12ms/step - loss: 1.8142e-04\n",
      "Epoch 86/100\n",
      "18/18 [==============================] - 0s 11ms/step - loss: 1.5972e-04\n",
      "Epoch 87/100\n",
      "18/18 [==============================] - 0s 10ms/step - loss: 1.6744e-04\n",
      "Epoch 88/100\n",
      "18/18 [==============================] - 0s 11ms/step - loss: 1.5652e-04\n",
      "Epoch 89/100\n",
      "18/18 [==============================] - 0s 11ms/step - loss: 1.5844e-04\n",
      "Epoch 90/100\n",
      "18/18 [==============================] - 0s 11ms/step - loss: 1.5875e-04\n",
      "Epoch 91/100\n",
      "18/18 [==============================] - 0s 12ms/step - loss: 1.5935e-04\n",
      "Epoch 92/100\n",
      "18/18 [==============================] - 0s 12ms/step - loss: 1.6003e-04\n",
      "Epoch 93/100\n",
      "18/18 [==============================] - 0s 10ms/step - loss: 1.6144e-04\n",
      "Epoch 94/100\n"
     ]
    },
    {
     "name": "stdout",
     "output_type": "stream",
     "text": [
      "18/18 [==============================] - 0s 9ms/step - loss: 1.5660e-04\n",
      "Epoch 95/100\n",
      "18/18 [==============================] - 0s 9ms/step - loss: 1.5982e-04\n",
      "Epoch 96/100\n",
      "18/18 [==============================] - 0s 9ms/step - loss: 1.6194e-04\n",
      "Epoch 97/100\n",
      "18/18 [==============================] - 0s 9ms/step - loss: 1.6077e-04\n",
      "Epoch 98/100\n",
      "18/18 [==============================] - 0s 9ms/step - loss: 1.5666e-04\n",
      "Epoch 99/100\n",
      "18/18 [==============================] - 0s 9ms/step - loss: 1.5742e-04\n",
      "Epoch 100/100\n",
      "18/18 [==============================] - 0s 9ms/step - loss: 1.6831e-04\n"
     ]
    },
    {
     "data": {
      "text/plain": [
       "<keras.src.callbacks.History at 0x1417ff7ba90>"
      ]
     },
     "execution_count": 8,
     "metadata": {},
     "output_type": "execute_result"
    }
   ],
   "source": [
    "#  7. Fit Model with Training Data\n",
    "model.fit(X_train, y_train, epochs=100, batch_size=64, verbose=1)"
   ]
  },
  {
   "cell_type": "code",
   "execution_count": 9,
   "id": "b8303544",
   "metadata": {},
   "outputs": [
    {
     "name": "stdout",
     "output_type": "stream",
     "text": [
      "36/36 [==============================] - 0s 3ms/step\n",
      "14/14 [==============================] - 0s 4ms/step\n"
     ]
    }
   ],
   "source": [
    "# 8. Make Predictions\n",
    "train_predict = model.predict(X_train)\n",
    "test_predict = model.predict(X_test)"
   ]
  },
  {
   "cell_type": "code",
   "execution_count": 10,
   "id": "91e92adc",
   "metadata": {},
   "outputs": [],
   "source": [
    "# 9. Inverse Transform Predictions\n",
    "train_predict = scaler.inverse_transform(train_predict)\n",
    "test_predict = scaler.inverse_transform(test_predict)"
   ]
  },
  {
   "cell_type": "code",
   "execution_count": 11,
   "id": "6643f7e2",
   "metadata": {},
   "outputs": [
    {
     "name": "stdout",
     "output_type": "stream",
     "text": [
      "Testing MAPE: 2.015637018123053\n",
      "Testing MAE: 598.5621966911767\n",
      "Testing RMSE: 788.4051836567058\n"
     ]
    }
   ],
   "source": [
    "# 10. Evaluate Model with RMSE\n",
    "from sklearn.metrics import mean_squared_error, mean_absolute_error\n",
    "test_mape = np.mean(np.abs((scaler.inverse_transform(y_test.reshape(-1, 1)) - test_predict) / scaler.inverse_transform(y_test.reshape(-1, 1)))) * 100\n",
    "test_mae = mean_absolute_error(scaler.inverse_transform(y_test.reshape(-1, 1)), test_predict)\n",
    "test_rmse = np.sqrt(np.mean((test_predict - scaler.inverse_transform(y_test.reshape(-1, 1))) ** 2))\n",
    "\n",
    "print('Testing MAPE:', test_mape)\n",
    "print('Testing MAE:', test_mae)\n",
    "print('Testing RMSE:', test_rmse)"
   ]
  },
  {
   "cell_type": "code",
   "execution_count": 12,
   "id": "97f1c3d0",
   "metadata": {},
   "outputs": [],
   "source": [
    "# 11. Forecast Next 30 Days\n",
    "last_input = test_data[-time_step:].reshape(1, -1)\n",
    "temp_input = list(last_input)\n",
    "temp_input = temp_input[0].tolist()\n",
    "\n",
    "lst_output = []\n",
    "i = 0\n",
    "while i < 30:\n",
    "    if len(temp_input) > time_step:\n",
    "        x_input = np.array(temp_input[1:])\n",
    "        x_input = x_input.reshape(1, -1)\n",
    "        x_input = x_input.reshape((1, time_step, 1))\n",
    "        yhat = model.predict(x_input, verbose=0)\n",
    "        temp_input.extend(yhat[0].tolist())\n",
    "        temp_input = temp_input[1:]\n",
    "        lst_output.extend(yhat.tolist())\n",
    "        i += 1\n",
    "    else:\n",
    "        x_input = last_input.reshape((1, time_step, 1))\n",
    "        yhat = model.predict(x_input, verbose=0)\n",
    "        temp_input.extend(yhat[0].tolist())\n",
    "        lst_output.extend(yhat.tolist())\n",
    "        i += 1"
   ]
  },
  {
   "cell_type": "code",
   "execution_count": 13,
   "id": "fa9389e6",
   "metadata": {},
   "outputs": [
    {
     "data": {
      "image/png": "[encoded data removed]",
      "text/plain": [
       "<Figure size 640x480 with 1 Axes>"
      ]
     },
     "metadata": {},
     "output_type": "display_data"
    }
   ],
   "source": [
    "# 12. Plot Results\n",
    "train_data_index = pd.RangeIndex(start=0, stop=train_size, step=1)\n",
    "plt.plot(scaler.inverse_transform(train_data))\n",
    "\n",
    "test_data_index = pd.RangeIndex(start=train_size, stop=train_size+test_size, step=1)\n",
    "plt.plot(test_data_index,scaler.inverse_transform(test_data))\n",
    "\n",
    "test_data_index = pd.RangeIndex(start=train_size+101, stop=train_size+test_size, step=1)\n",
    "plt.plot(test_data_index,(test_predict))\n",
    "\n",
    "prediect_data_index = pd.RangeIndex(start=len(df1)-1, stop=len(df1)+29, step=1)\n",
    "plt.plot(prediect_data_index,scaler.inverse_transform(lst_output))\n",
    "\n",
    "plt.legend(['Train','Test','Predict','Predict30days'])\n",
    "plt.show()"
   ]
  }
 ],
 "metadata": {
  "kernelspec": {
   "display_name": "Python 3 (ipykernel)",
   "language": "python",
   "name": "python3"
  },
  "language_info": {
   "codemirror_mode": {
    "name": "ipython",
    "version": 3
   },
   "file_extension": ".py",
   "mimetype": "text/x-python",
   "name": "python",
   "nbconvert_exporter": "python",
   "pygments_lexer": "ipython3",
   "version": "3.11.4"
  }
 },
 "nbformat": 4,
 "nbformat_minor": 5
}
