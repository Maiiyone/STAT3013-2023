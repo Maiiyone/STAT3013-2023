{
 "cells": [
  {
   "cell_type": "code",
   "execution_count": 1,
   "id": "77c165a0",
   "metadata": {},
   "outputs": [
    {
     "name": "stdout",
     "output_type": "stream",
     "text": [
      "WARNING:tensorflow:From C:\\Users\\ASUS\\anaconda3\\Lib\\site-packages\\keras\\src\\losses.py:2976: The name tf.losses.sparse_softmax_cross_entropy is deprecated. Please use tf.compat.v1.losses.sparse_softmax_cross_entropy instead.\n",
      "\n"
     ]
    }
   ],
   "source": [
    "import numpy as np\n",
    "import pandas as pd\n",
    "import seaborn as sns\n",
    "%matplotlib inline\n",
    "from matplotlib import pyplot as plt\n",
    "from matplotlib import style\n",
    "import numpy as np\n",
    "import pandas as pd\n",
    "import seaborn as sns\n",
    "%matplotlib inline\n",
    "from matplotlib import pyplot as plt\n",
    "from matplotlib import style\n",
    "from keras.models import Sequential\n",
    "from keras.layers import Dense, Flatten, Dropout\n",
    "from sklearn.preprocessing import StandardScaler"
   ]
  },
  {
   "cell_type": "code",
   "execution_count": 2,
   "id": "76aecc58",
   "metadata": {},
   "outputs": [],
   "source": [
    "df = pd.read_csv('CTG.csv')"
   ]
  },
  {
   "cell_type": "code",
   "execution_count": 3,
   "id": "762001c0",
   "metadata": {},
   "outputs": [
    {
     "data": {
      "text/html": [
       "<div>\n",
       "<style scoped>\n",
       "    .dataframe tbody tr th:only-of-type {\n",
       "        vertical-align: middle;\n",
       "    }\n",
       "\n",
       "    .dataframe tbody tr th {\n",
       "        vertical-align: top;\n",
       "    }\n",
       "\n",
       "    .dataframe thead th {\n",
       "        text-align: right;\n",
       "    }\n",
       "</style>\n",
       "<table border=\"1\" class=\"dataframe\">\n",
       "  <thead>\n",
       "    <tr style=\"text-align: right;\">\n",
       "      <th></th>\n",
       "      <th>Date</th>\n",
       "      <th>Price</th>\n",
       "      <th>Open</th>\n",
       "      <th>High</th>\n",
       "      <th>Low</th>\n",
       "    </tr>\n",
       "  </thead>\n",
       "  <tbody>\n",
       "    <tr>\n",
       "      <th>0</th>\n",
       "      <td>20/01/2016</td>\n",
       "      <td>11656</td>\n",
       "      <td>11931</td>\n",
       "      <td>11931</td>\n",
       "      <td>11656</td>\n",
       "    </tr>\n",
       "    <tr>\n",
       "      <th>1</th>\n",
       "      <td>21/01/2016</td>\n",
       "      <td>11311</td>\n",
       "      <td>11587</td>\n",
       "      <td>11725</td>\n",
       "      <td>11242</td>\n",
       "    </tr>\n",
       "    <tr>\n",
       "      <th>2</th>\n",
       "      <td>22/01/2016</td>\n",
       "      <td>11104</td>\n",
       "      <td>11311</td>\n",
       "      <td>11380</td>\n",
       "      <td>10897</td>\n",
       "    </tr>\n",
       "    <tr>\n",
       "      <th>3</th>\n",
       "      <td>25/01/2016</td>\n",
       "      <td>11862</td>\n",
       "      <td>11380</td>\n",
       "      <td>11862</td>\n",
       "      <td>11380</td>\n",
       "    </tr>\n",
       "    <tr>\n",
       "      <th>4</th>\n",
       "      <td>26/01/2016</td>\n",
       "      <td>12000</td>\n",
       "      <td>11725</td>\n",
       "      <td>12000</td>\n",
       "      <td>11587</td>\n",
       "    </tr>\n",
       "    <tr>\n",
       "      <th>5</th>\n",
       "      <td>27/01/2016</td>\n",
       "      <td>12069</td>\n",
       "      <td>12000</td>\n",
       "      <td>12276</td>\n",
       "      <td>12000</td>\n",
       "    </tr>\n",
       "  </tbody>\n",
       "</table>\n",
       "</div>"
      ],
      "text/plain": [
       "         Date  Price   Open   High    Low\n",
       "0  20/01/2016  11656  11931  11931  11656\n",
       "1  21/01/2016  11311  11587  11725  11242\n",
       "2  22/01/2016  11104  11311  11380  10897\n",
       "3  25/01/2016  11862  11380  11862  11380\n",
       "4  26/01/2016  12000  11725  12000  11587\n",
       "5  27/01/2016  12069  12000  12276  12000"
      ]
     },
     "execution_count": 3,
     "metadata": {},
     "output_type": "execute_result"
    }
   ],
   "source": [
    "df.head(6)"
   ]
  },
  {
   "cell_type": "code",
   "execution_count": 4,
   "id": "37ab6798",
   "metadata": {},
   "outputs": [
    {
     "data": {
      "text/html": [
       "<div>\n",
       "<style scoped>\n",
       "    .dataframe tbody tr th:only-of-type {\n",
       "        vertical-align: middle;\n",
       "    }\n",
       "\n",
       "    .dataframe tbody tr th {\n",
       "        vertical-align: top;\n",
       "    }\n",
       "\n",
       "    .dataframe thead th {\n",
       "        text-align: right;\n",
       "    }\n",
       "</style>\n",
       "<table border=\"1\" class=\"dataframe\">\n",
       "  <thead>\n",
       "    <tr style=\"text-align: right;\">\n",
       "      <th></th>\n",
       "      <th>Price</th>\n",
       "      <th>Open</th>\n",
       "      <th>High</th>\n",
       "      <th>Low</th>\n",
       "    </tr>\n",
       "  </thead>\n",
       "  <tbody>\n",
       "    <tr>\n",
       "      <th>count</th>\n",
       "      <td>1751.000000</td>\n",
       "      <td>1751.000000</td>\n",
       "      <td>1751.000000</td>\n",
       "      <td>1751.000000</td>\n",
       "    </tr>\n",
       "    <tr>\n",
       "      <th>mean</th>\n",
       "      <td>20181.801256</td>\n",
       "      <td>20196.873786</td>\n",
       "      <td>20503.792119</td>\n",
       "      <td>19912.944603</td>\n",
       "    </tr>\n",
       "    <tr>\n",
       "      <th>std</th>\n",
       "      <td>7494.386701</td>\n",
       "      <td>7511.964640</td>\n",
       "      <td>7632.885838</td>\n",
       "      <td>7383.449320</td>\n",
       "    </tr>\n",
       "    <tr>\n",
       "      <th>min</th>\n",
       "      <td>10069.000000</td>\n",
       "      <td>10069.000000</td>\n",
       "      <td>10242.000000</td>\n",
       "      <td>10035.000000</td>\n",
       "    </tr>\n",
       "    <tr>\n",
       "      <th>25%</th>\n",
       "      <td>14236.000000</td>\n",
       "      <td>14231.000000</td>\n",
       "      <td>14419.000000</td>\n",
       "      <td>14053.000000</td>\n",
       "    </tr>\n",
       "    <tr>\n",
       "      <th>50%</th>\n",
       "      <td>17372.000000</td>\n",
       "      <td>17372.000000</td>\n",
       "      <td>17633.000000</td>\n",
       "      <td>17149.000000</td>\n",
       "    </tr>\n",
       "    <tr>\n",
       "      <th>75%</th>\n",
       "      <td>26550.000000</td>\n",
       "      <td>26470.000000</td>\n",
       "      <td>26950.000000</td>\n",
       "      <td>26035.500000</td>\n",
       "    </tr>\n",
       "    <tr>\n",
       "      <th>max</th>\n",
       "      <td>41141.000000</td>\n",
       "      <td>41217.000000</td>\n",
       "      <td>41519.000000</td>\n",
       "      <td>40688.000000</td>\n",
       "    </tr>\n",
       "  </tbody>\n",
       "</table>\n",
       "</div>"
      ],
      "text/plain": [
       "              Price          Open          High           Low\n",
       "count   1751.000000   1751.000000   1751.000000   1751.000000\n",
       "mean   20181.801256  20196.873786  20503.792119  19912.944603\n",
       "std     7494.386701   7511.964640   7632.885838   7383.449320\n",
       "min    10069.000000  10069.000000  10242.000000  10035.000000\n",
       "25%    14236.000000  14231.000000  14419.000000  14053.000000\n",
       "50%    17372.000000  17372.000000  17633.000000  17149.000000\n",
       "75%    26550.000000  26470.000000  26950.000000  26035.500000\n",
       "max    41141.000000  41217.000000  41519.000000  40688.000000"
      ]
     },
     "execution_count": 4,
     "metadata": {},
     "output_type": "execute_result"
    }
   ],
   "source": [
    "df.describe()"
   ]
  },
  {
   "cell_type": "code",
   "execution_count": 5,
   "id": "b49a01ba",
   "metadata": {},
   "outputs": [
    {
     "name": "stdout",
     "output_type": "stream",
     "text": [
      "<class 'pandas.core.frame.DataFrame'>\n",
      "RangeIndex: 1751 entries, 0 to 1750\n",
      "Data columns (total 5 columns):\n",
      " #   Column  Non-Null Count  Dtype \n",
      "---  ------  --------------  ----- \n",
      " 0   Date    1751 non-null   object\n",
      " 1   Price   1751 non-null   int64 \n",
      " 2   Open    1751 non-null   int64 \n",
      " 3   High    1751 non-null   int64 \n",
      " 4   Low     1751 non-null   int64 \n",
      "dtypes: int64(4), object(1)\n",
      "memory usage: 68.5+ KB\n"
     ]
    }
   ],
   "source": [
    "df.info()"
   ]
  },
  {
   "cell_type": "code",
   "execution_count": 6,
   "id": "057da7d0",
   "metadata": {},
   "outputs": [
    {
     "name": "stderr",
     "output_type": "stream",
     "text": [
      "C:\\Users\\ASUS\\AppData\\Local\\Temp\\ipykernel_21280\\3973768263.py:1: UserWarning: Parsing dates in DD/MM/YYYY format when dayfirst=False (the default) was specified. This may lead to inconsistently parsed dates! Specify a format to ensure consistent parsing.\n",
      "  df['Date'] = pd.to_datetime(df['Date'])\n"
     ]
    },
    {
     "data": {
      "text/html": [
       "<div>\n",
       "<style scoped>\n",
       "    .dataframe tbody tr th:only-of-type {\n",
       "        vertical-align: middle;\n",
       "    }\n",
       "\n",
       "    .dataframe tbody tr th {\n",
       "        vertical-align: top;\n",
       "    }\n",
       "\n",
       "    .dataframe thead th {\n",
       "        text-align: right;\n",
       "    }\n",
       "</style>\n",
       "<table border=\"1\" class=\"dataframe\">\n",
       "  <thead>\n",
       "    <tr style=\"text-align: right;\">\n",
       "      <th></th>\n",
       "      <th>Date</th>\n",
       "      <th>Price</th>\n",
       "      <th>Open</th>\n",
       "      <th>High</th>\n",
       "      <th>Low</th>\n",
       "    </tr>\n",
       "  </thead>\n",
       "  <tbody>\n",
       "    <tr>\n",
       "      <th>8</th>\n",
       "      <td>2016-01-02</td>\n",
       "      <td>11794</td>\n",
       "      <td>12138</td>\n",
       "      <td>12138</td>\n",
       "      <td>11794</td>\n",
       "    </tr>\n",
       "    <tr>\n",
       "      <th>24</th>\n",
       "      <td>2016-01-03</td>\n",
       "      <td>12138</td>\n",
       "      <td>12276</td>\n",
       "      <td>12414</td>\n",
       "      <td>12138</td>\n",
       "    </tr>\n",
       "    <tr>\n",
       "      <th>47</th>\n",
       "      <td>2016-01-04</td>\n",
       "      <td>11242</td>\n",
       "      <td>11311</td>\n",
       "      <td>11380</td>\n",
       "      <td>11173</td>\n",
       "    </tr>\n",
       "    <tr>\n",
       "      <th>87</th>\n",
       "      <td>2016-01-06</td>\n",
       "      <td>12276</td>\n",
       "      <td>12276</td>\n",
       "      <td>12414</td>\n",
       "      <td>12207</td>\n",
       "    </tr>\n",
       "    <tr>\n",
       "      <th>109</th>\n",
       "      <td>2016-01-07</td>\n",
       "      <td>11725</td>\n",
       "      <td>11587</td>\n",
       "      <td>11794</td>\n",
       "      <td>11587</td>\n",
       "    </tr>\n",
       "    <tr>\n",
       "      <th>130</th>\n",
       "      <td>2016-01-08</td>\n",
       "      <td>12207</td>\n",
       "      <td>12276</td>\n",
       "      <td>12276</td>\n",
       "      <td>12138</td>\n",
       "    </tr>\n",
       "    <tr>\n",
       "      <th>153</th>\n",
       "      <td>2016-01-09</td>\n",
       "      <td>11862</td>\n",
       "      <td>11862</td>\n",
       "      <td>12000</td>\n",
       "      <td>11794</td>\n",
       "    </tr>\n",
       "    <tr>\n",
       "      <th>195</th>\n",
       "      <td>2016-01-11</td>\n",
       "      <td>11552</td>\n",
       "      <td>11621</td>\n",
       "      <td>11690</td>\n",
       "      <td>11449</td>\n",
       "    </tr>\n",
       "    <tr>\n",
       "      <th>217</th>\n",
       "      <td>2016-01-12</td>\n",
       "      <td>11173</td>\n",
       "      <td>11104</td>\n",
       "      <td>11207</td>\n",
       "      <td>11104</td>\n",
       "    </tr>\n",
       "    <tr>\n",
       "      <th>0</th>\n",
       "      <td>2016-01-20</td>\n",
       "      <td>11656</td>\n",
       "      <td>11931</td>\n",
       "      <td>11931</td>\n",
       "      <td>11656</td>\n",
       "    </tr>\n",
       "  </tbody>\n",
       "</table>\n",
       "</div>"
      ],
      "text/plain": [
       "          Date  Price   Open   High    Low\n",
       "8   2016-01-02  11794  12138  12138  11794\n",
       "24  2016-01-03  12138  12276  12414  12138\n",
       "47  2016-01-04  11242  11311  11380  11173\n",
       "87  2016-01-06  12276  12276  12414  12207\n",
       "109 2016-01-07  11725  11587  11794  11587\n",
       "130 2016-01-08  12207  12276  12276  12138\n",
       "153 2016-01-09  11862  11862  12000  11794\n",
       "195 2016-01-11  11552  11621  11690  11449\n",
       "217 2016-01-12  11173  11104  11207  11104\n",
       "0   2016-01-20  11656  11931  11931  11656"
      ]
     },
     "execution_count": 6,
     "metadata": {},
     "output_type": "execute_result"
    }
   ],
   "source": [
    "df['Date'] = pd.to_datetime(df['Date'])\n",
    "df = df.sort_values('Date')\n",
    "df.head(10)"
   ]
  },
  {
   "cell_type": "code",
   "execution_count": 7,
   "id": "3c488d0a",
   "metadata": {},
   "outputs": [],
   "source": [
    "df = pd.read_csv('VCB.csv')"
   ]
  },
  {
   "cell_type": "code",
   "execution_count": 8,
   "id": "315acc4a",
   "metadata": {},
   "outputs": [],
   "source": [
    "train_size = int(len(df) * 0.8)\n",
    "test_size = int(len(df) * 0.2)\n",
    "\n",
    "train_data = df[:train_size]\n",
    "test_data = df[train_size:train_size+test_size]"
   ]
  },
  {
   "cell_type": "code",
   "execution_count": 9,
   "id": "22742673",
   "metadata": {},
   "outputs": [
    {
     "name": "stdout",
     "output_type": "stream",
     "text": [
      "Train data shape: (1400, 5)\n",
      "Test data shape: (350, 5)\n"
     ]
    }
   ],
   "source": [
    "# In ra kích thước của các tập dữ liệu\n",
    "print(\"Train data shape:\", train_data.shape)\n",
    "print(\"Test data shape:\", test_data.shape)"
   ]
  },
  {
   "cell_type": "code",
   "execution_count": 10,
   "id": "ef98b951",
   "metadata": {},
   "outputs": [],
   "source": [
    "# Thực hiện dự đoán AQI cho các ngày trong tương lai sử dụng mô hình Vector Error Correction Model (VECM)\n",
    "# Bước 1: Kiểm tra tính ổn định của các biến sử dụng Augmented Dickey-Fuller test\n",
    "from statsmodels.tsa.stattools import adfuller\n",
    "\n",
    "def check_stationarity(data):\n",
    "    for col in data.columns:\n",
    "        result = adfuller(data[col])\n",
    "        print(f'{col}:')\n",
    "        print('ADF Statistic: %f' % result[0])\n",
    "        print('p-value: %f' % result[1])\n",
    "        print('Critical Values:')\n",
    "        for key, value in result[4].items():\n",
    "            print('\\t%s: %.3f' % (key, value))\n",
    "            if result[0] > result[4]['5%']:\n",
    "                print(f'{col} is non-stationary\\n')\n",
    "            else:\n",
    "                print(f'{col} is stationary\\n')"
   ]
  },
  {
   "cell_type": "code",
   "execution_count": 11,
   "id": "fbefce7b",
   "metadata": {},
   "outputs": [
    {
     "name": "stdout",
     "output_type": "stream",
     "text": [
      "Open:\n",
      "ADF Statistic: -0.438578\n",
      "p-value: 0.903456\n",
      "Critical Values:\n",
      "\t1%: -3.435\n",
      "Open is non-stationary\n",
      "\n",
      "\t5%: -2.864\n",
      "Open is non-stationary\n",
      "\n",
      "\t10%: -2.568\n",
      "Open is non-stationary\n",
      "\n",
      "High:\n",
      "ADF Statistic: -0.456246\n",
      "p-value: 0.900276\n",
      "Critical Values:\n",
      "\t1%: -3.435\n",
      "High is non-stationary\n",
      "\n",
      "\t5%: -2.864\n",
      "High is non-stationary\n",
      "\n",
      "\t10%: -2.568\n",
      "High is non-stationary\n",
      "\n",
      "Low:\n",
      "ADF Statistic: -0.477477\n",
      "p-value: 0.896337\n",
      "Critical Values:\n",
      "\t1%: -3.435\n",
      "Low is non-stationary\n",
      "\n",
      "\t5%: -2.864\n",
      "Low is non-stationary\n",
      "\n",
      "\t10%: -2.568\n",
      "Low is non-stationary\n",
      "\n"
     ]
    }
   ],
   "source": [
    "check_stationarity(train_data[['Open', 'High', 'Low']])"
   ]
  },
  {
   "cell_type": "code",
   "execution_count": 12,
   "id": "6ca725c0",
   "metadata": {},
   "outputs": [],
   "source": [
    "#Kết quả cho thấy tất cả các biến đều không ổn định, cần phải chuyển sang dữ liệu ổn định\n",
    "# Bước 2: Chuyển sang dữ liệu ổn định sử dụng first difference\n",
    "train_diff = train_data[['Open', 'High', 'Low']].diff().dropna()"
   ]
  },
  {
   "cell_type": "code",
   "execution_count": 13,
   "id": "4a7a6c0c",
   "metadata": {},
   "outputs": [],
   "source": [
    "# Kiểm tra lại tính ổn định"
   ]
  },
  {
   "cell_type": "code",
   "execution_count": 14,
   "id": "b36ab4b6",
   "metadata": {},
   "outputs": [
    {
     "name": "stdout",
     "output_type": "stream",
     "text": [
      "Open:\n",
      "ADF Statistic: -10.654486\n",
      "p-value: 0.000000\n",
      "Critical Values:\n",
      "\t1%: -3.435\n",
      "Open is stationary\n",
      "\n",
      "\t5%: -2.864\n",
      "Open is stationary\n",
      "\n",
      "\t10%: -2.568\n",
      "Open is stationary\n",
      "\n",
      "High:\n",
      "ADF Statistic: -10.598499\n",
      "p-value: 0.000000\n",
      "Critical Values:\n",
      "\t1%: -3.435\n",
      "High is stationary\n",
      "\n",
      "\t5%: -2.864\n",
      "High is stationary\n",
      "\n",
      "\t10%: -2.568\n",
      "High is stationary\n",
      "\n",
      "Low:\n",
      "ADF Statistic: -10.560356\n",
      "p-value: 0.000000\n",
      "Critical Values:\n",
      "\t1%: -3.435\n",
      "Low is stationary\n",
      "\n",
      "\t5%: -2.864\n",
      "Low is stationary\n",
      "\n",
      "\t10%: -2.568\n",
      "Low is stationary\n",
      "\n"
     ]
    }
   ],
   "source": [
    "check_stationarity(train_diff)"
   ]
  },
  {
   "cell_type": "code",
   "execution_count": 15,
   "id": "dc1b0522",
   "metadata": {},
   "outputs": [
    {
     "name": "stdout",
     "output_type": "stream",
     "text": [
      "Johansen cointegration test using trace test statistic with 5% significance level\n",
      "=====================================\n",
      "r_0 r_1 test statistic critical value\n",
      "-------------------------------------\n",
      "  0   3          3323.          29.80\n",
      "  1   3          2076.          15.49\n",
      "  2   3          905.9          3.841\n",
      "-------------------------------------\n"
     ]
    }
   ],
   "source": [
    "#Kết quả cho thấy các biến đều đã ổn định sau khi sử dụng first difference\n",
    "# Bước 3: Tìm rank của ma trận cointegration\n",
    "from statsmodels.tsa.vector_ar.vecm import select_coint_rank\n",
    "\n",
    "rank = select_coint_rank(train_diff, det_order=0, k_ar_diff=1, method='trace', signif=0.05)\n",
    "print(rank)"
   ]
  },
  {
   "cell_type": "code",
   "execution_count": 16,
   "id": "91f4d879",
   "metadata": {},
   "outputs": [
    {
     "name": "stdout",
     "output_type": "stream",
     "text": [
      "Det. terms outside the coint. relation & lagged endog. parameters for equation Open\n",
      "==============================================================================\n",
      "                 coef    std err          z      P>|z|      [0.025      0.975]\n",
      "------------------------------------------------------------------------------\n",
      "L1.Open        0.5097      0.154      3.320      0.001       0.209       0.811\n",
      "L1.High       -0.1904      0.143     -1.334      0.182      -0.470       0.089\n",
      "L1.Low        -0.1409      0.153     -0.922      0.357      -0.440       0.159\n",
      "Det. terms outside the coint. relation & lagged endog. parameters for equation High\n",
      "==============================================================================\n",
      "                 coef    std err          z      P>|z|      [0.025      0.975]\n",
      "------------------------------------------------------------------------------\n",
      "L1.Open        0.1769      0.152      1.162      0.245      -0.122       0.475\n",
      "L1.High        0.1084      0.141      0.766      0.444      -0.169       0.386\n",
      "L1.Low        -0.0978      0.152     -0.645      0.519      -0.395       0.199\n",
      "Det. terms outside the coint. relation & lagged endog. parameters for equation Low\n",
      "==============================================================================\n",
      "                 coef    std err          z      P>|z|      [0.025      0.975]\n",
      "------------------------------------------------------------------------------\n",
      "L1.Open        0.2050      0.152      1.353      0.176      -0.092       0.502\n",
      "L1.High       -0.1920      0.141     -1.363      0.173      -0.468       0.084\n",
      "L1.Low         0.1777      0.151      1.178      0.239      -0.118       0.473\n",
      "                Loading coefficients (alpha) for equation Open                \n",
      "==============================================================================\n",
      "                 coef    std err          z      P>|z|      [0.025      0.975]\n",
      "------------------------------------------------------------------------------\n",
      "ec1           -2.6733      0.264    -10.143      0.000      -3.190      -2.157\n",
      "ec2            0.8349      0.244      3.428      0.001       0.358       1.312\n",
      "ec3            0.3897      0.258      1.511      0.131      -0.116       0.895\n",
      "                Loading coefficients (alpha) for equation High                \n",
      "==============================================================================\n",
      "                 coef    std err          z      P>|z|      [0.025      0.975]\n",
      "------------------------------------------------------------------------------\n",
      "ec1           -0.6486      0.261     -2.482      0.013      -1.161      -0.136\n",
      "ec2           -1.0885      0.242     -4.506      0.000      -1.562      -0.615\n",
      "ec3            0.2696      0.256      1.054      0.292      -0.232       0.771\n",
      "                Loading coefficients (alpha) for equation Low                 \n",
      "==============================================================================\n",
      "                 coef    std err          z      P>|z|      [0.025      0.975]\n",
      "------------------------------------------------------------------------------\n",
      "ec1           -0.7676      0.260     -2.950      0.003      -1.278      -0.258\n",
      "ec2            0.8128      0.240      3.380      0.001       0.341       1.284\n",
      "ec3           -1.5211      0.255     -5.974      0.000      -2.020      -1.022\n",
      "          Cointegration relations for loading-coefficients-column 1           \n",
      "==============================================================================\n",
      "                 coef    std err          z      P>|z|      [0.025      0.975]\n",
      "------------------------------------------------------------------------------\n",
      "beta.1         1.0000          0          0      0.000       1.000       1.000\n",
      "beta.2      4.441e-16          0          0      0.000    4.44e-16    4.44e-16\n",
      "beta.3      5.551e-17          0          0      0.000    5.55e-17    5.55e-17\n",
      "const        -38.7517     68.889     -0.563      0.574    -173.771      96.268\n",
      "          Cointegration relations for loading-coefficients-column 2           \n",
      "==============================================================================\n",
      "                 coef    std err          z      P>|z|      [0.025      0.975]\n",
      "------------------------------------------------------------------------------\n",
      "beta.1              0          0          0      0.000           0           0\n",
      "beta.2         1.0000          0          0      0.000       1.000       1.000\n",
      "beta.3              0          0          0      0.000           0           0\n",
      "const        -39.2278     68.698     -0.571      0.568    -173.874      95.418\n",
      "          Cointegration relations for loading-coefficients-column 3           \n",
      "==============================================================================\n",
      "                 coef    std err          z      P>|z|      [0.025      0.975]\n",
      "------------------------------------------------------------------------------\n",
      "beta.1     -2.776e-17          0          0      0.000   -2.78e-17   -2.78e-17\n",
      "beta.2              0          0          0      0.000           0           0\n",
      "beta.3         1.0000          0          0      0.000       1.000       1.000\n",
      "const        -38.1253     67.750     -0.563      0.574    -170.913      94.662\n",
      "==============================================================================\n"
     ]
    },
    {
     "name": "stderr",
     "output_type": "stream",
     "text": [
      "C:\\Users\\ASUS\\anaconda3\\Lib\\site-packages\\statsmodels\\tsa\\base\\tsa_model.py:473: ValueWarning: An unsupported index was provided and will be ignored when e.g. forecasting.\n",
      "  self._init_dates(dates, freq)\n"
     ]
    }
   ],
   "source": [
    "# Kết quả cho thấy rank = 3, ta sẽ sử dụng rank này để xây dựng\n",
    "# Bước 4: Xây dựng mô hình VECM với rank = 3\n",
    "\n",
    "from statsmodels.tsa.vector_ar.vecm import VECM\n",
    "\n",
    "model = VECM(train_diff, k_ar_diff=1, coint_rank=3, deterministic='ci')\n",
    "results = model.fit()\n",
    "print(results.summary())"
   ]
  },
  {
   "cell_type": "code",
   "execution_count": 17,
   "id": "61a30d18",
   "metadata": {},
   "outputs": [],
   "source": [
    "# Bước 5: Dự đoán Price cho test_data\n",
    "test_diff = test_data[['Open', 'High', 'Low']].diff().dropna()\n",
    "\n",
    "pred_diff_test = results.predict(steps=len(test_data)-1, alpha=0.05)"
   ]
  },
  {
   "cell_type": "code",
   "execution_count": 18,
   "id": "2c1dd054",
   "metadata": {},
   "outputs": [
    {
     "name": "stdout",
     "output_type": "stream",
     "text": [
      "[ 76730.92056022  77661.14589997  78362.62109714 ... 186763.10202872\n",
      " 194597.3438377  202465.32254765]\n"
     ]
    }
   ],
   "source": [
    "# Bước 6: Chuyển kết quả dự đoán về dạng ban đầu\n",
    "from numpy import cumsum\n",
    "\n",
    "pred_test = test_data[['Price']].iloc[0].values + cumsum(pred_diff_test)\n",
    "\n",
    "print(pred_test)"
   ]
  },
  {
   "cell_type": "code",
   "execution_count": 19,
   "id": "d4760af8",
   "metadata": {
    "scrolled": true
   },
   "outputs": [
    {
     "name": "stdout",
     "output_type": "stream",
     "text": [
      "Root Mean Squared Error (RMSE): 8337.85\n",
      "Mean Absolute Percentage Error (MAPE): 8.68%\n",
      "Mean Absolute Error (MAE): 6585.06\n"
     ]
    }
   ],
   "source": [
    "from sklearn.metrics import mean_squared_error, mean_absolute_error\n",
    "# Bước 6.1: Đánh giá hiệu suất của mô hình\n",
    "actual_values = test_data['Price'].values\n",
    "predicted_values = pred_test[:len(test_data)]  # Ensure lengths match\n",
    "\n",
    "# Bước 6.2: Tính toán các chỉ số đánh giá\n",
    "rmse = np.sqrt(mean_squared_error(actual_values, predicted_values))\n",
    "mape = np.mean(np.abs((actual_values - predicted_values) / actual_values)) * 100\n",
    "mae = mean_absolute_error(actual_values, predicted_values)\n",
    "\n",
    "print(f'Root Mean Squared Error (RMSE): {rmse:.2f}')\n",
    "print(f'Mean Absolute Percentage Error (MAPE): {mape:.2f}%')\n",
    "print(f'Mean Absolute Error (MAE): {mae:.2f}')"
   ]
  },
  {
   "cell_type": "code",
   "execution_count": 20,
   "id": "6443af34",
   "metadata": {},
   "outputs": [],
   "source": [
    "# Bước 7: Vẽ đồ thị so sánh kết quả thực tế và dự đoán\n",
    "import matplotlib.pyplot as plt"
   ]
  },
  {
   "cell_type": "code",
   "execution_count": 21,
   "id": "3bfbd741",
   "metadata": {},
   "outputs": [
    {
     "data": {
      "image/png": "[encoded data removed]",
      "text/plain": [
       "<Figure size 1200x600 with 1 Axes>"
      ]
     },
     "metadata": {},
     "output_type": "display_data"
    }
   ],
   "source": [
    "plt.figure(figsize=(12, 6))\n",
    "plt.plot(test_data['Price'], label='Thực tế')\n",
    "plt.plot(pred_test, label='Dự đoán')\n",
    "plt.legend()\n",
    "plt.title('So sánh kết quả dự đoán và thực tế trên tập test_data')\n",
    "plt.show()"
   ]
  },
  {
   "cell_type": "code",
   "execution_count": 22,
   "id": "64b8027c",
   "metadata": {},
   "outputs": [],
   "source": [
    "from datetime import datetime, timedelta\n",
    "# Bước 8: Dự đoán Price cho tương lai\n",
    "# Chọn ngày bắt đầu và số ngày dự đoán\n",
    "start_date = datetime.strptime('2023-12-02', '%Y-%m-%d')\n",
    "num_days = 30"
   ]
  },
  {
   "cell_type": "code",
   "execution_count": 23,
   "id": "b9019fa2",
   "metadata": {},
   "outputs": [],
   "source": [
    "# Tạo DataFrame để lưu trữ kết quả dự đoán\n",
    "future_data = pd.DataFrame(index=range(num_days), columns=['date', 'Price'])"
   ]
  },
  {
   "cell_type": "code",
   "execution_count": 24,
   "id": "0ab23b74",
   "metadata": {},
   "outputs": [],
   "source": [
    "# Dự đoán và gán giá trị Price cho từng ngày trong tương lai\n",
    "prev_obs = df.tail(1)[['Open', 'High', 'Low']].values\n",
    "for i in range(num_days):\n",
    "    # Dự đoán bước sai lệch\n",
    "    pred_diff = results.predict(steps=1, alpha=0.05)\n",
    "    # Chuyển về kết quả dự đoán ban đầu\n",
    "    pred = prev_obs[0] + cumsum(pred_diff[0])\n",
    "    # Gán kết quả dự đoán cho ngày tiếp theo\n",
    "    future_data.loc[i, 'Price'] = pred[-1]\n",
    "    # Tính lại prev_obs để sử dụng cho dự đoán ngày kế tiếp\n",
    "    prev_obs = pred.reshape(1, -1)\n",
    "    # Gán ngày cho từng dòng\n",
    "    future_data.loc[i, 'date'] = (start_date + timedelta(days=i)).strftime('%Y-%m-%d')"
   ]
  },
  {
   "cell_type": "code",
   "execution_count": 25,
   "id": "340b888e",
   "metadata": {},
   "outputs": [
    {
     "name": "stdout",
     "output_type": "stream",
     "text": [
      "          date          Price\n",
      "0   2023-12-02   87220.621097\n",
      "1   2023-12-03   90641.242194\n",
      "2   2023-12-04   94061.863291\n",
      "3   2023-12-05   97482.484389\n",
      "4   2023-12-06  100903.105486\n",
      "5   2023-12-07  104323.726583\n",
      "6   2023-12-08   107744.34768\n",
      "7   2023-12-09  111164.968777\n",
      "8   2023-12-10  114585.589874\n",
      "9   2023-12-11  118006.210971\n",
      "10  2023-12-12  121426.832069\n",
      "11  2023-12-13  124847.453166\n",
      "12  2023-12-14  128268.074263\n",
      "13  2023-12-15   131688.69536\n",
      "14  2023-12-16  135109.316457\n",
      "15  2023-12-17  138529.937554\n",
      "16  2023-12-18  141950.558651\n",
      "17  2023-12-19  145371.179748\n",
      "18  2023-12-20  148791.800846\n",
      "19  2023-12-21  152212.421943\n",
      "20  2023-12-22   155633.04304\n",
      "21  2023-12-23  159053.664137\n",
      "22  2023-12-24  162474.285234\n",
      "23  2023-12-25  165894.906331\n",
      "24  2023-12-26  169315.527428\n",
      "25  2023-12-27  172736.148526\n",
      "26  2023-12-28  176156.769623\n",
      "27  2023-12-29   179577.39072\n",
      "28  2023-12-30  182998.011817\n",
      "29  2023-12-31  186418.632914\n"
     ]
    }
   ],
   "source": [
    "# In kết quả dự đoán\n",
    "print(future_data)"
   ]
  },
  {
   "cell_type": "code",
   "execution_count": 26,
   "id": "75bddee7",
   "metadata": {},
   "outputs": [],
   "source": [
    "# Bước 9: Vẽ đồ thị dự đoán Price trong tương lai\n",
    "pred_test_series = pd.Series(pred_test)"
   ]
  },
  {
   "cell_type": "code",
   "execution_count": 27,
   "id": "5774ed9c",
   "metadata": {},
   "outputs": [
    {
     "data": {
      "image/png": "[encoded data removed]",
      "text/plain": [
       "<Figure size 1200x600 with 1 Axes>"
      ]
     },
     "metadata": {},
     "output_type": "display_data"
    }
   ],
   "source": [
    "plt.figure(figsize=(12, 6))\n",
    "plt.plot(df['Price'], label='Thực tế')\n",
    "pl=pd.concat([df['Price'].iloc[:-1], pred_test_series])\n",
    "plt.plot(pl, label='Dự đoán')\n",
    "plt.plot(future_data['date'], future_data['Price'], 'ro-', label='Dự đoán tương lai')\n",
    "plt.legend()\n",
    "plt.title('Dự đoán AQI trong tương lai')\n",
    "plt.show()"
   ]
  },
  {
   "cell_type": "code",
   "execution_count": 28,
   "id": "bd7a1d8f",
   "metadata": {},
   "outputs": [],
   "source": [
    "# Bước 10: Lưu mô hình VECM\n",
    "import pickle\n",
    "\n",
    "with open('vecm_model.pkl', 'wb') as f:\n",
    "    pickle.dump(model, f)"
   ]
  },
  {
   "cell_type": "code",
   "execution_count": 29,
   "id": "f58bdc4a",
   "metadata": {},
   "outputs": [],
   "source": [
    "# Bước 11: Load mô hình VECM\n",
    "with open('vecm_model.pkl', 'rb') as f:\n",
    "    loaded_model = pickle.load(f)"
   ]
  }
 ],
 "metadata": {
  "kernelspec": {
   "display_name": "Python 3 (ipykernel)",
   "language": "python",
   "name": "python3"
  },
  "language_info": {
   "codemirror_mode": {
    "name": "ipython",
    "version": 3
   },
   "file_extension": ".py",
   "mimetype": "text/x-python",
   "name": "python",
   "nbconvert_exporter": "python",
   "pygments_lexer": "ipython3",
   "version": "3.11.4"
  }
 },
 "nbformat": 4,
 "nbformat_minor": 5
}
