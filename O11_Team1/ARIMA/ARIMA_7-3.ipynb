{
 "cells": [
  {
   "cell_type": "code",
   "execution_count": 3,
   "id": "5a4f0540-4633-476a-a03d-cfbd15a1c892",
   "metadata": {},
   "outputs": [],
   "source": [
    "# 1. Các thư viện cần thiết\n",
    "import numpy as np\n",
    "import pandas as pd\n",
    "import matplotlib.pyplot as plt\n",
    "from sklearn.preprocessing import MinMaxScaler\n",
    "from sklearn.linear_model import LinearRegression\n",
    "from sklearn.metrics import mean_squared_error, mean_absolute_error\n",
    "import math"
   ]
  },
  {
   "cell_type": "markdown",
   "id": "a7206079-33dc-454e-b37e-5686f1bf743d",
   "metadata": {},
   "source": [
    "# **ACB**"
   ]
  },
  {
   "cell_type": "code",
   "execution_count": 4,
   "id": "613f71ac-7e3f-4c10-8aae-bdf42cbad063",
   "metadata": {},
   "outputs": [],
   "source": [
    "# 2. Đọc file dữ liệu chứng khoán AAPL và chia train test theo tỉ lệ 7:3\n",
    "df = pd.read_csv('DATASET/ACB Historical Data.csv')\n"
   ]
  },
  {
   "cell_type": "code",
   "execution_count": 5,
   "id": "92bc7c10-f4c1-4992-916c-fcc59bf2bc88",
   "metadata": {},
   "outputs": [],
   "source": [
    "# Tiền xử lí dữ liệu\n",
    "# Hàm chuyển đổi \"Vol.\" từ chuỗi sang số\n",
    "def convert_volume_to_number(volume_str):\n",
    "    if volume_str[-1] == 'K':\n",
    "        return int(float(volume_str[:-1]) * 1000)\n",
    "    elif volume_str[-1] == 'M':\n",
    "        return int(float(volume_str[:-1]) * 1000000)\n",
    "    elif volume_str[-1] == 'B':\n",
    "        return int(float(volume_str[:-1]) * 1000000000)\n",
    "    else:\n",
    "        return int(volume_str)\n",
    "    \n",
    "# Áp dụng hàm chuyển đổi cho cột \"Vol.\"\n",
    "df[\"Vol.\"] = df[\"Vol.\"].apply(convert_volume_to_number)\n",
    "\n",
    "# Hàm chuyển đổi \"Change %\" từ chuỗi sang số\n",
    "def convert_change_to_number(change_str):\n",
    "    new_change = float(change_str.strip('%')) / 100\n",
    "    return new_change\n",
    "\n",
    "# Áp dụng hàm chuyển đổi cho cột \"Change %\"\n",
    "df[\"Change %\"] = df[\"Change %\"].apply(convert_change_to_number)\n",
    "\n",
    "# Hàm chuyển giá từ chuỗi sang số\n",
    "def convert_str_to_number(str):\n",
    "    return float(str.replace(',', ''))\n",
    "\n",
    "# Áp dụng hàm chuyển đổi cho các cột giá trị\n",
    "df['Price'] = df['Price'].apply(convert_str_to_number)\n",
    "df['Open'] = df['Open'].apply(convert_str_to_number)\n",
    "df['High'] = df['High'].apply(convert_str_to_number)\n",
    "df['Low'] = df['Low'].apply(convert_str_to_number)"
   ]
  },
  {
   "cell_type": "code",
   "execution_count": 6,
   "id": "f43c42f2-48ea-445e-b2d7-ab9c03ea5bac",
   "metadata": {},
   "outputs": [],
   "source": [
    "df = df[['Price']]\n",
    "df = df.dropna() # Drop missing values\n",
    "df = df.reset_index(drop=True) # Reset the index\n",
    "\n",
    "# Split the data into training, testing, and validation sets\n",
    "train_size = int(0.7 * len(df))\n",
    "test_size = int(0.3 * len(df))\n",
    "\n",
    "train_data = df[:train_size]\n",
    "test_data = df[train_size:train_size+test_size]"
   ]
  },
  {
   "cell_type": "code",
   "execution_count": 7,
   "id": "d993e228-a7d4-4089-970c-2b6b8e2c0de5",
   "metadata": {},
   "outputs": [
    {
     "name": "stdout",
     "output_type": "stream",
     "text": [
      "Performing stepwise search to minimize aic\n",
      " ARIMA(2,1,2)(0,0,0)[0] intercept   : AIC=15322.834, Time=0.22 sec\n",
      " ARIMA(0,1,0)(0,0,0)[0] intercept   : AIC=15326.634, Time=0.02 sec\n",
      " ARIMA(1,1,0)(0,0,0)[0] intercept   : AIC=15326.544, Time=0.03 sec\n",
      " ARIMA(0,1,1)(0,0,0)[0] intercept   : AIC=15326.853, Time=0.04 sec\n",
      " ARIMA(0,1,0)(0,0,0)[0]             : AIC=15326.939, Time=0.01 sec\n",
      " ARIMA(1,1,2)(0,0,0)[0] intercept   : AIC=15320.859, Time=0.13 sec\n",
      " ARIMA(0,1,2)(0,0,0)[0] intercept   : AIC=15321.008, Time=0.06 sec\n",
      " ARIMA(1,1,1)(0,0,0)[0] intercept   : AIC=15321.327, Time=0.22 sec\n",
      " ARIMA(1,1,3)(0,0,0)[0] intercept   : AIC=15322.745, Time=0.38 sec\n",
      " ARIMA(0,1,3)(0,0,0)[0] intercept   : AIC=15321.066, Time=0.08 sec\n",
      " ARIMA(2,1,1)(0,0,0)[0] intercept   : AIC=15320.657, Time=0.24 sec\n",
      " ARIMA(2,1,0)(0,0,0)[0] intercept   : AIC=15320.526, Time=0.05 sec\n",
      " ARIMA(3,1,0)(0,0,0)[0] intercept   : AIC=15320.293, Time=0.06 sec\n",
      " ARIMA(4,1,0)(0,0,0)[0] intercept   : AIC=15322.069, Time=0.08 sec\n",
      " ARIMA(3,1,1)(0,0,0)[0] intercept   : AIC=15319.628, Time=0.51 sec\n",
      " ARIMA(4,1,1)(0,0,0)[0] intercept   : AIC=15321.624, Time=0.64 sec\n",
      " ARIMA(3,1,2)(0,0,0)[0] intercept   : AIC=15324.086, Time=0.41 sec\n",
      " ARIMA(4,1,2)(0,0,0)[0] intercept   : AIC=15322.664, Time=0.62 sec\n",
      " ARIMA(3,1,1)(0,0,0)[0]             : AIC=15320.591, Time=0.15 sec\n",
      "\n",
      "Best model:  ARIMA(3,1,1)(0,0,0)[0] intercept\n",
      "Total fit time: 3.946 seconds\n"
     ]
    },
    {
     "data": {
      "text/html": [
       "<style>#sk-container-id-1 {color: black;}#sk-container-id-1 pre{padding: 0;}#sk-container-id-1 div.sk-toggleable {background-color: white;}#sk-container-id-1 label.sk-toggleable__label {cursor: pointer;display: block;width: 100%;margin-bottom: 0;padding: 0.3em;box-sizing: border-box;text-align: center;}#sk-container-id-1 label.sk-toggleable__label-arrow:before {content: \"▸\";float: left;margin-right: 0.25em;color: #696969;}#sk-container-id-1 label.sk-toggleable__label-arrow:hover:before {color: black;}#sk-container-id-1 div.sk-estimator:hover label.sk-toggleable__label-arrow:before {color: black;}#sk-container-id-1 div.sk-toggleable__content {max-height: 0;max-width: 0;overflow: hidden;text-align: left;background-color: #f0f8ff;}#sk-container-id-1 div.sk-toggleable__content pre {margin: 0.2em;color: black;border-radius: 0.25em;background-color: #f0f8ff;}#sk-container-id-1 input.sk-toggleable__control:checked~div.sk-toggleable__content {max-height: 200px;max-width: 100%;overflow: auto;}#sk-container-id-1 input.sk-toggleable__control:checked~label.sk-toggleable__label-arrow:before {content: \"▾\";}#sk-container-id-1 div.sk-estimator input.sk-toggleable__control:checked~label.sk-toggleable__label {background-color: #d4ebff;}#sk-container-id-1 div.sk-label input.sk-toggleable__control:checked~label.sk-toggleable__label {background-color: #d4ebff;}#sk-container-id-1 input.sk-hidden--visually {border: 0;clip: rect(1px 1px 1px 1px);clip: rect(1px, 1px, 1px, 1px);height: 1px;margin: -1px;overflow: hidden;padding: 0;position: absolute;width: 1px;}#sk-container-id-1 div.sk-estimator {font-family: monospace;background-color: #f0f8ff;border: 1px dotted black;border-radius: 0.25em;box-sizing: border-box;margin-bottom: 0.5em;}#sk-container-id-1 div.sk-estimator:hover {background-color: #d4ebff;}#sk-container-id-1 div.sk-parallel-item::after {content: \"\";width: 100%;border-bottom: 1px solid gray;flex-grow: 1;}#sk-container-id-1 div.sk-label:hover label.sk-toggleable__label {background-color: #d4ebff;}#sk-container-id-1 div.sk-serial::before {content: \"\";position: absolute;border-left: 1px solid gray;box-sizing: border-box;top: 0;bottom: 0;left: 50%;z-index: 0;}#sk-container-id-1 div.sk-serial {display: flex;flex-direction: column;align-items: center;background-color: white;padding-right: 0.2em;padding-left: 0.2em;position: relative;}#sk-container-id-1 div.sk-item {position: relative;z-index: 1;}#sk-container-id-1 div.sk-parallel {display: flex;align-items: stretch;justify-content: center;background-color: white;position: relative;}#sk-container-id-1 div.sk-item::before, #sk-container-id-1 div.sk-parallel-item::before {content: \"\";position: absolute;border-left: 1px solid gray;box-sizing: border-box;top: 0;bottom: 0;left: 50%;z-index: -1;}#sk-container-id-1 div.sk-parallel-item {display: flex;flex-direction: column;z-index: 1;position: relative;background-color: white;}#sk-container-id-1 div.sk-parallel-item:first-child::after {align-self: flex-end;width: 50%;}#sk-container-id-1 div.sk-parallel-item:last-child::after {align-self: flex-start;width: 50%;}#sk-container-id-1 div.sk-parallel-item:only-child::after {width: 0;}#sk-container-id-1 div.sk-dashed-wrapped {border: 1px dashed gray;margin: 0 0.4em 0.5em 0.4em;box-sizing: border-box;padding-bottom: 0.4em;background-color: white;}#sk-container-id-1 div.sk-label label {font-family: monospace;font-weight: bold;display: inline-block;line-height: 1.2em;}#sk-container-id-1 div.sk-label-container {text-align: center;}#sk-container-id-1 div.sk-container {/* jupyter's `normalize.less` sets `[hidden] { display: none; }` but bootstrap.min.css set `[hidden] { display: none !important; }` so we also need the `!important` here to be able to override the default hidden behavior on the sphinx rendered scikit-learn.org. See: https://github.com/scikit-learn/scikit-learn/issues/21755 */display: inline-block !important;position: relative;}#sk-container-id-1 div.sk-text-repr-fallback {display: none;}</style><div id=\"sk-container-id-1\" class=\"sk-top-container\"><div class=\"sk-text-repr-fallback\"><pre> ARIMA(3,1,1)(0,0,0)[0] intercept</pre><b>In a Jupyter environment, please rerun this cell to show the HTML representation or trust the notebook. <br />On GitHub, the HTML representation is unable to render, please try loading this page with nbviewer.org.</b></div><div class=\"sk-container\" hidden><div class=\"sk-item\"><div class=\"sk-estimator sk-toggleable\"><input class=\"sk-toggleable__control sk-hidden--visually\" id=\"sk-estimator-id-1\" type=\"checkbox\" checked><label for=\"sk-estimator-id-1\" class=\"sk-toggleable__label sk-toggleable__label-arrow\">ARIMA</label><div class=\"sk-toggleable__content\"><pre> ARIMA(3,1,1)(0,0,0)[0] intercept</pre></div></div></div></div></div>"
      ],
      "text/plain": [
       "ARIMA(order=(3, 1, 1), scoring_args={}, suppress_warnings=True)"
      ]
     },
     "execution_count": 7,
     "metadata": {},
     "output_type": "execute_result"
    }
   ],
   "source": [
    "# 3. Quá trình Training\n",
    "x_train = np.array(train_data.index).reshape(-1, 1)\n",
    "y_train = np.array(train_data['Price'])\n",
    "\n",
    "# Find the best ARIMA model using auto_arima\n",
    "from pmdarima.arima import auto_arima\n",
    "model = auto_arima(y_train, trace=True, error_action='ignore', suppress_warnings=True)\n",
    "\n",
    "# Fit the model\n",
    "model.fit(y_train)"
   ]
  },
  {
   "cell_type": "code",
   "execution_count": 8,
   "id": "2fb3ad5a-bb95-4dc6-821e-608fcf14127c",
   "metadata": {},
   "outputs": [],
   "source": [
    "# 4. Quá trình testing \n",
    "x_test = np.array(test_data.index).reshape(-1, 1)\n",
    "y_test = np.array(test_data['Price'])\n",
    "y_pred = model.predict(n_periods=len(y_test))"
   ]
  },
  {
   "cell_type": "code",
   "execution_count": 9,
   "id": "6bfcab17-6fc8-4303-b9b1-33a45f74680e",
   "metadata": {},
   "outputs": [
    {
     "name": "stdout",
     "output_type": "stream",
     "text": [
      "Predicted closing prices for the next 30 days:\n",
      "[27517.20038199 27606.29116208 27608.20305696 27615.91293222\n",
      " 27616.41991924 27622.07043762 27629.90701477 27640.67828677\n",
      " 27653.2178318  27667.1090165  27681.83981575 27697.12726298\n",
      " 27712.75754401 27728.60272587 27744.57857735 27760.63414136\n",
      " 27776.73764971 27792.86996786 27809.01947177 27825.17920818\n",
      " 27841.34501181 27857.51440639 27873.68592089 27889.85868502\n",
      " 27906.03218455 27922.20611635 27938.38030196 27954.55463645\n",
      " 27970.72905822 27986.90353112]\n"
     ]
    }
   ],
   "source": [
    "# 5. Quá trình tạo index predict 30 ngày tiếp theo\n",
    "last_index =  df.index[-1]\n",
    "last_data = pd.RangeIndex(start=last_index, stop=last_index+30, step=1)\n",
    "\n",
    "# Create an array of 30 consecutive integers starting from last_index\n",
    "x_next_30_days = np.array(range(last_index+1, last_index+31)).reshape(-1, 1)\n",
    "\n",
    "# Predict the closing prices for the next 30 days\n",
    "y_next_30_days = model.predict(n_periods=len(x_next_30_days))\n",
    "\n",
    "# Print the predicted closing prices for the next 30 days\n",
    "print('Predicted closing prices for the next 30 days:')\n",
    "print(y_next_30_days)"
   ]
  },
  {
   "cell_type": "code",
   "execution_count": 10,
   "id": "ce08e881-3d0d-4d3c-90cf-6a8ab5ea23ed",
   "metadata": {},
   "outputs": [
    {
     "name": "stdout",
     "output_type": "stream",
     "text": [
      "MAPE:  33.984755456888074\n",
      "RMSE:  8389.864099274993\n",
      "MDA:  46.902654867256636\n"
     ]
    }
   ],
   "source": [
    "# 6. Đánh giá độ chính xác test\n",
    "\n",
    "test_ape = np.abs((y_test - y_pred) / y_test)\n",
    "test_mape = np.mean(test_ape) * 100\n",
    "print('MAPE: ', test_mape)\n",
    "\n",
    "test_mse = mean_squared_error(y_test, y_pred)\n",
    "test_rmse = np.sqrt(test_mse)\n",
    "print('RMSE: ', test_rmse)\n",
    "\n",
    "# Hàm tính MDA\n",
    "def calculate_mda(y_true, y_pred):\n",
    "    y_true_diff = np.diff(y_true)\n",
    "    y_pred_diff = np.diff(y_pred)\n",
    "    correct_direction = np.sign(y_true_diff) == np.sign(y_pred_diff)\n",
    "    return np.mean(correct_direction) * 100\n",
    "\n",
    "test_mda = calculate_mda(y_test, y_pred)\n",
    "print('MDA: ', test_mda)"
   ]
  },
  {
   "cell_type": "code",
   "execution_count": 11,
   "id": "498383c1-cd5e-4314-b812-192728e8f50e",
   "metadata": {},
   "outputs": [
    {
     "data": {
      "image/png": "[encoded data removed]",
      "text/plain": [
       "<Figure size 432x288 with 1 Axes>"
      ]
     },
     "metadata": {
      "needs_background": "light"
     },
     "output_type": "display_data"
    }
   ],
   "source": [
    "# 7.Vẽ hình\n",
    "plt.plot(train_data.index, train_data['Price'])\n",
    "plt.plot(test_data.index, test_data['Price'])\n",
    "plt.plot(test_data.index, y_pred)\n",
    "plt.plot(last_data,y_next_30_days)\n",
    "plt.legend(['Train', 'Test', 'Predictions','Next30Day'])\n",
    "plt.show()"
   ]
  },
  {
   "cell_type": "markdown",
   "id": "bdfdebcc-1581-49df-8893-5f4be1114662",
   "metadata": {},
   "source": [
    "# **PVS**"
   ]
  },
  {
   "cell_type": "code",
   "execution_count": 12,
   "id": "0514e6b5-1fc7-4f80-80da-54b536ef0e0f",
   "metadata": {},
   "outputs": [],
   "source": [
    "# Đọc file dữ liệu chứng khoán AAPL và chia train test theo tỉ lệ 7:3\n",
    "df = pd.read_csv('DATASET/PVS Historical Data.csv')"
   ]
  },
  {
   "cell_type": "code",
   "execution_count": 13,
   "id": "9f6370cd-7e70-406f-9b95-cc394b101eb4",
   "metadata": {},
   "outputs": [],
   "source": [
    "# Tiền xử lí dữ liệu\n",
    "# Hàm chuyển đổi \"Vol.\" từ chuỗi sang số\n",
    "def convert_volume_to_number(volume_str):\n",
    "    if volume_str[-1] == 'K':\n",
    "        return int(float(volume_str[:-1]) * 1000)\n",
    "    elif volume_str[-1] == 'M':\n",
    "        return int(float(volume_str[:-1]) * 1000000)\n",
    "    elif volume_str[-1] == 'B':\n",
    "        return int(float(volume_str[:-1]) * 1000000000)\n",
    "    else:\n",
    "        return int(volume_str)\n",
    "    \n",
    "# Áp dụng hàm chuyển đổi cho cột \"Vol.\"\n",
    "df[\"Vol.\"] = df[\"Vol.\"].apply(convert_volume_to_number)\n",
    "\n",
    "# Hàm chuyển đổi \"Change %\" từ chuỗi sang số\n",
    "def convert_change_to_number(change_str):\n",
    "    new_change = float(change_str.strip('%')) / 100\n",
    "    return new_change\n",
    "\n",
    "# Áp dụng hàm chuyển đổi cho cột \"Change %\"\n",
    "df[\"Change %\"] = df[\"Change %\"].apply(convert_change_to_number)\n",
    "\n",
    "# Hàm chuyển giá từ chuỗi sang số\n",
    "def convert_str_to_number(str):\n",
    "    return float(str.replace(',', ''))\n",
    "\n",
    "# Áp dụng hàm chuyển đổi cho các cột giá trị\n",
    "df['Price'] = df['Price'].apply(convert_str_to_number)\n",
    "df['Open'] = df['Open'].apply(convert_str_to_number)\n",
    "df['High'] = df['High'].apply(convert_str_to_number)\n",
    "df['Low'] = df['Low'].apply(convert_str_to_number)\n"
   ]
  },
  {
   "cell_type": "code",
   "execution_count": 14,
   "id": "32289cf1-918b-4f29-a5d7-e6a8b4210aff",
   "metadata": {},
   "outputs": [],
   "source": [
    "df = df[['Price']]\n",
    "df = df.dropna() # Drop missing values\n",
    "df = df.reset_index(drop=True) # Reset the index\n",
    "\n",
    "# Split the data into training, testing, and validation sets\n",
    "train_size = int(0.7 * len(df))\n",
    "test_size = int(0.3 * len(df))\n",
    "\n",
    "train_data = df[:train_size]\n",
    "test_data = df[train_size:train_size+test_size]\n"
   ]
  },
  {
   "cell_type": "code",
   "execution_count": 15,
   "id": "53a47241-a203-4b01-97d6-5f0341624f1a",
   "metadata": {},
   "outputs": [
    {
     "name": "stdout",
     "output_type": "stream",
     "text": [
      "Performing stepwise search to minimize aic\n",
      " ARIMA(2,1,2)(0,0,0)[0] intercept   : AIC=inf, Time=0.38 sec\n",
      " ARIMA(0,1,0)(0,0,0)[0] intercept   : AIC=16658.288, Time=0.01 sec\n",
      " ARIMA(1,1,0)(0,0,0)[0] intercept   : AIC=16660.274, Time=0.03 sec\n",
      " ARIMA(0,1,1)(0,0,0)[0] intercept   : AIC=16660.276, Time=0.04 sec\n",
      " ARIMA(0,1,0)(0,0,0)[0]             : AIC=16657.144, Time=0.01 sec\n",
      " ARIMA(1,1,1)(0,0,0)[0] intercept   : AIC=16662.263, Time=0.26 sec\n",
      "\n",
      "Best model:  ARIMA(0,1,0)(0,0,0)[0]          \n",
      "Total fit time: 0.737 seconds\n"
     ]
    },
    {
     "data": {
      "text/html": [
       "<style>#sk-container-id-2 {color: black;}#sk-container-id-2 pre{padding: 0;}#sk-container-id-2 div.sk-toggleable {background-color: white;}#sk-container-id-2 label.sk-toggleable__label {cursor: pointer;display: block;width: 100%;margin-bottom: 0;padding: 0.3em;box-sizing: border-box;text-align: center;}#sk-container-id-2 label.sk-toggleable__label-arrow:before {content: \"▸\";float: left;margin-right: 0.25em;color: #696969;}#sk-container-id-2 label.sk-toggleable__label-arrow:hover:before {color: black;}#sk-container-id-2 div.sk-estimator:hover label.sk-toggleable__label-arrow:before {color: black;}#sk-container-id-2 div.sk-toggleable__content {max-height: 0;max-width: 0;overflow: hidden;text-align: left;background-color: #f0f8ff;}#sk-container-id-2 div.sk-toggleable__content pre {margin: 0.2em;color: black;border-radius: 0.25em;background-color: #f0f8ff;}#sk-container-id-2 input.sk-toggleable__control:checked~div.sk-toggleable__content {max-height: 200px;max-width: 100%;overflow: auto;}#sk-container-id-2 input.sk-toggleable__control:checked~label.sk-toggleable__label-arrow:before {content: \"▾\";}#sk-container-id-2 div.sk-estimator input.sk-toggleable__control:checked~label.sk-toggleable__label {background-color: #d4ebff;}#sk-container-id-2 div.sk-label input.sk-toggleable__control:checked~label.sk-toggleable__label {background-color: #d4ebff;}#sk-container-id-2 input.sk-hidden--visually {border: 0;clip: rect(1px 1px 1px 1px);clip: rect(1px, 1px, 1px, 1px);height: 1px;margin: -1px;overflow: hidden;padding: 0;position: absolute;width: 1px;}#sk-container-id-2 div.sk-estimator {font-family: monospace;background-color: #f0f8ff;border: 1px dotted black;border-radius: 0.25em;box-sizing: border-box;margin-bottom: 0.5em;}#sk-container-id-2 div.sk-estimator:hover {background-color: #d4ebff;}#sk-container-id-2 div.sk-parallel-item::after {content: \"\";width: 100%;border-bottom: 1px solid gray;flex-grow: 1;}#sk-container-id-2 div.sk-label:hover label.sk-toggleable__label {background-color: #d4ebff;}#sk-container-id-2 div.sk-serial::before {content: \"\";position: absolute;border-left: 1px solid gray;box-sizing: border-box;top: 0;bottom: 0;left: 50%;z-index: 0;}#sk-container-id-2 div.sk-serial {display: flex;flex-direction: column;align-items: center;background-color: white;padding-right: 0.2em;padding-left: 0.2em;position: relative;}#sk-container-id-2 div.sk-item {position: relative;z-index: 1;}#sk-container-id-2 div.sk-parallel {display: flex;align-items: stretch;justify-content: center;background-color: white;position: relative;}#sk-container-id-2 div.sk-item::before, #sk-container-id-2 div.sk-parallel-item::before {content: \"\";position: absolute;border-left: 1px solid gray;box-sizing: border-box;top: 0;bottom: 0;left: 50%;z-index: -1;}#sk-container-id-2 div.sk-parallel-item {display: flex;flex-direction: column;z-index: 1;position: relative;background-color: white;}#sk-container-id-2 div.sk-parallel-item:first-child::after {align-self: flex-end;width: 50%;}#sk-container-id-2 div.sk-parallel-item:last-child::after {align-self: flex-start;width: 50%;}#sk-container-id-2 div.sk-parallel-item:only-child::after {width: 0;}#sk-container-id-2 div.sk-dashed-wrapped {border: 1px dashed gray;margin: 0 0.4em 0.5em 0.4em;box-sizing: border-box;padding-bottom: 0.4em;background-color: white;}#sk-container-id-2 div.sk-label label {font-family: monospace;font-weight: bold;display: inline-block;line-height: 1.2em;}#sk-container-id-2 div.sk-label-container {text-align: center;}#sk-container-id-2 div.sk-container {/* jupyter's `normalize.less` sets `[hidden] { display: none; }` but bootstrap.min.css set `[hidden] { display: none !important; }` so we also need the `!important` here to be able to override the default hidden behavior on the sphinx rendered scikit-learn.org. See: https://github.com/scikit-learn/scikit-learn/issues/21755 */display: inline-block !important;position: relative;}#sk-container-id-2 div.sk-text-repr-fallback {display: none;}</style><div id=\"sk-container-id-2\" class=\"sk-top-container\"><div class=\"sk-text-repr-fallback\"><pre> ARIMA(0,1,0)(0,0,0)[0]          </pre><b>In a Jupyter environment, please rerun this cell to show the HTML representation or trust the notebook. <br />On GitHub, the HTML representation is unable to render, please try loading this page with nbviewer.org.</b></div><div class=\"sk-container\" hidden><div class=\"sk-item\"><div class=\"sk-estimator sk-toggleable\"><input class=\"sk-toggleable__control sk-hidden--visually\" id=\"sk-estimator-id-2\" type=\"checkbox\" checked><label for=\"sk-estimator-id-2\" class=\"sk-toggleable__label sk-toggleable__label-arrow\">ARIMA</label><div class=\"sk-toggleable__content\"><pre> ARIMA(0,1,0)(0,0,0)[0]          </pre></div></div></div></div></div>"
      ],
      "text/plain": [
       "ARIMA(order=(0, 1, 0), scoring_args={}, suppress_warnings=True,\n",
       "      with_intercept=False)"
      ]
     },
     "execution_count": 15,
     "metadata": {},
     "output_type": "execute_result"
    }
   ],
   "source": [
    "# Quá trình Training\n",
    "x_train = np.array(train_data.index).reshape(-1, 1)\n",
    "y_train = np.array(train_data['Price'])\n",
    "\n",
    "# Find the best ARIMA model using auto_arima\n",
    "from pmdarima.arima import auto_arima\n",
    "model = auto_arima(y_train, trace=True, error_action='ignore', suppress_warnings=True)\n",
    "\n",
    "# Fit the model\n",
    "model.fit(y_train)\n"
   ]
  },
  {
   "cell_type": "code",
   "execution_count": 16,
   "id": "0b7a5fcc-1de1-45cd-89ac-5a6f82796980",
   "metadata": {},
   "outputs": [],
   "source": [
    "# Quá trình testing \n",
    "x_test = np.array(test_data.index).reshape(-1, 1)\n",
    "y_test = np.array(test_data['Price'])\n",
    "y_pred = model.predict(n_periods=len(y_test))\n"
   ]
  },
  {
   "cell_type": "code",
   "execution_count": 17,
   "id": "bb4ca409-7fe6-42b1-b49a-382885d566e0",
   "metadata": {},
   "outputs": [
    {
     "name": "stdout",
     "output_type": "stream",
     "text": [
      "Predicted closing prices for the next 30 days:\n",
      "[36092. 36092. 36092. 36092. 36092. 36092. 36092. 36092. 36092. 36092.\n",
      " 36092. 36092. 36092. 36092. 36092. 36092. 36092. 36092. 36092. 36092.\n",
      " 36092. 36092. 36092. 36092. 36092. 36092. 36092. 36092. 36092. 36092.]\n"
     ]
    }
   ],
   "source": [
    "# Quá trình tạo index predict 30 ngày tiếp theo\n",
    "last_index =  df.index[-1]\n",
    "last_data = pd.RangeIndex(start=last_index, stop=last_index+30, step=1)\n",
    "\n",
    "# Create an array of 30 consecutive integers starting from last_index\n",
    "x_next_30_days = np.array(range(last_index+1, last_index+31)).reshape(-1, 1)\n",
    "\n",
    "# Predict the closing prices for the next 30 days\n",
    "y_next_30_days = model.predict(n_periods=len(x_next_30_days))\n",
    "\n",
    "# Print the predicted closing prices for the next 30 days\n",
    "print('Predicted closing prices for the next 30 days:')\n",
    "print(y_next_30_days)\n"
   ]
  },
  {
   "cell_type": "code",
   "execution_count": 18,
   "id": "e9d564ca-cb43-4db4-9b2d-fe4cfb4b1bbe",
   "metadata": {},
   "outputs": [
    {
     "name": "stdout",
     "output_type": "stream",
     "text": [
      "MAPE:  32.530163409653696\n",
      "RMSE:  9432.25733688193\n",
      "MDA:  7.505518763796909\n"
     ]
    }
   ],
   "source": [
    "# Đánh giá độ chính xác test\n",
    "\n",
    "test_ape = np.abs((y_test - y_pred) / y_test)\n",
    "test_mape = np.mean(test_ape) * 100\n",
    "print('MAPE: ', test_mape)\n",
    "\n",
    "test_mse = mean_squared_error(y_test, y_pred)\n",
    "test_rmse = np.sqrt(test_mse)\n",
    "print('RMSE: ', test_rmse)\n",
    "\n",
    "# Hàm tính MDA\n",
    "def calculate_mda(y_true, y_pred):\n",
    "    y_true_diff = np.diff(y_true)\n",
    "    y_pred_diff = np.diff(y_pred)\n",
    "    correct_direction = np.sign(y_true_diff) == np.sign(y_pred_diff)\n",
    "    return np.mean(correct_direction) * 100\n",
    "\n",
    "test_mda = calculate_mda(y_test, y_pred)\n",
    "print('MDA: ', test_mda)"
   ]
  },
  {
   "cell_type": "code",
   "execution_count": 19,
   "id": "83f08e12-7798-4b09-9f8d-6a3c5c894f13",
   "metadata": {},
   "outputs": [
    {
     "data": {
      "image/png": "[encoded data removed]",
      "text/plain": [
       "<Figure size 432x288 with 1 Axes>"
      ]
     },
     "metadata": {
      "needs_background": "light"
     },
     "output_type": "display_data"
    }
   ],
   "source": [
    "# Vẽ hình\n",
    "plt.plot(train_data.index, train_data['Price'])\n",
    "plt.plot(test_data.index, test_data['Price'])\n",
    "plt.plot(test_data.index, y_pred)\n",
    "plt.plot(last_data,y_next_30_days)\n",
    "plt.legend(['Train', 'Test', 'Predictions','Next30Day'])\n",
    "plt.show()\n"
   ]
  },
  {
   "cell_type": "markdown",
   "id": "d9ca314a-b21b-410a-af07-1e6bdbb8ffbc",
   "metadata": {},
   "source": [
    "# **VNM**"
   ]
  },
  {
   "cell_type": "code",
   "execution_count": 20,
   "id": "8831c3a2-a0e1-4bd7-a8b8-5a6d26c2d2a8",
   "metadata": {},
   "outputs": [],
   "source": [
    "# Đọc file dữ liệu chứng khoán AAPL và chia train test theo tỉ lệ 7:3\n",
    "df = pd.read_csv('DATASET/VNM Historical Data.csv')"
   ]
  },
  {
   "cell_type": "code",
   "execution_count": 21,
   "id": "a77f6596-a71d-4800-92f8-849fabf4a2c4",
   "metadata": {},
   "outputs": [],
   "source": [
    "# Tiền xử lí dữ liệu\n",
    "# Hàm chuyển đổi \"Vol.\" từ chuỗi sang số\n",
    "def convert_volume_to_number(volume_str):\n",
    "    if volume_str[-1] == 'K':\n",
    "        return int(float(volume_str[:-1]) * 1000)\n",
    "    elif volume_str[-1] == 'M':\n",
    "        return int(float(volume_str[:-1]) * 1000000)\n",
    "    elif volume_str[-1] == 'B':\n",
    "        return int(float(volume_str[:-1]) * 1000000000)\n",
    "    else:\n",
    "        return int(volume_str)\n",
    "    \n",
    "# Áp dụng hàm chuyển đổi cho cột \"Vol.\"\n",
    "df[\"Vol.\"] = df[\"Vol.\"].apply(convert_volume_to_number)\n",
    "\n",
    "# Hàm chuyển đổi \"Change %\" từ chuỗi sang số\n",
    "def convert_change_to_number(change_str):\n",
    "    new_change = float(change_str.strip('%')) / 100\n",
    "    return new_change\n",
    "\n",
    "# Áp dụng hàm chuyển đổi cho cột \"Change %\"\n",
    "df[\"Change %\"] = df[\"Change %\"].apply(convert_change_to_number)\n",
    "\n",
    "# Hàm chuyển giá từ chuỗi sang số\n",
    "def convert_str_to_number(str):\n",
    "    return float(str.replace(',', ''))\n",
    "\n",
    "# Áp dụng hàm chuyển đổi cho các cột giá trị\n",
    "df['Price'] = df['Price'].apply(convert_str_to_number)\n",
    "df['Open'] = df['Open'].apply(convert_str_to_number)\n",
    "df['High'] = df['High'].apply(convert_str_to_number)\n",
    "df['Low'] = df['Low'].apply(convert_str_to_number)"
   ]
  },
  {
   "cell_type": "code",
   "execution_count": 22,
   "id": "b571b834-b8e4-4bc7-812a-4e0b70460a9d",
   "metadata": {},
   "outputs": [],
   "source": [
    "df = df[['Price']]\n",
    "df = df.dropna() # Drop missing values\n",
    "df = df.reset_index(drop=True) # Reset the index\n",
    "\n",
    "# Split the data into training, testing, and validation sets\n",
    "train_size = int(0.7 * len(df))\n",
    "test_size = int(0.3 * len(df))\n",
    "\n",
    "train_data = df[:train_size]\n",
    "test_data = df[train_size:train_size+test_size]"
   ]
  },
  {
   "cell_type": "code",
   "execution_count": 23,
   "id": "eab65db5-43e6-4ef8-9526-f2d10940e054",
   "metadata": {},
   "outputs": [
    {
     "name": "stdout",
     "output_type": "stream",
     "text": [
      "Performing stepwise search to minimize aic\n",
      " ARIMA(2,1,2)(0,0,0)[0] intercept   : AIC=19031.844, Time=0.49 sec\n",
      " ARIMA(0,1,0)(0,0,0)[0] intercept   : AIC=19048.422, Time=0.01 sec\n",
      " ARIMA(1,1,0)(0,0,0)[0] intercept   : AIC=19043.835, Time=0.08 sec\n",
      " ARIMA(0,1,1)(0,0,0)[0] intercept   : AIC=19043.714, Time=0.04 sec\n",
      " ARIMA(0,1,0)(0,0,0)[0]             : AIC=19048.179, Time=0.01 sec\n",
      " ARIMA(1,1,2)(0,0,0)[0] intercept   : AIC=19042.003, Time=0.17 sec\n",
      " ARIMA(2,1,1)(0,0,0)[0] intercept   : AIC=19041.454, Time=0.37 sec\n",
      " ARIMA(3,1,2)(0,0,0)[0] intercept   : AIC=19033.557, Time=0.67 sec\n",
      " ARIMA(2,1,3)(0,0,0)[0] intercept   : AIC=19034.104, Time=0.40 sec\n",
      " ARIMA(1,1,1)(0,0,0)[0] intercept   : AIC=19044.967, Time=0.13 sec\n",
      " ARIMA(1,1,3)(0,0,0)[0] intercept   : AIC=19040.118, Time=0.23 sec\n",
      " ARIMA(3,1,1)(0,0,0)[0] intercept   : AIC=19037.705, Time=0.21 sec\n",
      " ARIMA(3,1,3)(0,0,0)[0] intercept   : AIC=19027.465, Time=0.92 sec\n",
      " ARIMA(4,1,3)(0,0,0)[0] intercept   : AIC=19033.144, Time=1.10 sec\n",
      " ARIMA(3,1,4)(0,0,0)[0] intercept   : AIC=19027.682, Time=1.11 sec\n",
      " ARIMA(2,1,4)(0,0,0)[0] intercept   : AIC=19032.984, Time=0.73 sec\n",
      " ARIMA(4,1,2)(0,0,0)[0] intercept   : AIC=19032.311, Time=0.52 sec\n",
      " ARIMA(4,1,4)(0,0,0)[0] intercept   : AIC=19029.787, Time=1.26 sec\n",
      " ARIMA(3,1,3)(0,0,0)[0]             : AIC=19027.215, Time=0.71 sec\n",
      " ARIMA(2,1,3)(0,0,0)[0]             : AIC=19032.629, Time=0.49 sec\n",
      " ARIMA(3,1,2)(0,0,0)[0]             : AIC=19032.443, Time=0.26 sec\n",
      " ARIMA(4,1,3)(0,0,0)[0]             : AIC=inf, Time=0.89 sec\n",
      " ARIMA(3,1,4)(0,0,0)[0]             : AIC=19028.007, Time=0.75 sec\n",
      " ARIMA(2,1,2)(0,0,0)[0]             : AIC=19030.611, Time=0.25 sec\n",
      " ARIMA(2,1,4)(0,0,0)[0]             : AIC=19032.632, Time=0.43 sec\n",
      " ARIMA(4,1,2)(0,0,0)[0]             : AIC=19032.018, Time=0.43 sec\n",
      " ARIMA(4,1,4)(0,0,0)[0]             : AIC=19029.356, Time=0.98 sec\n",
      "\n",
      "Best model:  ARIMA(3,1,3)(0,0,0)[0]          \n",
      "Total fit time: 13.664 seconds\n"
     ]
    },
    {
     "data": {
      "text/html": [
       "<style>#sk-container-id-3 {color: black;}#sk-container-id-3 pre{padding: 0;}#sk-container-id-3 div.sk-toggleable {background-color: white;}#sk-container-id-3 label.sk-toggleable__label {cursor: pointer;display: block;width: 100%;margin-bottom: 0;padding: 0.3em;box-sizing: border-box;text-align: center;}#sk-container-id-3 label.sk-toggleable__label-arrow:before {content: \"▸\";float: left;margin-right: 0.25em;color: #696969;}#sk-container-id-3 label.sk-toggleable__label-arrow:hover:before {color: black;}#sk-container-id-3 div.sk-estimator:hover label.sk-toggleable__label-arrow:before {color: black;}#sk-container-id-3 div.sk-toggleable__content {max-height: 0;max-width: 0;overflow: hidden;text-align: left;background-color: #f0f8ff;}#sk-container-id-3 div.sk-toggleable__content pre {margin: 0.2em;color: black;border-radius: 0.25em;background-color: #f0f8ff;}#sk-container-id-3 input.sk-toggleable__control:checked~div.sk-toggleable__content {max-height: 200px;max-width: 100%;overflow: auto;}#sk-container-id-3 input.sk-toggleable__control:checked~label.sk-toggleable__label-arrow:before {content: \"▾\";}#sk-container-id-3 div.sk-estimator input.sk-toggleable__control:checked~label.sk-toggleable__label {background-color: #d4ebff;}#sk-container-id-3 div.sk-label input.sk-toggleable__control:checked~label.sk-toggleable__label {background-color: #d4ebff;}#sk-container-id-3 input.sk-hidden--visually {border: 0;clip: rect(1px 1px 1px 1px);clip: rect(1px, 1px, 1px, 1px);height: 1px;margin: -1px;overflow: hidden;padding: 0;position: absolute;width: 1px;}#sk-container-id-3 div.sk-estimator {font-family: monospace;background-color: #f0f8ff;border: 1px dotted black;border-radius: 0.25em;box-sizing: border-box;margin-bottom: 0.5em;}#sk-container-id-3 div.sk-estimator:hover {background-color: #d4ebff;}#sk-container-id-3 div.sk-parallel-item::after {content: \"\";width: 100%;border-bottom: 1px solid gray;flex-grow: 1;}#sk-container-id-3 div.sk-label:hover label.sk-toggleable__label {background-color: #d4ebff;}#sk-container-id-3 div.sk-serial::before {content: \"\";position: absolute;border-left: 1px solid gray;box-sizing: border-box;top: 0;bottom: 0;left: 50%;z-index: 0;}#sk-container-id-3 div.sk-serial {display: flex;flex-direction: column;align-items: center;background-color: white;padding-right: 0.2em;padding-left: 0.2em;position: relative;}#sk-container-id-3 div.sk-item {position: relative;z-index: 1;}#sk-container-id-3 div.sk-parallel {display: flex;align-items: stretch;justify-content: center;background-color: white;position: relative;}#sk-container-id-3 div.sk-item::before, #sk-container-id-3 div.sk-parallel-item::before {content: \"\";position: absolute;border-left: 1px solid gray;box-sizing: border-box;top: 0;bottom: 0;left: 50%;z-index: -1;}#sk-container-id-3 div.sk-parallel-item {display: flex;flex-direction: column;z-index: 1;position: relative;background-color: white;}#sk-container-id-3 div.sk-parallel-item:first-child::after {align-self: flex-end;width: 50%;}#sk-container-id-3 div.sk-parallel-item:last-child::after {align-self: flex-start;width: 50%;}#sk-container-id-3 div.sk-parallel-item:only-child::after {width: 0;}#sk-container-id-3 div.sk-dashed-wrapped {border: 1px dashed gray;margin: 0 0.4em 0.5em 0.4em;box-sizing: border-box;padding-bottom: 0.4em;background-color: white;}#sk-container-id-3 div.sk-label label {font-family: monospace;font-weight: bold;display: inline-block;line-height: 1.2em;}#sk-container-id-3 div.sk-label-container {text-align: center;}#sk-container-id-3 div.sk-container {/* jupyter's `normalize.less` sets `[hidden] { display: none; }` but bootstrap.min.css set `[hidden] { display: none !important; }` so we also need the `!important` here to be able to override the default hidden behavior on the sphinx rendered scikit-learn.org. See: https://github.com/scikit-learn/scikit-learn/issues/21755 */display: inline-block !important;position: relative;}#sk-container-id-3 div.sk-text-repr-fallback {display: none;}</style><div id=\"sk-container-id-3\" class=\"sk-top-container\"><div class=\"sk-text-repr-fallback\"><pre> ARIMA(3,1,3)(0,0,0)[0]          </pre><b>In a Jupyter environment, please rerun this cell to show the HTML representation or trust the notebook. <br />On GitHub, the HTML representation is unable to render, please try loading this page with nbviewer.org.</b></div><div class=\"sk-container\" hidden><div class=\"sk-item\"><div class=\"sk-estimator sk-toggleable\"><input class=\"sk-toggleable__control sk-hidden--visually\" id=\"sk-estimator-id-3\" type=\"checkbox\" checked><label for=\"sk-estimator-id-3\" class=\"sk-toggleable__label sk-toggleable__label-arrow\">ARIMA</label><div class=\"sk-toggleable__content\"><pre> ARIMA(3,1,3)(0,0,0)[0]          </pre></div></div></div></div></div>"
      ],
      "text/plain": [
       "ARIMA(order=(3, 1, 3), scoring_args={}, suppress_warnings=True,\n",
       "      with_intercept=False)"
      ]
     },
     "execution_count": 23,
     "metadata": {},
     "output_type": "execute_result"
    }
   ],
   "source": [
    "# Quá trình Training\n",
    "x_train = np.array(train_data.index).reshape(-1, 1)\n",
    "y_train = np.array(train_data['Price'])\n",
    "\n",
    "# Find the best ARIMA model using auto_arima\n",
    "from pmdarima.arima import auto_arima\n",
    "model = auto_arima(y_train, trace=True, error_action='ignore', suppress_warnings=True)\n",
    "\n",
    "# Fit the model\n",
    "model.fit(y_train)"
   ]
  },
  {
   "cell_type": "code",
   "execution_count": 24,
   "id": "2d858365-66a3-4fea-a4ec-75de2a4909cd",
   "metadata": {},
   "outputs": [],
   "source": [
    "# Quá trình testing \n",
    "x_test = np.array(test_data.index).reshape(-1, 1)\n",
    "y_test = np.array(test_data['Price'])\n",
    "y_pred = model.predict(n_periods=len(y_test))"
   ]
  },
  {
   "cell_type": "code",
   "execution_count": 25,
   "id": "bc6d64ee-5cfd-44e6-9573-88b7edca4d7f",
   "metadata": {},
   "outputs": [
    {
     "name": "stdout",
     "output_type": "stream",
     "text": [
      "Predicted closing prices for the next 30 days:\n",
      "[74516.92401228 74433.44079173 74510.17101444 74452.98624\n",
      " 74526.48211783 74466.42136623 74522.7510097  74461.63401265\n",
      " 74512.80806221 74460.89640302 74511.65840408 74466.37598392\n",
      " 74512.23196497 74469.27252282 74509.52074739 74469.77994039\n",
      " 74506.79295636 74471.29339354 74505.58261393 74473.37496436\n",
      " 74504.43340294 74474.78703301 74502.89963897 74475.85845914\n",
      " 74501.57496302 74477.04636452 74500.54685646 74478.18796566\n",
      " 74499.56130358 74479.14016838]\n"
     ]
    }
   ],
   "source": [
    "# Quá trình tạo index predict 30 ngày tiếp theo\n",
    "last_index =  df.index[-1]\n",
    "last_data = pd.RangeIndex(start=last_index, stop=last_index+30, step=1)\n",
    "\n",
    "# Create an array of 30 consecutive integers starting from last_index\n",
    "x_next_30_days = np.array(range(last_index+1, last_index+31)).reshape(-1, 1)\n",
    "\n",
    "# Predict the closing prices for the next 30 days\n",
    "y_next_30_days = model.predict(n_periods=len(x_next_30_days))\n",
    "\n",
    "# Print the predicted closing prices for the next 30 days\n",
    "print('Predicted closing prices for the next 30 days:')\n",
    "print(y_next_30_days)"
   ]
  },
  {
   "cell_type": "code",
   "execution_count": 26,
   "id": "9cb9fbc8-5669-4bc5-8487-91c65fa4ea4f",
   "metadata": {},
   "outputs": [
    {
     "name": "stdout",
     "output_type": "stream",
     "text": [
      "MAPE:  5.193066295737187\n",
      "RMSE:  4539.968028820638\n",
      "MDA:  47.24061810154526\n"
     ]
    }
   ],
   "source": [
    "# Đánh giá độ chính xác test\n",
    "\n",
    "test_ape = np.abs((y_test - y_pred) / y_test)\n",
    "test_mape = np.mean(test_ape) * 100\n",
    "print('MAPE: ', test_mape)\n",
    "\n",
    "test_mse = mean_squared_error(y_test, y_pred)\n",
    "test_rmse = np.sqrt(test_mse)\n",
    "print('RMSE: ', test_rmse)\n",
    "\n",
    "# Hàm tính MDA\n",
    "def calculate_mda(y_true, y_pred):\n",
    "    y_true_diff = np.diff(y_true)\n",
    "    y_pred_diff = np.diff(y_pred)\n",
    "    correct_direction = np.sign(y_true_diff) == np.sign(y_pred_diff)\n",
    "    return np.mean(correct_direction) * 100\n",
    "\n",
    "test_mda = calculate_mda(y_test, y_pred)\n",
    "print('MDA: ', test_mda)"
   ]
  },
  {
   "cell_type": "code",
   "execution_count": 27,
   "id": "bd29d091-398a-4bc2-99db-162cd67e8d9b",
   "metadata": {},
   "outputs": [
    {
     "data": {
      "image/png": "[encoded data removed]",
      "text/plain": [
       "<Figure size 432x288 with 1 Axes>"
      ]
     },
     "metadata": {
      "needs_background": "light"
     },
     "output_type": "display_data"
    }
   ],
   "source": [
    "# Vẽ hình\n",
    "plt.plot(train_data.index, train_data['Price'])\n",
    "plt.plot(test_data.index, test_data['Price'])\n",
    "plt.plot(test_data.index, y_pred)\n",
    "plt.plot(last_data,y_next_30_days)\n",
    "plt.legend(['Train', 'Test', 'Predictions','Next30Day'])\n",
    "plt.show()"
   ]
  },
  {
   "cell_type": "code",
   "execution_count": null,
   "id": "40f29a20-99ff-4e18-8299-41da4ac5cb84",
   "metadata": {},
   "outputs": [],
   "source": []
  }
 ],
 "metadata": {
  "kernelspec": {
   "display_name": "Python 3",
   "language": "python",
   "name": "python3"
  },
  "language_info": {
   "codemirror_mode": {
    "name": "ipython",
    "version": 3
   },
   "file_extension": ".py",
   "mimetype": "text/x-python",
   "name": "python",
   "nbconvert_exporter": "python",
   "pygments_lexer": "ipython3",
   "version": "3.11.5"
  }
 },
 "nbformat": 4,
 "nbformat_minor": 5
}
