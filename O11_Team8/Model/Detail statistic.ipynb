{
 "cells": [
  {
   "cell_type": "code",
   "execution_count": 3,
   "id": "2d41bb3f-f0d1-4a46-be50-41505317d90f",
   "metadata": {},
   "outputs": [],
   "source": [
    "import numpy as np\n",
    "import pandas as pd\n",
    "import statistics as st\n",
    "import matplotlib.pyplot as plt\n",
    "from scipy.stats import skew\n",
    "from scipy.stats import kurtosis"
   ]
  },
  {
   "cell_type": "code",
   "execution_count": 4,
   "id": "f1cad7a8-6f31-4aee-9570-ef430382e4ef",
   "metadata": {},
   "outputs": [
    {
     "data": {
      "text/html": [
       "<div>\n",
       "<style scoped>\n",
       "    .dataframe tbody tr th:only-of-type {\n",
       "        vertical-align: middle;\n",
       "    }\n",
       "\n",
       "    .dataframe tbody tr th {\n",
       "        vertical-align: top;\n",
       "    }\n",
       "\n",
       "    .dataframe thead th {\n",
       "        text-align: right;\n",
       "    }\n",
       "</style>\n",
       "<table border=\"1\" class=\"dataframe\">\n",
       "  <thead>\n",
       "    <tr style=\"text-align: right;\">\n",
       "      <th></th>\n",
       "      <th>Date</th>\n",
       "      <th>Price</th>\n",
       "      <th>Open</th>\n",
       "      <th>High</th>\n",
       "      <th>Low</th>\n",
       "      <th>Vol.</th>\n",
       "      <th>Change %</th>\n",
       "    </tr>\n",
       "  </thead>\n",
       "  <tbody>\n",
       "    <tr>\n",
       "      <th>0</th>\n",
       "      <td>1/27/2014</td>\n",
       "      <td>11054.8</td>\n",
       "      <td>11235.1</td>\n",
       "      <td>11295.2</td>\n",
       "      <td>10874.6</td>\n",
       "      <td>4.27M</td>\n",
       "      <td>-2.13%</td>\n",
       "    </tr>\n",
       "    <tr>\n",
       "      <th>1</th>\n",
       "      <td>2/6/2014</td>\n",
       "      <td>10574.2</td>\n",
       "      <td>10934.7</td>\n",
       "      <td>10994.8</td>\n",
       "      <td>10574.2</td>\n",
       "      <td>1.26M</td>\n",
       "      <td>-4.35%</td>\n",
       "    </tr>\n",
       "    <tr>\n",
       "      <th>2</th>\n",
       "      <td>2/7/2014</td>\n",
       "      <td>9973.4</td>\n",
       "      <td>10454.0</td>\n",
       "      <td>10514.1</td>\n",
       "      <td>9913.3</td>\n",
       "      <td>3.93M</td>\n",
       "      <td>-5.68%</td>\n",
       "    </tr>\n",
       "    <tr>\n",
       "      <th>3</th>\n",
       "      <td>2/10/2014</td>\n",
       "      <td>10213.7</td>\n",
       "      <td>9913.3</td>\n",
       "      <td>10333.9</td>\n",
       "      <td>9733.1</td>\n",
       "      <td>5.33M</td>\n",
       "      <td>2.41%</td>\n",
       "    </tr>\n",
       "    <tr>\n",
       "      <th>4</th>\n",
       "      <td>2/11/2014</td>\n",
       "      <td>10153.6</td>\n",
       "      <td>10333.9</td>\n",
       "      <td>10333.9</td>\n",
       "      <td>10153.6</td>\n",
       "      <td>2.55M</td>\n",
       "      <td>-0.59%</td>\n",
       "    </tr>\n",
       "    <tr>\n",
       "      <th>...</th>\n",
       "      <td>...</td>\n",
       "      <td>...</td>\n",
       "      <td>...</td>\n",
       "      <td>...</td>\n",
       "      <td>...</td>\n",
       "      <td>...</td>\n",
       "      <td>...</td>\n",
       "    </tr>\n",
       "    <tr>\n",
       "      <th>2466</th>\n",
       "      <td>12/15/2023</td>\n",
       "      <td>41500.0</td>\n",
       "      <td>41450.0</td>\n",
       "      <td>41700.0</td>\n",
       "      <td>41250.0</td>\n",
       "      <td>562.00K</td>\n",
       "      <td>-0.24%</td>\n",
       "    </tr>\n",
       "    <tr>\n",
       "      <th>2467</th>\n",
       "      <td>12/18/2023</td>\n",
       "      <td>41000.0</td>\n",
       "      <td>41050.0</td>\n",
       "      <td>41500.0</td>\n",
       "      <td>40500.0</td>\n",
       "      <td>678.40K</td>\n",
       "      <td>-1.20%</td>\n",
       "    </tr>\n",
       "    <tr>\n",
       "      <th>2468</th>\n",
       "      <td>12/19/2023</td>\n",
       "      <td>41200.0</td>\n",
       "      <td>41000.0</td>\n",
       "      <td>41500.0</td>\n",
       "      <td>40550.0</td>\n",
       "      <td>823.30K</td>\n",
       "      <td>0.49%</td>\n",
       "    </tr>\n",
       "    <tr>\n",
       "      <th>2469</th>\n",
       "      <td>12/20/2023</td>\n",
       "      <td>41300.0</td>\n",
       "      <td>41900.0</td>\n",
       "      <td>42000.0</td>\n",
       "      <td>40800.0</td>\n",
       "      <td>1.02M</td>\n",
       "      <td>0.24%</td>\n",
       "    </tr>\n",
       "    <tr>\n",
       "      <th>2470</th>\n",
       "      <td>12/21/2023</td>\n",
       "      <td>41800.0</td>\n",
       "      <td>40900.0</td>\n",
       "      <td>41900.0</td>\n",
       "      <td>40900.0</td>\n",
       "      <td>1.14M</td>\n",
       "      <td>1.21%</td>\n",
       "    </tr>\n",
       "  </tbody>\n",
       "</table>\n",
       "<p>2471 rows × 7 columns</p>\n",
       "</div>"
      ],
      "text/plain": [
       "            Date    Price     Open     High      Low     Vol. Change %\n",
       "0      1/27/2014  11054.8  11235.1  11295.2  10874.6    4.27M   -2.13%\n",
       "1       2/6/2014  10574.2  10934.7  10994.8  10574.2    1.26M   -4.35%\n",
       "2       2/7/2014   9973.4  10454.0  10514.1   9913.3    3.93M   -5.68%\n",
       "3      2/10/2014  10213.7   9913.3  10333.9   9733.1    5.33M    2.41%\n",
       "4      2/11/2014  10153.6  10333.9  10333.9  10153.6    2.55M   -0.59%\n",
       "...          ...      ...      ...      ...      ...      ...      ...\n",
       "2466  12/15/2023  41500.0  41450.0  41700.0  41250.0  562.00K   -0.24%\n",
       "2467  12/18/2023  41000.0  41050.0  41500.0  40500.0  678.40K   -1.20%\n",
       "2468  12/19/2023  41200.0  41000.0  41500.0  40550.0  823.30K    0.49%\n",
       "2469  12/20/2023  41300.0  41900.0  42000.0  40800.0    1.02M    0.24%\n",
       "2470  12/21/2023  41800.0  40900.0  41900.0  40900.0    1.14M    1.21%\n",
       "\n",
       "[2471 rows x 7 columns]"
      ]
     },
     "execution_count": 4,
     "metadata": {},
     "output_type": "execute_result"
    }
   ],
   "source": [
    "df = pd.read_csv(r'D:\\BID.csv')\n",
    "df"
   ]
  },
  {
   "cell_type": "code",
   "execution_count": 5,
   "id": "9402f0ec-968c-493c-a3d7-99255b06191d",
   "metadata": {},
   "outputs": [
    {
     "name": "stdout",
     "output_type": "stream",
     "text": [
      "Count: \t\t2471\n",
      "Minimum: \t8006.4\n",
      "Maximum: \t49100.0\n"
     ]
    }
   ],
   "source": [
    "#Caculate count, max, min\n",
    "count = df['Price'].count()\n",
    "minimum = df['Price'].min()\n",
    "maximum = df['Price'].max()\n",
    "print(f\"Count: \\t\\t{count}\")\n",
    "print(f\"Minimum: \\t{minimum}\")\n",
    "print(f\"Maximum: \\t{maximum}\")"
   ]
  },
  {
   "cell_type": "code",
   "execution_count": 4,
   "id": "c941e27a-e464-49d9-bbc5-4726fbe38016",
   "metadata": {},
   "outputs": [
    {
     "data": {
      "text/plain": [
       "25249.127923917444"
      ]
     },
     "execution_count": 4,
     "metadata": {},
     "output_type": "execute_result"
    }
   ],
   "source": [
    "#Caculate mean\n",
    "st.mean(df.Price)"
   ]
  },
  {
   "cell_type": "code",
   "execution_count": 5,
   "id": "98ec0e69-af22-4b6c-8944-623e102c18e5",
   "metadata": {},
   "outputs": [
    {
     "data": {
      "text/plain": [
       "26021.7"
      ]
     },
     "execution_count": 5,
     "metadata": {},
     "output_type": "execute_result"
    }
   ],
   "source": [
    "#Caculate median\n",
    "st.median(df.Price)"
   ]
  },
  {
   "cell_type": "code",
   "execution_count": 6,
   "id": "07234aa8-e06b-4648-b62c-632a90eddb95",
   "metadata": {},
   "outputs": [
    {
     "data": {
      "text/plain": [
       "8952.0"
      ]
     },
     "execution_count": 6,
     "metadata": {},
     "output_type": "execute_result"
    }
   ],
   "source": [
    "#Caculate mode\n",
    "st.mode(df.Price)"
   ]
  },
  {
   "cell_type": "code",
   "execution_count": 7,
   "id": "1dc20d4b-b679-4d00-b0e5-9d428b8617c5",
   "metadata": {},
   "outputs": [
    {
     "data": {
      "text/plain": [
       "12786.55"
      ]
     },
     "execution_count": 7,
     "metadata": {},
     "output_type": "execute_result"
    }
   ],
   "source": [
    "#Caculate quantile\n",
    "np.quantile(df.Price,0.25)"
   ]
  },
  {
   "cell_type": "code",
   "execution_count": 8,
   "id": "160749ae-e8d3-4330-83db-07457eb3b559",
   "metadata": {},
   "outputs": [
    {
     "data": {
      "text/plain": [
       "26021.7"
      ]
     },
     "execution_count": 8,
     "metadata": {},
     "output_type": "execute_result"
    }
   ],
   "source": [
    "np.quantile(df.Price,0.5)"
   ]
  },
  {
   "cell_type": "code",
   "execution_count": 9,
   "id": "fe7b0f77-d662-439e-83b8-d8f535ef0d8f",
   "metadata": {},
   "outputs": [
    {
     "data": {
      "text/plain": [
       "34268.9"
      ]
     },
     "execution_count": 9,
     "metadata": {},
     "output_type": "execute_result"
    }
   ],
   "source": [
    "np.quantile(df.Price,0.75)"
   ]
  },
  {
   "cell_type": "code",
   "execution_count": 10,
   "id": "90f878cd-722f-42d4-83fa-8d3e5f291812",
   "metadata": {},
   "outputs": [
    {
     "data": {
      "text/plain": [
       "139279076.05121183"
      ]
     },
     "execution_count": 10,
     "metadata": {},
     "output_type": "execute_result"
    }
   ],
   "source": [
    "#Caculate variance\n",
    "st.variance(df.Price)"
   ]
  },
  {
   "cell_type": "code",
   "execution_count": 11,
   "id": "b4d99d52-1e0b-48c5-894a-946ec8b75f46",
   "metadata": {},
   "outputs": [
    {
     "data": {
      "text/plain": [
       "11801.655648730472"
      ]
     },
     "execution_count": 11,
     "metadata": {},
     "output_type": "execute_result"
    }
   ],
   "source": [
    "#Caculate standard deviation\n",
    "st.stdev(df.Price)"
   ]
  },
  {
   "cell_type": "code",
   "execution_count": 12,
   "id": "0959af09-f79e-4cea-94ce-a417176f442d",
   "metadata": {},
   "outputs": [
    {
     "data": {
      "text/plain": [
       "0.14487872512715483"
      ]
     },
     "execution_count": 12,
     "metadata": {},
     "output_type": "execute_result"
    }
   ],
   "source": [
    "#Skewness\n",
    "skew(df.Price)"
   ]
  },
  {
   "cell_type": "code",
   "execution_count": 13,
   "id": "6268f740-87ff-4523-9723-6da0efe4f21c",
   "metadata": {},
   "outputs": [
    {
     "data": {
      "text/plain": [
       "-1.2560811902100406"
      ]
     },
     "execution_count": 13,
     "metadata": {},
     "output_type": "execute_result"
    }
   ],
   "source": [
    "#Kurtosis\n",
    "kurtosis(df.Price)"
   ]
  },
  {
   "cell_type": "code",
   "execution_count": 14,
   "id": "9cfff6b9-14a0-4834-8600-6cc06bda36ba",
   "metadata": {},
   "outputs": [
    {
     "name": "stdout",
     "output_type": "stream",
     "text": [
      "Covariance of Price: 139279076.05121183\n"
     ]
    }
   ],
   "source": [
    "# Tính covariance matrix\n",
    "cov_matrix = np.cov(df['Price'], rowvar=False)\n",
    "\n",
    "# Lấy giá trị covariance từ ma trận covariance\n",
    "covariance_price = cov_matrix.item()\n",
    "\n",
    "print(f'Covariance of Price: {covariance_price}')"
   ]
  },
  {
   "cell_type": "code",
   "execution_count": 41,
   "id": "f2fb0b2c-5475-4168-b4f5-8a37f1215703",
   "metadata": {},
   "outputs": [
    {
     "data": {
      "image/png": "[encoded data removed]",
      "text/plain": [
       "<Figure size 1500x400 with 2 Axes>"
      ]
     },
     "metadata": {},
     "output_type": "display_data"
    }
   ],
   "source": [
    "# Tạo lưới với 1 hàng và 2 cột\n",
    "fig, (ax1, ax2) = plt.subplots(1, 2, figsize=(15, 4))\n",
    "\n",
    "# Vẽ histogram vào ô thứ nhất\n",
    "ax1.hist(df['Price'])\n",
    "ax1.set_title('Histogram of Price')\n",
    "ax1.set_xlabel('Price')\n",
    "ax1.set_ylabel('Frequency')\n",
    "# Vẽ mean, median, 25th percentile và 75th percentile\n",
    "ax1.axvline(df['Price'].mean(), color='red', linestyle='solid', linewidth=2, label='Mean')\n",
    "ax1.axvline(df['Price'].median(), color='green', linestyle='solid', linewidth=2, label='Median')\n",
    "ax1.axvline(df['Price'].quantile(0.25), color='yellow', linestyle='dashed', linewidth=2, label='25th Percentile')\n",
    "ax1.axvline(df['Price'].quantile(0.75), color='yellow', linestyle='dashed', linewidth=2, label='75th Percentile')\n",
    "# Thêm chú thích\n",
    "ax1.legend()\n",
    "\n",
    "# Vẽ box plot vào ô thứ hai\n",
    "ax2.boxplot(df['Price'])\n",
    "ax2.set_title('Boxplot of Price')\n",
    "ax2.set_xlabel('Price')\n",
    "ax2.axhline(df['Price'].mean(), color='red', linestyle='solid', linewidth=2, label='Mean')\n",
    "ax2.legend()\n",
    "\n",
    "\n",
    "plt.show()"
   ]
  },
  {
   "cell_type": "code",
   "execution_count": 4,
   "id": "43bd657c-b42e-45d2-9a62-77f9ebbf1fd9",
   "metadata": {},
   "outputs": [
    {
     "data": {
      "text/html": [
       "<div>\n",
       "<style scoped>\n",
       "    .dataframe tbody tr th:only-of-type {\n",
       "        vertical-align: middle;\n",
       "    }\n",
       "\n",
       "    .dataframe tbody tr th {\n",
       "        vertical-align: top;\n",
       "    }\n",
       "\n",
       "    .dataframe thead th {\n",
       "        text-align: right;\n",
       "    }\n",
       "</style>\n",
       "<table border=\"1\" class=\"dataframe\">\n",
       "  <thead>\n",
       "    <tr style=\"text-align: right;\">\n",
       "      <th></th>\n",
       "      <th>Date</th>\n",
       "      <th>Price</th>\n",
       "      <th>Open</th>\n",
       "      <th>High</th>\n",
       "      <th>Low</th>\n",
       "      <th>Vol.</th>\n",
       "      <th>Change %</th>\n",
       "    </tr>\n",
       "  </thead>\n",
       "  <tbody>\n",
       "    <tr>\n",
       "      <th>0</th>\n",
       "      <td>1/27/2014</td>\n",
       "      <td>10379.9</td>\n",
       "      <td>10379.9</td>\n",
       "      <td>10502.7</td>\n",
       "      <td>10318.5</td>\n",
       "      <td>544.57K</td>\n",
       "      <td>0.00%</td>\n",
       "    </tr>\n",
       "    <tr>\n",
       "      <th>1</th>\n",
       "      <td>2/6/2014</td>\n",
       "      <td>10318.5</td>\n",
       "      <td>10318.5</td>\n",
       "      <td>10379.9</td>\n",
       "      <td>10195.6</td>\n",
       "      <td>956.13K</td>\n",
       "      <td>-0.59%</td>\n",
       "    </tr>\n",
       "    <tr>\n",
       "      <th>2</th>\n",
       "      <td>2/7/2014</td>\n",
       "      <td>10257.0</td>\n",
       "      <td>10257.0</td>\n",
       "      <td>10379.9</td>\n",
       "      <td>10195.6</td>\n",
       "      <td>739.88K</td>\n",
       "      <td>-0.60%</td>\n",
       "    </tr>\n",
       "    <tr>\n",
       "      <th>3</th>\n",
       "      <td>2/10/2014</td>\n",
       "      <td>10195.6</td>\n",
       "      <td>10195.6</td>\n",
       "      <td>10318.5</td>\n",
       "      <td>10134.2</td>\n",
       "      <td>1.47M</td>\n",
       "      <td>-0.60%</td>\n",
       "    </tr>\n",
       "    <tr>\n",
       "      <th>4</th>\n",
       "      <td>2/11/2014</td>\n",
       "      <td>10195.6</td>\n",
       "      <td>10257.0</td>\n",
       "      <td>10379.9</td>\n",
       "      <td>10134.2</td>\n",
       "      <td>1.86M</td>\n",
       "      <td>0.00%</td>\n",
       "    </tr>\n",
       "    <tr>\n",
       "      <th>...</th>\n",
       "      <td>...</td>\n",
       "      <td>...</td>\n",
       "      <td>...</td>\n",
       "      <td>...</td>\n",
       "      <td>...</td>\n",
       "      <td>...</td>\n",
       "      <td>...</td>\n",
       "    </tr>\n",
       "    <tr>\n",
       "      <th>2466</th>\n",
       "      <td>12/15/2023</td>\n",
       "      <td>26700.0</td>\n",
       "      <td>26500.0</td>\n",
       "      <td>26850.0</td>\n",
       "      <td>26350.0</td>\n",
       "      <td>3.97M</td>\n",
       "      <td>-0.19%</td>\n",
       "    </tr>\n",
       "    <tr>\n",
       "      <th>2467</th>\n",
       "      <td>12/18/2023</td>\n",
       "      <td>26050.0</td>\n",
       "      <td>26500.0</td>\n",
       "      <td>26700.0</td>\n",
       "      <td>26050.0</td>\n",
       "      <td>3.84M</td>\n",
       "      <td>-2.43%</td>\n",
       "    </tr>\n",
       "    <tr>\n",
       "      <th>2468</th>\n",
       "      <td>12/19/2023</td>\n",
       "      <td>26500.0</td>\n",
       "      <td>26100.0</td>\n",
       "      <td>26500.0</td>\n",
       "      <td>25950.0</td>\n",
       "      <td>2.31M</td>\n",
       "      <td>1.73%</td>\n",
       "    </tr>\n",
       "    <tr>\n",
       "      <th>2469</th>\n",
       "      <td>12/20/2023</td>\n",
       "      <td>26550.0</td>\n",
       "      <td>26300.0</td>\n",
       "      <td>26600.0</td>\n",
       "      <td>26200.0</td>\n",
       "      <td>2.39M</td>\n",
       "      <td>0.19%</td>\n",
       "    </tr>\n",
       "    <tr>\n",
       "      <th>2470</th>\n",
       "      <td>12/21/2023</td>\n",
       "      <td>26550.0</td>\n",
       "      <td>26400.0</td>\n",
       "      <td>26600.0</td>\n",
       "      <td>26250.0</td>\n",
       "      <td>2.58M</td>\n",
       "      <td>0.00%</td>\n",
       "    </tr>\n",
       "  </tbody>\n",
       "</table>\n",
       "<p>2471 rows × 7 columns</p>\n",
       "</div>"
      ],
      "text/plain": [
       "            Date    Price     Open     High      Low     Vol. Change %\n",
       "0      1/27/2014  10379.9  10379.9  10502.7  10318.5  544.57K    0.00%\n",
       "1       2/6/2014  10318.5  10318.5  10379.9  10195.6  956.13K   -0.59%\n",
       "2       2/7/2014  10257.0  10257.0  10379.9  10195.6  739.88K   -0.60%\n",
       "3      2/10/2014  10195.6  10195.6  10318.5  10134.2    1.47M   -0.60%\n",
       "4      2/11/2014  10195.6  10257.0  10379.9  10134.2    1.86M    0.00%\n",
       "...          ...      ...      ...      ...      ...      ...      ...\n",
       "2466  12/15/2023  26700.0  26500.0  26850.0  26350.0    3.97M   -0.19%\n",
       "2467  12/18/2023  26050.0  26500.0  26700.0  26050.0    3.84M   -2.43%\n",
       "2468  12/19/2023  26500.0  26100.0  26500.0  25950.0    2.31M    1.73%\n",
       "2469  12/20/2023  26550.0  26300.0  26600.0  26200.0    2.39M    0.19%\n",
       "2470  12/21/2023  26550.0  26400.0  26600.0  26250.0    2.58M    0.00%\n",
       "\n",
       "[2471 rows x 7 columns]"
      ]
     },
     "execution_count": 4,
     "metadata": {},
     "output_type": "execute_result"
    }
   ],
   "source": [
    "df1 = pd.read_csv(r'D:\\CTG.csv')\n",
    "df1"
   ]
  },
  {
   "cell_type": "code",
   "execution_count": 5,
   "id": "81482f27-c697-418a-9fe7-bbc3c6a6b8d8",
   "metadata": {},
   "outputs": [
    {
     "name": "stdout",
     "output_type": "stream",
     "text": [
      "Count: \t\t2471\n",
      "Minimum: \t9002.9\n",
      "Maximum: \t41141.3\n"
     ]
    }
   ],
   "source": [
    "#Caculate count, max, min\n",
    "count = df1['Price'].count()\n",
    "minimum = df1['Price'].min()\n",
    "maximum = df1['Price'].max()\n",
    "print(f\"Count: \\t\\t{count}\")\n",
    "print(f\"Minimum: \\t{minimum}\")\n",
    "print(f\"Maximum: \\t{maximum}\")"
   ]
  },
  {
   "cell_type": "code",
   "execution_count": 6,
   "id": "b893832a-7328-4311-ac60-53780d19651e",
   "metadata": {},
   "outputs": [
    {
     "data": {
      "text/plain": [
       "19293.508458114124"
      ]
     },
     "execution_count": 6,
     "metadata": {},
     "output_type": "execute_result"
    }
   ],
   "source": [
    "#Caculate mean\n",
    "st.mean(df1.Price)"
   ]
  },
  {
   "cell_type": "code",
   "execution_count": 7,
   "id": "836cabc4-a561-47cd-af8c-0a26916c8546",
   "metadata": {},
   "outputs": [
    {
     "data": {
      "text/plain": [
       "16291.2"
      ]
     },
     "execution_count": 7,
     "metadata": {},
     "output_type": "execute_result"
    }
   ],
   "source": [
    "#Caculate median\n",
    "st.median(df1.Price)"
   ]
  },
  {
   "cell_type": "code",
   "execution_count": 8,
   "id": "2019fb7c-80df-40fb-bf8b-3a95f793c6f7",
   "metadata": {},
   "outputs": [
    {
     "data": {
      "text/plain": [
       "9594.3"
      ]
     },
     "execution_count": 8,
     "metadata": {},
     "output_type": "execute_result"
    }
   ],
   "source": [
    "#Caculate mode\n",
    "st.mode(df1.Price)"
   ]
  },
  {
   "cell_type": "code",
   "execution_count": 9,
   "id": "3f05efbb-b6ae-478c-b8e6-31bada35cc29",
   "metadata": {},
   "outputs": [
    {
     "data": {
      "text/plain": [
       "12758.0"
      ]
     },
     "execution_count": 9,
     "metadata": {},
     "output_type": "execute_result"
    }
   ],
   "source": [
    "#Caculate quantile\n",
    "np.quantile(df1.Price,0.25)"
   ]
  },
  {
   "cell_type": "code",
   "execution_count": 10,
   "id": "0d323d13-a130-44a3-a618-992c877d1252",
   "metadata": {},
   "outputs": [
    {
     "data": {
      "text/plain": [
       "16291.2"
      ]
     },
     "execution_count": 10,
     "metadata": {},
     "output_type": "execute_result"
    }
   ],
   "source": [
    "np.quantile(df1.Price,0.5)"
   ]
  },
  {
   "cell_type": "code",
   "execution_count": 11,
   "id": "0f9a1e3e-1e99-4354-b3ac-1332a6793dfa",
   "metadata": {},
   "outputs": [
    {
     "data": {
      "text/plain": [
       "27000.0"
      ]
     },
     "execution_count": 11,
     "metadata": {},
     "output_type": "execute_result"
    }
   ],
   "source": [
    "np.quantile(df1.Price,0.75)"
   ]
  },
  {
   "cell_type": "code",
   "execution_count": 12,
   "id": "6de73240-085e-4112-b354-9f61ed1386b3",
   "metadata": {},
   "outputs": [
    {
     "data": {
      "text/plain": [
       "63010563.37440211"
      ]
     },
     "execution_count": 12,
     "metadata": {},
     "output_type": "execute_result"
    }
   ],
   "source": [
    "#Caculate variance\n",
    "st.variance(df1.Price)"
   ]
  },
  {
   "cell_type": "code",
   "execution_count": 13,
   "id": "920edb2c-15f5-47ae-b675-34e31e60b1a8",
   "metadata": {},
   "outputs": [
    {
     "data": {
      "text/plain": [
       "7937.919335342362"
      ]
     },
     "execution_count": 13,
     "metadata": {},
     "output_type": "execute_result"
    }
   ],
   "source": [
    "#Caculate standard deviation\n",
    "st.stdev(df1.Price)"
   ]
  },
  {
   "cell_type": "code",
   "execution_count": 14,
   "id": "a912d95d-4c17-45cd-9492-c3b54d0e35d8",
   "metadata": {},
   "outputs": [
    {
     "data": {
      "text/plain": [
       "0.6265175894099312"
      ]
     },
     "execution_count": 14,
     "metadata": {},
     "output_type": "execute_result"
    }
   ],
   "source": [
    "#Skewness\n",
    "skew(df1.Price)"
   ]
  },
  {
   "cell_type": "code",
   "execution_count": 15,
   "id": "ab741df3-50bc-47d1-83b8-87aee7e14558",
   "metadata": {},
   "outputs": [
    {
     "data": {
      "text/plain": [
       "-0.8715953164557599"
      ]
     },
     "execution_count": 15,
     "metadata": {},
     "output_type": "execute_result"
    }
   ],
   "source": [
    "#Kurtosis\n",
    "kurtosis(df1.Price)"
   ]
  },
  {
   "cell_type": "code",
   "execution_count": 16,
   "id": "e1f33f6b-1d06-4dbd-89da-be2c7630d10e",
   "metadata": {},
   "outputs": [
    {
     "name": "stdout",
     "output_type": "stream",
     "text": [
      "Covariance of Price: 63010563.37440213\n"
     ]
    }
   ],
   "source": [
    "# Tính covariance matrix\n",
    "cov_matrix = np.cov(df1['Price'], rowvar=False)\n",
    "\n",
    "# Lấy giá trị covariance từ ma trận covariance\n",
    "covariance_price = cov_matrix.item()\n",
    "\n",
    "print(f'Covariance of Price: {covariance_price}')"
   ]
  },
  {
   "cell_type": "code",
   "execution_count": 27,
   "id": "8e3540cd-50f5-4595-b5fe-0280e09222e8",
   "metadata": {},
   "outputs": [
    {
     "data": {
      "image/png": "[encoded data removed]",
      "text/plain": [
       "<Figure size 1500x400 with 2 Axes>"
      ]
     },
     "metadata": {},
     "output_type": "display_data"
    }
   ],
   "source": [
    "# Tạo lưới với 1 hàng và 2 cột\n",
    "fig, (ax1, ax2) = plt.subplots(1, 2, figsize=(15, 4))\n",
    "\n",
    "# Vẽ histogram vào ô thứ nhất\n",
    "ax1.hist(df1['Price'])\n",
    "ax1.set_title('Histogram of Price')\n",
    "ax1.set_xlabel('Price')\n",
    "ax1.set_ylabel('Frequency')\n",
    "# Vẽ mean, median, 25th percentile và 75th percentile\n",
    "ax1.axvline(df1['Price'].mean(), color='red', linestyle='solid', linewidth=2, label='Mean')\n",
    "ax1.axvline(df1['Price'].median(), color='green', linestyle='solid', linewidth=2, label='Median')\n",
    "ax1.axvline(df1['Price'].quantile(0.25), color='yellow', linestyle='dashed', linewidth=2, label='25th Percentile')\n",
    "ax1.axvline(df1['Price'].quantile(0.75), color='yellow', linestyle='dashed', linewidth=2, label='75th Percentile')\n",
    "# Thêm chú thích\n",
    "ax1.legend()\n",
    "\n",
    "# Vẽ box plot vào ô thứ hai\n",
    "ax2.boxplot(df1['Price'])\n",
    "ax2.set_title('Boxplot of Price')\n",
    "ax2.set_xlabel('Price')\n",
    "ax2.axhline(df1['Price'].mean(), color='red', linestyle='solid', linewidth=2, label='Mean')\n",
    "ax2.legend()\n",
    "\n",
    "\n",
    "plt.show()"
   ]
  },
  {
   "cell_type": "code",
   "execution_count": 16,
   "id": "219a3d8b-4257-45b3-9ca8-4816d278f30b",
   "metadata": {},
   "outputs": [
    {
     "data": {
      "text/html": [
       "<div>\n",
       "<style scoped>\n",
       "    .dataframe tbody tr th:only-of-type {\n",
       "        vertical-align: middle;\n",
       "    }\n",
       "\n",
       "    .dataframe tbody tr th {\n",
       "        vertical-align: top;\n",
       "    }\n",
       "\n",
       "    .dataframe thead th {\n",
       "        text-align: right;\n",
       "    }\n",
       "</style>\n",
       "<table border=\"1\" class=\"dataframe\">\n",
       "  <thead>\n",
       "    <tr style=\"text-align: right;\">\n",
       "      <th></th>\n",
       "      <th>Date</th>\n",
       "      <th>Price</th>\n",
       "      <th>Open</th>\n",
       "      <th>High</th>\n",
       "      <th>Low</th>\n",
       "      <th>Vol.</th>\n",
       "      <th>Change %</th>\n",
       "    </tr>\n",
       "  </thead>\n",
       "  <tbody>\n",
       "    <tr>\n",
       "      <th>0</th>\n",
       "      <td>1/27/2014</td>\n",
       "      <td>15385</td>\n",
       "      <td>15385.0</td>\n",
       "      <td>15385.0</td>\n",
       "      <td>15231.0</td>\n",
       "      <td>381.39K</td>\n",
       "      <td>-0.98%</td>\n",
       "    </tr>\n",
       "    <tr>\n",
       "      <th>1</th>\n",
       "      <td>2/6/2014</td>\n",
       "      <td>16154</td>\n",
       "      <td>15538.0</td>\n",
       "      <td>16231.0</td>\n",
       "      <td>15385.0</td>\n",
       "      <td>683.29K</td>\n",
       "      <td>5.00%</td>\n",
       "    </tr>\n",
       "    <tr>\n",
       "      <th>2</th>\n",
       "      <td>2/7/2014</td>\n",
       "      <td>15846</td>\n",
       "      <td>16154.0</td>\n",
       "      <td>16231.0</td>\n",
       "      <td>15846.0</td>\n",
       "      <td>552.32K</td>\n",
       "      <td>-1.91%</td>\n",
       "    </tr>\n",
       "    <tr>\n",
       "      <th>3</th>\n",
       "      <td>2/10/2014</td>\n",
       "      <td>16000</td>\n",
       "      <td>15923.0</td>\n",
       "      <td>16000.0</td>\n",
       "      <td>15846.0</td>\n",
       "      <td>386.28K</td>\n",
       "      <td>0.97%</td>\n",
       "    </tr>\n",
       "    <tr>\n",
       "      <th>4</th>\n",
       "      <td>2/11/2014</td>\n",
       "      <td>15769</td>\n",
       "      <td>16000.0</td>\n",
       "      <td>16077.0</td>\n",
       "      <td>15769.0</td>\n",
       "      <td>689.08K</td>\n",
       "      <td>-1.44%</td>\n",
       "    </tr>\n",
       "    <tr>\n",
       "      <th>...</th>\n",
       "      <td>...</td>\n",
       "      <td>...</td>\n",
       "      <td>...</td>\n",
       "      <td>...</td>\n",
       "      <td>...</td>\n",
       "      <td>...</td>\n",
       "      <td>...</td>\n",
       "    </tr>\n",
       "    <tr>\n",
       "      <th>2466</th>\n",
       "      <td>12/15/2023</td>\n",
       "      <td>27100</td>\n",
       "      <td>27100.0</td>\n",
       "      <td>27450.0</td>\n",
       "      <td>27050.0</td>\n",
       "      <td>12.86M</td>\n",
       "      <td>0.00%</td>\n",
       "    </tr>\n",
       "    <tr>\n",
       "      <th>2467</th>\n",
       "      <td>12/18/2023</td>\n",
       "      <td>26300</td>\n",
       "      <td>27100.0</td>\n",
       "      <td>27200.0</td>\n",
       "      <td>26300.0</td>\n",
       "      <td>21.73M</td>\n",
       "      <td>-2.95%</td>\n",
       "    </tr>\n",
       "    <tr>\n",
       "      <th>2468</th>\n",
       "      <td>12/19/2023</td>\n",
       "      <td>26600</td>\n",
       "      <td>26300.0</td>\n",
       "      <td>26600.0</td>\n",
       "      <td>25850.0</td>\n",
       "      <td>18.26M</td>\n",
       "      <td>1.14%</td>\n",
       "    </tr>\n",
       "    <tr>\n",
       "      <th>2469</th>\n",
       "      <td>12/20/2023</td>\n",
       "      <td>26950</td>\n",
       "      <td>26700.0</td>\n",
       "      <td>26950.0</td>\n",
       "      <td>26450.0</td>\n",
       "      <td>8.22M</td>\n",
       "      <td>1.32%</td>\n",
       "    </tr>\n",
       "    <tr>\n",
       "      <th>2470</th>\n",
       "      <td>12/21/2023</td>\n",
       "      <td>26600</td>\n",
       "      <td>26750.0</td>\n",
       "      <td>26850.0</td>\n",
       "      <td>26500.0</td>\n",
       "      <td>10.02M</td>\n",
       "      <td>-1.30%</td>\n",
       "    </tr>\n",
       "  </tbody>\n",
       "</table>\n",
       "<p>2471 rows × 7 columns</p>\n",
       "</div>"
      ],
      "text/plain": [
       "            Date  Price     Open     High      Low     Vol. Change %\n",
       "0      1/27/2014  15385  15385.0  15385.0  15231.0  381.39K   -0.98%\n",
       "1       2/6/2014  16154  15538.0  16231.0  15385.0  683.29K    5.00%\n",
       "2       2/7/2014  15846  16154.0  16231.0  15846.0  552.32K   -1.91%\n",
       "3      2/10/2014  16000  15923.0  16000.0  15846.0  386.28K    0.97%\n",
       "4      2/11/2014  15769  16000.0  16077.0  15769.0  689.08K   -1.44%\n",
       "...          ...    ...      ...      ...      ...      ...      ...\n",
       "2466  12/15/2023  27100  27100.0  27450.0  27050.0   12.86M    0.00%\n",
       "2467  12/18/2023  26300  27100.0  27200.0  26300.0   21.73M   -2.95%\n",
       "2468  12/19/2023  26600  26300.0  26600.0  25850.0   18.26M    1.14%\n",
       "2469  12/20/2023  26950  26700.0  26950.0  26450.0    8.22M    1.32%\n",
       "2470  12/21/2023  26600  26750.0  26850.0  26500.0   10.02M   -1.30%\n",
       "\n",
       "[2471 rows x 7 columns]"
      ]
     },
     "execution_count": 16,
     "metadata": {},
     "output_type": "execute_result"
    }
   ],
   "source": [
    "df2 = pd.read_csv(r'D:\\STB.csv')\n",
    "df2"
   ]
  },
  {
   "cell_type": "code",
   "execution_count": 17,
   "id": "e920dbe1-167a-4bd2-97fd-545277ac78d4",
   "metadata": {},
   "outputs": [
    {
     "name": "stdout",
     "output_type": "stream",
     "text": [
      "Count: \t\t2471\n",
      "Minimum: \t8006.4\n",
      "Maximum: \t49100.0\n"
     ]
    }
   ],
   "source": [
    "#Caculate count, max, min\n",
    "count = df['Price'].count()\n",
    "minimum = df['Price'].min()\n",
    "maximum = df['Price'].max()\n",
    "print(f\"Count: \\t\\t{count}\")\n",
    "print(f\"Minimum: \\t{minimum}\")\n",
    "print(f\"Maximum: \\t{maximum}\")"
   ]
  },
  {
   "cell_type": "code",
   "execution_count": 33,
   "id": "0d370e96-348a-44b9-a5c9-6c24b498b0c6",
   "metadata": {},
   "outputs": [
    {
     "data": {
      "text/plain": [
       "16500.781060299472"
      ]
     },
     "execution_count": 33,
     "metadata": {},
     "output_type": "execute_result"
    }
   ],
   "source": [
    "#Caculate mean\n",
    "st.mean(df2.Price)"
   ]
  },
  {
   "cell_type": "code",
   "execution_count": 34,
   "id": "c34906bd-8ae3-4018-afdb-8c823d56b0f9",
   "metadata": {},
   "outputs": [
    {
     "data": {
      "text/plain": [
       "13769"
      ]
     },
     "execution_count": 34,
     "metadata": {},
     "output_type": "execute_result"
    }
   ],
   "source": [
    "#Caculate median\n",
    "st.median(df2.Price)"
   ]
  },
  {
   "cell_type": "code",
   "execution_count": 35,
   "id": "36a07e74-ddd4-446c-9af8-55e0aadd85c5",
   "metadata": {},
   "outputs": [
    {
     "data": {
      "text/plain": [
       "11200"
      ]
     },
     "execution_count": 35,
     "metadata": {},
     "output_type": "execute_result"
    }
   ],
   "source": [
    "#Caculate mode\n",
    "st.mode(df2.Price)"
   ]
  },
  {
   "cell_type": "code",
   "execution_count": 36,
   "id": "9eca2b6f-7bc3-4416-8c38-38878d8f8bf1",
   "metadata": {},
   "outputs": [
    {
     "data": {
      "text/plain": [
       "11400.0"
      ]
     },
     "execution_count": 36,
     "metadata": {},
     "output_type": "execute_result"
    }
   ],
   "source": [
    "#Caculate quantile\n",
    "np.quantile(df2.Price,0.25)"
   ]
  },
  {
   "cell_type": "code",
   "execution_count": 37,
   "id": "7dcc1d0a-1e83-4e73-8af9-2d0d8e48b9b3",
   "metadata": {},
   "outputs": [
    {
     "data": {
      "text/plain": [
       "13769.0"
      ]
     },
     "execution_count": 37,
     "metadata": {},
     "output_type": "execute_result"
    }
   ],
   "source": [
    "#Caculate quantile\n",
    "np.quantile(df2.Price,0.5)"
   ]
  },
  {
   "cell_type": "code",
   "execution_count": 38,
   "id": "83000848-a32c-4c85-b6ad-ea3d84c10264",
   "metadata": {},
   "outputs": [
    {
     "data": {
      "text/plain": [
       "21125.0"
      ]
     },
     "execution_count": 38,
     "metadata": {},
     "output_type": "execute_result"
    }
   ],
   "source": [
    "#Caculate quantile\n",
    "np.quantile(df2.Price,0.75)"
   ]
  },
  {
   "cell_type": "code",
   "execution_count": 39,
   "id": "4079386a-e719-473c-9309-4c4c102b4b1e",
   "metadata": {},
   "outputs": [
    {
     "data": {
      "text/plain": [
       "49131049.525730215"
      ]
     },
     "execution_count": 39,
     "metadata": {},
     "output_type": "execute_result"
    }
   ],
   "source": [
    "#Caculate variance\n",
    "st.variance(df2.Price)"
   ]
  },
  {
   "cell_type": "code",
   "execution_count": 40,
   "id": "dda9cfb4-7c87-4fea-874e-83606264fc76",
   "metadata": {},
   "outputs": [
    {
     "data": {
      "text/plain": [
       "7009.354430026364"
      ]
     },
     "execution_count": 40,
     "metadata": {},
     "output_type": "execute_result"
    }
   ],
   "source": [
    "#Caculate standard deviation\n",
    "st.stdev(df2.Price)"
   ]
  },
  {
   "cell_type": "code",
   "execution_count": 41,
   "id": "0b1b7114-2b11-4cf1-b403-91acfd8de763",
   "metadata": {},
   "outputs": [
    {
     "data": {
      "text/plain": [
       "1.0517958613865257"
      ]
     },
     "execution_count": 41,
     "metadata": {},
     "output_type": "execute_result"
    }
   ],
   "source": [
    "#Skewness\n",
    "skew(df2.Price)"
   ]
  },
  {
   "cell_type": "code",
   "execution_count": 42,
   "id": "15038b15-91a6-4c2b-b67b-72b45399e96e",
   "metadata": {},
   "outputs": [
    {
     "data": {
      "text/plain": [
       "-0.25007584187007303"
      ]
     },
     "execution_count": 42,
     "metadata": {},
     "output_type": "execute_result"
    }
   ],
   "source": [
    "#Kurtosis\n",
    "kurtosis(df2.Price)"
   ]
  },
  {
   "cell_type": "code",
   "execution_count": 43,
   "id": "99e69ccf-9ead-4d25-89c7-6d374aed60a1",
   "metadata": {},
   "outputs": [
    {
     "name": "stdout",
     "output_type": "stream",
     "text": [
      "Covariance of Price: 49131049.52573021\n"
     ]
    }
   ],
   "source": [
    "# Tính covariance matrix\n",
    "cov_matrix = np.cov(df2['Price'], rowvar=False)\n",
    "\n",
    "# Lấy giá trị covariance từ ma trận covariance\n",
    "covariance_price = cov_matrix.item()\n",
    "\n",
    "print(f'Covariance of Price: {covariance_price}')"
   ]
  },
  {
   "cell_type": "code",
   "execution_count": 44,
   "id": "09c80171-b6b7-48ca-bee4-b20760fc2e98",
   "metadata": {},
   "outputs": [
    {
     "data": {
      "image/png": "[encoded data removed]",
      "text/plain": [
       "<Figure size 1500x400 with 2 Axes>"
      ]
     },
     "metadata": {},
     "output_type": "display_data"
    }
   ],
   "source": [
    "# Tạo lưới với 1 hàng và 2 cột\n",
    "fig, (ax1, ax2) = plt.subplots(1, 2, figsize=(15, 4))\n",
    "\n",
    "# Vẽ histogram vào ô thứ nhất\n",
    "ax1.hist(df1['Price'])\n",
    "ax1.set_title('Histogram of Price')\n",
    "ax1.set_xlabel('Price')\n",
    "ax1.set_ylabel('Frequency')\n",
    "# Vẽ mean, median, 25th percentile và 75th percentile\n",
    "ax1.axvline(df2['Price'].mean(), color='red', linestyle='solid', linewidth=2, label='Mean')\n",
    "ax1.axvline(df2['Price'].median(), color='green', linestyle='solid', linewidth=2, label='Median')\n",
    "ax1.axvline(df2['Price'].quantile(0.25), color='yellow', linestyle='dashed', linewidth=2, label='25th Percentile')\n",
    "ax1.axvline(df2['Price'].quantile(0.75), color='yellow', linestyle='dashed', linewidth=2, label='75th Percentile')\n",
    "# Thêm chú thích\n",
    "ax1.legend()\n",
    "\n",
    "# Vẽ box plot vào ô thứ hai\n",
    "ax2.boxplot(df2['Price'])\n",
    "ax2.set_title('Boxplot of Price')\n",
    "ax2.set_xlabel('Price')\n",
    "ax2.axhline(df2['Price'].mean(), color='red', linestyle='solid', linewidth=2, label='Mean')\n",
    "ax2.legend()\n",
    "\n",
    "\n",
    "plt.show()"
   ]
  }
 ],
 "metadata": {
  "kernelspec": {
   "display_name": "Python 3 (ipykernel)",
   "language": "python",
   "name": "python3"
  },
  "language_info": {
   "codemirror_mode": {
    "name": "ipython",
    "version": 3
   },
   "file_extension": ".py",
   "mimetype": "text/x-python",
   "name": "python",
   "nbconvert_exporter": "python",
   "pygments_lexer": "ipython3",
   "version": "3.11.7"
  }
 },
 "nbformat": 4,
 "nbformat_minor": 5
}
