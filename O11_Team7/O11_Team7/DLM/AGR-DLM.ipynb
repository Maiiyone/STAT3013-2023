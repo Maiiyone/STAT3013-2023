{
 "cells": [
  {
   "cell_type": "code",
   "execution_count": 1,
   "id": "5c94abe2-6d82-43dd-9cb5-9bd126bfc82f",
   "metadata": {},
   "outputs": [],
   "source": [
    "# 1. Các thư viện cần thiết\n",
    "import pandas as pd\n",
    "import numpy as np\n",
    "from sklearn.ensemble import RandomForestRegressor\n",
    "import matplotlib.pyplot as plt\n",
    "from pydlm import dlm, trend, dynamic\n",
    "import matplotlib.pyplot as plt\n",
    "from pydlm import dlm, trend, seasonality, dynamic, autoReg, longSeason\n",
    "from sklearn.metrics import mean_squared_log_error as msle"
   ]
  },
  {
   "cell_type": "code",
   "execution_count": 2,
   "id": "005d9bcd-2203-4a81-89d2-16478ee97383",
   "metadata": {},
   "outputs": [
    {
     "data": {
      "text/html": [
       "<div>\n",
       "<style scoped>\n",
       "    .dataframe tbody tr th:only-of-type {\n",
       "        vertical-align: middle;\n",
       "    }\n",
       "\n",
       "    .dataframe tbody tr th {\n",
       "        vertical-align: top;\n",
       "    }\n",
       "\n",
       "    .dataframe thead th {\n",
       "        text-align: right;\n",
       "    }\n",
       "</style>\n",
       "<table border=\"1\" class=\"dataframe\">\n",
       "  <thead>\n",
       "    <tr style=\"text-align: right;\">\n",
       "      <th></th>\n",
       "      <th>Price</th>\n",
       "      <th>High</th>\n",
       "    </tr>\n",
       "  </thead>\n",
       "  <tbody>\n",
       "    <tr>\n",
       "      <th>0</th>\n",
       "      <td>6062.9</td>\n",
       "      <td>6200.7</td>\n",
       "    </tr>\n",
       "    <tr>\n",
       "      <th>1</th>\n",
       "      <td>5885.7</td>\n",
       "      <td>6161.3</td>\n",
       "    </tr>\n",
       "    <tr>\n",
       "      <th>2</th>\n",
       "      <td>5895.6</td>\n",
       "      <td>6053.0</td>\n",
       "    </tr>\n",
       "    <tr>\n",
       "      <th>3</th>\n",
       "      <td>5807.0</td>\n",
       "      <td>6072.7</td>\n",
       "    </tr>\n",
       "    <tr>\n",
       "      <th>4</th>\n",
       "      <td>5698.7</td>\n",
       "      <td>5915.2</td>\n",
       "    </tr>\n",
       "    <tr>\n",
       "      <th>...</th>\n",
       "      <td>...</td>\n",
       "      <td>...</td>\n",
       "    </tr>\n",
       "    <tr>\n",
       "      <th>1483</th>\n",
       "      <td>16050.0</td>\n",
       "      <td>16150.0</td>\n",
       "    </tr>\n",
       "    <tr>\n",
       "      <th>1484</th>\n",
       "      <td>15950.0</td>\n",
       "      <td>16250.0</td>\n",
       "    </tr>\n",
       "    <tr>\n",
       "      <th>1485</th>\n",
       "      <td>15800.0</td>\n",
       "      <td>16300.0</td>\n",
       "    </tr>\n",
       "    <tr>\n",
       "      <th>1486</th>\n",
       "      <td>15850.0</td>\n",
       "      <td>16100.0</td>\n",
       "    </tr>\n",
       "    <tr>\n",
       "      <th>1487</th>\n",
       "      <td>15900.0</td>\n",
       "      <td>16200.0</td>\n",
       "    </tr>\n",
       "  </tbody>\n",
       "</table>\n",
       "<p>1488 rows × 2 columns</p>\n",
       "</div>"
      ],
      "text/plain": [
       "        Price     High\n",
       "0      6062.9   6200.7\n",
       "1      5885.7   6161.3\n",
       "2      5895.6   6053.0\n",
       "3      5807.0   6072.7\n",
       "4      5698.7   5915.2\n",
       "...       ...      ...\n",
       "1483  16050.0  16150.0\n",
       "1484  15950.0  16250.0\n",
       "1485  15800.0  16300.0\n",
       "1486  15850.0  16100.0\n",
       "1487  15900.0  16200.0\n",
       "\n",
       "[1488 rows x 2 columns]"
      ]
     },
     "execution_count": 2,
     "metadata": {},
     "output_type": "execute_result"
    }
   ],
   "source": [
    "#import dataset\n",
    "df = pd.read_csv('agr.csv')\n",
    "df = df[['Price','High']]\n",
    "df = df.dropna() \n",
    "df = df.reset_index(drop=True)\n",
    "df"
   ]
  },
  {
   "cell_type": "code",
   "execution_count": 3,
   "id": "95e7a229-c59d-4cf7-9d7a-650298055c16",
   "metadata": {},
   "outputs": [],
   "source": [
    "# Split the data into training, testing, and validating sets\n",
    "train_size73 = int(0.7 * len(df))\n",
    "test_size73 = int(0.3 * len(df)) + 1\n",
    "\n",
    "train_data73 = df[:train_size73]\n",
    "test_data73 = df[train_size73:train_size73+test_size73]"
   ]
  },
  {
   "cell_type": "code",
   "execution_count": 4,
   "id": "932f527a-a60c-42e7-b5cd-4fc97fc67197",
   "metadata": {},
   "outputs": [],
   "source": [
    "import statsmodels.api as sm\n",
    "acf = sm.tsa.stattools.acf(train_data73['Price'], nlags= 700)"
   ]
  },
  {
   "cell_type": "code",
   "execution_count": 5,
   "id": "8ffe9d70-15ca-4fd1-952c-b904d226e925",
   "metadata": {},
   "outputs": [
    {
     "name": "stdout",
     "output_type": "stream",
     "text": [
      "Initializing models...\n",
      "Initialization finished.\n",
      "Starting forward filtering...\n",
      "Forward filtering completed.\n",
      "Starting backward smoothing...\n",
      "Backward smoothing completed.\n"
     ]
    }
   ],
   "source": [
    "# 4. Quá trình training\n",
    "y_train73 = np.array(train_data73['Price'])\n",
    "\n",
    "x_train73 = []\n",
    "for data in train_data73['High']:\n",
    "  x_train73.append([data])\n",
    "\n",
    "model73 = dlm(y_train73)\n",
    "model73 = model73 + trend(1, discount=0.99, name='Trend', w=1e7)\n",
    "model73 = model73 + dynamic(features=x_train73, discount=1, name='High')\n",
    "model73 = model73 + autoReg(degree=3, discount=0.99, name='ar', w=1e7)\n",
    "model73 = model73 + longSeason(period=12, stay=30, data=y_train73, name='season', w=1e7)\n",
    "\n",
    "model73.fit()"
   ]
  },
  {
   "cell_type": "code",
   "execution_count": 6,
   "id": "fd57a532-7d66-4b28-8d87-3e3c36df4465",
   "metadata": {},
   "outputs": [],
   "source": [
    "# 5. Quá trình testing\n",
    "x_test73 = []\n",
    "for data in test_data73['High']:\n",
    "  x_test73.append([data])\n",
    "\n",
    "y_test73 = np.array(test_data73['Price'])\n",
    "\n",
    "y_pred73 = model73.predictN(date = model73.n-1, N=len(x_test73),featureDict={'High': x_test73})\n",
    "y_pred73 = y_pred73[0]\n"
   ]
  },
  {
   "cell_type": "code",
   "execution_count": 7,
   "id": "fa8c7104-b8be-4924-89b4-6ee001dadc3a",
   "metadata": {},
   "outputs": [
    {
     "name": "stdout",
     "output_type": "stream",
     "text": [
      "[22237.41743201 22252.66786413 22267.91829625 22283.16872838\n",
      " 22298.4191605  22313.66959263 22328.92002475 22344.17045688\n",
      " 22359.420889   22374.67132113 22389.92175325 22405.17218538\n",
      " 22420.4226175  22435.67304962 22450.92348175 22466.17391387\n",
      " 22481.424346   22496.67477812 22511.92521025 22527.17564237\n",
      " 22542.4260745  22557.67650662 22572.92693875 22588.17737087\n",
      " 22603.42780299 22618.67823512 22633.92866724 22649.17909937\n",
      " 22664.42953149 22679.67996362]\n"
     ]
    }
   ],
   "source": [
    "#  8. Sử dụng linear regression dự báo cột high 30 ngày tiếp theo\n",
    "from sklearn.linear_model import LinearRegression\n",
    "\n",
    "ln_model73 = LinearRegression()\n",
    "\n",
    "ln_model73.fit(np.array(train_data73.index).reshape(-1,1), train_data73['High'])\n",
    "\n",
    "\n",
    "# Predict the prices for the next 30 days\n",
    "last_index73 =  df.index[-1]\n",
    "last_data73 = pd.RangeIndex(start=last_index73, stop=last_index73+30, step=1)\n",
    "\n",
    "index_next_30_days73 = np.array(range(last_index73+1, last_index73+31)).reshape(-1, 1)\n",
    "high_next_30_days73 = ln_model73.predict(index_next_30_days73)\n",
    "\n",
    "print(high_next_30_days73)\n"
   ]
  },
  {
   "cell_type": "code",
   "execution_count": 8,
   "id": "b4ef859e-5d82-4d25-b2bc-43e1cb12c09a",
   "metadata": {},
   "outputs": [
    {
     "name": "stdout",
     "output_type": "stream",
     "text": [
      "[21424.756876570133, 21299.14849095371, 21414.492998088666, 21356.959587663627, 21414.696991411496, 21407.715863523594, 21441.054288850526, 21449.24289951384, 21472.603689337873, 21385.305501600436, 21435.997994854835, 21435.586652198133, 21468.53688145438, 21477.816640729274, 21500.34867628925, 21514.76500661244, 21534.29312269861, 21550.736146668583, 21569.064799670352, 21586.23296937529, 21604.11006909262, 21621.553405988703, 21639.262543946865, 21656.80900742836, 21674.45504592335, 21692.04011454767, 21709.662507480425, 21727.262051211703, 21744.87558361057, 21762.480552185352]\n"
     ]
    }
   ],
   "source": [
    "# 9. Dự báo giá cổ phiếu 30 ngày tiếp theo\n",
    "x_next_30_days73 = []\n",
    "for data in high_next_30_days73:\n",
    "  x_next_30_days73.append([data])\n",
    "\n",
    "y_next_30_days73 = model73.predictN(N = 30, featureDict={'High': x_next_30_days73})\n",
    "y_next_30_days73 = y_next_30_days73[0]\n",
    "print(y_next_30_days73)\n"
   ]
  },
  {
   "cell_type": "code",
   "execution_count": 9,
   "id": "d0cbc28e-b2bb-4dcb-b44b-1def4b7d3848",
   "metadata": {},
   "outputs": [
    {
     "data": {
      "image/png": "[encoded data removed]",
      "text/plain": [
       "<Figure size 640x480 with 1 Axes>"
      ]
     },
     "metadata": {},
     "output_type": "display_data"
    }
   ],
   "source": [
    "# 10. Vẽ hình\n",
    "plt.plot(train_data73.index, train_data73['Price'])\n",
    "plt.plot(test_data73.index, test_data73['Price'])\n",
    "plt.plot(test_data73.index, y_pred73)\n",
    "plt.plot(last_data73,y_next_30_days73)\n",
    "plt.legend(['Train', 'Test', 'Predictions','Next30Day'])\n",
    "plt.show()"
   ]
  },
  {
   "cell_type": "code",
   "execution_count": 10,
   "id": "addd377b-2747-4e53-be7c-04d900b03816",
   "metadata": {},
   "outputs": [],
   "source": [
    "# Split the data into training, testing, and validating sets\n",
    "train_size82 = int(0.8 * len(df))\n",
    "test_size82 = int(0.2 * len(df)) \n",
    "\n",
    "train_data82 = df[:train_size82]\n",
    "test_data82 = df[train_size82:train_size82+test_size82]"
   ]
  },
  {
   "cell_type": "code",
   "execution_count": 11,
   "id": "43006f92-890b-43e5-bba6-2997df505f95",
   "metadata": {},
   "outputs": [],
   "source": [
    "import statsmodels.api as sm\n",
    "acf = sm.tsa.stattools.acf(train_data82['Price'], nlags= 700)"
   ]
  },
  {
   "cell_type": "code",
   "execution_count": 12,
   "id": "c3fd9082-84cc-4e0b-836e-498ba7aaceaa",
   "metadata": {},
   "outputs": [
    {
     "name": "stdout",
     "output_type": "stream",
     "text": [
      "Initializing models...\n",
      "Initialization finished.\n",
      "Starting forward filtering...\n",
      "Forward filtering completed.\n",
      "Starting backward smoothing...\n",
      "Backward smoothing completed.\n"
     ]
    }
   ],
   "source": [
    "# 4. Quá trình training\n",
    "y_train82 = np.array(train_data82['Price'])\n",
    "\n",
    "x_train82 = []\n",
    "for data in train_data82['High']:\n",
    "  x_train82.append([data])\n",
    "\n",
    "model82 = dlm(y_train82)\n",
    "model82 = model82 + trend(1, discount=0.99, name='Trend', w=1e7)\n",
    "model82 = model82 + dynamic(features=x_train82, discount=1, name='High')\n",
    "model82 = model82 + autoReg(degree=3, discount=0.99, name='ar', w=1e7)\n",
    "model82 = model82 + longSeason(period=12, stay=30, data=y_train82, name='season', w=1e7)\n",
    "\n",
    "model82.fit()"
   ]
  },
  {
   "cell_type": "code",
   "execution_count": 13,
   "id": "d16c8664-cbed-4f73-9231-8464aa70ea09",
   "metadata": {},
   "outputs": [],
   "source": [
    "# 5. Quá trình testing\n",
    "x_test82= []\n",
    "for data in test_data82['High']:\n",
    "  x_test82.append([data])\n",
    "\n",
    "y_test82 = np.array(test_data82['Price'])\n",
    "\n",
    "y_pred82 = model82.predictN(date = model82.n-1, N=len(x_test82),featureDict={'High': x_test82})\n",
    "y_pred82 = y_pred82[0]\n"
   ]
  },
  {
   "cell_type": "code",
   "execution_count": 14,
   "id": "c9894df9-63da-4a9d-9473-9f1fda232216",
   "metadata": {},
   "outputs": [
    {
     "name": "stdout",
     "output_type": "stream",
     "text": [
      "[20144.76548302 20158.115712   20171.46594099 20184.81616998\n",
      " 20198.16639897 20211.51662796 20224.86685694 20238.21708593\n",
      " 20251.56731492 20264.91754391 20278.26777289 20291.61800188\n",
      " 20304.96823087 20318.31845986 20331.66868885 20345.01891783\n",
      " 20358.36914682 20371.71937581 20385.0696048  20398.41983379\n",
      " 20411.77006277 20425.12029176 20438.47052075 20451.82074974\n",
      " 20465.17097873 20478.52120771 20491.8714367  20505.22166569\n",
      " 20518.57189468 20531.92212366]\n"
     ]
    }
   ],
   "source": [
    "#  8. Sử dụng linear regression dự báo cột high 30 ngày tiếp theo\n",
    "from sklearn.linear_model import LinearRegression\n",
    "\n",
    "ln_model82 = LinearRegression()\n",
    "\n",
    "ln_model82.fit(np.array(train_data82.index).reshape(-1,1), train_data82['High'])\n",
    "\n",
    "\n",
    "# Predict the prices for the next 30 days\n",
    "last_index82 =  df.index[-1]\n",
    "last_data82 = pd.RangeIndex(start=last_index82, stop=last_index82+30, step=1)\n",
    "\n",
    "index_next_30_days82 = np.array(range(last_index82+1, last_index82+31)).reshape(-1, 1)\n",
    "high_next_30_days82 = ln_model82.predict(index_next_30_days82)\n",
    "\n",
    "print(high_next_30_days82)\n"
   ]
  },
  {
   "cell_type": "code",
   "execution_count": 15,
   "id": "79797780-f5ef-477a-91e0-bbaf5cad3041",
   "metadata": {},
   "outputs": [
    {
     "name": "stdout",
     "output_type": "stream",
     "text": [
      "[8266.241479366065, 8031.109948997858, 8036.37309993463, 8070.018545928762, 7997.853172049074, 7978.821065978136, 7997.867448586944, 7982.965196121795, 7972.906215434574, 7982.047670337478, 7960.298229896574, 7952.793667867908, 7959.957378229739, 7958.350407613449, 7957.575246621919, 7963.371481852329, 7967.744956121543, 7971.200015019136, 7976.928429646562, 7982.891670624352, 7988.3069910016875, 7994.354140649892, 8000.728491505171, 8006.918350957052, 8013.2421265409885, 8019.742985964446, 8026.210089253903, 8032.693571014291, 8039.249111102634, 8045.810455574849]\n"
     ]
    }
   ],
   "source": [
    "# 9. Dự báo giá cổ phiếu 30 ngày tiếp theo\n",
    "x_next_30_days82 = []\n",
    "for data in high_next_30_days82:\n",
    "  x_next_30_days82.append([data])\n",
    "\n",
    "y_next_30_days82 = model82.predictN(N = 30, featureDict={'High': x_next_30_days82})\n",
    "y_next_30_days82 = y_next_30_days82[0]\n",
    "print(y_next_30_days82)\n"
   ]
  },
  {
   "cell_type": "code",
   "execution_count": 16,
   "id": "d6b4f49f-b27c-4621-8252-f306f0521c2f",
   "metadata": {},
   "outputs": [
    {
     "data": {
      "image/png": "[encoded data removed]",
      "text/plain": [
       "<Figure size 640x480 with 1 Axes>"
      ]
     },
     "metadata": {},
     "output_type": "display_data"
    }
   ],
   "source": [
    "# 10. Vẽ hình\n",
    "plt.plot(train_data82.index, train_data82['Price'])\n",
    "plt.plot(test_data82.index, test_data82['Price'])\n",
    "plt.plot(test_data82.index, y_pred82)\n",
    "plt.plot(last_data82,y_next_30_days82)\n",
    "plt.legend(['Train', 'Test', 'Predictions','Next30Day'])\n",
    "plt.show()"
   ]
  },
  {
   "cell_type": "code",
   "execution_count": 17,
   "id": "23459166-3165-454a-9406-528508843e45",
   "metadata": {},
   "outputs": [],
   "source": [
    "# Split the data into training, testing, and validating sets\n",
    "train_size91 = int(0.9 * len(df))\n",
    "test_size91 = int(0.1 * len(df)) \n",
    "\n",
    "train_data91 = df[:train_size91]\n",
    "test_data91 = df[train_size91:train_size91+test_size91]"
   ]
  },
  {
   "cell_type": "code",
   "execution_count": 18,
   "id": "55710fa0-583d-499c-bac2-25954d4fb9f4",
   "metadata": {},
   "outputs": [],
   "source": [
    "import statsmodels.api as sm\n",
    "acf = sm.tsa.stattools.acf(train_data91['Price'], nlags= 700)"
   ]
  },
  {
   "cell_type": "code",
   "execution_count": 19,
   "id": "02e91319-5d5d-483c-b51a-2cf9fa8f056d",
   "metadata": {},
   "outputs": [
    {
     "name": "stdout",
     "output_type": "stream",
     "text": [
      "Initializing models...\n",
      "Initialization finished.\n",
      "Starting forward filtering...\n",
      "Forward filtering completed.\n",
      "Starting backward smoothing...\n",
      "Backward smoothing completed.\n"
     ]
    }
   ],
   "source": [
    "# 4. Quá trình training\n",
    "y_train91 = np.array(train_data91['Price'])\n",
    "\n",
    "x_train91 = []\n",
    "for data in train_data91['High']:\n",
    "  x_train91.append([data])\n",
    "\n",
    "model91 = dlm(y_train91)\n",
    "model91 = model91 + trend(1, discount=0.99, name='Trend', w=1e7)\n",
    "model91 = model91 + dynamic(features=x_train91, discount=1, name='High')\n",
    "model91 = model91 + autoReg(degree=3, discount=0.99, name='ar', w=1e7)\n",
    "model91 = model91 + longSeason(period=12, stay=30, data=y_train91, name='season', w=1e7)\n",
    "\n",
    "model91.fit()"
   ]
  },
  {
   "cell_type": "code",
   "execution_count": 20,
   "id": "1c9e8b95-7b8b-48de-a5ea-28259f9e8d92",
   "metadata": {},
   "outputs": [],
   "source": [
    "# 5. Quá trình testing\n",
    "x_test91= []\n",
    "for data in test_data91['High']:\n",
    "  x_test91.append([data])\n",
    "\n",
    "y_test91 = np.array(test_data91['Price'])\n",
    "\n",
    "y_pred91 = model91.predictN(date = model91.n-1, N=len(x_test91),featureDict={'High': x_test91})\n",
    "y_pred91 = y_pred91[0]\n"
   ]
  },
  {
   "cell_type": "code",
   "execution_count": 21,
   "id": "113e551c-2d3e-43c3-807c-db932255199f",
   "metadata": {},
   "outputs": [
    {
     "name": "stdout",
     "output_type": "stream",
     "text": [
      "[16137.27167927 16146.88125987 16156.49084047 16166.10042107\n",
      " 16175.71000167 16185.31958227 16194.92916287 16204.53874347\n",
      " 16214.14832407 16223.75790467 16233.36748527 16242.97706587\n",
      " 16252.58664647 16262.19622707 16271.80580767 16281.41538827\n",
      " 16291.02496887 16300.63454947 16310.24413007 16319.85371067\n",
      " 16329.46329127 16339.07287187 16348.68245247 16358.29203307\n",
      " 16367.90161367 16377.51119427 16387.12077487 16396.73035547\n",
      " 16406.33993607 16415.94951667]\n"
     ]
    }
   ],
   "source": [
    "#  8. Sử dụng linear regression dự báo cột high 30 ngày tiếp theo\n",
    "from sklearn.linear_model import LinearRegression\n",
    "\n",
    "ln_model91 = LinearRegression()\n",
    "\n",
    "ln_model91.fit(np.array(train_data91.index).reshape(-1,1), train_data91['High'])\n",
    "\n",
    "\n",
    "# Predict the prices for the next 30 days\n",
    "last_index91 =  df.index[-1]\n",
    "last_data91 = pd.RangeIndex(start=last_index91, stop=last_index91+30, step=1)\n",
    "\n",
    "index_next_30_days91 = np.array(range(last_index91+1, last_index91+31)).reshape(-1, 1)\n",
    "high_next_30_days91 = ln_model91.predict(index_next_30_days91)\n",
    "\n",
    "print(high_next_30_days91)\n"
   ]
  },
  {
   "cell_type": "code",
   "execution_count": 22,
   "id": "7798382f-fd3e-4c4b-b485-4fe48d0750ab",
   "metadata": {},
   "outputs": [
    {
     "name": "stdout",
     "output_type": "stream",
     "text": [
      "[12403.733284217002, 12403.108650227085, 12457.907242251886, 12465.138976620616, 12474.323770613155, 12491.871062014827, 12500.371094029457, 12509.672545151638, 12520.145702441601, 12528.919869017602, 12537.908962583244, 11893.611485581741, 11904.807311704975, 11882.841117700451, 11766.813550824772, 11775.089572741092, 11772.12554251204, 11757.053515461772, 11765.299206067977, 11770.736402447985, 11774.965107665454, 11783.531019810587, 11791.486314298396, 11799.41700219054, 11808.14954079541, 11816.761067419086, 11825.406147194015, 11834.198949006026, 11842.969622237302, 11851.75376968692]\n"
     ]
    }
   ],
   "source": [
    "# 9. Dự báo giá cổ phiếu 30 ngày tiếp theo\n",
    "x_next_30_days91 = []\n",
    "for data in high_next_30_days91:\n",
    "  x_next_30_days91.append([data])\n",
    "\n",
    "y_next_30_days91 = model91.predictN(N = 30, featureDict={'High': x_next_30_days91})\n",
    "y_next_30_days91 = y_next_30_days91[0]\n",
    "print(y_next_30_days91)\n"
   ]
  },
  {
   "cell_type": "code",
   "execution_count": 23,
   "id": "49889f51-37a5-49ac-bd6d-a5d9855e038f",
   "metadata": {},
   "outputs": [
    {
     "name": "stdout",
     "output_type": "stream",
     "text": [
      "[12403.733284217002, 12403.108650227085, 12457.907242251886, 12465.138976620616, 12474.323770613155, 12491.871062014827, 12500.371094029457, 12509.672545151638, 12520.145702441601, 12528.919869017602, 12537.908962583244, 11893.611485581741, 11904.807311704975, 11882.841117700451, 11766.813550824772, 11775.089572741092, 11772.12554251204, 11757.053515461772, 11765.299206067977, 11770.736402447985, 11774.965107665454, 11783.531019810587, 11791.486314298396, 11799.41700219054, 11808.14954079541, 11816.761067419086, 11825.406147194015, 11834.198949006026, 11842.969622237302, 11851.75376968692]\n"
     ]
    }
   ],
   "source": [
    "# 9. Dự báo giá cổ phiếu 30 ngày tiếp theo\n",
    "x_next_30_days91 = []\n",
    "for data in high_next_30_days91:\n",
    "  x_next_30_days91.append([data])\n",
    "\n",
    "y_next_30_days91 = model91.predictN(N = 30, featureDict={'High': x_next_30_days91})\n",
    "y_next_30_days91 = y_next_30_days91[0]\n",
    "print(y_next_30_days91)\n"
   ]
  },
  {
   "cell_type": "code",
   "execution_count": 24,
   "id": "f892714f-38d2-463a-b985-50a44bf688a5",
   "metadata": {},
   "outputs": [
    {
     "data": {
      "image/png": "[encoded data removed]",
      "text/plain": [
       "<Figure size 640x480 with 1 Axes>"
      ]
     },
     "metadata": {},
     "output_type": "display_data"
    }
   ],
   "source": [
    "# 10. Vẽ hình\n",
    "plt.plot(train_data91.index, train_data91['Price'])\n",
    "plt.plot(test_data91.index, test_data91['Price'])\n",
    "plt.plot(test_data91.index, y_pred91)\n",
    "plt.plot(last_data91,y_next_30_days91)\n",
    "plt.legend(['Train', 'Test', 'Predictions','Next30Day'])\n",
    "plt.show()"
   ]
  },
  {
   "cell_type": "code",
   "execution_count": 25,
   "id": "84878df4-7bfb-4116-ad06-226e9f6994df",
   "metadata": {},
   "outputs": [],
   "source": [
    "#ACCURACY EVALUATION\n"
   ]
  },
  {
   "cell_type": "code",
   "execution_count": 26,
   "id": "ccaa7e3a-0d7a-4844-affb-e0bc0ae74409",
   "metadata": {},
   "outputs": [],
   "source": [
    "#method to calculate mape\n",
    "def calc_mape(actual, predicted):\n",
    "\n",
    "    # Convert to numpy arrays\n",
    "    actual = np.array(actual)\n",
    "    predicted = np.array(predicted)\n",
    "    \n",
    "    # Calculate absolute percentage error\n",
    "    absolute_error = np.abs((actual - predicted) / actual)\n",
    "    \n",
    "    # Handle division by zero cases\n",
    "    absolute_error[np.isinf(absolute_error)] = 0.0\n",
    "    \n",
    "    # Calculate mean absolute percentage error\n",
    "    mape = np.mean(absolute_error) * 100\n",
    "    \n",
    "    return mape"
   ]
  },
  {
   "cell_type": "code",
   "execution_count": 27,
   "id": "9f42a1ef-b64d-4924-836d-a29a13f8fec5",
   "metadata": {},
   "outputs": [
    {
     "name": "stdout",
     "output_type": "stream",
     "text": [
      "6227.113899339985\n",
      "57.126996664366494\n",
      "5926.252114599472\n",
      "0.22623106169142243\n"
     ]
    }
   ],
   "source": [
    "#accuracy evaluate 7:3\n",
    "from sklearn.metrics import mean_absolute_error as mae\n",
    "\n",
    "test_rmse73 = np.sqrt(np.mean((y_pred73 - y_test73)**2))\n",
    "test_mape73 = calc_mape(y_test73, y_pred73)\n",
    "test_mae73 = mae(y_test73, y_pred73)\n",
    "test_msle73 = msle(y_test73, y_pred73)\n",
    "\n",
    "print(test_rmse73)\n",
    "print(test_mape73)\n",
    "print(test_mae73)\n",
    "print(test_msle73)"
   ]
  },
  {
   "cell_type": "code",
   "execution_count": 28,
   "id": "96229afc-6e98-4772-9e9d-8f60677cb326",
   "metadata": {},
   "outputs": [
    {
     "name": "stdout",
     "output_type": "stream",
     "text": [
      "4481.688349741627\n",
      "24.348587142968032\n",
      "3451.2265468202277\n",
      "0.13519748594323636\n"
     ]
    }
   ],
   "source": [
    "#accuracy evaluate 8:2\n",
    "from sklearn.metrics import mean_absolute_error as mae\n",
    "\n",
    "test_rmse82 = np.sqrt(np.mean((y_pred82 - y_test82)**2))\n",
    "test_mape82 = calc_mape(y_test82, y_pred82)\n",
    "test_mae82 = mae(y_test82, y_pred82)\n",
    "test_msle82 = msle(y_test82, y_pred82)\n",
    "\n",
    "print(test_rmse82)\n",
    "print(test_mape82)\n",
    "print(test_mae82)\n",
    "print(test_msle82)"
   ]
  },
  {
   "cell_type": "code",
   "execution_count": 29,
   "id": "c3c3c0db-4334-4d03-8b71-7ddb609bae6c",
   "metadata": {},
   "outputs": [
    {
     "name": "stdout",
     "output_type": "stream",
     "text": [
      "3452.8158583906975\n",
      "18.6868163960309\n",
      "3007.729459158283\n",
      "0.05726622108301534\n"
     ]
    }
   ],
   "source": [
    "#accuracy evaluate 9:1\n",
    "from sklearn.metrics import mean_absolute_error as mae\n",
    "\n",
    "test_rmse91 = np.sqrt(np.mean((y_pred91 - y_test91)**2))\n",
    "test_mape91 = calc_mape(y_test91, y_pred91)\n",
    "test_mae91 = mae(y_test91, y_pred91)\n",
    "test_msle91 = msle(y_test91, y_pred91)\n",
    "\n",
    "print(test_rmse91)\n",
    "print(test_mape91)\n",
    "print(test_mae91)\n",
    "print(test_msle91)"
   ]
  },
  {
   "cell_type": "code",
   "execution_count": null,
   "id": "99df4694-3a50-4b8b-b185-ff0c4d6440b2",
   "metadata": {},
   "outputs": [],
   "source": []
  }
 ],
 "metadata": {
  "kernelspec": {
   "display_name": "Python 3 (ipykernel)",
   "language": "python",
   "name": "python3"
  },
  "language_info": {
   "codemirror_mode": {
    "name": "ipython",
    "version": 3
   },
   "file_extension": ".py",
   "mimetype": "text/x-python",
   "name": "python",
   "nbconvert_exporter": "python",
   "pygments_lexer": "ipython3",
   "version": "3.12.0"
  }
 },
 "nbformat": 4,
 "nbformat_minor": 5
}
