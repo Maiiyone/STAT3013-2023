{
 "cells": [
  {
   "cell_type": "code",
   "execution_count": 1,
   "id": "f31f95d2-e4ba-4ca4-b22a-90baecffd351",
   "metadata": {
    "id": "f31f95d2-e4ba-4ca4-b22a-90baecffd351"
   },
   "outputs": [],
   "source": [
    "# 1. Các thư viện cần thiết\n",
    "import pandas as pd\n",
    "import numpy as np\n",
    "from sklearn.ensemble import RandomForestRegressor\n",
    "import matplotlib.pyplot as plt\n",
    "from pydlm import dlm, trend, dynamic\n",
    "import matplotlib.pyplot as plt\n",
    "from pydlm import dlm, trend, seasonality, dynamic, autoReg, longSeason"
   ]
  },
  {
   "cell_type": "code",
   "execution_count": 2,
   "id": "c6eb57eb-7eca-4ec0-b8b0-fe3e36e7c1fb",
   "metadata": {
    "id": "c6eb57eb-7eca-4ec0-b8b0-fe3e36e7c1fb",
    "outputId": "0116a4e5-2206-4ec8-b6ab-1e88c395686d"
   },
   "outputs": [
    {
     "data": {
      "text/html": [
       "<div>\n",
       "<style scoped>\n",
       "    .dataframe tbody tr th:only-of-type {\n",
       "        vertical-align: middle;\n",
       "    }\n",
       "\n",
       "    .dataframe tbody tr th {\n",
       "        vertical-align: top;\n",
       "    }\n",
       "\n",
       "    .dataframe thead th {\n",
       "        text-align: right;\n",
       "    }\n",
       "</style>\n",
       "<table border=\"1\" class=\"dataframe\">\n",
       "  <thead>\n",
       "    <tr style=\"text-align: right;\">\n",
       "      <th></th>\n",
       "      <th>Price</th>\n",
       "      <th>High</th>\n",
       "    </tr>\n",
       "  </thead>\n",
       "  <tbody>\n",
       "    <tr>\n",
       "      <th>0</th>\n",
       "      <td>41700.0</td>\n",
       "      <td>42003.0</td>\n",
       "    </tr>\n",
       "    <tr>\n",
       "      <th>1</th>\n",
       "      <td>41624.0</td>\n",
       "      <td>42230.0</td>\n",
       "    </tr>\n",
       "    <tr>\n",
       "      <th>2</th>\n",
       "      <td>42003.0</td>\n",
       "      <td>42003.0</td>\n",
       "    </tr>\n",
       "    <tr>\n",
       "      <th>3</th>\n",
       "      <td>40942.0</td>\n",
       "      <td>41776.0</td>\n",
       "    </tr>\n",
       "    <tr>\n",
       "      <th>4</th>\n",
       "      <td>42003.0</td>\n",
       "      <td>42079.0</td>\n",
       "    </tr>\n",
       "    <tr>\n",
       "      <th>...</th>\n",
       "      <td>...</td>\n",
       "      <td>...</td>\n",
       "    </tr>\n",
       "    <tr>\n",
       "      <th>1483</th>\n",
       "      <td>84200.0</td>\n",
       "      <td>85300.0</td>\n",
       "    </tr>\n",
       "    <tr>\n",
       "      <th>1484</th>\n",
       "      <td>84200.0</td>\n",
       "      <td>84700.0</td>\n",
       "    </tr>\n",
       "    <tr>\n",
       "      <th>1485</th>\n",
       "      <td>83700.0</td>\n",
       "      <td>84500.0</td>\n",
       "    </tr>\n",
       "    <tr>\n",
       "      <th>1486</th>\n",
       "      <td>84400.0</td>\n",
       "      <td>84500.0</td>\n",
       "    </tr>\n",
       "    <tr>\n",
       "      <th>1487</th>\n",
       "      <td>82200.0</td>\n",
       "      <td>84400.0</td>\n",
       "    </tr>\n",
       "  </tbody>\n",
       "</table>\n",
       "<p>1488 rows × 2 columns</p>\n",
       "</div>"
      ],
      "text/plain": [
       "        Price     High\n",
       "0     41700.0  42003.0\n",
       "1     41624.0  42230.0\n",
       "2     42003.0  42003.0\n",
       "3     40942.0  41776.0\n",
       "4     42003.0  42079.0\n",
       "...       ...      ...\n",
       "1483  84200.0  85300.0\n",
       "1484  84200.0  84700.0\n",
       "1485  83700.0  84500.0\n",
       "1486  84400.0  84500.0\n",
       "1487  82200.0  84400.0\n",
       "\n",
       "[1488 rows x 2 columns]"
      ]
     },
     "execution_count": 2,
     "metadata": {},
     "output_type": "execute_result"
    }
   ],
   "source": [
    "#import dataset\n",
    "df = pd.read_csv('vcb.csv')\n",
    "df = df[['Price','High']]\n",
    "df = df.dropna()\n",
    "df = df.reset_index(drop=True)\n",
    "df"
   ]
  },
  {
   "cell_type": "code",
   "execution_count": 3,
   "id": "cd0ca6c7-5e39-4c92-aa99-2753303655c7",
   "metadata": {
    "id": "cd0ca6c7-5e39-4c92-aa99-2753303655c7"
   },
   "outputs": [],
   "source": [
    "#RATIO 7:3"
   ]
  },
  {
   "cell_type": "code",
   "execution_count": 4,
   "id": "42904b2f-2f96-4914-bd19-c60eaaf8ae90",
   "metadata": {
    "id": "42904b2f-2f96-4914-bd19-c60eaaf8ae90"
   },
   "outputs": [],
   "source": [
    "# split data ratio 7:3\n",
    "train_size73 = int(0.7 * len(df))\n",
    "test_size73 = int(0.3 * len(df))\n",
    "\n",
    "train_data73 = df[:train_size73]\n",
    "test_data73 = df[train_size73:train_size73+test_size73]"
   ]
  },
  {
   "cell_type": "code",
   "execution_count": 5,
   "id": "8c5e5960-b322-4492-a34f-610699c2ea57",
   "metadata": {
    "id": "8c5e5960-b322-4492-a34f-610699c2ea57"
   },
   "outputs": [],
   "source": [
    "import statsmodels.api as sm\n",
    "acf = sm.tsa.stattools.acf(train_data73['Price'], nlags= 700)"
   ]
  },
  {
   "cell_type": "code",
   "execution_count": 6,
   "id": "926c17df-cea8-4af6-ab7d-f063b2a51c68",
   "metadata": {
    "id": "926c17df-cea8-4af6-ab7d-f063b2a51c68",
    "outputId": "9d2666a2-9d63-4994-ef5a-8bb0d0f64235"
   },
   "outputs": [
    {
     "name": "stdout",
     "output_type": "stream",
     "text": [
      "Initializing models...\n",
      "Initialization finished.\n",
      "Starting forward filtering...\n",
      "Forward filtering completed.\n",
      "Starting backward smoothing...\n",
      "Backward smoothing completed.\n"
     ]
    }
   ],
   "source": [
    "# training 7:3\n",
    "y_train73 = np.array(train_data73['Price'])\n",
    "\n",
    "x_train73 = []\n",
    "for data in train_data73['High']:\n",
    "  x_train73.append([data])\n",
    "\n",
    "model73 = dlm(y_train73)\n",
    "model73 = model73 + trend(1, discount=0.99, name='Trend', w=1e7)\n",
    "model73 = model73 + dynamic(features=x_train73, discount=1, name='High')\n",
    "model73 = model73 + autoReg(degree=3, discount=0.99, name='ar', w=1e7)\n",
    "model73 = model73 + longSeason(period=12, stay=30, data=y_train73, name='season', w=1e7)\n",
    "\n",
    "model73.fit()"
   ]
  },
  {
   "cell_type": "code",
   "execution_count": 7,
   "id": "a9c83ee0-813d-4a02-b0c8-ad89af7c1fde",
   "metadata": {
    "id": "a9c83ee0-813d-4a02-b0c8-ad89af7c1fde"
   },
   "outputs": [],
   "source": [
    "# testing 7:3\n",
    "x_test73 = []\n",
    "for data in test_data73['High']:\n",
    "  x_test73.append([data])\n",
    "\n",
    "y_test73 = np.array(test_data73['Price'])\n",
    "\n",
    "y_pred73 = model73.predictN(date = model73.n-1, N=len(x_test73),featureDict={'High': x_test73})\n",
    "y_pred73 = y_pred73[0]\n"
   ]
  },
  {
   "cell_type": "code",
   "execution_count": 8,
   "id": "8d75bb16-1609-41da-a32a-a51b5156e0ce",
   "metadata": {
    "id": "8d75bb16-1609-41da-a32a-a51b5156e0ce",
    "outputId": "630a94d0-2844-4010-d50c-88da2f0ebd12"
   },
   "outputs": [
    {
     "name": "stdout",
     "output_type": "stream",
     "text": [
      "[102231.94185437 102272.78548798 102313.6291216  102354.47275521\n",
      " 102395.31638883 102436.16002244 102477.00365606 102517.84728967\n",
      " 102558.69092329 102599.5345569  102640.37819052 102681.22182413\n",
      " 102722.06545775 102762.90909137 102803.75272498 102844.5963586\n",
      " 102885.43999221 102926.28362583 102967.12725944 103007.97089306\n",
      " 103048.81452667 103089.65816029 103130.5017939  103171.34542752\n",
      " 103212.18906113 103253.03269475 103293.87632836 103334.71996198\n",
      " 103375.56359559 103416.40722921]\n"
     ]
    }
   ],
   "source": [
    "#  Sử dụng linear regression dự báo cột high 30 ngày tiếp theo 7:3\n",
    "from sklearn.linear_model import LinearRegression\n",
    "\n",
    "ln_model73 = LinearRegression()\n",
    "\n",
    "ln_model73.fit(np.array(train_data73.index).reshape(-1,1), train_data73['High'])\n",
    "\n",
    "\n",
    "# Predict the prices for the next 30 days\n",
    "last_index73 =  df.index[-1]\n",
    "last_data73 = pd.RangeIndex(start=last_index73, stop=last_index73+30, step=1)\n",
    "\n",
    "index_next_30_days73 = np.array(range(last_index73+1, last_index73+31)).reshape(-1, 1)\n",
    "high_next_30_days73 = ln_model73.predict(index_next_30_days73)\n",
    "\n",
    "print(high_next_30_days73)\n"
   ]
  },
  {
   "cell_type": "code",
   "execution_count": 9,
   "id": "107ed7e3-52e7-425c-9645-0a22c7b51a72",
   "metadata": {
    "id": "107ed7e3-52e7-425c-9645-0a22c7b51a72",
    "outputId": "0a345fe2-a1fd-4396-92c0-f0be033efc06"
   },
   "outputs": [
    {
     "name": "stdout",
     "output_type": "stream",
     "text": [
      "[95986.89307426219, 93201.11822336195, 94291.10023731066, 92330.79021815506, 93124.59224343607, 92886.33582490105, 93239.94836924561, 93131.98506072864, 93244.75414738037, 92899.92618980663, 93041.78514120501, 93059.15607480746, 93159.71017509955, 93183.13572283187, 93237.43086710514, 93275.04399245582, 93325.61298480426, 93369.75036065522, 93417.26930902652, 93462.49326368819, 93508.97779289847, 93554.78673948615, 93601.01771744245, 93647.00700052278, 93693.12911081339, 93739.17189004831, 93785.26071471155, 93831.32372820805, 93877.4018213681, 93923.47114676381]\n"
     ]
    }
   ],
   "source": [
    "# Dự báo giá cổ phiếu 30 ngày tiếp theo 7:3\n",
    "x_next_30_days73 = []\n",
    "for data in high_next_30_days73:\n",
    "  x_next_30_days73.append([data])\n",
    "\n",
    "y_next_30_days73 = model73.predictN(N = 30, featureDict={'High': x_next_30_days73})\n",
    "y_next_30_days73 = y_next_30_days73[0]\n",
    "print(y_next_30_days73)\n"
   ]
  },
  {
   "cell_type": "code",
   "execution_count": 10,
   "id": "fd2dc09b-9caa-4261-b933-8b365349e900",
   "metadata": {
    "id": "fd2dc09b-9caa-4261-b933-8b365349e900",
    "outputId": "7e813035-bf21-49be-95e8-587c3f87cf45"
   },
   "outputs": [
    {
     "data": {
      "image/png": "[encoded data removed]",
      "text/plain": [
       "<Figure size 640x480 with 1 Axes>"
      ]
     },
     "metadata": {},
     "output_type": "display_data"
    }
   ],
   "source": [
    "# 10. Vẽ hình 7:3\n",
    "plt.plot(train_data73.index, train_data73['Price'])\n",
    "plt.plot(test_data73.index, test_data73['Price'])\n",
    "plt.plot(test_data73.index, y_pred73)\n",
    "plt.plot(last_data73,y_next_30_days73)\n",
    "plt.legend(['Train', 'Test', 'Predictions','Next30Day'])\n",
    "plt.show()"
   ]
  },
  {
   "cell_type": "code",
   "execution_count": 11,
   "id": "M9ELhnIpfRbg",
   "metadata": {
    "id": "M9ELhnIpfRbg"
   },
   "outputs": [
    {
     "data": {
      "text/plain": [
       "[95986.89307426219,\n",
       " 93201.11822336195,\n",
       " 94291.10023731066,\n",
       " 92330.79021815506,\n",
       " 93124.59224343607,\n",
       " 92886.33582490105,\n",
       " 93239.94836924561,\n",
       " 93131.98506072864,\n",
       " 93244.75414738037,\n",
       " 92899.92618980663,\n",
       " 93041.78514120501,\n",
       " 93059.15607480746,\n",
       " 93159.71017509955,\n",
       " 93183.13572283187,\n",
       " 93237.43086710514,\n",
       " 93275.04399245582,\n",
       " 93325.61298480426,\n",
       " 93369.75036065522,\n",
       " 93417.26930902652,\n",
       " 93462.49326368819,\n",
       " 93508.97779289847,\n",
       " 93554.78673948615,\n",
       " 93601.01771744245,\n",
       " 93647.00700052278,\n",
       " 93693.12911081339,\n",
       " 93739.17189004831,\n",
       " 93785.26071471155,\n",
       " 93831.32372820805,\n",
       " 93877.4018213681,\n",
       " 93923.47114676381]"
      ]
     },
     "execution_count": 11,
     "metadata": {},
     "output_type": "execute_result"
    }
   ],
   "source": [
    "y_next_30_days73"
   ]
  },
  {
   "cell_type": "code",
   "execution_count": 12,
   "id": "391a9d12-98f6-4d59-aa84-196554d48404",
   "metadata": {
    "id": "391a9d12-98f6-4d59-aa84-196554d48404"
   },
   "outputs": [],
   "source": [
    "#RATIO 8:2"
   ]
  },
  {
   "cell_type": "code",
   "execution_count": 13,
   "id": "7fc0075a-a172-4df2-ad5e-cafa861d9d81",
   "metadata": {
    "id": "7fc0075a-a172-4df2-ad5e-cafa861d9d81"
   },
   "outputs": [],
   "source": [
    "# Split the data into training, testing, and validating sets\n",
    "train_size82 = int(0.8 * len(df))\n",
    "test_size82 = int(0.2 * len(df))\n",
    "\n",
    "train_data82 = df[:train_size82]\n",
    "test_data82 = df[train_size82:train_size82+test_size82]"
   ]
  },
  {
   "cell_type": "code",
   "execution_count": 14,
   "id": "f2b128de-bd7b-4a39-959d-791d816aa645",
   "metadata": {
    "id": "f2b128de-bd7b-4a39-959d-791d816aa645"
   },
   "outputs": [],
   "source": [
    "import statsmodels.api as sm\n",
    "acf = sm.tsa.stattools.acf(train_data82['Price'], nlags= 700)"
   ]
  },
  {
   "cell_type": "code",
   "execution_count": 15,
   "id": "c48fbf63-71b0-419d-8ee2-febc47efa8c5",
   "metadata": {
    "id": "c48fbf63-71b0-419d-8ee2-febc47efa8c5",
    "outputId": "2cd7bcbc-1745-4f5c-8304-fef1e36f2169"
   },
   "outputs": [
    {
     "name": "stdout",
     "output_type": "stream",
     "text": [
      "Initializing models...\n",
      "Initialization finished.\n",
      "Starting forward filtering...\n",
      "Forward filtering completed.\n",
      "Starting backward smoothing...\n",
      "Backward smoothing completed.\n"
     ]
    }
   ],
   "source": [
    "# training\n",
    "y_train82 = np.array(train_data82['Price'])\n",
    "\n",
    "x_train82 = []\n",
    "for data in train_data82['High']:\n",
    "  x_train82.append([data])\n",
    "\n",
    "model82 = dlm(y_train82)\n",
    "model82 = model82 + trend(1, discount=0.99, name='Trend', w=1e7)\n",
    "model82 = model82 + dynamic(features=x_train82, discount=1, name='High')\n",
    "model82 = model82 + autoReg(degree=3, discount=0.99, name='ar', w=1e7)\n",
    "model82 = model82 + longSeason(period=12, stay=30, data=y_train82, name='season', w=1e7)\n",
    "\n",
    "model82.fit()"
   ]
  },
  {
   "cell_type": "code",
   "execution_count": 16,
   "id": "dee68269-ad52-4916-9d5b-6bc2edfdac3d",
   "metadata": {
    "id": "dee68269-ad52-4916-9d5b-6bc2edfdac3d"
   },
   "outputs": [],
   "source": [
    "# testing\n",
    "x_test82= []\n",
    "for data in test_data82['High']:\n",
    "  x_test82.append([data])\n",
    "\n",
    "y_test82 = np.array(test_data82['Price'])\n",
    "\n",
    "y_pred82 = model82.predictN(date = model82.n-1, N=len(x_test82),featureDict={'High': x_test82})\n",
    "y_pred82 = y_pred82[0]\n"
   ]
  },
  {
   "cell_type": "code",
   "execution_count": 17,
   "id": "78d31f65-ed87-42c0-817c-2fccfb6800fb",
   "metadata": {
    "id": "78d31f65-ed87-42c0-817c-2fccfb6800fb",
    "outputId": "a19da95c-28ca-4329-8208-8eaecc1d005f"
   },
   "outputs": [
    {
     "name": "stdout",
     "output_type": "stream",
     "text": [
      "[97337.70731456 97374.14974397 97410.59217338 97447.03460279\n",
      " 97483.47703219 97519.9194616  97556.36189101 97592.80432042\n",
      " 97629.24674983 97665.68917923 97702.13160864 97738.57403805\n",
      " 97775.01646746 97811.45889686 97847.90132627 97884.34375568\n",
      " 97920.78618509 97957.2286145  97993.6710439  98030.11347331\n",
      " 98066.55590272 98102.99833213 98139.44076154 98175.88319094\n",
      " 98212.32562035 98248.76804976 98285.21047917 98321.65290857\n",
      " 98358.09533798 98394.53776739]\n"
     ]
    }
   ],
   "source": [
    "# Sử dụng linear regression dự báo cột high 30 ngày tiếp theo\n",
    "from sklearn.linear_model import LinearRegression\n",
    "\n",
    "ln_model82 = LinearRegression()\n",
    "\n",
    "ln_model82.fit(np.array(train_data82.index).reshape(-1,1), train_data82['High'])\n",
    "\n",
    "\n",
    "# Predict the prices for the next 30 days\n",
    "last_index82 =  df.index[-1]\n",
    "last_data82 = pd.RangeIndex(start=last_index82, stop=last_index82+30, step=1)\n",
    "\n",
    "index_next_30_days82 = np.array(range(last_index82+1, last_index82+31)).reshape(-1, 1)\n",
    "high_next_30_days82 = ln_model82.predict(index_next_30_days82)\n",
    "\n",
    "print(high_next_30_days82)\n"
   ]
  },
  {
   "cell_type": "code",
   "execution_count": 18,
   "id": "5f485930-6eb8-458b-9e55-b89336a830b4",
   "metadata": {
    "id": "5f485930-6eb8-458b-9e55-b89336a830b4",
    "outputId": "de9f2c46-f593-4035-b25e-8e12bd8cac1a"
   },
   "outputs": [
    {
     "name": "stdout",
     "output_type": "stream",
     "text": [
      "[64233.14251297139, 63380.81930595656, 62840.14041240769, 62514.60882589614, 62276.90940513671, 62125.493799245916, 62039.348682599804, 61992.12561150103, 61973.89277190289, 61976.95876567195, 62026.374573350506, 62064.47152622459, 62104.18325706181, 62150.94074503283, 62198.38972597788, 62246.637122784945, 62296.24979882914, 62346.45647179501, 62397.04392045917, 62447.99199712073, 62499.1671991407, 62550.492019658865, 62601.931577445874, 62653.450494145975, 62705.0236840617, 62756.63591550893, 62808.275619956075, 62859.93445764489, 62911.606822145935, 62963.28871699107]\n"
     ]
    }
   ],
   "source": [
    "# Dự báo giá cổ phiếu 30 ngày tiếp theo\n",
    "x_next_30_days82 = []\n",
    "for data in high_next_30_days82:\n",
    "  x_next_30_days82.append([data])\n",
    "\n",
    "y_next_30_days82 = model82.predictN(N = 30, featureDict={'High': x_next_30_days82})\n",
    "y_next_30_days82 = y_next_30_days82[0]\n",
    "print(y_next_30_days82)\n"
   ]
  },
  {
   "cell_type": "code",
   "execution_count": 19,
   "id": "52c56057-eef4-48c1-9291-41578149cb1b",
   "metadata": {
    "id": "52c56057-eef4-48c1-9291-41578149cb1b",
    "outputId": "da24aec2-5653-472a-8126-ab748b8b4b62"
   },
   "outputs": [
    {
     "data": {
      "image/png": "[encoded data removed]",
      "text/plain": [
       "<Figure size 640x480 with 1 Axes>"
      ]
     },
     "metadata": {},
     "output_type": "display_data"
    }
   ],
   "source": [
    "# 10. Vẽ hình\n",
    "plt.plot(train_data82.index, train_data82['Price'])\n",
    "plt.plot(test_data82.index, test_data82['Price'])\n",
    "plt.plot(test_data82.index, y_pred82)\n",
    "plt.plot(last_data82,y_next_30_days82)\n",
    "plt.legend(['Train', 'Test', 'Predictions','Next30Day'])\n",
    "plt.show()"
   ]
  },
  {
   "cell_type": "code",
   "execution_count": 20,
   "id": "a90042c5-34e1-400b-b452-87633da53e3a",
   "metadata": {
    "id": "a90042c5-34e1-400b-b452-87633da53e3a"
   },
   "outputs": [],
   "source": [
    "#RATIO 9:1"
   ]
  },
  {
   "cell_type": "code",
   "execution_count": 21,
   "id": "0776c856-e4a5-4a3d-9c61-869c2a91605c",
   "metadata": {
    "id": "0776c856-e4a5-4a3d-9c61-869c2a91605c"
   },
   "outputs": [],
   "source": [
    "# Split the data into training, testing, and validating sets\n",
    "train_size91 = int(0.9 * len(df))\n",
    "test_size91 = int(0.1 * len(df))\n",
    "\n",
    "train_data91 = df[:train_size91]\n",
    "test_data91 = df[train_size91:train_size91+test_size91]"
   ]
  },
  {
   "cell_type": "code",
   "execution_count": 22,
   "id": "550bd48c-2f8c-46bb-910b-3ef693ae3e7a",
   "metadata": {
    "id": "550bd48c-2f8c-46bb-910b-3ef693ae3e7a"
   },
   "outputs": [],
   "source": [
    "import statsmodels.api as sm\n",
    "acf = sm.tsa.stattools.acf(train_data91['Price'], nlags= 700)"
   ]
  },
  {
   "cell_type": "code",
   "execution_count": 23,
   "id": "e816083c-7926-4361-bded-6b3dcdea34a9",
   "metadata": {
    "id": "e816083c-7926-4361-bded-6b3dcdea34a9",
    "outputId": "c75d9994-49a1-41c3-ece2-368ddcee442a"
   },
   "outputs": [
    {
     "name": "stdout",
     "output_type": "stream",
     "text": [
      "Initializing models...\n",
      "Initialization finished.\n",
      "Starting forward filtering...\n",
      "Forward filtering completed.\n",
      "Starting backward smoothing...\n",
      "Backward smoothing completed.\n"
     ]
    }
   ],
   "source": [
    "# 4. Quá trình training\n",
    "y_train91 = np.array(train_data91['Price'])\n",
    "\n",
    "x_train91 = []\n",
    "for data in train_data91['High']:\n",
    "  x_train91.append([data])\n",
    "\n",
    "model91 = dlm(y_train91)\n",
    "model91 = model91 + trend(1, discount=0.99, name='Trend', w=1e7)\n",
    "model91 = model91 + dynamic(features=x_train91, discount=1, name='High')\n",
    "model91 = model91 + autoReg(degree=3, discount=0.99, name='ar', w=1e7)\n",
    "model91 = model91 + longSeason(period=12, stay=30, data=y_train91, name='season', w=1e7)\n",
    "\n",
    "model91.fit()"
   ]
  },
  {
   "cell_type": "code",
   "execution_count": 24,
   "id": "2071346d-01db-41a0-9d1b-5c2a897660f1",
   "metadata": {
    "id": "2071346d-01db-41a0-9d1b-5c2a897660f1"
   },
   "outputs": [],
   "source": [
    "# 5. Quá trình testing\n",
    "x_test91= []\n",
    "for data in test_data91['High']:\n",
    "  x_test91.append([data])\n",
    "\n",
    "y_test91 = np.array(test_data91['Price'])\n",
    "\n",
    "y_pred91 = model91.predictN(date = model91.n-1, N=len(x_test91),featureDict={'High': x_test91})\n",
    "y_pred91 = y_pred91[0]\n"
   ]
  },
  {
   "cell_type": "code",
   "execution_count": 25,
   "id": "550bfec2-2924-4196-8c62-20c20af4da6a",
   "metadata": {
    "id": "550bfec2-2924-4196-8c62-20c20af4da6a",
    "outputId": "228a753e-27c8-4973-8841-b087cb71d39c"
   },
   "outputs": [
    {
     "name": "stdout",
     "output_type": "stream",
     "text": [
      "[95729.00721125 95763.98805608 95798.96890091 95833.94974574\n",
      " 95868.93059057 95903.9114354  95938.89228024 95973.87312507\n",
      " 96008.8539699  96043.83481473 96078.81565956 96113.79650439\n",
      " 96148.77734922 96183.75819405 96218.73903888 96253.71988371\n",
      " 96288.70072854 96323.68157337 96358.6624182  96393.64326303\n",
      " 96428.62410786 96463.60495269 96498.58579753 96533.56664236\n",
      " 96568.54748719 96603.52833202 96638.50917685 96673.49002168\n",
      " 96708.47086651 96743.45171134]\n"
     ]
    }
   ],
   "source": [
    "#  8. Sử dụng linear regression dự báo cột high 30 ngày tiếp theo\n",
    "from sklearn.linear_model import LinearRegression\n",
    "\n",
    "ln_model91 = LinearRegression()\n",
    "\n",
    "ln_model91.fit(np.array(train_data91.index).reshape(-1,1), train_data91['High'])\n",
    "\n",
    "\n",
    "# Predict the prices for the next 30 days\n",
    "last_index91 =  df.index[-1]\n",
    "last_data91 = pd.RangeIndex(start=last_index91, stop=last_index91+30, step=1)\n",
    "\n",
    "index_next_30_days91 = np.array(range(last_index91+1, last_index91+31)).reshape(-1, 1)\n",
    "high_next_30_days91 = ln_model91.predict(index_next_30_days91)\n",
    "\n",
    "print(high_next_30_days91)\n"
   ]
  },
  {
   "cell_type": "code",
   "execution_count": 26,
   "id": "24e11bab-b32c-465e-a73a-65e3aa3d50d4",
   "metadata": {
    "id": "24e11bab-b32c-465e-a73a-65e3aa3d50d4",
    "outputId": "a46f837a-b191-4460-9dd6-852bbd12463d"
   },
   "outputs": [
    {
     "name": "stdout",
     "output_type": "stream",
     "text": [
      "[95270.65461616137, 95571.11241703466, 95652.40091238901, 95744.4723391545, 95815.23823697363, 95888.3038259971, 95959.29969328824, 96030.6441690221, 96101.78091865058, 96172.96340786594, 96244.12432573814, 96176.4144669612, 96234.57258079904, 96290.65662500703, 96361.15009941722, 96430.93756362179, 96502.12773093393, 96573.16717836924, 96644.34289795702, 96715.49573515414, 96786.66224560034, 96857.82575119202, 96928.9906762918, 97000.15523358388, 97071.31994225484, 97142.48460754145, 97213.64928927731, 97284.81396599991, 97355.97864453212, 97427.1433224918]\n"
     ]
    }
   ],
   "source": [
    "# 9. Dự báo giá cổ phiếu 30 ngày tiếp theo\n",
    "x_next_30_days91 = []\n",
    "for data in high_next_30_days91:\n",
    "  x_next_30_days91.append([data])\n",
    "\n",
    "y_next_30_days91 = model91.predictN(N = 30, featureDict={'High': x_next_30_days91})\n",
    "y_next_30_days91 = y_next_30_days91[0]\n",
    "print(y_next_30_days91)\n"
   ]
  },
  {
   "cell_type": "code",
   "execution_count": 27,
   "id": "005ff17b-99be-4811-9a25-10ce1dc9dbc7",
   "metadata": {
    "id": "005ff17b-99be-4811-9a25-10ce1dc9dbc7",
    "outputId": "ee136da7-8c8a-43b3-fa87-34fa2994838b"
   },
   "outputs": [
    {
     "name": "stdout",
     "output_type": "stream",
     "text": [
      "[95270.65461616137, 95571.11241703466, 95652.40091238901, 95744.4723391545, 95815.23823697363, 95888.3038259971, 95959.29969328824, 96030.6441690221, 96101.78091865058, 96172.96340786594, 96244.12432573814, 96176.4144669612, 96234.57258079904, 96290.65662500703, 96361.15009941722, 96430.93756362179, 96502.12773093393, 96573.16717836924, 96644.34289795702, 96715.49573515414, 96786.66224560034, 96857.82575119202, 96928.9906762918, 97000.15523358388, 97071.31994225484, 97142.48460754145, 97213.64928927731, 97284.81396599991, 97355.97864453212, 97427.1433224918]\n"
     ]
    }
   ],
   "source": [
    "# 9. Dự báo giá cổ phiếu 30 ngày tiếp theo\n",
    "x_next_30_days91 = []\n",
    "for data in high_next_30_days91:\n",
    "  x_next_30_days91.append([data])\n",
    "\n",
    "y_next_30_days91 = model91.predictN(N = 30, featureDict={'High': x_next_30_days91})\n",
    "y_next_30_days91 = y_next_30_days91[0]\n",
    "print(y_next_30_days91)\n"
   ]
  },
  {
   "cell_type": "code",
   "execution_count": 28,
   "id": "5ad45ad8-a22c-4b8e-aa7b-8205e3c40420",
   "metadata": {
    "id": "5ad45ad8-a22c-4b8e-aa7b-8205e3c40420",
    "outputId": "3314fd7d-94e3-4d2c-ebc2-9f896bb3f6c0"
   },
   "outputs": [
    {
     "data": {
      "image/png": "[encoded data removed]",
      "text/plain": [
       "<Figure size 640x480 with 1 Axes>"
      ]
     },
     "metadata": {},
     "output_type": "display_data"
    }
   ],
   "source": [
    "# 10. Vẽ hình\n",
    "plt.plot(train_data91.index, train_data91['Price'])\n",
    "plt.plot(test_data91.index, test_data91['Price'])\n",
    "plt.plot(test_data91.index, y_pred91)\n",
    "plt.plot(last_data91,y_next_30_days91)\n",
    "plt.legend(['Train', 'Test', 'Predictions','Next30Day'])\n",
    "plt.show()"
   ]
  },
  {
   "cell_type": "code",
   "execution_count": 29,
   "id": "f3982e58-1cfa-4671-81f3-e78c3d61be27",
   "metadata": {
    "id": "f3982e58-1cfa-4671-81f3-e78c3d61be27"
   },
   "outputs": [],
   "source": [
    "#ACCURACY EVALUATION"
   ]
  },
  {
   "cell_type": "code",
   "execution_count": 30,
   "id": "0b490206-790d-4b9f-8769-27b89fbb70f1",
   "metadata": {
    "id": "0b490206-790d-4b9f-8769-27b89fbb70f1"
   },
   "outputs": [],
   "source": [
    "#method to calculate mape\n",
    "def calc_mape(actual, predicted):\n",
    "\n",
    "    # Convert to numpy arrays\n",
    "    actual = np.array(actual)\n",
    "    predicted = np.array(predicted)\n",
    "\n",
    "    # Calculate absolute percentage error\n",
    "    absolute_error = np.abs((actual - predicted) / actual)\n",
    "\n",
    "    # Handle division by zero cases\n",
    "    absolute_error[np.isinf(absolute_error)] = 0.0\n",
    "\n",
    "    # Calculate mean absolute percentage error\n",
    "    mape = np.mean(absolute_error) * 100\n",
    "\n",
    "    return mape"
   ]
  },
  {
   "cell_type": "code",
   "execution_count": 31,
   "id": "dc12d3d4-ec86-412b-a21e-c7f424da9f97",
   "metadata": {
    "id": "dc12d3d4-ec86-412b-a21e-c7f424da9f97",
    "outputId": "2f38f605-1060-4ea4-8128-f0ffa3141ad4"
   },
   "outputs": [
    {
     "name": "stdout",
     "output_type": "stream",
     "text": [
      "4222.008749160993\n",
      "4.21781676175099\n",
      "3396.9386858461735\n",
      "0.0026778616069964723\n"
     ]
    }
   ],
   "source": [
    "#accuracy evaluate 7:3\n",
    "from sklearn.metrics import mean_absolute_error as mae\n",
    "from sklearn.metrics import mean_squared_log_error as msle\n",
    "test_rmse73 = np.sqrt(np.mean((y_pred73 - y_test73)**2))\n",
    "test_mape73 = calc_mape(y_test73, y_pred73)\n",
    "test_mae73 = mae(y_test73, y_pred73)\n",
    "test_msle73 = msle(y_test73, y_pred73)\n",
    "\n",
    "print(test_rmse73)\n",
    "print(test_mape73)\n",
    "print(test_mae73)\n",
    "print(test_msle73)"
   ]
  },
  {
   "cell_type": "code",
   "execution_count": 32,
   "id": "4b47c035-eaa8-4b25-ae15-0b12f1a2234f",
   "metadata": {
    "id": "4b47c035-eaa8-4b25-ae15-0b12f1a2234f",
    "outputId": "7809b08c-c9d6-4e35-a78c-bacad21f5d70"
   },
   "outputs": [
    {
     "name": "stdout",
     "output_type": "stream",
     "text": [
      "20212.982663999075\n",
      "20.81539253368011\n",
      "18743.44973754478\n",
      "0.06402852856646064\n"
     ]
    }
   ],
   "source": [
    "#accuracy evaluate 8:2\n",
    "from sklearn.metrics import mean_absolute_error as mae\n",
    "from sklearn.metrics import mean_squared_log_error as msle\n",
    "test_rmse82 = np.sqrt(np.mean((y_pred82 - y_test82)**2))\n",
    "test_mape82 = calc_mape(y_test82, y_pred82)\n",
    "test_mae82 = mae(y_test82, y_pred82)\n",
    "test_msle82 = msle(y_test82, y_pred82)\n",
    "\n",
    "print(test_rmse82)\n",
    "print(test_mape82)\n",
    "print(test_mae82)\n",
    "print(test_msle82)"
   ]
  },
  {
   "cell_type": "code",
   "execution_count": 33,
   "id": "b4957217-841b-436f-ad02-b0ca3add1d6b",
   "metadata": {
    "id": "b4957217-841b-436f-ad02-b0ca3add1d6b",
    "outputId": "9e035c35-1b3e-41bd-a3c5-fdee34128a00"
   },
   "outputs": [
    {
     "name": "stdout",
     "output_type": "stream",
     "text": [
      "12837.209255680347\n",
      "12.817031828746178\n",
      "11322.860707661244\n",
      "0.018336587821067514\n"
     ]
    }
   ],
   "source": [
    "#accuracy evaluate 9:1\n",
    "from sklearn.metrics import mean_absolute_error as mae\n",
    "from sklearn.metrics import mean_squared_log_error as msle\n",
    "\n",
    "test_rmse91 = np.sqrt(np.mean((y_pred91 - y_test91)**2))\n",
    "test_mape91 = calc_mape(y_test91, y_pred91)\n",
    "test_mae91 = mae(y_test91, y_pred91)\n",
    "test_msle91 = msle(y_test91, y_pred91)\n",
    "\n",
    "print(test_rmse91)\n",
    "print(test_mape91)\n",
    "print(test_mae91)\n",
    "print(test_msle91)\n"
   ]
  },
  {
   "cell_type": "code",
   "execution_count": null,
   "id": "767c5d8d-bc06-452d-b93a-f37447992c77",
   "metadata": {
    "id": "767c5d8d-bc06-452d-b93a-f37447992c77"
   },
   "outputs": [],
   "source": []
  },
  {
   "cell_type": "code",
   "execution_count": null,
   "id": "9148461c-d490-4b29-a13d-08d965c04736",
   "metadata": {
    "id": "9148461c-d490-4b29-a13d-08d965c04736"
   },
   "outputs": [],
   "source": []
  }
 ],
 "metadata": {
  "colab": {
   "provenance": []
  },
  "kernelspec": {
   "display_name": "Python 3 (ipykernel)",
   "language": "python",
   "name": "python3"
  },
  "language_info": {
   "codemirror_mode": {
    "name": "ipython",
    "version": 3
   },
   "file_extension": ".py",
   "mimetype": "text/x-python",
   "name": "python",
   "nbconvert_exporter": "python",
   "pygments_lexer": "ipython3",
   "version": "3.11.0"
  }
 },
 "nbformat": 4,
 "nbformat_minor": 5
}
